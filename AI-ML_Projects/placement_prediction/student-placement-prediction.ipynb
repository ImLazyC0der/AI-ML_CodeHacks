{
 "cells": [
  {
   "cell_type": "code",
   "execution_count": 1,
   "id": "13136651",
   "metadata": {
    "_cell_guid": "b1076dfc-b9ad-4769-8c92-a6c4dae69d19",
    "_uuid": "8f2839f25d086af736a60e9eeb907d3b93b6e0e5",
    "execution": {
     "iopub.execute_input": "2022-09-24T10:46:01.787965Z",
     "iopub.status.busy": "2022-09-24T10:46:01.787296Z",
     "iopub.status.idle": "2022-09-24T10:46:04.456149Z",
     "shell.execute_reply": "2022-09-24T10:46:04.455036Z"
    },
    "papermill": {
     "duration": 2.690951,
     "end_time": "2022-09-24T10:46:04.458880",
     "exception": false,
     "start_time": "2022-09-24T10:46:01.767929",
     "status": "completed"
    },
    "tags": []
   },
   "outputs": [
    {
     "name": "stdout",
     "output_type": "stream",
     "text": [
      "/kaggle/input/engineering-placements-prediction/collegePlace.csv\n"
     ]
    }
   ],
   "source": [
    "# This Python 3 environment comes with many helpful analytics libraries installed\n",
    "# It is defined by the kaggle/python Docker image: https://github.com/kaggle/docker-python\n",
    "# For example, here's several helpful packages to load\n",
    "\n",
    "import numpy as np # linear algebra\n",
    "import warnings\n",
    "import pandas as pd # data processing, CSV file I/O (e.g. pd.read_csv)\n",
    "import matplotlib.pyplot as plt\n",
    "import seaborn as sns\n",
    "import plotly.express as px\n",
    "from plotly.subplots import make_subplots\n",
    "import plotly.graph_objects as go\n",
    "from wordcloud import WordCloud\n",
    "from sklearn.preprocessing import StandardScaler\n",
    "from sklearn.tree import DecisionTreeClassifier\n",
    "from sklearn.ensemble import RandomForestClassifier\n",
    "from xgboost import XGBClassifier\n",
    "from sklearn.neighbors import KNeighborsClassifier\n",
    "from sklearn.model_selection import RandomizedSearchCV\n",
    "from sklearn.metrics import accuracy_score, plot_confusion_matrix\n",
    "from datetime import datetime\n",
    "sns.set(style=\"darkgrid\")\n",
    "\n",
    "warnings.filterwarnings(\"ignore\", category = FutureWarning)\n",
    "\n",
    "\n",
    "\n",
    "# Input data files are available in the read-only \"../input/\" directory\n",
    "# For example, running this (by clicking run or pressing Shift+Enter) will list all files under the input directory\n",
    "\n",
    "import os\n",
    "for dirname, _, filenames in os.walk('/kaggle/input'):\n",
    "    for filename in filenames:\n",
    "        print(os.path.join(dirname, filename))\n",
    "\n",
    "# You can write up to 20GB to the current directory (/kaggle/working/) that gets preserved as output when you create a version using \"Save & Run All\" \n",
    "# You can also write temporary files to /kaggle/temp/, but they won't be saved outside of the current session"
   ]
  },
  {
   "cell_type": "code",
   "execution_count": null,
   "id": "d875812b",
   "metadata": {
    "papermill": {
     "duration": 0.013546,
     "end_time": "2022-09-24T10:46:04.489798",
     "exception": false,
     "start_time": "2022-09-24T10:46:04.476252",
     "status": "completed"
    },
    "tags": []
   },
   "outputs": [],
   "source": [
    "\n"
   ]
  },
  {
   "cell_type": "code",
   "execution_count": 2,
   "id": "fc5b3d02",
   "metadata": {
    "execution": {
     "iopub.execute_input": "2022-09-24T10:46:04.519568Z",
     "iopub.status.busy": "2022-09-24T10:46:04.519174Z",
     "iopub.status.idle": "2022-09-24T10:46:04.555684Z",
     "shell.execute_reply": "2022-09-24T10:46:04.554630Z"
    },
    "papermill": {
     "duration": 0.05456,
     "end_time": "2022-09-24T10:46:04.558204",
     "exception": false,
     "start_time": "2022-09-24T10:46:04.503644",
     "status": "completed"
    },
    "tags": []
   },
   "outputs": [
    {
     "data": {
      "text/html": [
       "<div>\n",
       "<style scoped>\n",
       "    .dataframe tbody tr th:only-of-type {\n",
       "        vertical-align: middle;\n",
       "    }\n",
       "\n",
       "    .dataframe tbody tr th {\n",
       "        vertical-align: top;\n",
       "    }\n",
       "\n",
       "    .dataframe thead th {\n",
       "        text-align: right;\n",
       "    }\n",
       "</style>\n",
       "<table border=\"1\" class=\"dataframe\">\n",
       "  <thead>\n",
       "    <tr style=\"text-align: right;\">\n",
       "      <th></th>\n",
       "      <th>Age</th>\n",
       "      <th>Gender</th>\n",
       "      <th>Stream</th>\n",
       "      <th>Internships</th>\n",
       "      <th>CGPA</th>\n",
       "      <th>Hostel</th>\n",
       "      <th>HistoryOfBacklogs</th>\n",
       "      <th>PlacedOrNot</th>\n",
       "    </tr>\n",
       "  </thead>\n",
       "  <tbody>\n",
       "    <tr>\n",
       "      <th>0</th>\n",
       "      <td>22</td>\n",
       "      <td>Male</td>\n",
       "      <td>Electronics And Communication</td>\n",
       "      <td>1</td>\n",
       "      <td>8</td>\n",
       "      <td>1</td>\n",
       "      <td>1</td>\n",
       "      <td>1</td>\n",
       "    </tr>\n",
       "    <tr>\n",
       "      <th>1</th>\n",
       "      <td>21</td>\n",
       "      <td>Female</td>\n",
       "      <td>Computer Science</td>\n",
       "      <td>0</td>\n",
       "      <td>7</td>\n",
       "      <td>1</td>\n",
       "      <td>1</td>\n",
       "      <td>1</td>\n",
       "    </tr>\n",
       "    <tr>\n",
       "      <th>2</th>\n",
       "      <td>22</td>\n",
       "      <td>Female</td>\n",
       "      <td>Information Technology</td>\n",
       "      <td>1</td>\n",
       "      <td>6</td>\n",
       "      <td>0</td>\n",
       "      <td>0</td>\n",
       "      <td>1</td>\n",
       "    </tr>\n",
       "    <tr>\n",
       "      <th>3</th>\n",
       "      <td>21</td>\n",
       "      <td>Male</td>\n",
       "      <td>Information Technology</td>\n",
       "      <td>0</td>\n",
       "      <td>8</td>\n",
       "      <td>0</td>\n",
       "      <td>1</td>\n",
       "      <td>1</td>\n",
       "    </tr>\n",
       "    <tr>\n",
       "      <th>4</th>\n",
       "      <td>22</td>\n",
       "      <td>Male</td>\n",
       "      <td>Mechanical</td>\n",
       "      <td>0</td>\n",
       "      <td>8</td>\n",
       "      <td>1</td>\n",
       "      <td>0</td>\n",
       "      <td>1</td>\n",
       "    </tr>\n",
       "  </tbody>\n",
       "</table>\n",
       "</div>"
      ],
      "text/plain": [
       "   Age  Gender                         Stream  Internships  CGPA  Hostel  \\\n",
       "0   22    Male  Electronics And Communication            1     8       1   \n",
       "1   21  Female               Computer Science            0     7       1   \n",
       "2   22  Female         Information Technology            1     6       0   \n",
       "3   21    Male         Information Technology            0     8       0   \n",
       "4   22    Male                     Mechanical            0     8       1   \n",
       "\n",
       "   HistoryOfBacklogs  PlacedOrNot  \n",
       "0                  1            1  \n",
       "1                  1            1  \n",
       "2                  0            1  \n",
       "3                  1            1  \n",
       "4                  0            1  "
      ]
     },
     "execution_count": 2,
     "metadata": {},
     "output_type": "execute_result"
    }
   ],
   "source": [
    "data = pd.read_csv('/kaggle/input/engineering-placements-prediction/collegePlace.csv')\n",
    "\n",
    "data.head()"
   ]
  },
  {
   "cell_type": "code",
   "execution_count": 3,
   "id": "41051458",
   "metadata": {
    "execution": {
     "iopub.execute_input": "2022-09-24T10:46:04.588466Z",
     "iopub.status.busy": "2022-09-24T10:46:04.588079Z",
     "iopub.status.idle": "2022-09-24T10:46:04.593901Z",
     "shell.execute_reply": "2022-09-24T10:46:04.592511Z"
    },
    "papermill": {
     "duration": 0.023335,
     "end_time": "2022-09-24T10:46:04.596052",
     "exception": false,
     "start_time": "2022-09-24T10:46:04.572717",
     "status": "completed"
    },
    "tags": []
   },
   "outputs": [
    {
     "name": "stdout",
     "output_type": "stream",
     "text": [
      "Shape of Dataframe is: (2966, 8)\n"
     ]
    }
   ],
   "source": [
    "print(f\"Shape of Dataframe is: {data.shape}\")"
   ]
  },
  {
   "cell_type": "code",
   "execution_count": 4,
   "id": "70b8bfd8",
   "metadata": {
    "execution": {
     "iopub.execute_input": "2022-09-24T10:46:04.625202Z",
     "iopub.status.busy": "2022-09-24T10:46:04.624666Z",
     "iopub.status.idle": "2022-09-24T10:46:04.635746Z",
     "shell.execute_reply": "2022-09-24T10:46:04.634723Z"
    },
    "papermill": {
     "duration": 0.028614,
     "end_time": "2022-09-24T10:46:04.638555",
     "exception": false,
     "start_time": "2022-09-24T10:46:04.609941",
     "status": "completed"
    },
    "tags": []
   },
   "outputs": [
    {
     "name": "stdout",
     "output_type": "stream",
     "text": [
      "Datatype in Each Column\n",
      "\n"
     ]
    },
    {
     "data": {
      "text/html": [
       "<div>\n",
       "<style scoped>\n",
       "    .dataframe tbody tr th:only-of-type {\n",
       "        vertical-align: middle;\n",
       "    }\n",
       "\n",
       "    .dataframe tbody tr th {\n",
       "        vertical-align: top;\n",
       "    }\n",
       "\n",
       "    .dataframe thead th {\n",
       "        text-align: right;\n",
       "    }\n",
       "</style>\n",
       "<table border=\"1\" class=\"dataframe\">\n",
       "  <thead>\n",
       "    <tr style=\"text-align: right;\">\n",
       "      <th></th>\n",
       "      <th>Datatype</th>\n",
       "    </tr>\n",
       "    <tr>\n",
       "      <th>Column Name</th>\n",
       "      <th></th>\n",
       "    </tr>\n",
       "  </thead>\n",
       "  <tbody>\n",
       "    <tr>\n",
       "      <th>Age</th>\n",
       "      <td>int64</td>\n",
       "    </tr>\n",
       "    <tr>\n",
       "      <th>Gender</th>\n",
       "      <td>object</td>\n",
       "    </tr>\n",
       "    <tr>\n",
       "      <th>Stream</th>\n",
       "      <td>object</td>\n",
       "    </tr>\n",
       "    <tr>\n",
       "      <th>Internships</th>\n",
       "      <td>int64</td>\n",
       "    </tr>\n",
       "    <tr>\n",
       "      <th>CGPA</th>\n",
       "      <td>int64</td>\n",
       "    </tr>\n",
       "    <tr>\n",
       "      <th>Hostel</th>\n",
       "      <td>int64</td>\n",
       "    </tr>\n",
       "    <tr>\n",
       "      <th>HistoryOfBacklogs</th>\n",
       "      <td>int64</td>\n",
       "    </tr>\n",
       "    <tr>\n",
       "      <th>PlacedOrNot</th>\n",
       "      <td>int64</td>\n",
       "    </tr>\n",
       "  </tbody>\n",
       "</table>\n",
       "</div>"
      ],
      "text/plain": [
       "                  Datatype\n",
       "Column Name               \n",
       "Age                  int64\n",
       "Gender              object\n",
       "Stream              object\n",
       "Internships          int64\n",
       "CGPA                 int64\n",
       "Hostel               int64\n",
       "HistoryOfBacklogs    int64\n",
       "PlacedOrNot          int64"
      ]
     },
     "execution_count": 4,
     "metadata": {},
     "output_type": "execute_result"
    }
   ],
   "source": [
    "print('Datatype in Each Column\\n')\n",
    "pd.DataFrame(data.dtypes, columns=['Datatype']).rename_axis(\"Column Name\")"
   ]
  },
  {
   "cell_type": "code",
   "execution_count": 5,
   "id": "295d1096",
   "metadata": {
    "execution": {
     "iopub.execute_input": "2022-09-24T10:46:04.668843Z",
     "iopub.status.busy": "2022-09-24T10:46:04.668497Z",
     "iopub.status.idle": "2022-09-24T10:46:04.767768Z",
     "shell.execute_reply": "2022-09-24T10:46:04.766674Z"
    },
    "papermill": {
     "duration": 0.117857,
     "end_time": "2022-09-24T10:46:04.770432",
     "exception": false,
     "start_time": "2022-09-24T10:46:04.652575",
     "status": "completed"
    },
    "tags": []
   },
   "outputs": [
    {
     "data": {
      "text/html": [
       "<style type=\"text/css\">\n",
       "#T_61b69_row0_col1 {\n",
       "  width: 10em;\n",
       "  height: 80%;\n",
       "  background: linear-gradient(90deg,#205ff2 100.0%, transparent 100.0%);\n",
       "}\n",
       "#T_61b69_row0_col2 {\n",
       "  background-color: #67000d;\n",
       "  color: #f1f1f1;\n",
       "}\n",
       "#T_61b69_row0_col5 {\n",
       "  background-color: #b40426;\n",
       "  color: #f1f1f1;\n",
       "}\n",
       "#T_61b69_row1_col1 {\n",
       "  width: 10em;\n",
       "  height: 80%;\n",
       "  background: linear-gradient(90deg,#205ff2 2.4%, transparent 2.4%);\n",
       "}\n",
       "#T_61b69_row1_col2 {\n",
       "  background-color: #fc9373;\n",
       "  color: #000000;\n",
       "}\n",
       "#T_61b69_row1_col5, #T_61b69_row5_col5 {\n",
       "  background-color: #4961d2;\n",
       "  color: #f1f1f1;\n",
       "}\n",
       "#T_61b69_row2_col1 {\n",
       "  width: 10em;\n",
       "  height: 80%;\n",
       "  background: linear-gradient(90deg,#205ff2 32.3%, transparent 32.3%);\n",
       "}\n",
       "#T_61b69_row2_col2 {\n",
       "  background-color: #f03f2e;\n",
       "  color: #f1f1f1;\n",
       "}\n",
       "#T_61b69_row2_col5 {\n",
       "  background-color: #aac7fd;\n",
       "  color: #000000;\n",
       "}\n",
       "#T_61b69_row3_col1 {\n",
       "  width: 10em;\n",
       "  height: 80%;\n",
       "  background: linear-gradient(90deg,#205ff2 0.4%, transparent 0.4%);\n",
       "}\n",
       "#T_61b69_row3_col2 {\n",
       "  background-color: #ffece4;\n",
       "  color: #000000;\n",
       "}\n",
       "#T_61b69_row3_col5, #T_61b69_row4_col5 {\n",
       "  background-color: #3b4cc0;\n",
       "  color: #f1f1f1;\n",
       "}\n",
       "#T_61b69_row4_col1 {\n",
       "  width: 10em;\n",
       "  height: 80%;\n",
       "}\n",
       "#T_61b69_row4_col2 {\n",
       "  background-color: #fff5f0;\n",
       "  color: #000000;\n",
       "}\n",
       "#T_61b69_row5_col1 {\n",
       "  width: 10em;\n",
       "  height: 80%;\n",
       "  background: linear-gradient(90deg,#205ff2 1.7%, transparent 1.7%);\n",
       "}\n",
       "#T_61b69_row5_col2 {\n",
       "  background-color: #fee3d6;\n",
       "  color: #000000;\n",
       "}\n",
       "</style>\n",
       "<table id=\"T_61b69_\">\n",
       "  <thead>\n",
       "    <tr>\n",
       "      <th class=\"blank level0\" >&nbsp;</th>\n",
       "      <th class=\"col_heading level0 col0\" >count</th>\n",
       "      <th class=\"col_heading level0 col1\" >mean</th>\n",
       "      <th class=\"col_heading level0 col2\" >std</th>\n",
       "      <th class=\"col_heading level0 col3\" >min</th>\n",
       "      <th class=\"col_heading level0 col4\" >25%</th>\n",
       "      <th class=\"col_heading level0 col5\" >50%</th>\n",
       "      <th class=\"col_heading level0 col6\" >75%</th>\n",
       "      <th class=\"col_heading level0 col7\" >max</th>\n",
       "    </tr>\n",
       "  </thead>\n",
       "  <tbody>\n",
       "    <tr>\n",
       "      <th id=\"T_61b69_level0_row0\" class=\"row_heading level0 row0\" >Age</th>\n",
       "      <td id=\"T_61b69_row0_col0\" class=\"data row0 col0\" >2966.000000</td>\n",
       "      <td id=\"T_61b69_row0_col1\" class=\"data row0 col1\" >21.485840</td>\n",
       "      <td id=\"T_61b69_row0_col2\" class=\"data row0 col2\" >1.324933</td>\n",
       "      <td id=\"T_61b69_row0_col3\" class=\"data row0 col3\" >19.000000</td>\n",
       "      <td id=\"T_61b69_row0_col4\" class=\"data row0 col4\" >21.000000</td>\n",
       "      <td id=\"T_61b69_row0_col5\" class=\"data row0 col5\" >21.000000</td>\n",
       "      <td id=\"T_61b69_row0_col6\" class=\"data row0 col6\" >22.000000</td>\n",
       "      <td id=\"T_61b69_row0_col7\" class=\"data row0 col7\" >30.000000</td>\n",
       "    </tr>\n",
       "    <tr>\n",
       "      <th id=\"T_61b69_level0_row1\" class=\"row_heading level0 row1\" >Internships</th>\n",
       "      <td id=\"T_61b69_row1_col0\" class=\"data row1 col0\" >2966.000000</td>\n",
       "      <td id=\"T_61b69_row1_col1\" class=\"data row1 col1\" >0.703641</td>\n",
       "      <td id=\"T_61b69_row1_col2\" class=\"data row1 col2\" >0.740197</td>\n",
       "      <td id=\"T_61b69_row1_col3\" class=\"data row1 col3\" >0.000000</td>\n",
       "      <td id=\"T_61b69_row1_col4\" class=\"data row1 col4\" >0.000000</td>\n",
       "      <td id=\"T_61b69_row1_col5\" class=\"data row1 col5\" >1.000000</td>\n",
       "      <td id=\"T_61b69_row1_col6\" class=\"data row1 col6\" >1.000000</td>\n",
       "      <td id=\"T_61b69_row1_col7\" class=\"data row1 col7\" >3.000000</td>\n",
       "    </tr>\n",
       "    <tr>\n",
       "      <th id=\"T_61b69_level0_row2\" class=\"row_heading level0 row2\" >CGPA</th>\n",
       "      <td id=\"T_61b69_row2_col0\" class=\"data row2 col0\" >2966.000000</td>\n",
       "      <td id=\"T_61b69_row2_col1\" class=\"data row2 col1\" >7.073837</td>\n",
       "      <td id=\"T_61b69_row2_col2\" class=\"data row2 col2\" >0.967748</td>\n",
       "      <td id=\"T_61b69_row2_col3\" class=\"data row2 col3\" >5.000000</td>\n",
       "      <td id=\"T_61b69_row2_col4\" class=\"data row2 col4\" >6.000000</td>\n",
       "      <td id=\"T_61b69_row2_col5\" class=\"data row2 col5\" >7.000000</td>\n",
       "      <td id=\"T_61b69_row2_col6\" class=\"data row2 col6\" >8.000000</td>\n",
       "      <td id=\"T_61b69_row2_col7\" class=\"data row2 col7\" >9.000000</td>\n",
       "    </tr>\n",
       "    <tr>\n",
       "      <th id=\"T_61b69_level0_row3\" class=\"row_heading level0 row3\" >Hostel</th>\n",
       "      <td id=\"T_61b69_row3_col0\" class=\"data row3 col0\" >2966.000000</td>\n",
       "      <td id=\"T_61b69_row3_col1\" class=\"data row3 col1\" >0.269049</td>\n",
       "      <td id=\"T_61b69_row3_col2\" class=\"data row3 col2\" >0.443540</td>\n",
       "      <td id=\"T_61b69_row3_col3\" class=\"data row3 col3\" >0.000000</td>\n",
       "      <td id=\"T_61b69_row3_col4\" class=\"data row3 col4\" >0.000000</td>\n",
       "      <td id=\"T_61b69_row3_col5\" class=\"data row3 col5\" >0.000000</td>\n",
       "      <td id=\"T_61b69_row3_col6\" class=\"data row3 col6\" >1.000000</td>\n",
       "      <td id=\"T_61b69_row3_col7\" class=\"data row3 col7\" >1.000000</td>\n",
       "    </tr>\n",
       "    <tr>\n",
       "      <th id=\"T_61b69_level0_row4\" class=\"row_heading level0 row4\" >HistoryOfBacklogs</th>\n",
       "      <td id=\"T_61b69_row4_col0\" class=\"data row4 col0\" >2966.000000</td>\n",
       "      <td id=\"T_61b69_row4_col1\" class=\"data row4 col1\" >0.192178</td>\n",
       "      <td id=\"T_61b69_row4_col2\" class=\"data row4 col2\" >0.394079</td>\n",
       "      <td id=\"T_61b69_row4_col3\" class=\"data row4 col3\" >0.000000</td>\n",
       "      <td id=\"T_61b69_row4_col4\" class=\"data row4 col4\" >0.000000</td>\n",
       "      <td id=\"T_61b69_row4_col5\" class=\"data row4 col5\" >0.000000</td>\n",
       "      <td id=\"T_61b69_row4_col6\" class=\"data row4 col6\" >0.000000</td>\n",
       "      <td id=\"T_61b69_row4_col7\" class=\"data row4 col7\" >1.000000</td>\n",
       "    </tr>\n",
       "    <tr>\n",
       "      <th id=\"T_61b69_level0_row5\" class=\"row_heading level0 row5\" >PlacedOrNot</th>\n",
       "      <td id=\"T_61b69_row5_col0\" class=\"data row5 col0\" >2966.000000</td>\n",
       "      <td id=\"T_61b69_row5_col1\" class=\"data row5 col1\" >0.552596</td>\n",
       "      <td id=\"T_61b69_row5_col2\" class=\"data row5 col2\" >0.497310</td>\n",
       "      <td id=\"T_61b69_row5_col3\" class=\"data row5 col3\" >0.000000</td>\n",
       "      <td id=\"T_61b69_row5_col4\" class=\"data row5 col4\" >0.000000</td>\n",
       "      <td id=\"T_61b69_row5_col5\" class=\"data row5 col5\" >1.000000</td>\n",
       "      <td id=\"T_61b69_row5_col6\" class=\"data row5 col6\" >1.000000</td>\n",
       "      <td id=\"T_61b69_row5_col7\" class=\"data row5 col7\" >1.000000</td>\n",
       "    </tr>\n",
       "  </tbody>\n",
       "</table>\n"
      ],
      "text/plain": [
       "<pandas.io.formats.style.Styler at 0x7f8f15536f50>"
      ]
     },
     "execution_count": 5,
     "metadata": {},
     "output_type": "execute_result"
    }
   ],
   "source": [
    "data.describe().T.style.bar(subset=['mean'], color='#205ff2').background_gradient(subset=['std'], cmap='Reds').background_gradient(subset=['50%'], cmap='coolwarm')"
   ]
  },
  {
   "cell_type": "code",
   "execution_count": 6,
   "id": "f099e374",
   "metadata": {
    "execution": {
     "iopub.execute_input": "2022-09-24T10:46:04.801764Z",
     "iopub.status.busy": "2022-09-24T10:46:04.801400Z",
     "iopub.status.idle": "2022-09-24T10:46:04.813106Z",
     "shell.execute_reply": "2022-09-24T10:46:04.812091Z"
    },
    "papermill": {
     "duration": 0.03005,
     "end_time": "2022-09-24T10:46:04.815392",
     "exception": false,
     "start_time": "2022-09-24T10:46:04.785342",
     "status": "completed"
    },
    "tags": []
   },
   "outputs": [
    {
     "data": {
      "text/html": [
       "<div>\n",
       "<style scoped>\n",
       "    .dataframe tbody tr th:only-of-type {\n",
       "        vertical-align: middle;\n",
       "    }\n",
       "\n",
       "    .dataframe tbody tr th {\n",
       "        vertical-align: top;\n",
       "    }\n",
       "\n",
       "    .dataframe thead th {\n",
       "        text-align: right;\n",
       "    }\n",
       "</style>\n",
       "<table border=\"1\" class=\"dataframe\">\n",
       "  <thead>\n",
       "    <tr style=\"text-align: right;\">\n",
       "      <th></th>\n",
       "      <th>Null Values</th>\n",
       "    </tr>\n",
       "    <tr>\n",
       "      <th>Column Name</th>\n",
       "      <th></th>\n",
       "    </tr>\n",
       "  </thead>\n",
       "  <tbody>\n",
       "    <tr>\n",
       "      <th>Age</th>\n",
       "      <td>0</td>\n",
       "    </tr>\n",
       "    <tr>\n",
       "      <th>Gender</th>\n",
       "      <td>0</td>\n",
       "    </tr>\n",
       "    <tr>\n",
       "      <th>Stream</th>\n",
       "      <td>0</td>\n",
       "    </tr>\n",
       "    <tr>\n",
       "      <th>Internships</th>\n",
       "      <td>0</td>\n",
       "    </tr>\n",
       "    <tr>\n",
       "      <th>CGPA</th>\n",
       "      <td>0</td>\n",
       "    </tr>\n",
       "    <tr>\n",
       "      <th>Hostel</th>\n",
       "      <td>0</td>\n",
       "    </tr>\n",
       "    <tr>\n",
       "      <th>HistoryOfBacklogs</th>\n",
       "      <td>0</td>\n",
       "    </tr>\n",
       "    <tr>\n",
       "      <th>PlacedOrNot</th>\n",
       "      <td>0</td>\n",
       "    </tr>\n",
       "  </tbody>\n",
       "</table>\n",
       "</div>"
      ],
      "text/plain": [
       "                   Null Values\n",
       "Column Name                   \n",
       "Age                          0\n",
       "Gender                       0\n",
       "Stream                       0\n",
       "Internships                  0\n",
       "CGPA                         0\n",
       "Hostel                       0\n",
       "HistoryOfBacklogs            0\n",
       "PlacedOrNot                  0"
      ]
     },
     "execution_count": 6,
     "metadata": {},
     "output_type": "execute_result"
    }
   ],
   "source": [
    "pd.DataFrame(data.isnull().sum(), columns=[\"Null Values\"]).rename_axis(\"Column Name\")"
   ]
  },
  {
   "cell_type": "markdown",
   "id": "1db1a832",
   "metadata": {
    "papermill": {
     "duration": 0.014384,
     "end_time": "2022-09-24T10:46:04.844537",
     "exception": false,
     "start_time": "2022-09-24T10:46:04.830153",
     "status": "completed"
    },
    "tags": []
   },
   "source": [
    "# Fortunately data has no missing value"
   ]
  },
  {
   "cell_type": "code",
   "execution_count": 7,
   "id": "c151ab11",
   "metadata": {
    "execution": {
     "iopub.execute_input": "2022-09-24T10:46:04.876068Z",
     "iopub.status.busy": "2022-09-24T10:46:04.875695Z",
     "iopub.status.idle": "2022-09-24T10:46:06.006959Z",
     "shell.execute_reply": "2022-09-24T10:46:06.005862Z"
    },
    "papermill": {
     "duration": 1.149861,
     "end_time": "2022-09-24T10:46:06.009144",
     "exception": false,
     "start_time": "2022-09-24T10:46:04.859283",
     "status": "completed"
    },
    "tags": []
   },
   "outputs": [
    {
     "data": {
      "text/html": [
       "        <script type=\"text/javascript\">\n",
       "        window.PlotlyConfig = {MathJaxConfig: 'local'};\n",
       "        if (window.MathJax && window.MathJax.Hub && window.MathJax.Hub.Config) {window.MathJax.Hub.Config({SVG: {font: \"STIX-Web\"}});}\n",
       "        if (typeof require !== 'undefined') {\n",
       "        require.undef(\"plotly\");\n",
       "        requirejs.config({\n",
       "            paths: {\n",
       "                'plotly': ['https://cdn.plot.ly/plotly-2.14.0.min']\n",
       "            }\n",
       "        });\n",
       "        require(['plotly'], function(Plotly) {\n",
       "            window._Plotly = Plotly;\n",
       "        });\n",
       "        }\n",
       "        </script>\n",
       "        "
      ]
     },
     "metadata": {},
     "output_type": "display_data"
    },
    {
     "data": {
      "text/html": [
       "<div>                            <div id=\"3e985f20-4e32-48b2-a918-9c0c7f0e6207\" class=\"plotly-graph-div\" style=\"height:525px; width:100%;\"></div>            <script type=\"text/javascript\">                require([\"plotly\"], function(Plotly) {                    window.PLOTLYENV=window.PLOTLYENV || {};                                    if (document.getElementById(\"3e985f20-4e32-48b2-a918-9c0c7f0e6207\")) {                    Plotly.newPlot(                        \"3e985f20-4e32-48b2-a918-9c0c7f0e6207\",                        [{\"alignmentgroup\":\"True\",\"bingroup\":\"x\",\"hovertemplate\":\"Age=%{x}<br>count=%{y}<extra></extra>\",\"legendgroup\":\"\",\"marker\":{\"color\":\"#636efa\",\"pattern\":{\"shape\":\"\"}},\"name\":\"\",\"offsetgroup\":\"\",\"orientation\":\"v\",\"showlegend\":false,\"x\":[22,21,22,21,22,22,21,21,21,21,22,22,21,21,21,22,22,21,21,22,22,21,22,22,22,21,22,22,22,21,22,21,21,21,21,21,22,22,22,22,22,22,21,21,22,21,22,21,21,21,22,21,21,21,21,21,21,21,21,21,21,22,21,21,21,22,22,21,22,21,22,22,22,21,22,21,21,22,22,21,21,21,22,21,21,21,21,21,22,22,21,22,21,22,22,22,21,22,22,21,23,23,23,24,23,23,24,24,24,23,23,24,24,23,24,23,23,23,24,23,23,23,23,23,23,24,24,24,24,24,23,23,23,24,23,24,24,24,23,24,23,23,24,24,24,23,24,23,23,24,23,24,23,23,24,24,23,24,23,24,22,22,22,21,21,21,21,21,22,22,21,21,21,22,22,21,21,22,22,21,22,22,21,22,21,22,21,21,22,21,22,22,21,21,21,22,21,21,22,21,21,22,21,21,21,21,22,22,21,21,21,21,22,22,21,21,21,21,22,21,22,22,21,22,22,21,21,21,21,22,22,22,21,22,21,22,22,21,21,21,22,22,21,22,21,21,21,22,22,22,21,21,22,22,22,22,22,21,22,22,22,21,21,22,21,21,21,22,21,22,21,22,21,22,21,22,21,21,21,21,21,22,21,21,22,21,21,22,21,22,22,22,22,22,21,21,22,22,22,21,22,22,21,21,22,22,22,22,22,21,21,22,22,22,22,22,22,22,21,21,21,21,21,22,21,22,21,21,22,22,21,22,22,21,22,22,21,21,22,22,21,22,21,22,22,22,21,21,21,22,22,21,21,21,22,22,21,22,21,22,22,21,22,21,21,22,22,21,21,21,22,21,22,22,22,22,21,21,21,22,21,22,21,21,22,21,21,22,22,22,22,22,21,22,21,21,21,21,21,21,22,22,21,21,21,22,21,21,21,22,21,22,21,21,22,22,22,21,22,22,21,22,22,21,22,21,22,21,21,21,21,22,21,21,21,21,21,21,22,22,21,21,22,21,21,21,22,21,28,21,22,21,22,21,21,22,22,21,21,22,22,22,21,22,22,21,22,21,22,21,21,22,22,21,21,22,22,22,21,22,21,21,21,22,21,22,21,22,22,22,22,22,21,22,22,21,22,21,22,22,22,21,22,21,22,21,22,21,21,21,21,22,21,22,21,22,21,21,21,21,21,22,22,21,21,22,22,22,21,22,21,22,22,22,22,21,21,21,22,21,22,22,22,22,22,21,22,21,22,21,30,22,21,22,22,22,22,21,21,22,21,21,22,22,22,21,21,21,22,22,22,21,22,21,22,22,21,21,22,22,21,21,21,22,21,22,21,22,21,21,21,21,22,22,21,22,21,22,22,21,21,22,21,21,21,22,22,21,21,22,21,21,22,21,21,21,21,22,22,21,22,22,22,22,22,22,21,22,22,21,21,21,21,22,22,22,22,21,22,21,21,22,21,22,21,22,21,21,22,21,22,21,22,22,21,22,22,22,21,22,22,22,21,22,22,21,22,22,22,21,22,22,21,22,21,21,21,22,22,22,21,21,22,21,22,21,21,21,22,21,22,21,22,21,22,22,21,21,21,21,25,26,24,25,24,25,23,24,25,25,26,26,25,26,24,25,23,23,24,25,24,24,23,26,23,26,26,26,26,24,24,23,26,23,24,26,25,23,24,23,23,26,24,26,23,23,26,26,24,23,26,23,24,24,25,25,26,24,26,25,22,21,22,22,22,22,21,22,21,21,22,22,22,22,21,21,21,22,22,21,21,22,21,22,21,22,21,21,22,22,22,22,22,22,22,22,22,22,22,21,22,21,22,21,22,21,22,22,22,21,22,21,21,22,22,21,22,21,21,22,22,21,21,22,21,21,21,21,21,21,21,21,22,21,21,21,22,21,22,22,21,22,22,22,22,21,22,21,22,22,22,22,21,22,22,21,21,22,21,22,22,21,21,21,21,22,22,21,22,22,22,22,22,22,22,21,22,21,21,21,22,22,22,22,21,21,22,22,21,22,22,21,21,22,22,22,22,21,21,22,22,21,22,21,21,22,21,21,22,21,21,21,21,21,22,22,22,22,21,22,21,21,21,21,21,21,21,22,21,22,22,21,22,22,22,22,22,22,22,22,22,22,22,22,22,22,22,21,21,22,22,22,22,21,21,21,21,21,22,21,22,22,21,21,22,22,22,22,21,21,22,21,21,22,21,21,22,21,22,22,22,22,21,22,22,22,21,22,22,22,22,22,22,22,21,21,22,21,21,21,22,22,21,22,22,21,21,22,21,21,22,22,21,22,22,21,21,22,22,22,21,22,22,21,21,22,21,22,21,22,21,22,21,21,22,22,21,21,22,22,22,21,21,22,22,22,21,22,21,22,22,21,21,22,22,22,22,21,21,22,22,22,21,22,21,21,22,21,22,22,22,22,21,22,21,21,21,21,22,21,21,22,22,22,21,21,22,22,22,22,21,21,22,22,22,22,22,22,21,22,22,21,21,22,21,21,22,22,21,21,21,22,21,21,21,22,21,21,22,21,21,21,22,21,22,21,22,22,22,21,22,21,21,22,22,22,21,22,22,22,21,22,22,21,21,22,22,21,22,22,21,21,21,22,21,21,21,22,21,21,22,21,22,21,22,22,21,21,22,22,22,21,21,22,22,21,22,21,22,21,22,22,21,21,21,21,21,21,21,21,22,22,21,21,22,22,21,22,21,22,21,22,22,21,21,22,21,21,21,21,21,21,21,21,22,22,22,22,21,21,22,22,22,21,22,22,21,22,22,21,21,21,22,22,22,21,22,22,22,21,21,21,21,22,22,22,21,22,21,21,22,21,21,22,21,21,21,22,22,21,22,22,21,21,21,22,22,21,21,21,21,22,22,21,22,21,22,22,22,21,21,21,22,22,22,21,21,22,21,21,21,21,22,22,22,21,21,21,22,21,25,26,24,25,26,26,26,26,24,26,26,26,26,26,26,25,26,24,26,26,24,24,24,25,25,25,26,26,26,26,25,25,25,26,25,26,26,26,26,26,24,24,25,26,26,25,26,25,25,24,26,24,26,26,24,26,25,25,26,25,22,21,22,21,21,22,21,22,21,22,21,21,22,22,21,22,21,21,21,22,21,22,21,21,21,22,21,21,21,22,22,21,21,21,22,22,22,22,21,22,22,22,22,21,22,22,22,21,22,22,21,22,22,22,21,21,21,21,22,22,21,22,22,22,21,22,21,22,22,21,21,21,21,22,22,21,22,21,21,21,21,22,22,21,28,21,22,21,22,22,21,21,22,22,22,21,22,21,21,22,22,21,22,22,22,21,22,21,21,22,21,21,21,21,22,22,22,21,22,21,22,21,22,22,22,22,21,22,22,22,21,21,22,21,21,21,21,22,21,22,24,24,22,24,24,24,24,24,20,21,23,22,23,23,22,24,22,24,22,23,22,23,23,20,24,24,20,24,22,20,23,23,22,22,23,22,20,20,21,23,21,21,20,23,21,24,21,21,22,20,21,20,23,22,21,21,24,23,22,20,24,21,23,23,23,22,24,21,22,22,23,20,22,20,23,21,24,21,21,20,23,20,21,23,24,22,24,23,23,23,22,24,22,24,20,20,24,24,21,23,21,23,20,24,24,20,23,24,20,23,22,24,23,21,23,21,24,24,22,21,23,22,24,20,22,21,20,21,22,24,21,23,21,20,24,20,23,22,22,23,23,23,20,24,20,22,20,23,21,24,21,22,24,20,24,22,23,21,22,21,23,21,21,20,21,22,24,20,21,21,21,21,21,23,21,24,23,23,23,22,21,24,24,22,20,20,21,22,24,21,24,22,24,22,21,20,22,21,22,23,23,22,20,20,24,24,22,23,22,21,22,24,23,23,22,20,23,23,21,24,23,24,22,22,21,21,20,22,23,22,23,22,21,21,20,24,23,21,21,20,21,23,21,22,20,24,24,22,22,23,22,24,20,24,21,23,23,23,21,22,21,22,22,23,23,21,21,23,20,21,21,23,20,21,20,22,21,24,20,23,22,20,20,24,22,20,21,22,22,22,24,22,23,23,22,23,24,24,22,24,21,24,21,24,24,21,24,20,20,24,21,22,23,21,23,23,22,24,22,24,21,22,22,22,24,24,23,22,20,21,20,22,21,23,20,22,20,21,22,21,23,21,21,20,21,24,21,22,24,22,21,23,24,22,21,21,23,20,23,23,21,21,22,24,21,21,21,20,24,20,20,20,24,22,23,20,22,21,21,22,22,22,22,21,22,23,24,24,21,22,20,23,21,21,21,23,22,23,23,20,20,22,22,21,20,20,21,19,19,21,19,20,19,21,21,22,20,22,21,22,21,20,22,22,21,22,22,19,22,22,21,22,21,20,19,21,21,19,22,21,19,19,21,20,20,22,22,20,20,22,22,19,22,22,20,20,20,22,20,19,21,19,22,19,19,21,19,22,20,22,21,20,19,20,21,22,20,19,21,20,21,20,21,20,21,22,19,19,21,21,19,22,20,22,21,19,20,22,20,19,21,19,21,19,19,22,21,19,19,19,20,21,20,22,19,20,22,22,21,20,20,21,21,19,19,19,22,22,22,22,19,20,22,21,22,20,20,20,21,20,20,19,19,22,22,19,22,20,21,20,22,19,22,19,19,21,21,21,19,21,20,20,20,21,22,21,21,20,21,22,21,21,19,20,19,19,21,21,22,20,19,20,19,19,21,22,22,21,21,20,19,20,20,21,20,22,21,19,20,19,21,19,19,19,20,20,19,19,21,21,19,19,19,20,22,22,21,21,22,19,22,21,19,21,20,21,20,22,20,19,22,22,19,19,22,21,19,21,22,19,22,22,22,19,20,21,19,21,20,19,20,20,19,20,22,20,21,20,21,21,19,22,22,20,21,20,21,21,21,22,19,19,21,20,21,22,21,21,22,21,20,22,19,20,20,21,22,22,20,19,19,21,21,20,21,20,19,21,19,19,21,21,19,21,20,19,20,19,19,19,19,20,21,19,19,20,20,22,21,20,19,22,22,20,20,21,22,22,19,22,21,20,20,22,19,19,20,19,21,21,22,21,19,19,21,21,19,20,19,19,19,19,19,20,22,19,20,22,19,19,22,21,20,21,20,21,22,22,20,20,19,22,22,22,20,21,21,21,21,20,19,20,22,22,21,19,19,19,20,20,22,20,20,21,21,20,19,21,21,20,22,20,19,22,21,22,19,21,21,22,22,19,20,20,19,22,20,22,21,21,20,20,22,22,19,22,19,20,19,21,22,19,20,29,20,20,20,20,22,19,20,19,20,19,20,19,22,22,19,21,22,20,21,19,22,21,19,21,21,21,20,21,20,19,22,19,20,20,22,22,19,20,20,19,22,19,21,21,20,20,20,20,20,20,20,21,20,20,19,19,19,21,22,22,21,20,22,22,22,19,22,19,22,20,20,19,22,21,21,22,20,19,22,22,20,20,21,20,19,21,22,21,22,21,22,20,21,20,22,21,21,19,22,19,21,20,19,20,20,22,19,19,19,20,19,22,28,22,22,19,19,21,22,20,19,22,21,20,19,21,19,19,22,19,22,19,21,21,20,20,19,21,22,22,21,21,22,21,22,19,21,19,21,20,20,19,19,21,22,21,22,22,21,21,20,19,21,22,21,22,20,21,21,20,21,21,21,20,21,20,21,21,21,21,20,20,21,20,20,21,20,21,20,20,21,20,20,20,20,20,20,20,20,21,20,21,20,21,21,21,21,20,21,20,21,20,20,20,20,21,20,20,21,20,21,21,21,20,20,20,21,20,20,21,21,21,20,21,20,21,21,21,21,20,21,20,20,20,21,21,21,20,20,21,21,20,20,21,21,21,21,20,21,21,21,20,21,21,21,20,20,20,20,20,21,20,20,20,21,21,20,20,20,21,21,21,21,21,21,21,21,21,21,20,21,21,20,21,20,21,21,21,20,21,20,20,21,21,21,21,20,21,20,21,21,20,20,21,20,21,21,20,20,20,21,20,20,21,20,20,20,21,20,20,20,20,21,20,21,21,20,21,20,20,21,21,21,20,21,20,21,20,20,21,21,20,21,20,21,21,20,21,21,20,20,20,20,20,20,21,20,20,21,20,20,21,20,21,20,21,20,20,20,21,21,20,21,21,21,20,21,20,20,20,21,21,20,21,20,20,20,20,20,21,20,20,20,20,20,20,20,20,20,20,21,20,21,20,20,21,20,21,21,21,20,20,20,20,21,21,20,20,20,21,21,21,21,20,20,20,20,20,21,21,20,20,21,21,20,21,20,20,20,20,20,21,21,20,21,20,20,21,20,20,20,20,20,20,20,20,23,22,22,22,21,21,23,23,23,21,23,21,23,23,23,21,23,23,21,22,21,21,21,22,21,22,21,23,23,22,22,23,22,23,21,23,23,23,23,23,21,21,22,23,22,21,22,21,21,23,21,22,22,21,23,21,21,23,23,22,22,21,23,22,22,22,22,22,23,23,21,23,22,23,21,21,23,23,21,22,23,23,23,21,21,21,21,21,23,22,21,21,23,23,22,23,23,22,21,21,22,21,23,23,22,23,21,22,21,23,21,23,21,23,22,23,21,21,21,21,22,23,23,22,21,23,21,22,22,23,21,21,21,23,23,21,23,23,21,21,22,21,23,23,23,21,23,22,21,22,23,21,23,22,23,22,22,22,23,23,23,23,23,22,22,23],\"xaxis\":\"x\",\"yaxis\":\"y\",\"type\":\"histogram\"}],                        {\"template\":{\"data\":{\"histogram2dcontour\":[{\"type\":\"histogram2dcontour\",\"colorbar\":{\"outlinewidth\":0,\"ticks\":\"\"},\"colorscale\":[[0.0,\"#0d0887\"],[0.1111111111111111,\"#46039f\"],[0.2222222222222222,\"#7201a8\"],[0.3333333333333333,\"#9c179e\"],[0.4444444444444444,\"#bd3786\"],[0.5555555555555556,\"#d8576b\"],[0.6666666666666666,\"#ed7953\"],[0.7777777777777778,\"#fb9f3a\"],[0.8888888888888888,\"#fdca26\"],[1.0,\"#f0f921\"]]}],\"choropleth\":[{\"type\":\"choropleth\",\"colorbar\":{\"outlinewidth\":0,\"ticks\":\"\"}}],\"histogram2d\":[{\"type\":\"histogram2d\",\"colorbar\":{\"outlinewidth\":0,\"ticks\":\"\"},\"colorscale\":[[0.0,\"#0d0887\"],[0.1111111111111111,\"#46039f\"],[0.2222222222222222,\"#7201a8\"],[0.3333333333333333,\"#9c179e\"],[0.4444444444444444,\"#bd3786\"],[0.5555555555555556,\"#d8576b\"],[0.6666666666666666,\"#ed7953\"],[0.7777777777777778,\"#fb9f3a\"],[0.8888888888888888,\"#fdca26\"],[1.0,\"#f0f921\"]]}],\"heatmap\":[{\"type\":\"heatmap\",\"colorbar\":{\"outlinewidth\":0,\"ticks\":\"\"},\"colorscale\":[[0.0,\"#0d0887\"],[0.1111111111111111,\"#46039f\"],[0.2222222222222222,\"#7201a8\"],[0.3333333333333333,\"#9c179e\"],[0.4444444444444444,\"#bd3786\"],[0.5555555555555556,\"#d8576b\"],[0.6666666666666666,\"#ed7953\"],[0.7777777777777778,\"#fb9f3a\"],[0.8888888888888888,\"#fdca26\"],[1.0,\"#f0f921\"]]}],\"heatmapgl\":[{\"type\":\"heatmapgl\",\"colorbar\":{\"outlinewidth\":0,\"ticks\":\"\"},\"colorscale\":[[0.0,\"#0d0887\"],[0.1111111111111111,\"#46039f\"],[0.2222222222222222,\"#7201a8\"],[0.3333333333333333,\"#9c179e\"],[0.4444444444444444,\"#bd3786\"],[0.5555555555555556,\"#d8576b\"],[0.6666666666666666,\"#ed7953\"],[0.7777777777777778,\"#fb9f3a\"],[0.8888888888888888,\"#fdca26\"],[1.0,\"#f0f921\"]]}],\"contourcarpet\":[{\"type\":\"contourcarpet\",\"colorbar\":{\"outlinewidth\":0,\"ticks\":\"\"}}],\"contour\":[{\"type\":\"contour\",\"colorbar\":{\"outlinewidth\":0,\"ticks\":\"\"},\"colorscale\":[[0.0,\"#0d0887\"],[0.1111111111111111,\"#46039f\"],[0.2222222222222222,\"#7201a8\"],[0.3333333333333333,\"#9c179e\"],[0.4444444444444444,\"#bd3786\"],[0.5555555555555556,\"#d8576b\"],[0.6666666666666666,\"#ed7953\"],[0.7777777777777778,\"#fb9f3a\"],[0.8888888888888888,\"#fdca26\"],[1.0,\"#f0f921\"]]}],\"surface\":[{\"type\":\"surface\",\"colorbar\":{\"outlinewidth\":0,\"ticks\":\"\"},\"colorscale\":[[0.0,\"#0d0887\"],[0.1111111111111111,\"#46039f\"],[0.2222222222222222,\"#7201a8\"],[0.3333333333333333,\"#9c179e\"],[0.4444444444444444,\"#bd3786\"],[0.5555555555555556,\"#d8576b\"],[0.6666666666666666,\"#ed7953\"],[0.7777777777777778,\"#fb9f3a\"],[0.8888888888888888,\"#fdca26\"],[1.0,\"#f0f921\"]]}],\"mesh3d\":[{\"type\":\"mesh3d\",\"colorbar\":{\"outlinewidth\":0,\"ticks\":\"\"}}],\"scatter\":[{\"fillpattern\":{\"fillmode\":\"overlay\",\"size\":10,\"solidity\":0.2},\"type\":\"scatter\"}],\"parcoords\":[{\"type\":\"parcoords\",\"line\":{\"colorbar\":{\"outlinewidth\":0,\"ticks\":\"\"}}}],\"scatterpolargl\":[{\"type\":\"scatterpolargl\",\"marker\":{\"colorbar\":{\"outlinewidth\":0,\"ticks\":\"\"}}}],\"bar\":[{\"error_x\":{\"color\":\"#2a3f5f\"},\"error_y\":{\"color\":\"#2a3f5f\"},\"marker\":{\"line\":{\"color\":\"#E5ECF6\",\"width\":0.5},\"pattern\":{\"fillmode\":\"overlay\",\"size\":10,\"solidity\":0.2}},\"type\":\"bar\"}],\"scattergeo\":[{\"type\":\"scattergeo\",\"marker\":{\"colorbar\":{\"outlinewidth\":0,\"ticks\":\"\"}}}],\"scatterpolar\":[{\"type\":\"scatterpolar\",\"marker\":{\"colorbar\":{\"outlinewidth\":0,\"ticks\":\"\"}}}],\"histogram\":[{\"marker\":{\"pattern\":{\"fillmode\":\"overlay\",\"size\":10,\"solidity\":0.2}},\"type\":\"histogram\"}],\"scattergl\":[{\"type\":\"scattergl\",\"marker\":{\"colorbar\":{\"outlinewidth\":0,\"ticks\":\"\"}}}],\"scatter3d\":[{\"type\":\"scatter3d\",\"line\":{\"colorbar\":{\"outlinewidth\":0,\"ticks\":\"\"}},\"marker\":{\"colorbar\":{\"outlinewidth\":0,\"ticks\":\"\"}}}],\"scattermapbox\":[{\"type\":\"scattermapbox\",\"marker\":{\"colorbar\":{\"outlinewidth\":0,\"ticks\":\"\"}}}],\"scatterternary\":[{\"type\":\"scatterternary\",\"marker\":{\"colorbar\":{\"outlinewidth\":0,\"ticks\":\"\"}}}],\"scattercarpet\":[{\"type\":\"scattercarpet\",\"marker\":{\"colorbar\":{\"outlinewidth\":0,\"ticks\":\"\"}}}],\"carpet\":[{\"aaxis\":{\"endlinecolor\":\"#2a3f5f\",\"gridcolor\":\"white\",\"linecolor\":\"white\",\"minorgridcolor\":\"white\",\"startlinecolor\":\"#2a3f5f\"},\"baxis\":{\"endlinecolor\":\"#2a3f5f\",\"gridcolor\":\"white\",\"linecolor\":\"white\",\"minorgridcolor\":\"white\",\"startlinecolor\":\"#2a3f5f\"},\"type\":\"carpet\"}],\"table\":[{\"cells\":{\"fill\":{\"color\":\"#EBF0F8\"},\"line\":{\"color\":\"white\"}},\"header\":{\"fill\":{\"color\":\"#C8D4E3\"},\"line\":{\"color\":\"white\"}},\"type\":\"table\"}],\"barpolar\":[{\"marker\":{\"line\":{\"color\":\"#E5ECF6\",\"width\":0.5},\"pattern\":{\"fillmode\":\"overlay\",\"size\":10,\"solidity\":0.2}},\"type\":\"barpolar\"}],\"pie\":[{\"automargin\":true,\"type\":\"pie\"}]},\"layout\":{\"autotypenumbers\":\"strict\",\"colorway\":[\"#636efa\",\"#EF553B\",\"#00cc96\",\"#ab63fa\",\"#FFA15A\",\"#19d3f3\",\"#FF6692\",\"#B6E880\",\"#FF97FF\",\"#FECB52\"],\"font\":{\"color\":\"#2a3f5f\"},\"hovermode\":\"closest\",\"hoverlabel\":{\"align\":\"left\"},\"paper_bgcolor\":\"white\",\"plot_bgcolor\":\"#E5ECF6\",\"polar\":{\"bgcolor\":\"#E5ECF6\",\"angularaxis\":{\"gridcolor\":\"white\",\"linecolor\":\"white\",\"ticks\":\"\"},\"radialaxis\":{\"gridcolor\":\"white\",\"linecolor\":\"white\",\"ticks\":\"\"}},\"ternary\":{\"bgcolor\":\"#E5ECF6\",\"aaxis\":{\"gridcolor\":\"white\",\"linecolor\":\"white\",\"ticks\":\"\"},\"baxis\":{\"gridcolor\":\"white\",\"linecolor\":\"white\",\"ticks\":\"\"},\"caxis\":{\"gridcolor\":\"white\",\"linecolor\":\"white\",\"ticks\":\"\"}},\"coloraxis\":{\"colorbar\":{\"outlinewidth\":0,\"ticks\":\"\"}},\"colorscale\":{\"sequential\":[[0.0,\"#0d0887\"],[0.1111111111111111,\"#46039f\"],[0.2222222222222222,\"#7201a8\"],[0.3333333333333333,\"#9c179e\"],[0.4444444444444444,\"#bd3786\"],[0.5555555555555556,\"#d8576b\"],[0.6666666666666666,\"#ed7953\"],[0.7777777777777778,\"#fb9f3a\"],[0.8888888888888888,\"#fdca26\"],[1.0,\"#f0f921\"]],\"sequentialminus\":[[0.0,\"#0d0887\"],[0.1111111111111111,\"#46039f\"],[0.2222222222222222,\"#7201a8\"],[0.3333333333333333,\"#9c179e\"],[0.4444444444444444,\"#bd3786\"],[0.5555555555555556,\"#d8576b\"],[0.6666666666666666,\"#ed7953\"],[0.7777777777777778,\"#fb9f3a\"],[0.8888888888888888,\"#fdca26\"],[1.0,\"#f0f921\"]],\"diverging\":[[0,\"#8e0152\"],[0.1,\"#c51b7d\"],[0.2,\"#de77ae\"],[0.3,\"#f1b6da\"],[0.4,\"#fde0ef\"],[0.5,\"#f7f7f7\"],[0.6,\"#e6f5d0\"],[0.7,\"#b8e186\"],[0.8,\"#7fbc41\"],[0.9,\"#4d9221\"],[1,\"#276419\"]]},\"xaxis\":{\"gridcolor\":\"white\",\"linecolor\":\"white\",\"ticks\":\"\",\"title\":{\"standoff\":15},\"zerolinecolor\":\"white\",\"automargin\":true,\"zerolinewidth\":2},\"yaxis\":{\"gridcolor\":\"white\",\"linecolor\":\"white\",\"ticks\":\"\",\"title\":{\"standoff\":15},\"zerolinecolor\":\"white\",\"automargin\":true,\"zerolinewidth\":2},\"scene\":{\"xaxis\":{\"backgroundcolor\":\"#E5ECF6\",\"gridcolor\":\"white\",\"linecolor\":\"white\",\"showbackground\":true,\"ticks\":\"\",\"zerolinecolor\":\"white\",\"gridwidth\":2},\"yaxis\":{\"backgroundcolor\":\"#E5ECF6\",\"gridcolor\":\"white\",\"linecolor\":\"white\",\"showbackground\":true,\"ticks\":\"\",\"zerolinecolor\":\"white\",\"gridwidth\":2},\"zaxis\":{\"backgroundcolor\":\"#E5ECF6\",\"gridcolor\":\"white\",\"linecolor\":\"white\",\"showbackground\":true,\"ticks\":\"\",\"zerolinecolor\":\"white\",\"gridwidth\":2}},\"shapedefaults\":{\"line\":{\"color\":\"#2a3f5f\"}},\"annotationdefaults\":{\"arrowcolor\":\"#2a3f5f\",\"arrowhead\":0,\"arrowwidth\":1},\"geo\":{\"bgcolor\":\"white\",\"landcolor\":\"#E5ECF6\",\"subunitcolor\":\"white\",\"showland\":true,\"showlakes\":true,\"lakecolor\":\"white\"},\"title\":{\"x\":0.05},\"mapbox\":{\"style\":\"light\"}}},\"xaxis\":{\"anchor\":\"y\",\"domain\":[0.0,1.0],\"title\":{\"text\":\"Age\"}},\"yaxis\":{\"anchor\":\"x\",\"domain\":[0.0,1.0],\"title\":{\"text\":\"count\"}},\"legend\":{\"tracegroupgap\":0},\"title\":{\"text\":\"<b>Average Age of Student</b>\"},\"barmode\":\"relative\",\"shapes\":[{\"line\":{\"color\":\"red\",\"dash\":\"dash\",\"width\":2},\"type\":\"line\",\"x0\":21.48583951449764,\"x1\":21.48583951449764,\"xref\":\"x\",\"y0\":0,\"y1\":1,\"yref\":\"y domain\"}]},                        {\"responsive\": true}                    ).then(function(){\n",
       "                            \n",
       "var gd = document.getElementById('3e985f20-4e32-48b2-a918-9c0c7f0e6207');\n",
       "var x = new MutationObserver(function (mutations, observer) {{\n",
       "        var display = window.getComputedStyle(gd).display;\n",
       "        if (!display || display === 'none') {{\n",
       "            console.log([gd, 'removed!']);\n",
       "            Plotly.purge(gd);\n",
       "            observer.disconnect();\n",
       "        }}\n",
       "}});\n",
       "\n",
       "// Listen for the removal of the full notebook cells\n",
       "var notebookContainer = gd.closest('#notebook-container');\n",
       "if (notebookContainer) {{\n",
       "    x.observe(notebookContainer, {childList: true});\n",
       "}}\n",
       "\n",
       "// Listen for the clearing of the current output cell\n",
       "var outputEl = gd.closest('.output');\n",
       "if (outputEl) {{\n",
       "    x.observe(outputEl, {childList: true});\n",
       "}}\n",
       "\n",
       "                        })                };                });            </script>        </div>"
      ]
     },
     "metadata": {},
     "output_type": "display_data"
    }
   ],
   "source": [
    "fig = px.histogram(data, 'Age',\n",
    "                   title=\"<b>Average Age of Student</b>\")\n",
    "\n",
    "fig.add_vline(x=data['Age'].mean(), line_width=2, line_dash=\"dash\", line_color=\"red\")\n",
    "\n",
    "fig.show()"
   ]
  },
  {
   "cell_type": "code",
   "execution_count": 8,
   "id": "e7b7d4fb",
   "metadata": {
    "execution": {
     "iopub.execute_input": "2022-09-24T10:46:06.041834Z",
     "iopub.status.busy": "2022-09-24T10:46:06.041443Z",
     "iopub.status.idle": "2022-09-24T10:46:06.179531Z",
     "shell.execute_reply": "2022-09-24T10:46:06.178469Z"
    },
    "papermill": {
     "duration": 0.157337,
     "end_time": "2022-09-24T10:46:06.181792",
     "exception": false,
     "start_time": "2022-09-24T10:46:06.024455",
     "status": "completed"
    },
    "tags": []
   },
   "outputs": [
    {
     "data": {
      "text/html": [
       "<div>                            <div id=\"98a4155b-fefb-417a-b70d-251ff86801a9\" class=\"plotly-graph-div\" style=\"height:525px; width:100%;\"></div>            <script type=\"text/javascript\">                require([\"plotly\"], function(Plotly) {                    window.PLOTLYENV=window.PLOTLYENV || {};                                    if (document.getElementById(\"98a4155b-fefb-417a-b70d-251ff86801a9\")) {                    Plotly.newPlot(                        \"98a4155b-fefb-417a-b70d-251ff86801a9\",                        [{\"alignmentgroup\":\"True\",\"bingroup\":\"x\",\"hovertemplate\":\"Gender=Male<br>Age=%{x}<br>count=%{y}<extra></extra>\",\"legendgroup\":\"Male\",\"marker\":{\"color\":\"#636efa\",\"pattern\":{\"shape\":\"\"},\"opacity\":0.7},\"name\":\"Male\",\"offsetgroup\":\"Male\",\"orientation\":\"v\",\"showlegend\":true,\"x\":[22,21,22,22,21,21,21,22,21,22,21,21,22,22,21,22,22,22,21,22,22,22,21,22,21,21,21,21,22,22,22,22,22,22,21,21,22,21,21,22,21,21,21,21,21,21,21,22,21,21,21,22,22,21,22,21,22,22,22,21,22,21,21,22,22,21,21,21,22,21,21,21,21,21,22,21,22,21,22,22,21,22,21,23,23,23,24,23,23,24,24,23,23,24,24,23,24,23,23,23,24,23,23,23,23,23,24,24,24,24,24,23,23,24,23,24,24,24,23,24,23,23,24,24,24,23,24,23,23,24,23,23,24,24,23,24,23,24,22,22,22,21,21,21,21,22,22,21,21,22,22,21,21,22,22,21,22,21,22,21,22,22,21,21,21,21,21,21,21,22,21,21,22,22,21,21,21,22,22,21,21,21,22,21,22,22,21,22,22,21,21,22,22,22,22,21,22,22,21,22,21,21,21,22,22,21,22,22,22,22,21,22,22,21,21,22,21,21,22,21,22,21,22,21,22,21,22,21,21,21,21,21,22,21,21,22,21,22,22,22,22,21,21,22,22,22,21,22,22,21,21,22,22,22,22,21,21,22,22,22,22,22,21,21,21,21,22,21,22,21,21,22,22,21,22,21,22,22,21,21,22,21,22,21,22,22,21,21,21,21,21,21,22,22,21,22,21,22,22,21,22,21,21,22,22,21,21,22,22,22,22,22,21,21,22,21,22,21,21,21,21,22,22,22,21,22,21,21,21,21,21,22,22,21,22,21,21,21,22,21,22,21,21,22,22,22,21,22,22,21,22,22,21,22,21,22,21,21,21,21,21,21,21,22,22,21,21,22,21,21,21,22,21,28,21,22,21,22,21,21,22,21,21,22,22,22,21,22,22,21,22,21,21,21,22,22,21,21,22,22,21,22,21,22,21,21,22,22,22,22,22,21,22,22,21,22,21,22,22,22,21,22,21,22,21,21,21,21,21,22,22,21,21,21,21,22,22,21,21,22,22,22,21,22,21,22,22,22,21,21,21,22,21,22,22,22,22,22,21,21,30,22,21,22,22,22,21,22,21,21,22,22,22,21,21,21,22,22,22,21,22,21,22,21,21,22,22,21,21,21,22,21,21,22,21,21,21,21,22,22,21,22,21,22,21,21,21,21,21,22,21,21,22,21,21,22,21,21,21,21,22,22,21,22,22,22,21,22,22,21,21,21,22,22,22,22,21,22,21,21,22,22,21,21,22,21,22,22,21,22,21,22,22,22,21,22,22,21,22,22,21,22,22,21,21,21,21,22,21,22,22,21,21,21,22,21,22,21,22,21,22,21,21,21,21,25,26,25,25,23,24,25,25,26,25,26,24,25,23,23,24,25,24,24,23,26,26,26,26,26,24,24,23,23,24,26,25,23,23,23,26,24,26,23,23,26,26,24,23,23,24,24,25,25,26,24,25,22,21,22,22,22,22,21,22,22,22,21,21,22,22,21,22,22,21,22,21,22,22,22,22,22,22,22,22,21,21,22,22,21,22,22,22,21,22,21,21,22,21,22,21,22,21,21,22,21,21,21,21,21,21,22,21,21,22,21,22,21,22,22,22,22,21,22,21,22,22,22,21,22,22,21,21,22,21,22,22,21,21,21,22,22,21,22,22,22,22,22,21,22,21,21,21,22,22,22,21,21,22,22,21,22,22,21,22,22,22,22,21,22,22,22,21,21,22,21,21,22,21,21,21,21,21,22,22,21,22,21,21,21,21,21,21,22,22,22,21,22,22,22,22,22,22,22,22,22,22,22,22,22,22,21,21,22,22,22,21,21,21,21,21,22,21,22,22,21,21,22,22,22,21,21,22,21,21,22,21,21,22,22,22,22,21,22,22,22,21,22,22,22,22,22,21,21,21,21,21,22,22,22,22,21,21,22,21,21,22,22,21,22,22,21,21,22,22,22,22,22,21,21,21,22,21,22,21,22,22,21,21,22,21,21,22,22,22,21,22,21,22,22,21,22,22,22,21,22,22,22,21,21,21,22,22,22,21,22,21,21,21,22,21,22,22,22,21,21,22,22,22,22,21,22,22,22,22,22,22,21,21,22,21,21,22,22,21,21,22,21,21,22,21,21,22,21,21,21,21,22,22,22,21,22,22,21,22,22,22,21,22,22,21,22,22,21,22,22,21,21,22,21,22,21,21,22,21,22,21,21,21,22,22,22,21,21,22,21,21,22,21,22,22,21,21,21,21,21,21,21,22,22,21,22,21,22,21,21,22,22,21,21,21,21,21,21,21,21,21,21,22,22,22,22,21,22,22,22,21,22,22,21,22,22,21,21,21,22,22,22,22,21,21,21,21,22,22,21,21,21,22,21,21,22,21,21,22,21,22,22,21,21,21,21,22,22,21,22,21,22,22,22,21,21,22,22,22,21,21,22,21,21,21,21,22,22,22,21,21,21,22,21,25,26,24,25,26,26,26,26,26,26,26,26,25,26,24,26,26,24,24,25,25,25,26,26,26,26,25,25,26,26,26,24,24,25,26,26,25,26,25,25,24,26,24,26,26,24,25,26,22,22,21,22,22,21,22,21,22,22,21,22,21,21,21,22,21,21,21,21,21,21,21,22,22,22,21,22,22,22,21,22,22,22,22,22,21,22,22,21,21,21,21,22,22,21,22,22,22,21,22,21,22,21,21,21,22,22,21,22,21,21,21,22,21,21,22,22,21,21,22,21,22,21,21,22,22,21,22,22,22,21,22,21,21,22,21,21,21,21,22,22,21,22,21,22,21,22,22,22,21,22,22,21,21,22,21,21,21,21,22,24,24,22,24,24,24,24,21,23,23,23,24,22,24,22,23,22,23,23,20,24,24,20,24,20,23,23,22,22,23,22,20,21,23,21,20,21,24,21,21,22,20,21,20,23,22,21,21,24,23,22,20,24,21,23,23,23,22,24,22,22,23,20,22,20,23,21,24,21,21,23,20,21,22,24,23,23,22,24,22,24,20,20,24,24,21,23,20,20,23,24,20,23,24,23,21,23,24,22,23,22,24,20,22,21,20,21,22,24,21,23,21,20,24,22,22,23,23,23,20,24,22,20,23,21,24,21,22,24,20,24,22,23,22,21,21,21,20,21,22,24,20,21,21,21,21,23,23,22,21,24,24,22,20,20,21,22,21,22,24,22,21,20,22,21,22,23,20,24,22,22,22,24,23,22,20,23,23,24,23,24,22,22,21,21,20,22,22,23,22,21,21,20,24,23,21,21,20,21,23,21,22,20,24,24,22,22,23,22,24,20,24,21,23,23,21,22,21,22,22,23,23,21,21,20,21,23,20,21,20,24,20,23,20,20,24,22,21,22,22,24,22,23,23,23,24,24,22,24,24,21,24,24,21,24,20,24,21,22,23,23,23,22,24,22,24,21,22,22,24,22,21,20,22,21,23,20,20,21,22,21,23,21,21,20,21,24,21,22,22,21,23,24,22,21,23,20,23,23,21,22,24,21,21,20,24,20,20,24,22,20,22,21,21,22,22,22,22,21,24,24,20,23,21,21,23,22,23,23,20,20,22,22,21,20,20,21,19,21,19,19,22,20,22,21,22,21,20,21,22,19,22,22,21,22,21,19,21,21,19,21,19,21,20,20,22,22,20,22,22,22,20,20,20,20,19,21,19,22,19,19,21,19,22,20,22,21,20,19,20,21,22,19,21,20,21,20,21,20,21,22,19,19,21,21,19,22,20,22,21,19,20,22,20,19,21,19,21,19,19,22,19,19,19,20,21,20,22,19,20,22,21,20,20,21,21,19,19,19,22,22,22,22,19,20,21,22,20,20,20,21,20,20,19,19,22,19,22,20,21,20,22,19,22,19,19,21,21,21,19,21,20,20,20,21,22,21,21,20,21,22,21,19,19,19,21,22,20,19,20,19,19,21,22,22,21,20,19,20,21,20,22,21,19,20,19,21,19,19,19,20,19,19,21,21,19,19,19,20,22,22,21,22,19,22,21,19,21,20,20,22,20,19,22,22,19,19,22,21,19,21,22,19,22,22,19,20,21,19,21,20,19,20,20,20,22,20,21,20,21,21,19,22,22,21,20,21,21,22,19,19,21,21,22,21,21,22,21,20,22,19,20,20,21,22,20,19,21,20,21,20,19,21,19,19,21,19,21,20,19,19,19,19,20,19,19,20,20,21,20,19,22,22,20,20,21,22,22,19,22,21,20,20,22,19,19,20,21,22,21,19,21,21,19,20,19,19,19,19,19,19,20,22,19,22,21,20,21,21,22,20,20,19,22,22,20,21,21,21,21,19,22,21,19,20,20,20,21,19,21,21,20,22,20,19,22,21,22,19,21,21,22,19,20,20,19,22,20,22,21,20,19,19,20,21,22,19,20,20,20,20,20,22,19,20,19,20,20,19,22,19,21,20,21,19,21,19,21,21,21,20,20,22,19,20,22,19,20,19,22,19,21,21,20,20,20,20,20,20,20,21,20,19,19,22,22,21,20,22,22,19,22,19,22,20,20,19,22,21,21,22,20,22,20,20,21,20,19,21,22,21,22,21,22,20,21,20,22,21,21,19,22,19,21,20,19,20,20,22,19,19,19,20,19,22,28,22,22,19,19,21,22,20,19,22,21,20,19,21,19,19,22,22,19,21,20,20,19,21,22,22,21,21,21,22,19,21,21,20,20,19,19,21,22,21,22,22,21,21,20,19,22,21,22,20,21,20,21,21,21,20,21,21,21,21,20,21,20,20,21,20,20,20,21,20,20,20,20,20,20,20,20,21,20,21,21,20,21,20,21,20,20,20,20,21,20,20,21,20,21,21,21,20,20,20,21,20,21,21,20,21,20,21,21,21,20,20,20,21,21,20,20,21,21,20,20,21,21,21,21,21,20,21,21,21,20,20,20,20,20,20,20,21,21,20,20,20,21,21,21,21,21,21,21,21,21,21,21,20,21,20,21,21,21,20,21,21,20,21,21,20,20,21,20,21,21,20,20,20,20,20,21,20,20,21,20,20,20,20,21,20,21,21,20,20,21,21,20,21,20,21,20,20,21,21,20,20,21,21,20,21,20,20,20,20,20,20,20,20,21,20,20,21,20,21,20,21,20,20,21,21,21,20,21,20,20,20,21,21,20,21,20,20,20,20,21,20,20,20,20,20,20,20,20,21,20,21,20,20,21,20,21,20,20,21,21,20,20,20,21,21,21,20,20,20,20,21,21,20,21,21,20,20,20,20,21,20,21,20,20,20,20,20,20,20,20,23,22,22,21,21,23,23,23,21,23,21,23,23,23,21,23,23,21,22,21,21,21,22,21,21,23,23,22,22,23,22,21,23,23,23,23,23,21,21,22,23,22,21,22,21,21,23,21,22,22,21,21,23,23,22,22,23,22,22,22,22,22,23,23,21,23,22,21,21,23,21,22,23,23,23,21,21,21,21,23,22,21,21,23,23,22,23,23,22,21,21,22,21,23,22,23,21,22,21,23,21,23,21,23,22,23,21,21,21,22,23,23,22,21,23,21,21,21,21,23,23,21,23,23,21,21,22,21,23,23,23,21,23,22,21,22,21,23,22,22,22,22,23,23,23,23,23,22,22,23],\"xaxis\":\"x\",\"yaxis\":\"y\",\"type\":\"histogram\"},{\"alignmentgroup\":\"True\",\"hovertemplate\":\"Gender=Male<br>Age=%{x}<extra></extra>\",\"legendgroup\":\"Male\",\"marker\":{\"color\":\"#636efa\",\"opacity\":0.7},\"name\":\"Male\",\"offsetgroup\":\"Male\",\"scalegroup\":\"x\",\"showlegend\":false,\"x\":[22,21,22,22,21,21,21,22,21,22,21,21,22,22,21,22,22,22,21,22,22,22,21,22,21,21,21,21,22,22,22,22,22,22,21,21,22,21,21,22,21,21,21,21,21,21,21,22,21,21,21,22,22,21,22,21,22,22,22,21,22,21,21,22,22,21,21,21,22,21,21,21,21,21,22,21,22,21,22,22,21,22,21,23,23,23,24,23,23,24,24,23,23,24,24,23,24,23,23,23,24,23,23,23,23,23,24,24,24,24,24,23,23,24,23,24,24,24,23,24,23,23,24,24,24,23,24,23,23,24,23,23,24,24,23,24,23,24,22,22,22,21,21,21,21,22,22,21,21,22,22,21,21,22,22,21,22,21,22,21,22,22,21,21,21,21,21,21,21,22,21,21,22,22,21,21,21,22,22,21,21,21,22,21,22,22,21,22,22,21,21,22,22,22,22,21,22,22,21,22,21,21,21,22,22,21,22,22,22,22,21,22,22,21,21,22,21,21,22,21,22,21,22,21,22,21,22,21,21,21,21,21,22,21,21,22,21,22,22,22,22,21,21,22,22,22,21,22,22,21,21,22,22,22,22,21,21,22,22,22,22,22,21,21,21,21,22,21,22,21,21,22,22,21,22,21,22,22,21,21,22,21,22,21,22,22,21,21,21,21,21,21,22,22,21,22,21,22,22,21,22,21,21,22,22,21,21,22,22,22,22,22,21,21,22,21,22,21,21,21,21,22,22,22,21,22,21,21,21,21,21,22,22,21,22,21,21,21,22,21,22,21,21,22,22,22,21,22,22,21,22,22,21,22,21,22,21,21,21,21,21,21,21,22,22,21,21,22,21,21,21,22,21,28,21,22,21,22,21,21,22,21,21,22,22,22,21,22,22,21,22,21,21,21,22,22,21,21,22,22,21,22,21,22,21,21,22,22,22,22,22,21,22,22,21,22,21,22,22,22,21,22,21,22,21,21,21,21,21,22,22,21,21,21,21,22,22,21,21,22,22,22,21,22,21,22,22,22,21,21,21,22,21,22,22,22,22,22,21,21,30,22,21,22,22,22,21,22,21,21,22,22,22,21,21,21,22,22,22,21,22,21,22,21,21,22,22,21,21,21,22,21,21,22,21,21,21,21,22,22,21,22,21,22,21,21,21,21,21,22,21,21,22,21,21,22,21,21,21,21,22,22,21,22,22,22,21,22,22,21,21,21,22,22,22,22,21,22,21,21,22,22,21,21,22,21,22,22,21,22,21,22,22,22,21,22,22,21,22,22,21,22,22,21,21,21,21,22,21,22,22,21,21,21,22,21,22,21,22,21,22,21,21,21,21,25,26,25,25,23,24,25,25,26,25,26,24,25,23,23,24,25,24,24,23,26,26,26,26,26,24,24,23,23,24,26,25,23,23,23,26,24,26,23,23,26,26,24,23,23,24,24,25,25,26,24,25,22,21,22,22,22,22,21,22,22,22,21,21,22,22,21,22,22,21,22,21,22,22,22,22,22,22,22,22,21,21,22,22,21,22,22,22,21,22,21,21,22,21,22,21,22,21,21,22,21,21,21,21,21,21,22,21,21,22,21,22,21,22,22,22,22,21,22,21,22,22,22,21,22,22,21,21,22,21,22,22,21,21,21,22,22,21,22,22,22,22,22,21,22,21,21,21,22,22,22,21,21,22,22,21,22,22,21,22,22,22,22,21,22,22,22,21,21,22,21,21,22,21,21,21,21,21,22,22,21,22,21,21,21,21,21,21,22,22,22,21,22,22,22,22,22,22,22,22,22,22,22,22,22,22,21,21,22,22,22,21,21,21,21,21,22,21,22,22,21,21,22,22,22,21,21,22,21,21,22,21,21,22,22,22,22,21,22,22,22,21,22,22,22,22,22,21,21,21,21,21,22,22,22,22,21,21,22,21,21,22,22,21,22,22,21,21,22,22,22,22,22,21,21,21,22,21,22,21,22,22,21,21,22,21,21,22,22,22,21,22,21,22,22,21,22,22,22,21,22,22,22,21,21,21,22,22,22,21,22,21,21,21,22,21,22,22,22,21,21,22,22,22,22,21,22,22,22,22,22,22,21,21,22,21,21,22,22,21,21,22,21,21,22,21,21,22,21,21,21,21,22,22,22,21,22,22,21,22,22,22,21,22,22,21,22,22,21,22,22,21,21,22,21,22,21,21,22,21,22,21,21,21,22,22,22,21,21,22,21,21,22,21,22,22,21,21,21,21,21,21,21,22,22,21,22,21,22,21,21,22,22,21,21,21,21,21,21,21,21,21,21,22,22,22,22,21,22,22,22,21,22,22,21,22,22,21,21,21,22,22,22,22,21,21,21,21,22,22,21,21,21,22,21,21,22,21,21,22,21,22,22,21,21,21,21,22,22,21,22,21,22,22,22,21,21,22,22,22,21,21,22,21,21,21,21,22,22,22,21,21,21,22,21,25,26,24,25,26,26,26,26,26,26,26,26,25,26,24,26,26,24,24,25,25,25,26,26,26,26,25,25,26,26,26,24,24,25,26,26,25,26,25,25,24,26,24,26,26,24,25,26,22,22,21,22,22,21,22,21,22,22,21,22,21,21,21,22,21,21,21,21,21,21,21,22,22,22,21,22,22,22,21,22,22,22,22,22,21,22,22,21,21,21,21,22,22,21,22,22,22,21,22,21,22,21,21,21,22,22,21,22,21,21,21,22,21,21,22,22,21,21,22,21,22,21,21,22,22,21,22,22,22,21,22,21,21,22,21,21,21,21,22,22,21,22,21,22,21,22,22,22,21,22,22,21,21,22,21,21,21,21,22,24,24,22,24,24,24,24,21,23,23,23,24,22,24,22,23,22,23,23,20,24,24,20,24,20,23,23,22,22,23,22,20,21,23,21,20,21,24,21,21,22,20,21,20,23,22,21,21,24,23,22,20,24,21,23,23,23,22,24,22,22,23,20,22,20,23,21,24,21,21,23,20,21,22,24,23,23,22,24,22,24,20,20,24,24,21,23,20,20,23,24,20,23,24,23,21,23,24,22,23,22,24,20,22,21,20,21,22,24,21,23,21,20,24,22,22,23,23,23,20,24,22,20,23,21,24,21,22,24,20,24,22,23,22,21,21,21,20,21,22,24,20,21,21,21,21,23,23,22,21,24,24,22,20,20,21,22,21,22,24,22,21,20,22,21,22,23,20,24,22,22,22,24,23,22,20,23,23,24,23,24,22,22,21,21,20,22,22,23,22,21,21,20,24,23,21,21,20,21,23,21,22,20,24,24,22,22,23,22,24,20,24,21,23,23,21,22,21,22,22,23,23,21,21,20,21,23,20,21,20,24,20,23,20,20,24,22,21,22,22,24,22,23,23,23,24,24,22,24,24,21,24,24,21,24,20,24,21,22,23,23,23,22,24,22,24,21,22,22,24,22,21,20,22,21,23,20,20,21,22,21,23,21,21,20,21,24,21,22,22,21,23,24,22,21,23,20,23,23,21,22,24,21,21,20,24,20,20,24,22,20,22,21,21,22,22,22,22,21,24,24,20,23,21,21,23,22,23,23,20,20,22,22,21,20,20,21,19,21,19,19,22,20,22,21,22,21,20,21,22,19,22,22,21,22,21,19,21,21,19,21,19,21,20,20,22,22,20,22,22,22,20,20,20,20,19,21,19,22,19,19,21,19,22,20,22,21,20,19,20,21,22,19,21,20,21,20,21,20,21,22,19,19,21,21,19,22,20,22,21,19,20,22,20,19,21,19,21,19,19,22,19,19,19,20,21,20,22,19,20,22,21,20,20,21,21,19,19,19,22,22,22,22,19,20,21,22,20,20,20,21,20,20,19,19,22,19,22,20,21,20,22,19,22,19,19,21,21,21,19,21,20,20,20,21,22,21,21,20,21,22,21,19,19,19,21,22,20,19,20,19,19,21,22,22,21,20,19,20,21,20,22,21,19,20,19,21,19,19,19,20,19,19,21,21,19,19,19,20,22,22,21,22,19,22,21,19,21,20,20,22,20,19,22,22,19,19,22,21,19,21,22,19,22,22,19,20,21,19,21,20,19,20,20,20,22,20,21,20,21,21,19,22,22,21,20,21,21,22,19,19,21,21,22,21,21,22,21,20,22,19,20,20,21,22,20,19,21,20,21,20,19,21,19,19,21,19,21,20,19,19,19,19,20,19,19,20,20,21,20,19,22,22,20,20,21,22,22,19,22,21,20,20,22,19,19,20,21,22,21,19,21,21,19,20,19,19,19,19,19,19,20,22,19,22,21,20,21,21,22,20,20,19,22,22,20,21,21,21,21,19,22,21,19,20,20,20,21,19,21,21,20,22,20,19,22,21,22,19,21,21,22,19,20,20,19,22,20,22,21,20,19,19,20,21,22,19,20,20,20,20,20,22,19,20,19,20,20,19,22,19,21,20,21,19,21,19,21,21,21,20,20,22,19,20,22,19,20,19,22,19,21,21,20,20,20,20,20,20,20,21,20,19,19,22,22,21,20,22,22,19,22,19,22,20,20,19,22,21,21,22,20,22,20,20,21,20,19,21,22,21,22,21,22,20,21,20,22,21,21,19,22,19,21,20,19,20,20,22,19,19,19,20,19,22,28,22,22,19,19,21,22,20,19,22,21,20,19,21,19,19,22,22,19,21,20,20,19,21,22,22,21,21,21,22,19,21,21,20,20,19,19,21,22,21,22,22,21,21,20,19,22,21,22,20,21,20,21,21,21,20,21,21,21,21,20,21,20,20,21,20,20,20,21,20,20,20,20,20,20,20,20,21,20,21,21,20,21,20,21,20,20,20,20,21,20,20,21,20,21,21,21,20,20,20,21,20,21,21,20,21,20,21,21,21,20,20,20,21,21,20,20,21,21,20,20,21,21,21,21,21,20,21,21,21,20,20,20,20,20,20,20,21,21,20,20,20,21,21,21,21,21,21,21,21,21,21,21,20,21,20,21,21,21,20,21,21,20,21,21,20,20,21,20,21,21,20,20,20,20,20,21,20,20,21,20,20,20,20,21,20,21,21,20,20,21,21,20,21,20,21,20,20,21,21,20,20,21,21,20,21,20,20,20,20,20,20,20,20,21,20,20,21,20,21,20,21,20,20,21,21,21,20,21,20,20,20,21,21,20,21,20,20,20,20,21,20,20,20,20,20,20,20,20,21,20,21,20,20,21,20,21,20,20,21,21,20,20,20,21,21,21,20,20,20,20,21,21,20,21,21,20,20,20,20,21,20,21,20,20,20,20,20,20,20,20,23,22,22,21,21,23,23,23,21,23,21,23,23,23,21,23,23,21,22,21,21,21,22,21,21,23,23,22,22,23,22,21,23,23,23,23,23,21,21,22,23,22,21,22,21,21,23,21,22,22,21,21,23,23,22,22,23,22,22,22,22,22,23,23,21,23,22,21,21,23,21,22,23,23,23,21,21,21,21,23,22,21,21,23,23,22,23,23,22,21,21,22,21,23,22,23,21,22,21,23,21,23,21,23,22,23,21,21,21,22,23,23,22,21,23,21,21,21,21,23,23,21,23,23,21,21,22,21,23,23,23,21,23,22,21,22,21,23,22,22,22,22,23,23,23,23,23,22,22,23],\"xaxis\":\"x2\",\"yaxis\":\"y2\",\"type\":\"violin\"},{\"alignmentgroup\":\"True\",\"bingroup\":\"x\",\"hovertemplate\":\"Gender=Female<br>Age=%{x}<br>count=%{y}<extra></extra>\",\"legendgroup\":\"Female\",\"marker\":{\"color\":\"#EF553B\",\"pattern\":{\"shape\":\"\"},\"opacity\":0.7},\"name\":\"Female\",\"offsetgroup\":\"Female\",\"orientation\":\"v\",\"showlegend\":true,\"x\":[21,22,21,22,21,21,22,21,22,21,21,21,21,21,22,22,22,24,23,23,24,23,21,21,22,21,22,21,22,21,22,22,21,21,21,21,21,21,21,21,21,21,22,22,22,21,22,22,21,21,21,22,22,22,22,22,21,22,22,22,22,22,21,21,21,22,22,22,21,21,21,21,21,22,21,22,22,22,21,21,22,22,21,22,21,21,22,22,21,22,22,21,22,22,22,22,22,22,22,22,21,21,22,21,21,22,22,22,22,22,22,22,21,21,22,24,24,26,23,26,24,26,26,22,21,21,22,21,21,21,21,22,22,22,22,21,22,21,22,21,21,21,22,22,21,22,22,22,21,21,21,22,22,21,21,22,22,22,22,21,22,22,22,21,21,22,21,22,21,22,22,21,22,21,22,21,22,22,21,21,21,21,22,22,21,21,22,21,22,22,21,21,22,21,21,21,21,22,22,22,22,21,21,22,22,22,21,22,21,22,22,22,21,22,21,22,22,21,21,21,26,24,26,24,25,25,26,26,26,26,25,25,21,21,21,21,22,21,22,21,22,22,21,22,22,21,22,22,21,21,22,28,21,22,22,22,22,22,22,22,21,24,20,22,22,22,20,21,23,21,20,23,24,23,21,23,24,24,22,21,24,21,20,23,20,21,23,21,21,23,24,23,24,24,23,22,20,24,23,21,23,21,23,23,23,21,22,21,22,20,22,22,21,20,21,22,24,23,20,22,24,21,21,21,20,23,22,23,21,22,21,19,20,21,21,22,22,22,20,22,19,20,22,19,22,20,21,22,22,22,21,20,21,21,20,20,21,21,22,19,20,21,20,22,19,21,21,20,19,21,22,19,21,19,20,22,19,20,22,22,20,20,22,19,19,20,22,21,20,22,21,20,22,22,22,19,29,19,22,22,22,21,19,20,22,20,20,19,21,22,19,22,19,21,22,19,21,21,20,21,20,21,20,21,21,21,20,21,21,21,20,21,21,21,20,20,21,21,20,21,20,20,21,21,21,20,21,20,21,20,21,21,21,21,20,20,21,21,20,20,20,21,21,20,20,21,20,20,21,20,20,21,21,20,20,22,22,23,23,21,21,23,23,21,23,21,22,22,23,23,23],\"xaxis\":\"x\",\"yaxis\":\"y\",\"type\":\"histogram\"},{\"alignmentgroup\":\"True\",\"hovertemplate\":\"Gender=Female<br>Age=%{x}<extra></extra>\",\"legendgroup\":\"Female\",\"marker\":{\"color\":\"#EF553B\",\"opacity\":0.7},\"name\":\"Female\",\"offsetgroup\":\"Female\",\"scalegroup\":\"x\",\"showlegend\":false,\"x\":[21,22,21,22,21,21,22,21,22,21,21,21,21,21,22,22,22,24,23,23,24,23,21,21,22,21,22,21,22,21,22,22,21,21,21,21,21,21,21,21,21,21,22,22,22,21,22,22,21,21,21,22,22,22,22,22,21,22,22,22,22,22,21,21,21,22,22,22,21,21,21,21,21,22,21,22,22,22,21,21,22,22,21,22,21,21,22,22,21,22,22,21,22,22,22,22,22,22,22,22,21,21,22,21,21,22,22,22,22,22,22,22,21,21,22,24,24,26,23,26,24,26,26,22,21,21,22,21,21,21,21,22,22,22,22,21,22,21,22,21,21,21,22,22,21,22,22,22,21,21,21,22,22,21,21,22,22,22,22,21,22,22,22,21,21,22,21,22,21,22,22,21,22,21,22,21,22,22,21,21,21,21,22,22,21,21,22,21,22,22,21,21,22,21,21,21,21,22,22,22,22,21,21,22,22,22,21,22,21,22,22,22,21,22,21,22,22,21,21,21,26,24,26,24,25,25,26,26,26,26,25,25,21,21,21,21,22,21,22,21,22,22,21,22,22,21,22,22,21,21,22,28,21,22,22,22,22,22,22,22,21,24,20,22,22,22,20,21,23,21,20,23,24,23,21,23,24,24,22,21,24,21,20,23,20,21,23,21,21,23,24,23,24,24,23,22,20,24,23,21,23,21,23,23,23,21,22,21,22,20,22,22,21,20,21,22,24,23,20,22,24,21,21,21,20,23,22,23,21,22,21,19,20,21,21,22,22,22,20,22,19,20,22,19,22,20,21,22,22,22,21,20,21,21,20,20,21,21,22,19,20,21,20,22,19,21,21,20,19,21,22,19,21,19,20,22,19,20,22,22,20,20,22,19,19,20,22,21,20,22,21,20,22,22,22,19,29,19,22,22,22,21,19,20,22,20,20,19,21,22,19,22,19,21,22,19,21,21,20,21,20,21,20,21,21,21,20,21,21,21,20,21,21,21,20,20,21,21,20,21,20,20,21,21,21,20,21,20,21,20,21,21,21,21,20,20,21,21,20,20,20,21,21,20,20,21,20,20,21,20,20,21,21,20,20,22,22,23,23,21,21,23,23,21,23,21,22,22,23,23,23],\"xaxis\":\"x2\",\"yaxis\":\"y2\",\"type\":\"violin\"}],                        {\"template\":{\"data\":{\"histogram2dcontour\":[{\"type\":\"histogram2dcontour\",\"colorbar\":{\"outlinewidth\":0,\"ticks\":\"\"},\"colorscale\":[[0.0,\"#0d0887\"],[0.1111111111111111,\"#46039f\"],[0.2222222222222222,\"#7201a8\"],[0.3333333333333333,\"#9c179e\"],[0.4444444444444444,\"#bd3786\"],[0.5555555555555556,\"#d8576b\"],[0.6666666666666666,\"#ed7953\"],[0.7777777777777778,\"#fb9f3a\"],[0.8888888888888888,\"#fdca26\"],[1.0,\"#f0f921\"]]}],\"choropleth\":[{\"type\":\"choropleth\",\"colorbar\":{\"outlinewidth\":0,\"ticks\":\"\"}}],\"histogram2d\":[{\"type\":\"histogram2d\",\"colorbar\":{\"outlinewidth\":0,\"ticks\":\"\"},\"colorscale\":[[0.0,\"#0d0887\"],[0.1111111111111111,\"#46039f\"],[0.2222222222222222,\"#7201a8\"],[0.3333333333333333,\"#9c179e\"],[0.4444444444444444,\"#bd3786\"],[0.5555555555555556,\"#d8576b\"],[0.6666666666666666,\"#ed7953\"],[0.7777777777777778,\"#fb9f3a\"],[0.8888888888888888,\"#fdca26\"],[1.0,\"#f0f921\"]]}],\"heatmap\":[{\"type\":\"heatmap\",\"colorbar\":{\"outlinewidth\":0,\"ticks\":\"\"},\"colorscale\":[[0.0,\"#0d0887\"],[0.1111111111111111,\"#46039f\"],[0.2222222222222222,\"#7201a8\"],[0.3333333333333333,\"#9c179e\"],[0.4444444444444444,\"#bd3786\"],[0.5555555555555556,\"#d8576b\"],[0.6666666666666666,\"#ed7953\"],[0.7777777777777778,\"#fb9f3a\"],[0.8888888888888888,\"#fdca26\"],[1.0,\"#f0f921\"]]}],\"heatmapgl\":[{\"type\":\"heatmapgl\",\"colorbar\":{\"outlinewidth\":0,\"ticks\":\"\"},\"colorscale\":[[0.0,\"#0d0887\"],[0.1111111111111111,\"#46039f\"],[0.2222222222222222,\"#7201a8\"],[0.3333333333333333,\"#9c179e\"],[0.4444444444444444,\"#bd3786\"],[0.5555555555555556,\"#d8576b\"],[0.6666666666666666,\"#ed7953\"],[0.7777777777777778,\"#fb9f3a\"],[0.8888888888888888,\"#fdca26\"],[1.0,\"#f0f921\"]]}],\"contourcarpet\":[{\"type\":\"contourcarpet\",\"colorbar\":{\"outlinewidth\":0,\"ticks\":\"\"}}],\"contour\":[{\"type\":\"contour\",\"colorbar\":{\"outlinewidth\":0,\"ticks\":\"\"},\"colorscale\":[[0.0,\"#0d0887\"],[0.1111111111111111,\"#46039f\"],[0.2222222222222222,\"#7201a8\"],[0.3333333333333333,\"#9c179e\"],[0.4444444444444444,\"#bd3786\"],[0.5555555555555556,\"#d8576b\"],[0.6666666666666666,\"#ed7953\"],[0.7777777777777778,\"#fb9f3a\"],[0.8888888888888888,\"#fdca26\"],[1.0,\"#f0f921\"]]}],\"surface\":[{\"type\":\"surface\",\"colorbar\":{\"outlinewidth\":0,\"ticks\":\"\"},\"colorscale\":[[0.0,\"#0d0887\"],[0.1111111111111111,\"#46039f\"],[0.2222222222222222,\"#7201a8\"],[0.3333333333333333,\"#9c179e\"],[0.4444444444444444,\"#bd3786\"],[0.5555555555555556,\"#d8576b\"],[0.6666666666666666,\"#ed7953\"],[0.7777777777777778,\"#fb9f3a\"],[0.8888888888888888,\"#fdca26\"],[1.0,\"#f0f921\"]]}],\"mesh3d\":[{\"type\":\"mesh3d\",\"colorbar\":{\"outlinewidth\":0,\"ticks\":\"\"}}],\"scatter\":[{\"fillpattern\":{\"fillmode\":\"overlay\",\"size\":10,\"solidity\":0.2},\"type\":\"scatter\"}],\"parcoords\":[{\"type\":\"parcoords\",\"line\":{\"colorbar\":{\"outlinewidth\":0,\"ticks\":\"\"}}}],\"scatterpolargl\":[{\"type\":\"scatterpolargl\",\"marker\":{\"colorbar\":{\"outlinewidth\":0,\"ticks\":\"\"}}}],\"bar\":[{\"error_x\":{\"color\":\"#2a3f5f\"},\"error_y\":{\"color\":\"#2a3f5f\"},\"marker\":{\"line\":{\"color\":\"#E5ECF6\",\"width\":0.5},\"pattern\":{\"fillmode\":\"overlay\",\"size\":10,\"solidity\":0.2}},\"type\":\"bar\"}],\"scattergeo\":[{\"type\":\"scattergeo\",\"marker\":{\"colorbar\":{\"outlinewidth\":0,\"ticks\":\"\"}}}],\"scatterpolar\":[{\"type\":\"scatterpolar\",\"marker\":{\"colorbar\":{\"outlinewidth\":0,\"ticks\":\"\"}}}],\"histogram\":[{\"marker\":{\"pattern\":{\"fillmode\":\"overlay\",\"size\":10,\"solidity\":0.2}},\"type\":\"histogram\"}],\"scattergl\":[{\"type\":\"scattergl\",\"marker\":{\"colorbar\":{\"outlinewidth\":0,\"ticks\":\"\"}}}],\"scatter3d\":[{\"type\":\"scatter3d\",\"line\":{\"colorbar\":{\"outlinewidth\":0,\"ticks\":\"\"}},\"marker\":{\"colorbar\":{\"outlinewidth\":0,\"ticks\":\"\"}}}],\"scattermapbox\":[{\"type\":\"scattermapbox\",\"marker\":{\"colorbar\":{\"outlinewidth\":0,\"ticks\":\"\"}}}],\"scatterternary\":[{\"type\":\"scatterternary\",\"marker\":{\"colorbar\":{\"outlinewidth\":0,\"ticks\":\"\"}}}],\"scattercarpet\":[{\"type\":\"scattercarpet\",\"marker\":{\"colorbar\":{\"outlinewidth\":0,\"ticks\":\"\"}}}],\"carpet\":[{\"aaxis\":{\"endlinecolor\":\"#2a3f5f\",\"gridcolor\":\"white\",\"linecolor\":\"white\",\"minorgridcolor\":\"white\",\"startlinecolor\":\"#2a3f5f\"},\"baxis\":{\"endlinecolor\":\"#2a3f5f\",\"gridcolor\":\"white\",\"linecolor\":\"white\",\"minorgridcolor\":\"white\",\"startlinecolor\":\"#2a3f5f\"},\"type\":\"carpet\"}],\"table\":[{\"cells\":{\"fill\":{\"color\":\"#EBF0F8\"},\"line\":{\"color\":\"white\"}},\"header\":{\"fill\":{\"color\":\"#C8D4E3\"},\"line\":{\"color\":\"white\"}},\"type\":\"table\"}],\"barpolar\":[{\"marker\":{\"line\":{\"color\":\"#E5ECF6\",\"width\":0.5},\"pattern\":{\"fillmode\":\"overlay\",\"size\":10,\"solidity\":0.2}},\"type\":\"barpolar\"}],\"pie\":[{\"automargin\":true,\"type\":\"pie\"}]},\"layout\":{\"autotypenumbers\":\"strict\",\"colorway\":[\"#636efa\",\"#EF553B\",\"#00cc96\",\"#ab63fa\",\"#FFA15A\",\"#19d3f3\",\"#FF6692\",\"#B6E880\",\"#FF97FF\",\"#FECB52\"],\"font\":{\"color\":\"#2a3f5f\"},\"hovermode\":\"closest\",\"hoverlabel\":{\"align\":\"left\"},\"paper_bgcolor\":\"white\",\"plot_bgcolor\":\"#E5ECF6\",\"polar\":{\"bgcolor\":\"#E5ECF6\",\"angularaxis\":{\"gridcolor\":\"white\",\"linecolor\":\"white\",\"ticks\":\"\"},\"radialaxis\":{\"gridcolor\":\"white\",\"linecolor\":\"white\",\"ticks\":\"\"}},\"ternary\":{\"bgcolor\":\"#E5ECF6\",\"aaxis\":{\"gridcolor\":\"white\",\"linecolor\":\"white\",\"ticks\":\"\"},\"baxis\":{\"gridcolor\":\"white\",\"linecolor\":\"white\",\"ticks\":\"\"},\"caxis\":{\"gridcolor\":\"white\",\"linecolor\":\"white\",\"ticks\":\"\"}},\"coloraxis\":{\"colorbar\":{\"outlinewidth\":0,\"ticks\":\"\"}},\"colorscale\":{\"sequential\":[[0.0,\"#0d0887\"],[0.1111111111111111,\"#46039f\"],[0.2222222222222222,\"#7201a8\"],[0.3333333333333333,\"#9c179e\"],[0.4444444444444444,\"#bd3786\"],[0.5555555555555556,\"#d8576b\"],[0.6666666666666666,\"#ed7953\"],[0.7777777777777778,\"#fb9f3a\"],[0.8888888888888888,\"#fdca26\"],[1.0,\"#f0f921\"]],\"sequentialminus\":[[0.0,\"#0d0887\"],[0.1111111111111111,\"#46039f\"],[0.2222222222222222,\"#7201a8\"],[0.3333333333333333,\"#9c179e\"],[0.4444444444444444,\"#bd3786\"],[0.5555555555555556,\"#d8576b\"],[0.6666666666666666,\"#ed7953\"],[0.7777777777777778,\"#fb9f3a\"],[0.8888888888888888,\"#fdca26\"],[1.0,\"#f0f921\"]],\"diverging\":[[0,\"#8e0152\"],[0.1,\"#c51b7d\"],[0.2,\"#de77ae\"],[0.3,\"#f1b6da\"],[0.4,\"#fde0ef\"],[0.5,\"#f7f7f7\"],[0.6,\"#e6f5d0\"],[0.7,\"#b8e186\"],[0.8,\"#7fbc41\"],[0.9,\"#4d9221\"],[1,\"#276419\"]]},\"xaxis\":{\"gridcolor\":\"white\",\"linecolor\":\"white\",\"ticks\":\"\",\"title\":{\"standoff\":15},\"zerolinecolor\":\"white\",\"automargin\":true,\"zerolinewidth\":2},\"yaxis\":{\"gridcolor\":\"white\",\"linecolor\":\"white\",\"ticks\":\"\",\"title\":{\"standoff\":15},\"zerolinecolor\":\"white\",\"automargin\":true,\"zerolinewidth\":2},\"scene\":{\"xaxis\":{\"backgroundcolor\":\"#E5ECF6\",\"gridcolor\":\"white\",\"linecolor\":\"white\",\"showbackground\":true,\"ticks\":\"\",\"zerolinecolor\":\"white\",\"gridwidth\":2},\"yaxis\":{\"backgroundcolor\":\"#E5ECF6\",\"gridcolor\":\"white\",\"linecolor\":\"white\",\"showbackground\":true,\"ticks\":\"\",\"zerolinecolor\":\"white\",\"gridwidth\":2},\"zaxis\":{\"backgroundcolor\":\"#E5ECF6\",\"gridcolor\":\"white\",\"linecolor\":\"white\",\"showbackground\":true,\"ticks\":\"\",\"zerolinecolor\":\"white\",\"gridwidth\":2}},\"shapedefaults\":{\"line\":{\"color\":\"#2a3f5f\"}},\"annotationdefaults\":{\"arrowcolor\":\"#2a3f5f\",\"arrowhead\":0,\"arrowwidth\":1},\"geo\":{\"bgcolor\":\"white\",\"landcolor\":\"#E5ECF6\",\"subunitcolor\":\"white\",\"showland\":true,\"showlakes\":true,\"lakecolor\":\"white\"},\"title\":{\"x\":0.05},\"mapbox\":{\"style\":\"light\"}}},\"xaxis\":{\"anchor\":\"y\",\"domain\":[0.0,1.0],\"title\":{\"text\":\"Age\"}},\"yaxis\":{\"anchor\":\"x\",\"domain\":[0.0,0.7326],\"title\":{\"text\":\"count\"}},\"xaxis2\":{\"anchor\":\"y2\",\"domain\":[0.0,1.0],\"matches\":\"x\",\"showticklabels\":false,\"showgrid\":true},\"yaxis2\":{\"anchor\":\"x2\",\"domain\":[0.7426,1.0],\"matches\":\"y2\",\"showticklabels\":false,\"showline\":false,\"ticks\":\"\",\"showgrid\":false},\"legend\":{\"title\":{\"text\":\"Gender\"},\"tracegroupgap\":0},\"title\":{\"text\":\"<b>Average Age Gender wise</b>\"},\"barmode\":\"relative\",\"shapes\":[{\"line\":{\"color\":\"black\",\"dash\":\"dash\",\"width\":2},\"type\":\"line\",\"x0\":21.48583951449764,\"x1\":21.48583951449764,\"xref\":\"x\",\"y0\":0,\"y1\":1,\"yref\":\"y domain\"},{\"line\":{\"color\":\"black\",\"dash\":\"dash\",\"width\":2},\"type\":\"line\",\"x0\":21.48583951449764,\"x1\":21.48583951449764,\"xref\":\"x2\",\"y0\":0,\"y1\":1,\"yref\":\"y2 domain\"}]},                        {\"responsive\": true}                    ).then(function(){\n",
       "                            \n",
       "var gd = document.getElementById('98a4155b-fefb-417a-b70d-251ff86801a9');\n",
       "var x = new MutationObserver(function (mutations, observer) {{\n",
       "        var display = window.getComputedStyle(gd).display;\n",
       "        if (!display || display === 'none') {{\n",
       "            console.log([gd, 'removed!']);\n",
       "            Plotly.purge(gd);\n",
       "            observer.disconnect();\n",
       "        }}\n",
       "}});\n",
       "\n",
       "// Listen for the removal of the full notebook cells\n",
       "var notebookContainer = gd.closest('#notebook-container');\n",
       "if (notebookContainer) {{\n",
       "    x.observe(notebookContainer, {childList: true});\n",
       "}}\n",
       "\n",
       "// Listen for the clearing of the current output cell\n",
       "var outputEl = gd.closest('.output');\n",
       "if (outputEl) {{\n",
       "    x.observe(outputEl, {childList: true});\n",
       "}}\n",
       "\n",
       "                        })                };                });            </script>        </div>"
      ]
     },
     "metadata": {},
     "output_type": "display_data"
    }
   ],
   "source": [
    "fig = px.histogram(data, 'Age',             \n",
    "                   color = \"Gender\",\n",
    "                   marginal = 'violin',\n",
    "                   title = \"<b>Average Age Gender wise</b>\")\n",
    "\n",
    "fig.update_traces(marker = {\"opacity\": 0.7})\n",
    "\n",
    "fig.add_vline(x = data['Age'].mean(),\n",
    "              line_width = 2,\n",
    "              line_dash = \"dash\",\n",
    "              line_color = \"black\")\n",
    "\n",
    "fig.show()"
   ]
  },
  {
   "cell_type": "code",
   "execution_count": 9,
   "id": "451ae1bf",
   "metadata": {
    "execution": {
     "iopub.execute_input": "2022-09-24T10:46:06.215015Z",
     "iopub.status.busy": "2022-09-24T10:46:06.214303Z",
     "iopub.status.idle": "2022-09-24T10:46:06.225850Z",
     "shell.execute_reply": "2022-09-24T10:46:06.224660Z"
    },
    "papermill": {
     "duration": 0.030417,
     "end_time": "2022-09-24T10:46:06.228070",
     "exception": false,
     "start_time": "2022-09-24T10:46:06.197653",
     "status": "completed"
    },
    "tags": []
   },
   "outputs": [
    {
     "data": {
      "text/html": [
       "<div>\n",
       "<style scoped>\n",
       "    .dataframe tbody tr th:only-of-type {\n",
       "        vertical-align: middle;\n",
       "    }\n",
       "\n",
       "    .dataframe tbody tr th {\n",
       "        vertical-align: top;\n",
       "    }\n",
       "\n",
       "    .dataframe thead th {\n",
       "        text-align: right;\n",
       "    }\n",
       "</style>\n",
       "<table border=\"1\" class=\"dataframe\">\n",
       "  <thead>\n",
       "    <tr style=\"text-align: right;\">\n",
       "      <th></th>\n",
       "      <th>Counts</th>\n",
       "    </tr>\n",
       "    <tr>\n",
       "      <th>Gender</th>\n",
       "      <th></th>\n",
       "    </tr>\n",
       "  </thead>\n",
       "  <tbody>\n",
       "    <tr>\n",
       "      <th>Male</th>\n",
       "      <td>2475</td>\n",
       "    </tr>\n",
       "    <tr>\n",
       "      <th>Female</th>\n",
       "      <td>491</td>\n",
       "    </tr>\n",
       "  </tbody>\n",
       "</table>\n",
       "</div>"
      ],
      "text/plain": [
       "        Counts\n",
       "Gender        \n",
       "Male      2475\n",
       "Female     491"
      ]
     },
     "execution_count": 9,
     "metadata": {},
     "output_type": "execute_result"
    }
   ],
   "source": [
    "pd.DataFrame(data['Gender'].value_counts()).rename({\"Gender\":\"Counts\"}, axis = 1).rename_axis(\"Gender\")"
   ]
  },
  {
   "cell_type": "code",
   "execution_count": 10,
   "id": "f4474a98",
   "metadata": {
    "execution": {
     "iopub.execute_input": "2022-09-24T10:46:06.262210Z",
     "iopub.status.busy": "2022-09-24T10:46:06.261839Z",
     "iopub.status.idle": "2022-09-24T10:46:06.336623Z",
     "shell.execute_reply": "2022-09-24T10:46:06.335626Z"
    },
    "papermill": {
     "duration": 0.094434,
     "end_time": "2022-09-24T10:46:06.338900",
     "exception": false,
     "start_time": "2022-09-24T10:46:06.244466",
     "status": "completed"
    },
    "tags": []
   },
   "outputs": [
    {
     "data": {
      "text/html": [
       "<div>                            <div id=\"4125b778-debc-4d2e-bc1f-51926c189ac2\" class=\"plotly-graph-div\" style=\"height:525px; width:100%;\"></div>            <script type=\"text/javascript\">                require([\"plotly\"], function(Plotly) {                    window.PLOTLYENV=window.PLOTLYENV || {};                                    if (document.getElementById(\"4125b778-debc-4d2e-bc1f-51926c189ac2\")) {                    Plotly.newPlot(                        \"4125b778-debc-4d2e-bc1f-51926c189ac2\",                        [{\"alignmentgroup\":\"True\",\"bingroup\":\"x\",\"hovertemplate\":\"Gender=%{x}<br>count=%{y}<extra></extra>\",\"legendgroup\":\"Male\",\"marker\":{\"color\":\"#636efa\",\"pattern\":{\"shape\":\"\"}},\"name\":\"Male\",\"offsetgroup\":\"Male\",\"orientation\":\"v\",\"showlegend\":true,\"x\":[\"Male\",\"Male\",\"Male\",\"Male\",\"Male\",\"Male\",\"Male\",\"Male\",\"Male\",\"Male\",\"Male\",\"Male\",\"Male\",\"Male\",\"Male\",\"Male\",\"Male\",\"Male\",\"Male\",\"Male\",\"Male\",\"Male\",\"Male\",\"Male\",\"Male\",\"Male\",\"Male\",\"Male\",\"Male\",\"Male\",\"Male\",\"Male\",\"Male\",\"Male\",\"Male\",\"Male\",\"Male\",\"Male\",\"Male\",\"Male\",\"Male\",\"Male\",\"Male\",\"Male\",\"Male\",\"Male\",\"Male\",\"Male\",\"Male\",\"Male\",\"Male\",\"Male\",\"Male\",\"Male\",\"Male\",\"Male\",\"Male\",\"Male\",\"Male\",\"Male\",\"Male\",\"Male\",\"Male\",\"Male\",\"Male\",\"Male\",\"Male\",\"Male\",\"Male\",\"Male\",\"Male\",\"Male\",\"Male\",\"Male\",\"Male\",\"Male\",\"Male\",\"Male\",\"Male\",\"Male\",\"Male\",\"Male\",\"Male\",\"Male\",\"Male\",\"Male\",\"Male\",\"Male\",\"Male\",\"Male\",\"Male\",\"Male\",\"Male\",\"Male\",\"Male\",\"Male\",\"Male\",\"Male\",\"Male\",\"Male\",\"Male\",\"Male\",\"Male\",\"Male\",\"Male\",\"Male\",\"Male\",\"Male\",\"Male\",\"Male\",\"Male\",\"Male\",\"Male\",\"Male\",\"Male\",\"Male\",\"Male\",\"Male\",\"Male\",\"Male\",\"Male\",\"Male\",\"Male\",\"Male\",\"Male\",\"Male\",\"Male\",\"Male\",\"Male\",\"Male\",\"Male\",\"Male\",\"Male\",\"Male\",\"Male\",\"Male\",\"Male\",\"Male\",\"Male\",\"Male\",\"Male\",\"Male\",\"Male\",\"Male\",\"Male\",\"Male\",\"Male\",\"Male\",\"Male\",\"Male\",\"Male\",\"Male\",\"Male\",\"Male\",\"Male\",\"Male\",\"Male\",\"Male\",\"Male\",\"Male\",\"Male\",\"Male\",\"Male\",\"Male\",\"Male\",\"Male\",\"Male\",\"Male\",\"Male\",\"Male\",\"Male\",\"Male\",\"Male\",\"Male\",\"Male\",\"Male\",\"Male\",\"Male\",\"Male\",\"Male\",\"Male\",\"Male\",\"Male\",\"Male\",\"Male\",\"Male\",\"Male\",\"Male\",\"Male\",\"Male\",\"Male\",\"Male\",\"Male\",\"Male\",\"Male\",\"Male\",\"Male\",\"Male\",\"Male\",\"Male\",\"Male\",\"Male\",\"Male\",\"Male\",\"Male\",\"Male\",\"Male\",\"Male\",\"Male\",\"Male\",\"Male\",\"Male\",\"Male\",\"Male\",\"Male\",\"Male\",\"Male\",\"Male\",\"Male\",\"Male\",\"Male\",\"Male\",\"Male\",\"Male\",\"Male\",\"Male\",\"Male\",\"Male\",\"Male\",\"Male\",\"Male\",\"Male\",\"Male\",\"Male\",\"Male\",\"Male\",\"Male\",\"Male\",\"Male\",\"Male\",\"Male\",\"Male\",\"Male\",\"Male\",\"Male\",\"Male\",\"Male\",\"Male\",\"Male\",\"Male\",\"Male\",\"Male\",\"Male\",\"Male\",\"Male\",\"Male\",\"Male\",\"Male\",\"Male\",\"Male\",\"Male\",\"Male\",\"Male\",\"Male\",\"Male\",\"Male\",\"Male\",\"Male\",\"Male\",\"Male\",\"Male\",\"Male\",\"Male\",\"Male\",\"Male\",\"Male\",\"Male\",\"Male\",\"Male\",\"Male\",\"Male\",\"Male\",\"Male\",\"Male\",\"Male\",\"Male\",\"Male\",\"Male\",\"Male\",\"Male\",\"Male\",\"Male\",\"Male\",\"Male\",\"Male\",\"Male\",\"Male\",\"Male\",\"Male\",\"Male\",\"Male\",\"Male\",\"Male\",\"Male\",\"Male\",\"Male\",\"Male\",\"Male\",\"Male\",\"Male\",\"Male\",\"Male\",\"Male\",\"Male\",\"Male\",\"Male\",\"Male\",\"Male\",\"Male\",\"Male\",\"Male\",\"Male\",\"Male\",\"Male\",\"Male\",\"Male\",\"Male\",\"Male\",\"Male\",\"Male\",\"Male\",\"Male\",\"Male\",\"Male\",\"Male\",\"Male\",\"Male\",\"Male\",\"Male\",\"Male\",\"Male\",\"Male\",\"Male\",\"Male\",\"Male\",\"Male\",\"Male\",\"Male\",\"Male\",\"Male\",\"Male\",\"Male\",\"Male\",\"Male\",\"Male\",\"Male\",\"Male\",\"Male\",\"Male\",\"Male\",\"Male\",\"Male\",\"Male\",\"Male\",\"Male\",\"Male\",\"Male\",\"Male\",\"Male\",\"Male\",\"Male\",\"Male\",\"Male\",\"Male\",\"Male\",\"Male\",\"Male\",\"Male\",\"Male\",\"Male\",\"Male\",\"Male\",\"Male\",\"Male\",\"Male\",\"Male\",\"Male\",\"Male\",\"Male\",\"Male\",\"Male\",\"Male\",\"Male\",\"Male\",\"Male\",\"Male\",\"Male\",\"Male\",\"Male\",\"Male\",\"Male\",\"Male\",\"Male\",\"Male\",\"Male\",\"Male\",\"Male\",\"Male\",\"Male\",\"Male\",\"Male\",\"Male\",\"Male\",\"Male\",\"Male\",\"Male\",\"Male\",\"Male\",\"Male\",\"Male\",\"Male\",\"Male\",\"Male\",\"Male\",\"Male\",\"Male\",\"Male\",\"Male\",\"Male\",\"Male\",\"Male\",\"Male\",\"Male\",\"Male\",\"Male\",\"Male\",\"Male\",\"Male\",\"Male\",\"Male\",\"Male\",\"Male\",\"Male\",\"Male\",\"Male\",\"Male\",\"Male\",\"Male\",\"Male\",\"Male\",\"Male\",\"Male\",\"Male\",\"Male\",\"Male\",\"Male\",\"Male\",\"Male\",\"Male\",\"Male\",\"Male\",\"Male\",\"Male\",\"Male\",\"Male\",\"Male\",\"Male\",\"Male\",\"Male\",\"Male\",\"Male\",\"Male\",\"Male\",\"Male\",\"Male\",\"Male\",\"Male\",\"Male\",\"Male\",\"Male\",\"Male\",\"Male\",\"Male\",\"Male\",\"Male\",\"Male\",\"Male\",\"Male\",\"Male\",\"Male\",\"Male\",\"Male\",\"Male\",\"Male\",\"Male\",\"Male\",\"Male\",\"Male\",\"Male\",\"Male\",\"Male\",\"Male\",\"Male\",\"Male\",\"Male\",\"Male\",\"Male\",\"Male\",\"Male\",\"Male\",\"Male\",\"Male\",\"Male\",\"Male\",\"Male\",\"Male\",\"Male\",\"Male\",\"Male\",\"Male\",\"Male\",\"Male\",\"Male\",\"Male\",\"Male\",\"Male\",\"Male\",\"Male\",\"Male\",\"Male\",\"Male\",\"Male\",\"Male\",\"Male\",\"Male\",\"Male\",\"Male\",\"Male\",\"Male\",\"Male\",\"Male\",\"Male\",\"Male\",\"Male\",\"Male\",\"Male\",\"Male\",\"Male\",\"Male\",\"Male\",\"Male\",\"Male\",\"Male\",\"Male\",\"Male\",\"Male\",\"Male\",\"Male\",\"Male\",\"Male\",\"Male\",\"Male\",\"Male\",\"Male\",\"Male\",\"Male\",\"Male\",\"Male\",\"Male\",\"Male\",\"Male\",\"Male\",\"Male\",\"Male\",\"Male\",\"Male\",\"Male\",\"Male\",\"Male\",\"Male\",\"Male\",\"Male\",\"Male\",\"Male\",\"Male\",\"Male\",\"Male\",\"Male\",\"Male\",\"Male\",\"Male\",\"Male\",\"Male\",\"Male\",\"Male\",\"Male\",\"Male\",\"Male\",\"Male\",\"Male\",\"Male\",\"Male\",\"Male\",\"Male\",\"Male\",\"Male\",\"Male\",\"Male\",\"Male\",\"Male\",\"Male\",\"Male\",\"Male\",\"Male\",\"Male\",\"Male\",\"Male\",\"Male\",\"Male\",\"Male\",\"Male\",\"Male\",\"Male\",\"Male\",\"Male\",\"Male\",\"Male\",\"Male\",\"Male\",\"Male\",\"Male\",\"Male\",\"Male\",\"Male\",\"Male\",\"Male\",\"Male\",\"Male\",\"Male\",\"Male\",\"Male\",\"Male\",\"Male\",\"Male\",\"Male\",\"Male\",\"Male\",\"Male\",\"Male\",\"Male\",\"Male\",\"Male\",\"Male\",\"Male\",\"Male\",\"Male\",\"Male\",\"Male\",\"Male\",\"Male\",\"Male\",\"Male\",\"Male\",\"Male\",\"Male\",\"Male\",\"Male\",\"Male\",\"Male\",\"Male\",\"Male\",\"Male\",\"Male\",\"Male\",\"Male\",\"Male\",\"Male\",\"Male\",\"Male\",\"Male\",\"Male\",\"Male\",\"Male\",\"Male\",\"Male\",\"Male\",\"Male\",\"Male\",\"Male\",\"Male\",\"Male\",\"Male\",\"Male\",\"Male\",\"Male\",\"Male\",\"Male\",\"Male\",\"Male\",\"Male\",\"Male\",\"Male\",\"Male\",\"Male\",\"Male\",\"Male\",\"Male\",\"Male\",\"Male\",\"Male\",\"Male\",\"Male\",\"Male\",\"Male\",\"Male\",\"Male\",\"Male\",\"Male\",\"Male\",\"Male\",\"Male\",\"Male\",\"Male\",\"Male\",\"Male\",\"Male\",\"Male\",\"Male\",\"Male\",\"Male\",\"Male\",\"Male\",\"Male\",\"Male\",\"Male\",\"Male\",\"Male\",\"Male\",\"Male\",\"Male\",\"Male\",\"Male\",\"Male\",\"Male\",\"Male\",\"Male\",\"Male\",\"Male\",\"Male\",\"Male\",\"Male\",\"Male\",\"Male\",\"Male\",\"Male\",\"Male\",\"Male\",\"Male\",\"Male\",\"Male\",\"Male\",\"Male\",\"Male\",\"Male\",\"Male\",\"Male\",\"Male\",\"Male\",\"Male\",\"Male\",\"Male\",\"Male\",\"Male\",\"Male\",\"Male\",\"Male\",\"Male\",\"Male\",\"Male\",\"Male\",\"Male\",\"Male\",\"Male\",\"Male\",\"Male\",\"Male\",\"Male\",\"Male\",\"Male\",\"Male\",\"Male\",\"Male\",\"Male\",\"Male\",\"Male\",\"Male\",\"Male\",\"Male\",\"Male\",\"Male\",\"Male\",\"Male\",\"Male\",\"Male\",\"Male\",\"Male\",\"Male\",\"Male\",\"Male\",\"Male\",\"Male\",\"Male\",\"Male\",\"Male\",\"Male\",\"Male\",\"Male\",\"Male\",\"Male\",\"Male\",\"Male\",\"Male\",\"Male\",\"Male\",\"Male\",\"Male\",\"Male\",\"Male\",\"Male\",\"Male\",\"Male\",\"Male\",\"Male\",\"Male\",\"Male\",\"Male\",\"Male\",\"Male\",\"Male\",\"Male\",\"Male\",\"Male\",\"Male\",\"Male\",\"Male\",\"Male\",\"Male\",\"Male\",\"Male\",\"Male\",\"Male\",\"Male\",\"Male\",\"Male\",\"Male\",\"Male\",\"Male\",\"Male\",\"Male\",\"Male\",\"Male\",\"Male\",\"Male\",\"Male\",\"Male\",\"Male\",\"Male\",\"Male\",\"Male\",\"Male\",\"Male\",\"Male\",\"Male\",\"Male\",\"Male\",\"Male\",\"Male\",\"Male\",\"Male\",\"Male\",\"Male\",\"Male\",\"Male\",\"Male\",\"Male\",\"Male\",\"Male\",\"Male\",\"Male\",\"Male\",\"Male\",\"Male\",\"Male\",\"Male\",\"Male\",\"Male\",\"Male\",\"Male\",\"Male\",\"Male\",\"Male\",\"Male\",\"Male\",\"Male\",\"Male\",\"Male\",\"Male\",\"Male\",\"Male\",\"Male\",\"Male\",\"Male\",\"Male\",\"Male\",\"Male\",\"Male\",\"Male\",\"Male\",\"Male\",\"Male\",\"Male\",\"Male\",\"Male\",\"Male\",\"Male\",\"Male\",\"Male\",\"Male\",\"Male\",\"Male\",\"Male\",\"Male\",\"Male\",\"Male\",\"Male\",\"Male\",\"Male\",\"Male\",\"Male\",\"Male\",\"Male\",\"Male\",\"Male\",\"Male\",\"Male\",\"Male\",\"Male\",\"Male\",\"Male\",\"Male\",\"Male\",\"Male\",\"Male\",\"Male\",\"Male\",\"Male\",\"Male\",\"Male\",\"Male\",\"Male\",\"Male\",\"Male\",\"Male\",\"Male\",\"Male\",\"Male\",\"Male\",\"Male\",\"Male\",\"Male\",\"Male\",\"Male\",\"Male\",\"Male\",\"Male\",\"Male\",\"Male\",\"Male\",\"Male\",\"Male\",\"Male\",\"Male\",\"Male\",\"Male\",\"Male\",\"Male\",\"Male\",\"Male\",\"Male\",\"Male\",\"Male\",\"Male\",\"Male\",\"Male\",\"Male\",\"Male\",\"Male\",\"Male\",\"Male\",\"Male\",\"Male\",\"Male\",\"Male\",\"Male\",\"Male\",\"Male\",\"Male\",\"Male\",\"Male\",\"Male\",\"Male\",\"Male\",\"Male\",\"Male\",\"Male\",\"Male\",\"Male\",\"Male\",\"Male\",\"Male\",\"Male\",\"Male\",\"Male\",\"Male\",\"Male\",\"Male\",\"Male\",\"Male\",\"Male\",\"Male\",\"Male\",\"Male\",\"Male\",\"Male\",\"Male\",\"Male\",\"Male\",\"Male\",\"Male\",\"Male\",\"Male\",\"Male\",\"Male\",\"Male\",\"Male\",\"Male\",\"Male\",\"Male\",\"Male\",\"Male\",\"Male\",\"Male\",\"Male\",\"Male\",\"Male\",\"Male\",\"Male\",\"Male\",\"Male\",\"Male\",\"Male\",\"Male\",\"Male\",\"Male\",\"Male\",\"Male\",\"Male\",\"Male\",\"Male\",\"Male\",\"Male\",\"Male\",\"Male\",\"Male\",\"Male\",\"Male\",\"Male\",\"Male\",\"Male\",\"Male\",\"Male\",\"Male\",\"Male\",\"Male\",\"Male\",\"Male\",\"Male\",\"Male\",\"Male\",\"Male\",\"Male\",\"Male\",\"Male\",\"Male\",\"Male\",\"Male\",\"Male\",\"Male\",\"Male\",\"Male\",\"Male\",\"Male\",\"Male\",\"Male\",\"Male\",\"Male\",\"Male\",\"Male\",\"Male\",\"Male\",\"Male\",\"Male\",\"Male\",\"Male\",\"Male\",\"Male\",\"Male\",\"Male\",\"Male\",\"Male\",\"Male\",\"Male\",\"Male\",\"Male\",\"Male\",\"Male\",\"Male\",\"Male\",\"Male\",\"Male\",\"Male\",\"Male\",\"Male\",\"Male\",\"Male\",\"Male\",\"Male\",\"Male\",\"Male\",\"Male\",\"Male\",\"Male\",\"Male\",\"Male\",\"Male\",\"Male\",\"Male\",\"Male\",\"Male\",\"Male\",\"Male\",\"Male\",\"Male\",\"Male\",\"Male\",\"Male\",\"Male\",\"Male\",\"Male\",\"Male\",\"Male\",\"Male\",\"Male\",\"Male\",\"Male\",\"Male\",\"Male\",\"Male\",\"Male\",\"Male\",\"Male\",\"Male\",\"Male\",\"Male\",\"Male\",\"Male\",\"Male\",\"Male\",\"Male\",\"Male\",\"Male\",\"Male\",\"Male\",\"Male\",\"Male\",\"Male\",\"Male\",\"Male\",\"Male\",\"Male\",\"Male\",\"Male\",\"Male\",\"Male\",\"Male\",\"Male\",\"Male\",\"Male\",\"Male\",\"Male\",\"Male\",\"Male\",\"Male\",\"Male\",\"Male\",\"Male\",\"Male\",\"Male\",\"Male\",\"Male\",\"Male\",\"Male\",\"Male\",\"Male\",\"Male\",\"Male\",\"Male\",\"Male\",\"Male\",\"Male\",\"Male\",\"Male\",\"Male\",\"Male\",\"Male\",\"Male\",\"Male\",\"Male\",\"Male\",\"Male\",\"Male\",\"Male\",\"Male\",\"Male\",\"Male\",\"Male\",\"Male\",\"Male\",\"Male\",\"Male\",\"Male\",\"Male\",\"Male\",\"Male\",\"Male\",\"Male\",\"Male\",\"Male\",\"Male\",\"Male\",\"Male\",\"Male\",\"Male\",\"Male\",\"Male\",\"Male\",\"Male\",\"Male\",\"Male\",\"Male\",\"Male\",\"Male\",\"Male\",\"Male\",\"Male\",\"Male\",\"Male\",\"Male\",\"Male\",\"Male\",\"Male\",\"Male\",\"Male\",\"Male\",\"Male\",\"Male\",\"Male\",\"Male\",\"Male\",\"Male\",\"Male\",\"Male\",\"Male\",\"Male\",\"Male\",\"Male\",\"Male\",\"Male\",\"Male\",\"Male\",\"Male\",\"Male\",\"Male\",\"Male\",\"Male\",\"Male\",\"Male\",\"Male\",\"Male\",\"Male\",\"Male\",\"Male\",\"Male\",\"Male\",\"Male\",\"Male\",\"Male\",\"Male\",\"Male\",\"Male\",\"Male\",\"Male\",\"Male\",\"Male\",\"Male\",\"Male\",\"Male\",\"Male\",\"Male\",\"Male\",\"Male\",\"Male\",\"Male\",\"Male\",\"Male\",\"Male\",\"Male\",\"Male\",\"Male\",\"Male\",\"Male\",\"Male\",\"Male\",\"Male\",\"Male\",\"Male\",\"Male\",\"Male\",\"Male\",\"Male\",\"Male\",\"Male\",\"Male\",\"Male\",\"Male\",\"Male\",\"Male\",\"Male\",\"Male\",\"Male\",\"Male\",\"Male\",\"Male\",\"Male\",\"Male\",\"Male\",\"Male\",\"Male\",\"Male\",\"Male\",\"Male\",\"Male\",\"Male\",\"Male\",\"Male\",\"Male\",\"Male\",\"Male\",\"Male\",\"Male\",\"Male\",\"Male\",\"Male\",\"Male\",\"Male\",\"Male\",\"Male\",\"Male\",\"Male\",\"Male\",\"Male\",\"Male\",\"Male\",\"Male\",\"Male\",\"Male\",\"Male\",\"Male\",\"Male\",\"Male\",\"Male\",\"Male\",\"Male\",\"Male\",\"Male\",\"Male\",\"Male\",\"Male\",\"Male\",\"Male\",\"Male\",\"Male\",\"Male\",\"Male\",\"Male\",\"Male\",\"Male\",\"Male\",\"Male\",\"Male\",\"Male\",\"Male\",\"Male\",\"Male\",\"Male\",\"Male\",\"Male\",\"Male\",\"Male\",\"Male\",\"Male\",\"Male\",\"Male\",\"Male\",\"Male\",\"Male\",\"Male\",\"Male\",\"Male\",\"Male\",\"Male\",\"Male\",\"Male\",\"Male\",\"Male\",\"Male\",\"Male\",\"Male\",\"Male\",\"Male\",\"Male\",\"Male\",\"Male\",\"Male\",\"Male\",\"Male\",\"Male\",\"Male\",\"Male\",\"Male\",\"Male\",\"Male\",\"Male\",\"Male\",\"Male\",\"Male\",\"Male\",\"Male\",\"Male\",\"Male\",\"Male\",\"Male\",\"Male\",\"Male\",\"Male\",\"Male\",\"Male\",\"Male\",\"Male\",\"Male\",\"Male\",\"Male\",\"Male\",\"Male\",\"Male\",\"Male\",\"Male\",\"Male\",\"Male\",\"Male\",\"Male\",\"Male\",\"Male\",\"Male\",\"Male\",\"Male\",\"Male\",\"Male\",\"Male\",\"Male\",\"Male\",\"Male\",\"Male\",\"Male\",\"Male\",\"Male\",\"Male\",\"Male\",\"Male\",\"Male\",\"Male\",\"Male\",\"Male\",\"Male\",\"Male\",\"Male\",\"Male\",\"Male\",\"Male\",\"Male\",\"Male\",\"Male\",\"Male\",\"Male\",\"Male\",\"Male\",\"Male\",\"Male\",\"Male\",\"Male\",\"Male\",\"Male\",\"Male\",\"Male\",\"Male\",\"Male\",\"Male\",\"Male\",\"Male\",\"Male\",\"Male\",\"Male\",\"Male\",\"Male\",\"Male\",\"Male\",\"Male\",\"Male\",\"Male\",\"Male\",\"Male\",\"Male\",\"Male\",\"Male\",\"Male\",\"Male\",\"Male\",\"Male\",\"Male\",\"Male\",\"Male\",\"Male\",\"Male\",\"Male\",\"Male\",\"Male\",\"Male\",\"Male\",\"Male\",\"Male\",\"Male\",\"Male\",\"Male\",\"Male\",\"Male\",\"Male\",\"Male\",\"Male\",\"Male\",\"Male\",\"Male\",\"Male\",\"Male\",\"Male\",\"Male\",\"Male\",\"Male\",\"Male\",\"Male\",\"Male\",\"Male\",\"Male\",\"Male\",\"Male\",\"Male\",\"Male\",\"Male\",\"Male\",\"Male\",\"Male\",\"Male\",\"Male\",\"Male\",\"Male\",\"Male\",\"Male\",\"Male\",\"Male\",\"Male\",\"Male\",\"Male\",\"Male\",\"Male\",\"Male\",\"Male\",\"Male\",\"Male\",\"Male\",\"Male\",\"Male\",\"Male\",\"Male\",\"Male\",\"Male\",\"Male\",\"Male\",\"Male\",\"Male\",\"Male\",\"Male\",\"Male\",\"Male\",\"Male\",\"Male\",\"Male\",\"Male\",\"Male\",\"Male\",\"Male\",\"Male\",\"Male\",\"Male\",\"Male\",\"Male\",\"Male\",\"Male\",\"Male\",\"Male\",\"Male\",\"Male\",\"Male\",\"Male\",\"Male\",\"Male\",\"Male\",\"Male\",\"Male\",\"Male\",\"Male\",\"Male\",\"Male\",\"Male\",\"Male\",\"Male\",\"Male\",\"Male\",\"Male\",\"Male\",\"Male\",\"Male\",\"Male\",\"Male\",\"Male\",\"Male\",\"Male\",\"Male\",\"Male\",\"Male\",\"Male\",\"Male\",\"Male\",\"Male\",\"Male\",\"Male\",\"Male\",\"Male\",\"Male\",\"Male\",\"Male\",\"Male\",\"Male\",\"Male\",\"Male\",\"Male\",\"Male\",\"Male\",\"Male\",\"Male\",\"Male\",\"Male\",\"Male\",\"Male\",\"Male\",\"Male\",\"Male\",\"Male\",\"Male\",\"Male\",\"Male\",\"Male\",\"Male\",\"Male\",\"Male\",\"Male\",\"Male\",\"Male\",\"Male\",\"Male\",\"Male\",\"Male\",\"Male\",\"Male\",\"Male\",\"Male\",\"Male\",\"Male\",\"Male\",\"Male\",\"Male\",\"Male\",\"Male\",\"Male\",\"Male\",\"Male\",\"Male\",\"Male\",\"Male\",\"Male\",\"Male\",\"Male\",\"Male\",\"Male\",\"Male\",\"Male\",\"Male\",\"Male\",\"Male\",\"Male\",\"Male\",\"Male\",\"Male\",\"Male\",\"Male\",\"Male\",\"Male\",\"Male\",\"Male\",\"Male\",\"Male\",\"Male\",\"Male\",\"Male\",\"Male\",\"Male\",\"Male\",\"Male\",\"Male\",\"Male\",\"Male\",\"Male\",\"Male\",\"Male\",\"Male\",\"Male\",\"Male\",\"Male\",\"Male\",\"Male\",\"Male\",\"Male\",\"Male\",\"Male\",\"Male\",\"Male\",\"Male\",\"Male\",\"Male\",\"Male\",\"Male\",\"Male\",\"Male\",\"Male\",\"Male\",\"Male\",\"Male\",\"Male\",\"Male\",\"Male\",\"Male\",\"Male\",\"Male\",\"Male\",\"Male\",\"Male\",\"Male\",\"Male\",\"Male\",\"Male\",\"Male\",\"Male\",\"Male\",\"Male\",\"Male\",\"Male\",\"Male\",\"Male\",\"Male\",\"Male\",\"Male\",\"Male\",\"Male\",\"Male\",\"Male\",\"Male\",\"Male\",\"Male\",\"Male\",\"Male\",\"Male\",\"Male\",\"Male\",\"Male\",\"Male\",\"Male\",\"Male\",\"Male\",\"Male\",\"Male\",\"Male\",\"Male\",\"Male\",\"Male\",\"Male\",\"Male\",\"Male\",\"Male\",\"Male\",\"Male\",\"Male\",\"Male\",\"Male\",\"Male\",\"Male\",\"Male\",\"Male\",\"Male\",\"Male\",\"Male\",\"Male\",\"Male\",\"Male\",\"Male\",\"Male\",\"Male\",\"Male\",\"Male\",\"Male\",\"Male\",\"Male\",\"Male\",\"Male\",\"Male\",\"Male\",\"Male\",\"Male\",\"Male\",\"Male\",\"Male\",\"Male\",\"Male\",\"Male\",\"Male\",\"Male\",\"Male\",\"Male\",\"Male\",\"Male\",\"Male\",\"Male\",\"Male\",\"Male\",\"Male\",\"Male\",\"Male\",\"Male\",\"Male\",\"Male\",\"Male\",\"Male\",\"Male\",\"Male\",\"Male\",\"Male\",\"Male\",\"Male\",\"Male\",\"Male\",\"Male\",\"Male\",\"Male\",\"Male\",\"Male\",\"Male\",\"Male\",\"Male\",\"Male\",\"Male\",\"Male\",\"Male\",\"Male\",\"Male\",\"Male\",\"Male\",\"Male\",\"Male\",\"Male\",\"Male\",\"Male\",\"Male\",\"Male\",\"Male\",\"Male\",\"Male\",\"Male\",\"Male\",\"Male\",\"Male\",\"Male\",\"Male\",\"Male\",\"Male\",\"Male\",\"Male\",\"Male\",\"Male\",\"Male\",\"Male\",\"Male\",\"Male\",\"Male\",\"Male\",\"Male\",\"Male\",\"Male\",\"Male\",\"Male\",\"Male\",\"Male\",\"Male\",\"Male\",\"Male\",\"Male\",\"Male\",\"Male\",\"Male\",\"Male\",\"Male\",\"Male\",\"Male\",\"Male\",\"Male\",\"Male\",\"Male\",\"Male\",\"Male\",\"Male\",\"Male\",\"Male\",\"Male\",\"Male\",\"Male\",\"Male\",\"Male\",\"Male\",\"Male\",\"Male\",\"Male\",\"Male\",\"Male\",\"Male\",\"Male\",\"Male\",\"Male\",\"Male\",\"Male\",\"Male\",\"Male\",\"Male\",\"Male\",\"Male\",\"Male\",\"Male\",\"Male\",\"Male\",\"Male\",\"Male\",\"Male\",\"Male\",\"Male\",\"Male\",\"Male\",\"Male\",\"Male\",\"Male\",\"Male\",\"Male\",\"Male\",\"Male\",\"Male\",\"Male\",\"Male\",\"Male\",\"Male\",\"Male\",\"Male\",\"Male\",\"Male\",\"Male\",\"Male\",\"Male\",\"Male\",\"Male\",\"Male\",\"Male\",\"Male\",\"Male\",\"Male\",\"Male\",\"Male\",\"Male\",\"Male\",\"Male\",\"Male\",\"Male\",\"Male\",\"Male\",\"Male\",\"Male\",\"Male\",\"Male\",\"Male\",\"Male\",\"Male\",\"Male\",\"Male\",\"Male\",\"Male\",\"Male\",\"Male\",\"Male\",\"Male\",\"Male\",\"Male\",\"Male\",\"Male\",\"Male\",\"Male\",\"Male\",\"Male\",\"Male\",\"Male\",\"Male\",\"Male\",\"Male\",\"Male\",\"Male\",\"Male\",\"Male\",\"Male\",\"Male\",\"Male\",\"Male\",\"Male\",\"Male\",\"Male\",\"Male\",\"Male\",\"Male\",\"Male\",\"Male\",\"Male\",\"Male\",\"Male\",\"Male\",\"Male\",\"Male\",\"Male\",\"Male\",\"Male\",\"Male\",\"Male\",\"Male\",\"Male\",\"Male\",\"Male\",\"Male\",\"Male\",\"Male\",\"Male\",\"Male\",\"Male\",\"Male\",\"Male\",\"Male\",\"Male\",\"Male\",\"Male\",\"Male\",\"Male\",\"Male\",\"Male\",\"Male\",\"Male\",\"Male\",\"Male\",\"Male\",\"Male\",\"Male\",\"Male\",\"Male\",\"Male\",\"Male\",\"Male\",\"Male\",\"Male\",\"Male\",\"Male\",\"Male\",\"Male\",\"Male\",\"Male\",\"Male\",\"Male\",\"Male\",\"Male\",\"Male\",\"Male\",\"Male\",\"Male\",\"Male\",\"Male\",\"Male\",\"Male\",\"Male\",\"Male\",\"Male\",\"Male\",\"Male\",\"Male\",\"Male\",\"Male\",\"Male\",\"Male\",\"Male\",\"Male\",\"Male\",\"Male\",\"Male\",\"Male\",\"Male\",\"Male\",\"Male\",\"Male\",\"Male\",\"Male\",\"Male\",\"Male\",\"Male\",\"Male\",\"Male\",\"Male\",\"Male\",\"Male\",\"Male\",\"Male\",\"Male\",\"Male\",\"Male\",\"Male\",\"Male\",\"Male\",\"Male\",\"Male\",\"Male\",\"Male\",\"Male\",\"Male\",\"Male\",\"Male\",\"Male\",\"Male\",\"Male\",\"Male\",\"Male\",\"Male\",\"Male\",\"Male\",\"Male\",\"Male\",\"Male\",\"Male\",\"Male\",\"Male\",\"Male\",\"Male\",\"Male\",\"Male\",\"Male\",\"Male\",\"Male\",\"Male\",\"Male\",\"Male\",\"Male\",\"Male\",\"Male\",\"Male\",\"Male\",\"Male\",\"Male\",\"Male\",\"Male\",\"Male\",\"Male\",\"Male\",\"Male\",\"Male\",\"Male\",\"Male\",\"Male\",\"Male\",\"Male\",\"Male\",\"Male\",\"Male\",\"Male\",\"Male\",\"Male\",\"Male\",\"Male\",\"Male\",\"Male\",\"Male\",\"Male\",\"Male\",\"Male\",\"Male\",\"Male\",\"Male\",\"Male\",\"Male\",\"Male\",\"Male\",\"Male\",\"Male\",\"Male\",\"Male\",\"Male\",\"Male\",\"Male\",\"Male\",\"Male\",\"Male\",\"Male\",\"Male\",\"Male\",\"Male\",\"Male\",\"Male\",\"Male\",\"Male\",\"Male\",\"Male\",\"Male\",\"Male\",\"Male\",\"Male\",\"Male\",\"Male\",\"Male\",\"Male\",\"Male\",\"Male\",\"Male\",\"Male\",\"Male\",\"Male\",\"Male\",\"Male\",\"Male\",\"Male\",\"Male\",\"Male\",\"Male\",\"Male\",\"Male\",\"Male\",\"Male\",\"Male\",\"Male\",\"Male\",\"Male\",\"Male\",\"Male\",\"Male\",\"Male\",\"Male\",\"Male\",\"Male\",\"Male\",\"Male\",\"Male\",\"Male\",\"Male\",\"Male\",\"Male\",\"Male\",\"Male\",\"Male\",\"Male\",\"Male\",\"Male\",\"Male\",\"Male\",\"Male\",\"Male\",\"Male\",\"Male\",\"Male\",\"Male\",\"Male\",\"Male\",\"Male\",\"Male\",\"Male\",\"Male\",\"Male\",\"Male\",\"Male\",\"Male\",\"Male\",\"Male\",\"Male\",\"Male\",\"Male\",\"Male\",\"Male\",\"Male\",\"Male\",\"Male\",\"Male\",\"Male\",\"Male\",\"Male\",\"Male\",\"Male\",\"Male\",\"Male\",\"Male\",\"Male\",\"Male\",\"Male\",\"Male\",\"Male\",\"Male\",\"Male\",\"Male\",\"Male\",\"Male\",\"Male\",\"Male\",\"Male\",\"Male\",\"Male\",\"Male\",\"Male\",\"Male\",\"Male\",\"Male\",\"Male\",\"Male\",\"Male\",\"Male\",\"Male\",\"Male\",\"Male\",\"Male\",\"Male\",\"Male\",\"Male\",\"Male\",\"Male\",\"Male\",\"Male\",\"Male\",\"Male\",\"Male\",\"Male\",\"Male\",\"Male\",\"Male\",\"Male\",\"Male\",\"Male\",\"Male\",\"Male\",\"Male\",\"Male\",\"Male\",\"Male\",\"Male\",\"Male\",\"Male\",\"Male\",\"Male\",\"Male\",\"Male\",\"Male\",\"Male\",\"Male\",\"Male\",\"Male\",\"Male\",\"Male\",\"Male\",\"Male\",\"Male\",\"Male\",\"Male\",\"Male\",\"Male\",\"Male\",\"Male\",\"Male\",\"Male\",\"Male\",\"Male\",\"Male\",\"Male\",\"Male\",\"Male\",\"Male\",\"Male\",\"Male\",\"Male\",\"Male\",\"Male\",\"Male\",\"Male\",\"Male\",\"Male\",\"Male\",\"Male\",\"Male\",\"Male\",\"Male\",\"Male\",\"Male\",\"Male\",\"Male\",\"Male\",\"Male\",\"Male\",\"Male\",\"Male\",\"Male\",\"Male\",\"Male\",\"Male\",\"Male\",\"Male\",\"Male\",\"Male\",\"Male\",\"Male\"],\"xaxis\":\"x\",\"yaxis\":\"y\",\"type\":\"histogram\"},{\"alignmentgroup\":\"True\",\"bingroup\":\"x\",\"hovertemplate\":\"Gender=%{x}<br>count=%{y}<extra></extra>\",\"legendgroup\":\"Female\",\"marker\":{\"color\":\"#EF553B\",\"pattern\":{\"shape\":\"\"}},\"name\":\"Female\",\"offsetgroup\":\"Female\",\"orientation\":\"v\",\"showlegend\":true,\"x\":[\"Female\",\"Female\",\"Female\",\"Female\",\"Female\",\"Female\",\"Female\",\"Female\",\"Female\",\"Female\",\"Female\",\"Female\",\"Female\",\"Female\",\"Female\",\"Female\",\"Female\",\"Female\",\"Female\",\"Female\",\"Female\",\"Female\",\"Female\",\"Female\",\"Female\",\"Female\",\"Female\",\"Female\",\"Female\",\"Female\",\"Female\",\"Female\",\"Female\",\"Female\",\"Female\",\"Female\",\"Female\",\"Female\",\"Female\",\"Female\",\"Female\",\"Female\",\"Female\",\"Female\",\"Female\",\"Female\",\"Female\",\"Female\",\"Female\",\"Female\",\"Female\",\"Female\",\"Female\",\"Female\",\"Female\",\"Female\",\"Female\",\"Female\",\"Female\",\"Female\",\"Female\",\"Female\",\"Female\",\"Female\",\"Female\",\"Female\",\"Female\",\"Female\",\"Female\",\"Female\",\"Female\",\"Female\",\"Female\",\"Female\",\"Female\",\"Female\",\"Female\",\"Female\",\"Female\",\"Female\",\"Female\",\"Female\",\"Female\",\"Female\",\"Female\",\"Female\",\"Female\",\"Female\",\"Female\",\"Female\",\"Female\",\"Female\",\"Female\",\"Female\",\"Female\",\"Female\",\"Female\",\"Female\",\"Female\",\"Female\",\"Female\",\"Female\",\"Female\",\"Female\",\"Female\",\"Female\",\"Female\",\"Female\",\"Female\",\"Female\",\"Female\",\"Female\",\"Female\",\"Female\",\"Female\",\"Female\",\"Female\",\"Female\",\"Female\",\"Female\",\"Female\",\"Female\",\"Female\",\"Female\",\"Female\",\"Female\",\"Female\",\"Female\",\"Female\",\"Female\",\"Female\",\"Female\",\"Female\",\"Female\",\"Female\",\"Female\",\"Female\",\"Female\",\"Female\",\"Female\",\"Female\",\"Female\",\"Female\",\"Female\",\"Female\",\"Female\",\"Female\",\"Female\",\"Female\",\"Female\",\"Female\",\"Female\",\"Female\",\"Female\",\"Female\",\"Female\",\"Female\",\"Female\",\"Female\",\"Female\",\"Female\",\"Female\",\"Female\",\"Female\",\"Female\",\"Female\",\"Female\",\"Female\",\"Female\",\"Female\",\"Female\",\"Female\",\"Female\",\"Female\",\"Female\",\"Female\",\"Female\",\"Female\",\"Female\",\"Female\",\"Female\",\"Female\",\"Female\",\"Female\",\"Female\",\"Female\",\"Female\",\"Female\",\"Female\",\"Female\",\"Female\",\"Female\",\"Female\",\"Female\",\"Female\",\"Female\",\"Female\",\"Female\",\"Female\",\"Female\",\"Female\",\"Female\",\"Female\",\"Female\",\"Female\",\"Female\",\"Female\",\"Female\",\"Female\",\"Female\",\"Female\",\"Female\",\"Female\",\"Female\",\"Female\",\"Female\",\"Female\",\"Female\",\"Female\",\"Female\",\"Female\",\"Female\",\"Female\",\"Female\",\"Female\",\"Female\",\"Female\",\"Female\",\"Female\",\"Female\",\"Female\",\"Female\",\"Female\",\"Female\",\"Female\",\"Female\",\"Female\",\"Female\",\"Female\",\"Female\",\"Female\",\"Female\",\"Female\",\"Female\",\"Female\",\"Female\",\"Female\",\"Female\",\"Female\",\"Female\",\"Female\",\"Female\",\"Female\",\"Female\",\"Female\",\"Female\",\"Female\",\"Female\",\"Female\",\"Female\",\"Female\",\"Female\",\"Female\",\"Female\",\"Female\",\"Female\",\"Female\",\"Female\",\"Female\",\"Female\",\"Female\",\"Female\",\"Female\",\"Female\",\"Female\",\"Female\",\"Female\",\"Female\",\"Female\",\"Female\",\"Female\",\"Female\",\"Female\",\"Female\",\"Female\",\"Female\",\"Female\",\"Female\",\"Female\",\"Female\",\"Female\",\"Female\",\"Female\",\"Female\",\"Female\",\"Female\",\"Female\",\"Female\",\"Female\",\"Female\",\"Female\",\"Female\",\"Female\",\"Female\",\"Female\",\"Female\",\"Female\",\"Female\",\"Female\",\"Female\",\"Female\",\"Female\",\"Female\",\"Female\",\"Female\",\"Female\",\"Female\",\"Female\",\"Female\",\"Female\",\"Female\",\"Female\",\"Female\",\"Female\",\"Female\",\"Female\",\"Female\",\"Female\",\"Female\",\"Female\",\"Female\",\"Female\",\"Female\",\"Female\",\"Female\",\"Female\",\"Female\",\"Female\",\"Female\",\"Female\",\"Female\",\"Female\",\"Female\",\"Female\",\"Female\",\"Female\",\"Female\",\"Female\",\"Female\",\"Female\",\"Female\",\"Female\",\"Female\",\"Female\",\"Female\",\"Female\",\"Female\",\"Female\",\"Female\",\"Female\",\"Female\",\"Female\",\"Female\",\"Female\",\"Female\",\"Female\",\"Female\",\"Female\",\"Female\",\"Female\",\"Female\",\"Female\",\"Female\",\"Female\",\"Female\",\"Female\",\"Female\",\"Female\",\"Female\",\"Female\",\"Female\",\"Female\",\"Female\",\"Female\",\"Female\",\"Female\",\"Female\",\"Female\",\"Female\",\"Female\",\"Female\",\"Female\",\"Female\",\"Female\",\"Female\",\"Female\",\"Female\",\"Female\",\"Female\",\"Female\",\"Female\",\"Female\",\"Female\",\"Female\",\"Female\",\"Female\",\"Female\",\"Female\",\"Female\",\"Female\",\"Female\",\"Female\",\"Female\",\"Female\",\"Female\",\"Female\",\"Female\",\"Female\",\"Female\",\"Female\",\"Female\",\"Female\",\"Female\",\"Female\",\"Female\",\"Female\",\"Female\",\"Female\",\"Female\",\"Female\",\"Female\",\"Female\",\"Female\",\"Female\",\"Female\",\"Female\",\"Female\",\"Female\",\"Female\",\"Female\",\"Female\",\"Female\",\"Female\",\"Female\",\"Female\",\"Female\",\"Female\",\"Female\",\"Female\",\"Female\",\"Female\",\"Female\",\"Female\",\"Female\",\"Female\",\"Female\",\"Female\",\"Female\",\"Female\",\"Female\",\"Female\",\"Female\",\"Female\",\"Female\",\"Female\",\"Female\",\"Female\",\"Female\",\"Female\",\"Female\",\"Female\",\"Female\",\"Female\",\"Female\",\"Female\",\"Female\",\"Female\",\"Female\",\"Female\",\"Female\",\"Female\",\"Female\",\"Female\",\"Female\",\"Female\",\"Female\",\"Female\",\"Female\",\"Female\",\"Female\",\"Female\"],\"xaxis\":\"x\",\"yaxis\":\"y\",\"type\":\"histogram\"}],                        {\"template\":{\"data\":{\"histogram2dcontour\":[{\"type\":\"histogram2dcontour\",\"colorbar\":{\"outlinewidth\":0,\"ticks\":\"\"},\"colorscale\":[[0.0,\"#0d0887\"],[0.1111111111111111,\"#46039f\"],[0.2222222222222222,\"#7201a8\"],[0.3333333333333333,\"#9c179e\"],[0.4444444444444444,\"#bd3786\"],[0.5555555555555556,\"#d8576b\"],[0.6666666666666666,\"#ed7953\"],[0.7777777777777778,\"#fb9f3a\"],[0.8888888888888888,\"#fdca26\"],[1.0,\"#f0f921\"]]}],\"choropleth\":[{\"type\":\"choropleth\",\"colorbar\":{\"outlinewidth\":0,\"ticks\":\"\"}}],\"histogram2d\":[{\"type\":\"histogram2d\",\"colorbar\":{\"outlinewidth\":0,\"ticks\":\"\"},\"colorscale\":[[0.0,\"#0d0887\"],[0.1111111111111111,\"#46039f\"],[0.2222222222222222,\"#7201a8\"],[0.3333333333333333,\"#9c179e\"],[0.4444444444444444,\"#bd3786\"],[0.5555555555555556,\"#d8576b\"],[0.6666666666666666,\"#ed7953\"],[0.7777777777777778,\"#fb9f3a\"],[0.8888888888888888,\"#fdca26\"],[1.0,\"#f0f921\"]]}],\"heatmap\":[{\"type\":\"heatmap\",\"colorbar\":{\"outlinewidth\":0,\"ticks\":\"\"},\"colorscale\":[[0.0,\"#0d0887\"],[0.1111111111111111,\"#46039f\"],[0.2222222222222222,\"#7201a8\"],[0.3333333333333333,\"#9c179e\"],[0.4444444444444444,\"#bd3786\"],[0.5555555555555556,\"#d8576b\"],[0.6666666666666666,\"#ed7953\"],[0.7777777777777778,\"#fb9f3a\"],[0.8888888888888888,\"#fdca26\"],[1.0,\"#f0f921\"]]}],\"heatmapgl\":[{\"type\":\"heatmapgl\",\"colorbar\":{\"outlinewidth\":0,\"ticks\":\"\"},\"colorscale\":[[0.0,\"#0d0887\"],[0.1111111111111111,\"#46039f\"],[0.2222222222222222,\"#7201a8\"],[0.3333333333333333,\"#9c179e\"],[0.4444444444444444,\"#bd3786\"],[0.5555555555555556,\"#d8576b\"],[0.6666666666666666,\"#ed7953\"],[0.7777777777777778,\"#fb9f3a\"],[0.8888888888888888,\"#fdca26\"],[1.0,\"#f0f921\"]]}],\"contourcarpet\":[{\"type\":\"contourcarpet\",\"colorbar\":{\"outlinewidth\":0,\"ticks\":\"\"}}],\"contour\":[{\"type\":\"contour\",\"colorbar\":{\"outlinewidth\":0,\"ticks\":\"\"},\"colorscale\":[[0.0,\"#0d0887\"],[0.1111111111111111,\"#46039f\"],[0.2222222222222222,\"#7201a8\"],[0.3333333333333333,\"#9c179e\"],[0.4444444444444444,\"#bd3786\"],[0.5555555555555556,\"#d8576b\"],[0.6666666666666666,\"#ed7953\"],[0.7777777777777778,\"#fb9f3a\"],[0.8888888888888888,\"#fdca26\"],[1.0,\"#f0f921\"]]}],\"surface\":[{\"type\":\"surface\",\"colorbar\":{\"outlinewidth\":0,\"ticks\":\"\"},\"colorscale\":[[0.0,\"#0d0887\"],[0.1111111111111111,\"#46039f\"],[0.2222222222222222,\"#7201a8\"],[0.3333333333333333,\"#9c179e\"],[0.4444444444444444,\"#bd3786\"],[0.5555555555555556,\"#d8576b\"],[0.6666666666666666,\"#ed7953\"],[0.7777777777777778,\"#fb9f3a\"],[0.8888888888888888,\"#fdca26\"],[1.0,\"#f0f921\"]]}],\"mesh3d\":[{\"type\":\"mesh3d\",\"colorbar\":{\"outlinewidth\":0,\"ticks\":\"\"}}],\"scatter\":[{\"fillpattern\":{\"fillmode\":\"overlay\",\"size\":10,\"solidity\":0.2},\"type\":\"scatter\"}],\"parcoords\":[{\"type\":\"parcoords\",\"line\":{\"colorbar\":{\"outlinewidth\":0,\"ticks\":\"\"}}}],\"scatterpolargl\":[{\"type\":\"scatterpolargl\",\"marker\":{\"colorbar\":{\"outlinewidth\":0,\"ticks\":\"\"}}}],\"bar\":[{\"error_x\":{\"color\":\"#2a3f5f\"},\"error_y\":{\"color\":\"#2a3f5f\"},\"marker\":{\"line\":{\"color\":\"#E5ECF6\",\"width\":0.5},\"pattern\":{\"fillmode\":\"overlay\",\"size\":10,\"solidity\":0.2}},\"type\":\"bar\"}],\"scattergeo\":[{\"type\":\"scattergeo\",\"marker\":{\"colorbar\":{\"outlinewidth\":0,\"ticks\":\"\"}}}],\"scatterpolar\":[{\"type\":\"scatterpolar\",\"marker\":{\"colorbar\":{\"outlinewidth\":0,\"ticks\":\"\"}}}],\"histogram\":[{\"marker\":{\"pattern\":{\"fillmode\":\"overlay\",\"size\":10,\"solidity\":0.2}},\"type\":\"histogram\"}],\"scattergl\":[{\"type\":\"scattergl\",\"marker\":{\"colorbar\":{\"outlinewidth\":0,\"ticks\":\"\"}}}],\"scatter3d\":[{\"type\":\"scatter3d\",\"line\":{\"colorbar\":{\"outlinewidth\":0,\"ticks\":\"\"}},\"marker\":{\"colorbar\":{\"outlinewidth\":0,\"ticks\":\"\"}}}],\"scattermapbox\":[{\"type\":\"scattermapbox\",\"marker\":{\"colorbar\":{\"outlinewidth\":0,\"ticks\":\"\"}}}],\"scatterternary\":[{\"type\":\"scatterternary\",\"marker\":{\"colorbar\":{\"outlinewidth\":0,\"ticks\":\"\"}}}],\"scattercarpet\":[{\"type\":\"scattercarpet\",\"marker\":{\"colorbar\":{\"outlinewidth\":0,\"ticks\":\"\"}}}],\"carpet\":[{\"aaxis\":{\"endlinecolor\":\"#2a3f5f\",\"gridcolor\":\"white\",\"linecolor\":\"white\",\"minorgridcolor\":\"white\",\"startlinecolor\":\"#2a3f5f\"},\"baxis\":{\"endlinecolor\":\"#2a3f5f\",\"gridcolor\":\"white\",\"linecolor\":\"white\",\"minorgridcolor\":\"white\",\"startlinecolor\":\"#2a3f5f\"},\"type\":\"carpet\"}],\"table\":[{\"cells\":{\"fill\":{\"color\":\"#EBF0F8\"},\"line\":{\"color\":\"white\"}},\"header\":{\"fill\":{\"color\":\"#C8D4E3\"},\"line\":{\"color\":\"white\"}},\"type\":\"table\"}],\"barpolar\":[{\"marker\":{\"line\":{\"color\":\"#E5ECF6\",\"width\":0.5},\"pattern\":{\"fillmode\":\"overlay\",\"size\":10,\"solidity\":0.2}},\"type\":\"barpolar\"}],\"pie\":[{\"automargin\":true,\"type\":\"pie\"}]},\"layout\":{\"autotypenumbers\":\"strict\",\"colorway\":[\"#636efa\",\"#EF553B\",\"#00cc96\",\"#ab63fa\",\"#FFA15A\",\"#19d3f3\",\"#FF6692\",\"#B6E880\",\"#FF97FF\",\"#FECB52\"],\"font\":{\"color\":\"#2a3f5f\"},\"hovermode\":\"closest\",\"hoverlabel\":{\"align\":\"left\"},\"paper_bgcolor\":\"white\",\"plot_bgcolor\":\"#E5ECF6\",\"polar\":{\"bgcolor\":\"#E5ECF6\",\"angularaxis\":{\"gridcolor\":\"white\",\"linecolor\":\"white\",\"ticks\":\"\"},\"radialaxis\":{\"gridcolor\":\"white\",\"linecolor\":\"white\",\"ticks\":\"\"}},\"ternary\":{\"bgcolor\":\"#E5ECF6\",\"aaxis\":{\"gridcolor\":\"white\",\"linecolor\":\"white\",\"ticks\":\"\"},\"baxis\":{\"gridcolor\":\"white\",\"linecolor\":\"white\",\"ticks\":\"\"},\"caxis\":{\"gridcolor\":\"white\",\"linecolor\":\"white\",\"ticks\":\"\"}},\"coloraxis\":{\"colorbar\":{\"outlinewidth\":0,\"ticks\":\"\"}},\"colorscale\":{\"sequential\":[[0.0,\"#0d0887\"],[0.1111111111111111,\"#46039f\"],[0.2222222222222222,\"#7201a8\"],[0.3333333333333333,\"#9c179e\"],[0.4444444444444444,\"#bd3786\"],[0.5555555555555556,\"#d8576b\"],[0.6666666666666666,\"#ed7953\"],[0.7777777777777778,\"#fb9f3a\"],[0.8888888888888888,\"#fdca26\"],[1.0,\"#f0f921\"]],\"sequentialminus\":[[0.0,\"#0d0887\"],[0.1111111111111111,\"#46039f\"],[0.2222222222222222,\"#7201a8\"],[0.3333333333333333,\"#9c179e\"],[0.4444444444444444,\"#bd3786\"],[0.5555555555555556,\"#d8576b\"],[0.6666666666666666,\"#ed7953\"],[0.7777777777777778,\"#fb9f3a\"],[0.8888888888888888,\"#fdca26\"],[1.0,\"#f0f921\"]],\"diverging\":[[0,\"#8e0152\"],[0.1,\"#c51b7d\"],[0.2,\"#de77ae\"],[0.3,\"#f1b6da\"],[0.4,\"#fde0ef\"],[0.5,\"#f7f7f7\"],[0.6,\"#e6f5d0\"],[0.7,\"#b8e186\"],[0.8,\"#7fbc41\"],[0.9,\"#4d9221\"],[1,\"#276419\"]]},\"xaxis\":{\"gridcolor\":\"white\",\"linecolor\":\"white\",\"ticks\":\"\",\"title\":{\"standoff\":15},\"zerolinecolor\":\"white\",\"automargin\":true,\"zerolinewidth\":2},\"yaxis\":{\"gridcolor\":\"white\",\"linecolor\":\"white\",\"ticks\":\"\",\"title\":{\"standoff\":15},\"zerolinecolor\":\"white\",\"automargin\":true,\"zerolinewidth\":2},\"scene\":{\"xaxis\":{\"backgroundcolor\":\"#E5ECF6\",\"gridcolor\":\"white\",\"linecolor\":\"white\",\"showbackground\":true,\"ticks\":\"\",\"zerolinecolor\":\"white\",\"gridwidth\":2},\"yaxis\":{\"backgroundcolor\":\"#E5ECF6\",\"gridcolor\":\"white\",\"linecolor\":\"white\",\"showbackground\":true,\"ticks\":\"\",\"zerolinecolor\":\"white\",\"gridwidth\":2},\"zaxis\":{\"backgroundcolor\":\"#E5ECF6\",\"gridcolor\":\"white\",\"linecolor\":\"white\",\"showbackground\":true,\"ticks\":\"\",\"zerolinecolor\":\"white\",\"gridwidth\":2}},\"shapedefaults\":{\"line\":{\"color\":\"#2a3f5f\"}},\"annotationdefaults\":{\"arrowcolor\":\"#2a3f5f\",\"arrowhead\":0,\"arrowwidth\":1},\"geo\":{\"bgcolor\":\"white\",\"landcolor\":\"#E5ECF6\",\"subunitcolor\":\"white\",\"showland\":true,\"showlakes\":true,\"lakecolor\":\"white\"},\"title\":{\"x\":0.05},\"mapbox\":{\"style\":\"light\"}}},\"xaxis\":{\"anchor\":\"y\",\"domain\":[0.0,1.0],\"title\":{\"text\":\"Gender\"},\"categoryorder\":\"array\",\"categoryarray\":[\"Male\",\"Female\"]},\"yaxis\":{\"anchor\":\"x\",\"domain\":[0.0,1.0],\"title\":{\"text\":\"count\"}},\"legend\":{\"title\":{\"text\":\"Gender\"},\"tracegroupgap\":0},\"title\":{\"text\":\"<b>Total Male and Female</b>\"},\"barmode\":\"relative\"},                        {\"responsive\": true}                    ).then(function(){\n",
       "                            \n",
       "var gd = document.getElementById('4125b778-debc-4d2e-bc1f-51926c189ac2');\n",
       "var x = new MutationObserver(function (mutations, observer) {{\n",
       "        var display = window.getComputedStyle(gd).display;\n",
       "        if (!display || display === 'none') {{\n",
       "            console.log([gd, 'removed!']);\n",
       "            Plotly.purge(gd);\n",
       "            observer.disconnect();\n",
       "        }}\n",
       "}});\n",
       "\n",
       "// Listen for the removal of the full notebook cells\n",
       "var notebookContainer = gd.closest('#notebook-container');\n",
       "if (notebookContainer) {{\n",
       "    x.observe(notebookContainer, {childList: true});\n",
       "}}\n",
       "\n",
       "// Listen for the clearing of the current output cell\n",
       "var outputEl = gd.closest('.output');\n",
       "if (outputEl) {{\n",
       "    x.observe(outputEl, {childList: true});\n",
       "}}\n",
       "\n",
       "                        })                };                });            </script>        </div>"
      ]
     },
     "metadata": {},
     "output_type": "display_data"
    }
   ],
   "source": [
    "px.histogram(data, x = \"Gender\", title = \"<b>Total Male and Female</b>\", color = \"Gender\")"
   ]
  },
  {
   "cell_type": "code",
   "execution_count": 11,
   "id": "a7eb7707",
   "metadata": {
    "execution": {
     "iopub.execute_input": "2022-09-24T10:46:06.374065Z",
     "iopub.status.busy": "2022-09-24T10:46:06.373647Z",
     "iopub.status.idle": "2022-09-24T10:46:06.491087Z",
     "shell.execute_reply": "2022-09-24T10:46:06.490031Z"
    },
    "papermill": {
     "duration": 0.138259,
     "end_time": "2022-09-24T10:46:06.493761",
     "exception": false,
     "start_time": "2022-09-24T10:46:06.355502",
     "status": "completed"
    },
    "tags": []
   },
   "outputs": [
    {
     "data": {
      "text/html": [
       "<div>                            <div id=\"ea13db81-9845-4882-afb6-c7c2ab0a12d0\" class=\"plotly-graph-div\" style=\"height:525px; width:100%;\"></div>            <script type=\"text/javascript\">                require([\"plotly\"], function(Plotly) {                    window.PLOTLYENV=window.PLOTLYENV || {};                                    if (document.getElementById(\"ea13db81-9845-4882-afb6-c7c2ab0a12d0\")) {                    Plotly.newPlot(                        \"ea13db81-9845-4882-afb6-c7c2ab0a12d0\",                        [{\"domain\":{\"x\":[0.0,1.0],\"y\":[0.0,1.0]},\"hole\":0.5,\"hovertemplate\":\"Gender=%{label}<extra></extra>\",\"labels\":[\"Male\",\"Female\",\"Female\",\"Male\",\"Male\",\"Male\",\"Male\",\"Male\",\"Male\",\"Female\",\"Male\",\"Female\",\"Female\",\"Male\",\"Female\",\"Male\",\"Female\",\"Male\",\"Male\",\"Male\",\"Male\",\"Male\",\"Male\",\"Male\",\"Male\",\"Male\",\"Male\",\"Male\",\"Male\",\"Male\",\"Male\",\"Male\",\"Female\",\"Male\",\"Male\",\"Male\",\"Male\",\"Male\",\"Male\",\"Male\",\"Male\",\"Male\",\"Male\",\"Male\",\"Female\",\"Female\",\"Male\",\"Male\",\"Male\",\"Female\",\"Male\",\"Male\",\"Female\",\"Male\",\"Female\",\"Male\",\"Male\",\"Male\",\"Male\",\"Female\",\"Male\",\"Male\",\"Male\",\"Male\",\"Male\",\"Male\",\"Male\",\"Male\",\"Male\",\"Male\",\"Male\",\"Male\",\"Male\",\"Male\",\"Male\",\"Male\",\"Male\",\"Male\",\"Male\",\"Male\",\"Male\",\"Male\",\"Male\",\"Male\",\"Male\",\"Male\",\"Male\",\"Male\",\"Female\",\"Male\",\"Male\",\"Male\",\"Male\",\"Female\",\"Male\",\"Male\",\"Male\",\"Male\",\"Female\",\"Male\",\"Male\",\"Male\",\"Male\",\"Male\",\"Male\",\"Male\",\"Female\",\"Male\",\"Male\",\"Male\",\"Male\",\"Male\",\"Male\",\"Male\",\"Male\",\"Male\",\"Male\",\"Male\",\"Male\",\"Male\",\"Female\",\"Male\",\"Male\",\"Male\",\"Male\",\"Male\",\"Male\",\"Male\",\"Male\",\"Male\",\"Male\",\"Male\",\"Female\",\"Male\",\"Male\",\"Male\",\"Male\",\"Male\",\"Male\",\"Male\",\"Male\",\"Male\",\"Male\",\"Male\",\"Male\",\"Male\",\"Male\",\"Male\",\"Male\",\"Male\",\"Male\",\"Female\",\"Male\",\"Female\",\"Male\",\"Male\",\"Male\",\"Male\",\"Male\",\"Male\",\"Male\",\"Male\",\"Male\",\"Male\",\"Male\",\"Male\",\"Male\",\"Female\",\"Male\",\"Male\",\"Male\",\"Female\",\"Male\",\"Male\",\"Male\",\"Male\",\"Male\",\"Female\",\"Male\",\"Female\",\"Female\",\"Male\",\"Male\",\"Male\",\"Male\",\"Male\",\"Female\",\"Male\",\"Female\",\"Female\",\"Male\",\"Male\",\"Male\",\"Male\",\"Male\",\"Female\",\"Male\",\"Male\",\"Female\",\"Male\",\"Male\",\"Male\",\"Female\",\"Male\",\"Female\",\"Male\",\"Male\",\"Male\",\"Female\",\"Male\",\"Male\",\"Male\",\"Male\",\"Male\",\"Male\",\"Female\",\"Male\",\"Male\",\"Male\",\"Male\",\"Male\",\"Male\",\"Male\",\"Male\",\"Male\",\"Male\",\"Female\",\"Male\",\"Female\",\"Male\",\"Male\",\"Male\",\"Female\",\"Male\",\"Male\",\"Male\",\"Male\",\"Female\",\"Female\",\"Female\",\"Female\",\"Female\",\"Male\",\"Male\",\"Male\",\"Male\",\"Male\",\"Male\",\"Female\",\"Male\",\"Male\",\"Female\",\"Male\",\"Male\",\"Male\",\"Female\",\"Male\",\"Male\",\"Male\",\"Male\",\"Female\",\"Male\",\"Male\",\"Male\",\"Male\",\"Male\",\"Female\",\"Male\",\"Male\",\"Male\",\"Male\",\"Male\",\"Male\",\"Male\",\"Male\",\"Male\",\"Male\",\"Female\",\"Male\",\"Male\",\"Female\",\"Female\",\"Male\",\"Male\",\"Male\",\"Male\",\"Male\",\"Male\",\"Male\",\"Male\",\"Male\",\"Male\",\"Female\",\"Male\",\"Male\",\"Male\",\"Male\",\"Male\",\"Male\",\"Male\",\"Male\",\"Male\",\"Male\",\"Male\",\"Male\",\"Male\",\"Male\",\"Male\",\"Female\",\"Male\",\"Male\",\"Male\",\"Female\",\"Male\",\"Male\",\"Male\",\"Female\",\"Male\",\"Female\",\"Male\",\"Male\",\"Male\",\"Male\",\"Male\",\"Male\",\"Male\",\"Male\",\"Male\",\"Male\",\"Male\",\"Male\",\"Female\",\"Male\",\"Male\",\"Male\",\"Male\",\"Male\",\"Male\",\"Female\",\"Male\",\"Male\",\"Male\",\"Male\",\"Female\",\"Male\",\"Male\",\"Male\",\"Male\",\"Male\",\"Female\",\"Female\",\"Male\",\"Male\",\"Male\",\"Male\",\"Male\",\"Male\",\"Male\",\"Male\",\"Male\",\"Male\",\"Male\",\"Male\",\"Male\",\"Male\",\"Male\",\"Male\",\"Male\",\"Female\",\"Male\",\"Male\",\"Female\",\"Male\",\"Male\",\"Male\",\"Male\",\"Male\",\"Female\",\"Male\",\"Male\",\"Male\",\"Male\",\"Male\",\"Male\",\"Female\",\"Male\",\"Male\",\"Male\",\"Female\",\"Female\",\"Male\",\"Male\",\"Male\",\"Male\",\"Male\",\"Male\",\"Male\",\"Male\",\"Female\",\"Male\",\"Male\",\"Male\",\"Male\",\"Female\",\"Female\",\"Male\",\"Male\",\"Male\",\"Male\",\"Male\",\"Male\",\"Male\",\"Male\",\"Male\",\"Male\",\"Male\",\"Male\",\"Male\",\"Male\",\"Male\",\"Male\",\"Male\",\"Male\",\"Male\",\"Male\",\"Male\",\"Male\",\"Male\",\"Female\",\"Male\",\"Female\",\"Female\",\"Male\",\"Male\",\"Male\",\"Male\",\"Male\",\"Female\",\"Male\",\"Male\",\"Male\",\"Male\",\"Male\",\"Male\",\"Male\",\"Male\",\"Male\",\"Male\",\"Male\",\"Male\",\"Male\",\"Male\",\"Male\",\"Male\",\"Male\",\"Female\",\"Male\",\"Male\",\"Male\",\"Male\",\"Male\",\"Male\",\"Male\",\"Male\",\"Male\",\"Male\",\"Male\",\"Male\",\"Female\",\"Male\",\"Male\",\"Male\",\"Male\",\"Male\",\"Male\",\"Male\",\"Female\",\"Male\",\"Male\",\"Male\",\"Male\",\"Female\",\"Female\",\"Male\",\"Male\",\"Female\",\"Male\",\"Male\",\"Male\",\"Male\",\"Male\",\"Male\",\"Male\",\"Male\",\"Male\",\"Male\",\"Male\",\"Male\",\"Male\",\"Male\",\"Male\",\"Male\",\"Male\",\"Male\",\"Male\",\"Male\",\"Female\",\"Male\",\"Male\",\"Male\",\"Male\",\"Male\",\"Female\",\"Male\",\"Male\",\"Female\",\"Male\",\"Female\",\"Female\",\"Male\",\"Male\",\"Male\",\"Male\",\"Male\",\"Male\",\"Male\",\"Male\",\"Male\",\"Male\",\"Male\",\"Male\",\"Male\",\"Male\",\"Male\",\"Female\",\"Male\",\"Male\",\"Male\",\"Male\",\"Male\",\"Male\",\"Male\",\"Male\",\"Male\",\"Male\",\"Male\",\"Female\",\"Female\",\"Female\",\"Male\",\"Male\",\"Male\",\"Male\",\"Female\",\"Male\",\"Male\",\"Male\",\"Female\",\"Male\",\"Male\",\"Male\",\"Male\",\"Male\",\"Male\",\"Male\",\"Male\",\"Male\",\"Male\",\"Male\",\"Male\",\"Male\",\"Male\",\"Male\",\"Male\",\"Female\",\"Male\",\"Male\",\"Male\",\"Male\",\"Male\",\"Male\",\"Male\",\"Male\",\"Male\",\"Male\",\"Female\",\"Male\",\"Male\",\"Male\",\"Male\",\"Male\",\"Male\",\"Male\",\"Male\",\"Male\",\"Male\",\"Male\",\"Female\",\"Male\",\"Male\",\"Male\",\"Female\",\"Male\",\"Male\",\"Male\",\"Female\",\"Male\",\"Male\",\"Male\",\"Male\",\"Male\",\"Male\",\"Male\",\"Male\",\"Male\",\"Male\",\"Male\",\"Male\",\"Male\",\"Male\",\"Female\",\"Male\",\"Male\",\"Female\",\"Female\",\"Male\",\"Male\",\"Male\",\"Male\",\"Male\",\"Female\",\"Male\",\"Male\",\"Male\",\"Male\",\"Male\",\"Male\",\"Male\",\"Male\",\"Female\",\"Male\",\"Female\",\"Male\",\"Male\",\"Female\",\"Male\",\"Male\",\"Female\",\"Female\",\"Male\",\"Male\",\"Male\",\"Male\",\"Male\",\"Male\",\"Male\",\"Female\",\"Female\",\"Male\",\"Male\",\"Male\",\"Male\",\"Male\",\"Male\",\"Male\",\"Male\",\"Male\",\"Male\",\"Female\",\"Male\",\"Male\",\"Male\",\"Male\",\"Female\",\"Male\",\"Male\",\"Male\",\"Male\",\"Female\",\"Female\",\"Female\",\"Male\",\"Male\",\"Female\",\"Male\",\"Male\",\"Male\",\"Male\",\"Male\",\"Male\",\"Male\",\"Male\",\"Male\",\"Male\",\"Male\",\"Female\",\"Male\",\"Male\",\"Male\",\"Male\",\"Male\",\"Male\",\"Female\",\"Male\",\"Female\",\"Male\",\"Male\",\"Male\",\"Male\",\"Male\",\"Female\",\"Male\",\"Male\",\"Male\",\"Male\",\"Male\",\"Male\",\"Male\",\"Male\",\"Male\",\"Male\",\"Male\",\"Male\",\"Male\",\"Female\",\"Male\",\"Male\",\"Male\",\"Male\",\"Male\",\"Male\",\"Male\",\"Female\",\"Male\",\"Male\",\"Male\",\"Male\",\"Male\",\"Female\",\"Male\",\"Male\",\"Male\",\"Male\",\"Male\",\"Male\",\"Male\",\"Male\",\"Male\",\"Male\",\"Male\",\"Female\",\"Male\",\"Male\",\"Male\",\"Male\",\"Male\",\"Male\",\"Male\",\"Female\",\"Male\",\"Male\",\"Male\",\"Male\",\"Male\",\"Female\",\"Male\",\"Female\",\"Male\",\"Female\",\"Male\",\"Male\",\"Female\",\"Male\",\"Male\",\"Male\",\"Female\",\"Male\",\"Male\",\"Male\",\"Male\",\"Female\",\"Male\",\"Female\",\"Male\",\"Male\",\"Male\",\"Male\",\"Female\",\"Female\",\"Male\",\"Male\",\"Male\",\"Male\",\"Male\",\"Male\",\"Female\",\"Male\",\"Female\",\"Male\",\"Male\",\"Female\",\"Male\",\"Male\",\"Female\",\"Male\",\"Male\",\"Male\",\"Male\",\"Male\",\"Male\",\"Male\",\"Male\",\"Male\",\"Female\",\"Male\",\"Male\",\"Male\",\"Male\",\"Female\",\"Male\",\"Female\",\"Male\",\"Male\",\"Male\",\"Male\",\"Male\",\"Male\",\"Female\",\"Male\",\"Female\",\"Male\",\"Male\",\"Male\",\"Male\",\"Male\",\"Female\",\"Male\",\"Male\",\"Female\",\"Male\",\"Male\",\"Male\",\"Male\",\"Male\",\"Male\",\"Male\",\"Male\",\"Male\",\"Male\",\"Male\",\"Male\",\"Female\",\"Male\",\"Male\",\"Male\",\"Male\",\"Male\",\"Male\",\"Male\",\"Male\",\"Male\",\"Male\",\"Male\",\"Male\",\"Female\",\"Male\",\"Male\",\"Male\",\"Female\",\"Male\",\"Female\",\"Male\",\"Male\",\"Male\",\"Male\",\"Male\",\"Male\",\"Male\",\"Male\",\"Male\",\"Male\",\"Female\",\"Male\",\"Male\",\"Male\",\"Male\",\"Male\",\"Male\",\"Male\",\"Male\",\"Male\",\"Male\",\"Female\",\"Male\",\"Male\",\"Male\",\"Male\",\"Male\",\"Female\",\"Male\",\"Male\",\"Female\",\"Male\",\"Male\",\"Male\",\"Male\",\"Male\",\"Male\",\"Male\",\"Male\",\"Male\",\"Male\",\"Male\",\"Male\",\"Female\",\"Male\",\"Female\",\"Male\",\"Male\",\"Male\",\"Male\",\"Male\",\"Male\",\"Male\",\"Male\",\"Male\",\"Female\",\"Male\",\"Female\",\"Male\",\"Male\",\"Male\",\"Male\",\"Male\",\"Male\",\"Male\",\"Male\",\"Female\",\"Male\",\"Male\",\"Male\",\"Male\",\"Male\",\"Male\",\"Male\",\"Male\",\"Male\",\"Male\",\"Male\",\"Male\",\"Female\",\"Male\",\"Male\",\"Male\",\"Male\",\"Male\",\"Male\",\"Male\",\"Male\",\"Male\",\"Male\",\"Male\",\"Male\",\"Male\",\"Male\",\"Male\",\"Male\",\"Female\",\"Male\",\"Male\",\"Male\",\"Male\",\"Male\",\"Male\",\"Male\",\"Male\",\"Female\",\"Female\",\"Male\",\"Male\",\"Male\",\"Male\",\"Male\",\"Male\",\"Male\",\"Male\",\"Male\",\"Female\",\"Female\",\"Male\",\"Male\",\"Male\",\"Male\",\"Male\",\"Male\",\"Male\",\"Female\",\"Male\",\"Male\",\"Male\",\"Male\",\"Male\",\"Female\",\"Male\",\"Male\",\"Male\",\"Male\",\"Male\",\"Male\",\"Male\",\"Male\",\"Male\",\"Male\",\"Male\",\"Male\",\"Male\",\"Male\",\"Male\",\"Male\",\"Male\",\"Female\",\"Male\",\"Male\",\"Male\",\"Male\",\"Female\",\"Female\",\"Female\",\"Male\",\"Male\",\"Male\",\"Male\",\"Male\",\"Female\",\"Male\",\"Male\",\"Male\",\"Male\",\"Female\",\"Female\",\"Male\",\"Male\",\"Male\",\"Male\",\"Male\",\"Male\",\"Male\",\"Male\",\"Male\",\"Male\",\"Male\",\"Male\",\"Female\",\"Male\",\"Male\",\"Female\",\"Male\",\"Male\",\"Female\",\"Male\",\"Female\",\"Male\",\"Female\",\"Male\",\"Male\",\"Male\",\"Female\",\"Male\",\"Male\",\"Female\",\"Male\",\"Male\",\"Male\",\"Male\",\"Male\",\"Male\",\"Female\",\"Male\",\"Male\",\"Male\",\"Female\",\"Male\",\"Male\",\"Male\",\"Male\",\"Male\",\"Male\",\"Male\",\"Male\",\"Male\",\"Male\",\"Female\",\"Male\",\"Male\",\"Male\",\"Male\",\"Male\",\"Male\",\"Female\",\"Female\",\"Female\",\"Male\",\"Male\",\"Male\",\"Male\",\"Male\",\"Male\",\"Male\",\"Female\",\"Male\",\"Male\",\"Male\",\"Male\",\"Female\",\"Male\",\"Male\",\"Male\",\"Male\",\"Male\",\"Male\",\"Male\",\"Male\",\"Female\",\"Male\",\"Male\",\"Female\",\"Female\",\"Male\",\"Male\",\"Male\",\"Female\",\"Female\",\"Female\",\"Male\",\"Female\",\"Male\",\"Male\",\"Male\",\"Male\",\"Male\",\"Male\",\"Male\",\"Male\",\"Female\",\"Male\",\"Male\",\"Male\",\"Male\",\"Male\",\"Male\",\"Female\",\"Male\",\"Male\",\"Male\",\"Female\",\"Male\",\"Female\",\"Male\",\"Male\",\"Male\",\"Male\",\"Male\",\"Male\",\"Male\",\"Female\",\"Female\",\"Male\",\"Male\",\"Male\",\"Male\",\"Male\",\"Male\",\"Male\",\"Male\",\"Female\",\"Male\",\"Female\",\"Male\",\"Male\",\"Male\",\"Male\",\"Male\",\"Male\",\"Male\",\"Male\",\"Male\",\"Male\",\"Female\",\"Male\",\"Male\",\"Male\",\"Male\",\"Female\",\"Male\",\"Male\",\"Female\",\"Male\",\"Male\",\"Male\",\"Female\",\"Male\",\"Male\",\"Male\",\"Male\",\"Male\",\"Female\",\"Male\",\"Male\",\"Male\",\"Male\",\"Male\",\"Male\",\"Male\",\"Male\",\"Male\",\"Male\",\"Male\",\"Male\",\"Female\",\"Male\",\"Male\",\"Male\",\"Male\",\"Male\",\"Male\",\"Male\",\"Male\",\"Male\",\"Male\",\"Male\",\"Male\",\"Male\",\"Male\",\"Female\",\"Male\",\"Female\",\"Female\",\"Male\",\"Male\",\"Male\",\"Male\",\"Male\",\"Male\",\"Male\",\"Male\",\"Female\",\"Male\",\"Female\",\"Male\",\"Male\",\"Male\",\"Male\",\"Male\",\"Male\",\"Male\",\"Male\",\"Female\",\"Male\",\"Female\",\"Male\",\"Male\",\"Male\",\"Male\",\"Female\",\"Male\",\"Female\",\"Female\",\"Female\",\"Male\",\"Female\",\"Male\",\"Male\",\"Male\",\"Male\",\"Male\",\"Male\",\"Male\",\"Male\",\"Male\",\"Female\",\"Male\",\"Male\",\"Male\",\"Male\",\"Male\",\"Male\",\"Male\",\"Male\",\"Male\",\"Male\",\"Male\",\"Male\",\"Male\",\"Male\",\"Male\",\"Male\",\"Male\",\"Male\",\"Male\",\"Male\",\"Male\",\"Male\",\"Male\",\"Male\",\"Female\",\"Male\",\"Male\",\"Male\",\"Female\",\"Female\",\"Male\",\"Male\",\"Male\",\"Male\",\"Male\",\"Male\",\"Male\",\"Male\",\"Male\",\"Male\",\"Female\",\"Male\",\"Male\",\"Male\",\"Male\",\"Male\",\"Male\",\"Male\",\"Male\",\"Male\",\"Female\",\"Male\",\"Male\",\"Male\",\"Female\",\"Male\",\"Female\",\"Female\",\"Male\",\"Female\",\"Male\",\"Male\",\"Male\",\"Male\",\"Male\",\"Male\",\"Male\",\"Male\",\"Male\",\"Male\",\"Male\",\"Male\",\"Male\",\"Male\",\"Male\",\"Female\",\"Female\",\"Male\",\"Male\",\"Female\",\"Male\",\"Female\",\"Male\",\"Male\",\"Female\",\"Male\",\"Female\",\"Male\",\"Male\",\"Male\",\"Male\",\"Female\",\"Male\",\"Male\",\"Male\",\"Male\",\"Male\",\"Male\",\"Male\",\"Male\",\"Male\",\"Female\",\"Male\",\"Female\",\"Male\",\"Female\",\"Female\",\"Male\",\"Male\",\"Female\",\"Female\",\"Male\",\"Male\",\"Female\",\"Male\",\"Male\",\"Male\",\"Female\",\"Male\",\"Male\",\"Male\",\"Female\",\"Male\",\"Male\",\"Male\",\"Male\",\"Male\",\"Female\",\"Male\",\"Male\",\"Male\",\"Male\",\"Male\",\"Female\",\"Male\",\"Male\",\"Male\",\"Male\",\"Male\",\"Male\",\"Male\",\"Male\",\"Male\",\"Male\",\"Male\",\"Male\",\"Male\",\"Male\",\"Female\",\"Male\",\"Female\",\"Male\",\"Male\",\"Male\",\"Male\",\"Male\",\"Male\",\"Male\",\"Male\",\"Female\",\"Male\",\"Male\",\"Female\",\"Male\",\"Female\",\"Male\",\"Male\",\"Female\",\"Female\",\"Male\",\"Male\",\"Male\",\"Male\",\"Female\",\"Female\",\"Male\",\"Male\",\"Male\",\"Male\",\"Male\",\"Male\",\"Male\",\"Male\",\"Male\",\"Male\",\"Male\",\"Male\",\"Male\",\"Male\",\"Male\",\"Male\",\"Male\",\"Male\",\"Male\",\"Female\",\"Male\",\"Male\",\"Male\",\"Male\",\"Male\",\"Male\",\"Male\",\"Male\",\"Male\",\"Female\",\"Male\",\"Male\",\"Male\",\"Male\",\"Female\",\"Male\",\"Male\",\"Male\",\"Male\",\"Male\",\"Male\",\"Male\",\"Female\",\"Female\",\"Male\",\"Male\",\"Male\",\"Male\",\"Male\",\"Male\",\"Male\",\"Female\",\"Male\",\"Female\",\"Male\",\"Male\",\"Female\",\"Male\",\"Male\",\"Female\",\"Male\",\"Male\",\"Male\",\"Male\",\"Male\",\"Male\",\"Male\",\"Male\",\"Male\",\"Male\",\"Male\",\"Male\",\"Male\",\"Female\",\"Male\",\"Male\",\"Male\",\"Male\",\"Male\",\"Male\",\"Male\",\"Male\",\"Female\",\"Male\",\"Male\",\"Female\",\"Male\",\"Male\",\"Female\",\"Male\",\"Male\",\"Male\",\"Male\",\"Male\",\"Male\",\"Male\",\"Male\",\"Male\",\"Male\",\"Male\",\"Male\",\"Male\",\"Male\",\"Male\",\"Male\",\"Male\",\"Male\",\"Male\",\"Male\",\"Male\",\"Male\",\"Male\",\"Female\",\"Male\",\"Male\",\"Male\",\"Male\",\"Male\",\"Male\",\"Male\",\"Male\",\"Male\",\"Male\",\"Male\",\"Female\",\"Male\",\"Male\",\"Male\",\"Female\",\"Female\",\"Male\",\"Male\",\"Female\",\"Male\",\"Male\",\"Male\",\"Male\",\"Male\",\"Male\",\"Male\",\"Male\",\"Male\",\"Male\",\"Male\",\"Male\",\"Female\",\"Female\",\"Male\",\"Female\",\"Female\",\"Male\",\"Male\",\"Male\",\"Male\",\"Male\",\"Female\",\"Male\",\"Male\",\"Male\",\"Male\",\"Female\",\"Male\",\"Female\",\"Male\",\"Female\",\"Male\",\"Male\",\"Male\",\"Male\",\"Male\",\"Male\",\"Male\",\"Male\",\"Male\",\"Male\",\"Male\",\"Male\",\"Male\",\"Male\",\"Male\",\"Female\",\"Female\",\"Male\",\"Male\",\"Male\",\"Male\",\"Male\",\"Male\",\"Male\",\"Female\",\"Male\",\"Male\",\"Male\",\"Male\",\"Male\",\"Male\",\"Male\",\"Male\",\"Male\",\"Male\",\"Male\",\"Male\",\"Female\",\"Male\",\"Male\",\"Female\",\"Male\",\"Male\",\"Male\",\"Male\",\"Male\",\"Male\",\"Male\",\"Male\",\"Male\",\"Male\",\"Female\",\"Female\",\"Female\",\"Male\",\"Female\",\"Female\",\"Male\",\"Male\",\"Male\",\"Male\",\"Male\",\"Male\",\"Male\",\"Male\",\"Male\",\"Male\",\"Male\",\"Female\",\"Male\",\"Female\",\"Male\",\"Male\",\"Male\",\"Male\",\"Male\",\"Male\",\"Male\",\"Male\",\"Male\",\"Female\",\"Female\",\"Female\",\"Male\",\"Female\",\"Male\",\"Male\",\"Female\",\"Male\",\"Female\",\"Male\",\"Male\",\"Male\",\"Female\",\"Male\",\"Male\",\"Male\",\"Male\",\"Female\",\"Male\",\"Male\",\"Male\",\"Male\",\"Male\",\"Male\",\"Male\",\"Male\",\"Male\",\"Female\",\"Male\",\"Male\",\"Male\",\"Male\",\"Male\",\"Male\",\"Male\",\"Male\",\"Male\",\"Male\",\"Male\",\"Male\",\"Male\",\"Male\",\"Male\",\"Male\",\"Male\",\"Male\",\"Male\",\"Male\",\"Male\",\"Male\",\"Male\",\"Male\",\"Male\",\"Male\",\"Male\",\"Female\",\"Male\",\"Male\",\"Male\",\"Male\",\"Male\",\"Male\",\"Male\",\"Male\",\"Male\",\"Male\",\"Female\",\"Male\",\"Male\",\"Female\",\"Male\",\"Male\",\"Male\",\"Male\",\"Female\",\"Female\",\"Male\",\"Male\",\"Male\",\"Female\",\"Male\",\"Male\",\"Male\",\"Male\",\"Female\",\"Male\",\"Male\",\"Male\",\"Female\",\"Male\",\"Male\",\"Male\",\"Male\",\"Female\",\"Male\",\"Male\",\"Male\",\"Male\",\"Male\",\"Female\",\"Male\",\"Male\",\"Male\",\"Male\",\"Male\",\"Male\",\"Male\",\"Female\",\"Male\",\"Male\",\"Male\",\"Male\",\"Female\",\"Male\",\"Male\",\"Male\",\"Male\",\"Male\",\"Male\",\"Male\",\"Female\",\"Male\",\"Male\",\"Female\",\"Male\",\"Female\",\"Male\",\"Female\",\"Male\",\"Male\",\"Male\",\"Male\",\"Male\",\"Male\",\"Female\",\"Male\",\"Male\",\"Male\",\"Male\",\"Male\",\"Male\",\"Male\",\"Male\",\"Male\",\"Male\",\"Male\",\"Male\",\"Female\",\"Male\",\"Male\",\"Male\",\"Male\",\"Male\",\"Male\",\"Female\",\"Male\",\"Male\",\"Male\",\"Male\",\"Female\",\"Male\",\"Male\",\"Male\",\"Male\",\"Male\",\"Female\",\"Male\",\"Male\",\"Male\",\"Female\",\"Male\",\"Male\",\"Male\",\"Female\",\"Male\",\"Male\",\"Male\",\"Male\",\"Male\",\"Male\",\"Male\",\"Male\",\"Male\",\"Female\",\"Female\",\"Male\",\"Male\",\"Female\",\"Female\",\"Male\",\"Male\",\"Female\",\"Male\",\"Male\",\"Male\",\"Male\",\"Male\",\"Male\",\"Male\",\"Male\",\"Male\",\"Male\",\"Male\",\"Male\",\"Male\",\"Male\",\"Female\",\"Male\",\"Male\",\"Male\",\"Female\",\"Male\",\"Female\",\"Female\",\"Male\",\"Male\",\"Male\",\"Male\",\"Male\",\"Male\",\"Male\",\"Female\",\"Female\",\"Male\",\"Male\",\"Female\",\"Male\",\"Male\",\"Male\",\"Male\",\"Male\",\"Male\",\"Female\",\"Male\",\"Male\",\"Male\",\"Male\",\"Female\",\"Male\",\"Male\",\"Female\",\"Male\",\"Male\",\"Male\",\"Male\",\"Male\",\"Female\",\"Male\",\"Female\",\"Male\",\"Female\",\"Male\",\"Male\",\"Male\",\"Male\",\"Male\",\"Female\",\"Male\",\"Male\",\"Male\",\"Male\",\"Male\",\"Male\",\"Male\",\"Male\",\"Male\",\"Male\",\"Male\",\"Male\",\"Male\",\"Male\",\"Male\",\"Male\",\"Male\",\"Male\",\"Female\",\"Male\",\"Male\",\"Male\",\"Male\",\"Male\",\"Male\",\"Male\",\"Male\",\"Male\",\"Male\",\"Male\",\"Male\",\"Male\",\"Male\",\"Male\",\"Male\",\"Male\",\"Male\",\"Male\",\"Male\",\"Male\",\"Male\",\"Male\",\"Male\",\"Male\",\"Male\",\"Male\",\"Male\",\"Male\",\"Female\",\"Male\",\"Male\",\"Male\",\"Male\",\"Male\",\"Male\",\"Male\",\"Male\",\"Male\",\"Female\",\"Male\",\"Male\",\"Male\",\"Male\",\"Male\",\"Male\",\"Male\",\"Male\",\"Male\",\"Male\",\"Male\",\"Male\",\"Male\",\"Male\",\"Male\",\"Female\",\"Male\",\"Male\",\"Male\",\"Male\",\"Male\",\"Male\",\"Male\",\"Male\",\"Male\",\"Male\",\"Male\",\"Female\",\"Male\",\"Male\",\"Male\",\"Male\",\"Male\",\"Male\",\"Male\",\"Male\",\"Male\",\"Male\",\"Male\",\"Male\",\"Male\",\"Male\",\"Male\",\"Male\",\"Male\",\"Male\",\"Male\",\"Male\",\"Male\",\"Male\",\"Male\",\"Male\",\"Male\",\"Female\",\"Male\",\"Male\",\"Female\",\"Male\",\"Male\",\"Female\",\"Male\",\"Male\",\"Male\",\"Male\",\"Male\",\"Male\",\"Male\",\"Male\",\"Male\",\"Male\",\"Male\",\"Female\",\"Male\",\"Male\",\"Male\",\"Female\",\"Male\",\"Male\",\"Male\",\"Male\",\"Male\",\"Male\",\"Male\",\"Male\",\"Male\",\"Male\",\"Male\",\"Female\",\"Male\",\"Male\",\"Male\",\"Male\",\"Male\",\"Male\",\"Male\",\"Male\",\"Male\",\"Male\",\"Male\",\"Male\",\"Female\",\"Male\",\"Male\",\"Male\",\"Male\",\"Male\",\"Male\",\"Male\",\"Female\",\"Male\",\"Male\",\"Male\",\"Male\",\"Male\",\"Male\",\"Male\",\"Male\",\"Male\",\"Male\",\"Male\",\"Male\",\"Male\",\"Male\",\"Male\",\"Male\",\"Female\",\"Male\",\"Male\",\"Male\",\"Male\",\"Male\",\"Male\",\"Male\",\"Male\",\"Male\",\"Female\",\"Male\",\"Male\",\"Male\",\"Male\",\"Male\",\"Male\",\"Male\",\"Male\",\"Male\",\"Male\",\"Female\",\"Male\",\"Male\",\"Male\",\"Female\",\"Male\",\"Male\",\"Male\",\"Male\",\"Male\",\"Female\",\"Male\",\"Male\",\"Male\",\"Male\",\"Male\",\"Male\",\"Male\",\"Male\",\"Male\",\"Male\",\"Male\",\"Male\",\"Male\",\"Female\",\"Male\",\"Female\",\"Male\",\"Male\",\"Female\",\"Male\",\"Male\",\"Male\",\"Male\",\"Male\",\"Male\",\"Male\",\"Male\",\"Female\",\"Male\",\"Male\",\"Male\",\"Male\",\"Female\",\"Female\",\"Male\",\"Male\",\"Male\",\"Male\",\"Female\",\"Male\",\"Male\",\"Male\",\"Male\",\"Female\",\"Male\",\"Male\",\"Male\",\"Male\",\"Male\",\"Male\",\"Male\",\"Male\",\"Male\",\"Male\",\"Male\",\"Male\",\"Male\",\"Male\",\"Male\",\"Male\",\"Male\",\"Male\",\"Male\",\"Female\",\"Male\",\"Female\",\"Male\",\"Male\",\"Female\",\"Male\",\"Male\",\"Male\",\"Male\",\"Male\",\"Male\",\"Male\",\"Male\",\"Male\",\"Male\",\"Female\",\"Female\",\"Male\",\"Male\",\"Male\",\"Male\",\"Female\",\"Male\",\"Male\",\"Male\",\"Male\",\"Female\",\"Male\",\"Male\",\"Female\",\"Male\",\"Male\",\"Male\",\"Male\",\"Male\",\"Female\",\"Male\",\"Male\",\"Male\",\"Male\",\"Male\",\"Female\",\"Male\",\"Female\",\"Male\",\"Female\",\"Male\",\"Female\",\"Female\",\"Male\",\"Female\",\"Male\",\"Female\",\"Male\",\"Male\",\"Female\",\"Male\",\"Female\",\"Male\",\"Male\",\"Male\",\"Male\",\"Male\",\"Male\",\"Male\",\"Male\",\"Male\",\"Male\",\"Male\",\"Male\",\"Male\",\"Female\",\"Male\",\"Male\",\"Male\",\"Male\",\"Male\",\"Male\",\"Male\",\"Male\",\"Male\",\"Female\",\"Male\",\"Female\",\"Female\",\"Female\",\"Male\",\"Female\",\"Male\",\"Male\",\"Female\",\"Male\",\"Male\",\"Male\",\"Male\",\"Female\",\"Male\",\"Male\",\"Male\",\"Male\",\"Male\",\"Male\",\"Male\",\"Male\",\"Male\",\"Female\",\"Male\",\"Male\",\"Female\",\"Male\",\"Male\",\"Male\",\"Female\",\"Male\",\"Male\",\"Male\",\"Female\",\"Male\",\"Male\",\"Male\",\"Male\",\"Male\",\"Male\",\"Female\",\"Male\",\"Female\",\"Male\",\"Male\",\"Male\",\"Female\",\"Female\",\"Male\",\"Male\",\"Female\",\"Male\",\"Male\",\"Male\",\"Male\",\"Male\",\"Male\",\"Male\",\"Male\",\"Male\",\"Male\",\"Male\",\"Male\",\"Male\",\"Male\",\"Male\",\"Female\",\"Male\",\"Female\",\"Male\",\"Female\",\"Male\",\"Male\",\"Male\",\"Male\",\"Male\",\"Male\",\"Female\",\"Male\",\"Male\",\"Male\",\"Male\",\"Male\",\"Male\",\"Male\",\"Male\",\"Male\",\"Male\",\"Male\",\"Male\",\"Female\",\"Female\",\"Male\",\"Male\",\"Male\",\"Male\",\"Male\",\"Male\",\"Male\",\"Male\",\"Male\",\"Male\",\"Male\",\"Male\",\"Male\",\"Male\",\"Male\",\"Male\",\"Male\",\"Male\",\"Male\",\"Male\",\"Male\",\"Male\",\"Male\",\"Male\",\"Male\",\"Male\",\"Male\",\"Male\",\"Male\",\"Male\",\"Male\",\"Male\",\"Male\",\"Male\",\"Male\",\"Male\",\"Male\",\"Male\",\"Male\",\"Male\",\"Male\",\"Male\",\"Male\",\"Male\",\"Male\",\"Male\",\"Male\",\"Male\",\"Male\",\"Male\",\"Female\",\"Male\",\"Male\",\"Female\",\"Male\",\"Male\",\"Male\",\"Male\",\"Male\",\"Male\",\"Male\",\"Male\",\"Male\",\"Female\",\"Male\",\"Male\",\"Male\",\"Male\",\"Female\",\"Male\",\"Male\",\"Male\",\"Male\",\"Male\",\"Male\",\"Male\",\"Male\",\"Male\",\"Male\",\"Male\",\"Male\",\"Male\",\"Male\",\"Female\",\"Male\",\"Male\",\"Male\",\"Male\",\"Male\",\"Female\",\"Male\",\"Male\",\"Male\",\"Male\",\"Male\",\"Male\",\"Female\",\"Male\",\"Female\",\"Male\",\"Male\",\"Male\",\"Female\",\"Male\",\"Male\",\"Male\",\"Male\",\"Male\",\"Female\",\"Male\",\"Male\",\"Male\",\"Male\",\"Male\",\"Female\",\"Male\",\"Male\",\"Male\",\"Male\",\"Male\",\"Female\",\"Male\",\"Male\",\"Male\",\"Female\",\"Male\",\"Male\",\"Female\",\"Male\",\"Male\",\"Male\",\"Male\",\"Male\",\"Male\",\"Male\",\"Male\",\"Male\",\"Male\",\"Male\",\"Male\",\"Male\",\"Male\",\"Male\",\"Male\",\"Male\",\"Male\",\"Male\",\"Male\",\"Male\",\"Female\",\"Male\",\"Male\",\"Female\",\"Male\",\"Male\",\"Male\",\"Female\",\"Male\",\"Male\",\"Male\",\"Male\",\"Female\",\"Female\",\"Male\",\"Male\",\"Male\",\"Female\",\"Male\",\"Male\",\"Male\",\"Male\",\"Male\",\"Male\",\"Male\",\"Male\",\"Female\",\"Male\",\"Female\",\"Female\",\"Male\",\"Male\",\"Male\",\"Male\",\"Male\",\"Male\",\"Male\",\"Male\",\"Female\",\"Male\",\"Male\",\"Male\",\"Female\",\"Male\",\"Male\",\"Male\",\"Male\",\"Male\",\"Male\",\"Male\",\"Male\",\"Male\",\"Male\",\"Male\",\"Female\",\"Male\",\"Male\",\"Male\",\"Male\",\"Male\",\"Male\",\"Female\",\"Male\",\"Male\",\"Male\",\"Male\",\"Male\",\"Male\",\"Female\",\"Male\",\"Female\",\"Male\",\"Female\",\"Male\",\"Female\",\"Female\",\"Male\",\"Male\",\"Male\",\"Female\",\"Female\",\"Male\",\"Male\",\"Male\",\"Male\",\"Male\",\"Male\",\"Male\",\"Male\",\"Male\",\"Male\",\"Male\",\"Female\",\"Male\",\"Male\",\"Male\",\"Male\",\"Female\",\"Male\",\"Male\",\"Male\",\"Male\",\"Male\",\"Male\",\"Male\",\"Male\",\"Male\",\"Male\",\"Male\",\"Female\",\"Female\",\"Male\",\"Female\",\"Male\",\"Male\",\"Male\",\"Male\",\"Male\",\"Male\",\"Male\",\"Male\",\"Male\",\"Male\",\"Male\",\"Female\",\"Male\",\"Male\",\"Male\",\"Male\",\"Female\",\"Male\",\"Male\",\"Male\",\"Male\",\"Male\",\"Male\",\"Male\",\"Female\",\"Male\",\"Male\",\"Male\",\"Male\",\"Male\",\"Male\",\"Male\",\"Male\",\"Male\",\"Male\",\"Male\",\"Male\",\"Female\",\"Male\",\"Male\",\"Female\",\"Male\",\"Female\",\"Female\",\"Male\",\"Male\",\"Male\",\"Male\",\"Male\",\"Male\",\"Male\",\"Male\",\"Male\",\"Male\",\"Female\",\"Male\",\"Male\",\"Male\",\"Male\",\"Male\",\"Male\",\"Female\",\"Male\",\"Male\",\"Female\",\"Male\",\"Male\",\"Male\",\"Male\",\"Male\",\"Male\",\"Male\",\"Male\",\"Male\",\"Male\",\"Male\",\"Female\",\"Male\",\"Female\",\"Female\",\"Male\",\"Female\",\"Male\",\"Male\",\"Male\",\"Male\",\"Male\",\"Male\",\"Female\",\"Male\",\"Male\",\"Male\",\"Female\",\"Male\",\"Male\",\"Male\",\"Male\",\"Male\",\"Male\",\"Male\",\"Female\",\"Male\",\"Female\",\"Female\",\"Male\",\"Male\",\"Male\",\"Female\",\"Male\",\"Male\",\"Female\",\"Male\",\"Male\",\"Male\",\"Male\",\"Male\",\"Female\",\"Male\",\"Female\",\"Male\",\"Male\",\"Female\",\"Male\",\"Male\",\"Male\",\"Male\",\"Male\",\"Male\",\"Female\",\"Male\",\"Male\",\"Male\",\"Male\",\"Male\",\"Male\",\"Male\",\"Male\",\"Male\",\"Male\",\"Male\",\"Male\",\"Male\",\"Male\",\"Male\",\"Male\",\"Male\",\"Male\",\"Male\",\"Male\",\"Male\",\"Female\",\"Male\",\"Male\",\"Male\",\"Male\",\"Male\",\"Male\",\"Male\",\"Female\",\"Male\",\"Male\",\"Male\",\"Male\",\"Male\",\"Male\",\"Male\",\"Male\",\"Male\",\"Male\",\"Male\",\"Male\",\"Male\",\"Male\",\"Male\",\"Male\",\"Male\",\"Male\",\"Male\",\"Male\",\"Female\",\"Female\",\"Male\",\"Male\",\"Male\",\"Male\",\"Male\",\"Female\",\"Male\",\"Male\",\"Male\",\"Male\",\"Male\",\"Male\",\"Male\",\"Male\",\"Male\",\"Male\",\"Male\",\"Female\",\"Male\",\"Male\",\"Male\",\"Female\",\"Male\",\"Male\",\"Male\",\"Male\",\"Male\",\"Male\",\"Male\",\"Male\",\"Male\",\"Female\",\"Male\",\"Male\",\"Male\",\"Male\",\"Male\",\"Male\",\"Male\",\"Male\",\"Male\",\"Male\",\"Male\",\"Male\",\"Male\",\"Male\",\"Female\",\"Male\",\"Male\",\"Male\",\"Male\",\"Male\",\"Male\",\"Male\",\"Male\",\"Male\",\"Male\",\"Male\",\"Male\",\"Male\",\"Male\",\"Male\",\"Female\",\"Male\",\"Male\",\"Male\",\"Male\",\"Male\",\"Male\",\"Male\",\"Male\",\"Female\",\"Female\",\"Female\",\"Male\",\"Male\",\"Male\",\"Male\",\"Male\",\"Male\",\"Male\",\"Male\",\"Male\",\"Male\",\"Male\",\"Male\",\"Male\",\"Male\",\"Male\",\"Male\",\"Male\",\"Male\",\"Male\",\"Male\",\"Female\",\"Male\",\"Male\",\"Male\",\"Female\",\"Male\",\"Male\",\"Male\",\"Male\",\"Male\",\"Male\",\"Male\",\"Male\",\"Male\",\"Male\",\"Male\"],\"legendgroup\":\"\",\"name\":\"\",\"showlegend\":true,\"type\":\"pie\",\"marker\":{\"line\":{\"color\":\"#000000\",\"width\":1.5}},\"textinfo\":\"percent+label\",\"textposition\":\"inside\"}],                        {\"template\":{\"data\":{\"barpolar\":[{\"marker\":{\"line\":{\"color\":\"rgb(17,17,17)\",\"width\":0.5},\"pattern\":{\"fillmode\":\"overlay\",\"size\":10,\"solidity\":0.2}},\"type\":\"barpolar\"}],\"bar\":[{\"error_x\":{\"color\":\"#f2f5fa\"},\"error_y\":{\"color\":\"#f2f5fa\"},\"marker\":{\"line\":{\"color\":\"rgb(17,17,17)\",\"width\":0.5},\"pattern\":{\"fillmode\":\"overlay\",\"size\":10,\"solidity\":0.2}},\"type\":\"bar\"}],\"carpet\":[{\"aaxis\":{\"endlinecolor\":\"#A2B1C6\",\"gridcolor\":\"#506784\",\"linecolor\":\"#506784\",\"minorgridcolor\":\"#506784\",\"startlinecolor\":\"#A2B1C6\"},\"baxis\":{\"endlinecolor\":\"#A2B1C6\",\"gridcolor\":\"#506784\",\"linecolor\":\"#506784\",\"minorgridcolor\":\"#506784\",\"startlinecolor\":\"#A2B1C6\"},\"type\":\"carpet\"}],\"choropleth\":[{\"colorbar\":{\"outlinewidth\":0,\"ticks\":\"\"},\"type\":\"choropleth\"}],\"contourcarpet\":[{\"colorbar\":{\"outlinewidth\":0,\"ticks\":\"\"},\"type\":\"contourcarpet\"}],\"contour\":[{\"colorbar\":{\"outlinewidth\":0,\"ticks\":\"\"},\"colorscale\":[[0.0,\"#0d0887\"],[0.1111111111111111,\"#46039f\"],[0.2222222222222222,\"#7201a8\"],[0.3333333333333333,\"#9c179e\"],[0.4444444444444444,\"#bd3786\"],[0.5555555555555556,\"#d8576b\"],[0.6666666666666666,\"#ed7953\"],[0.7777777777777778,\"#fb9f3a\"],[0.8888888888888888,\"#fdca26\"],[1.0,\"#f0f921\"]],\"type\":\"contour\"}],\"heatmapgl\":[{\"colorbar\":{\"outlinewidth\":0,\"ticks\":\"\"},\"colorscale\":[[0.0,\"#0d0887\"],[0.1111111111111111,\"#46039f\"],[0.2222222222222222,\"#7201a8\"],[0.3333333333333333,\"#9c179e\"],[0.4444444444444444,\"#bd3786\"],[0.5555555555555556,\"#d8576b\"],[0.6666666666666666,\"#ed7953\"],[0.7777777777777778,\"#fb9f3a\"],[0.8888888888888888,\"#fdca26\"],[1.0,\"#f0f921\"]],\"type\":\"heatmapgl\"}],\"heatmap\":[{\"colorbar\":{\"outlinewidth\":0,\"ticks\":\"\"},\"colorscale\":[[0.0,\"#0d0887\"],[0.1111111111111111,\"#46039f\"],[0.2222222222222222,\"#7201a8\"],[0.3333333333333333,\"#9c179e\"],[0.4444444444444444,\"#bd3786\"],[0.5555555555555556,\"#d8576b\"],[0.6666666666666666,\"#ed7953\"],[0.7777777777777778,\"#fb9f3a\"],[0.8888888888888888,\"#fdca26\"],[1.0,\"#f0f921\"]],\"type\":\"heatmap\"}],\"histogram2dcontour\":[{\"colorbar\":{\"outlinewidth\":0,\"ticks\":\"\"},\"colorscale\":[[0.0,\"#0d0887\"],[0.1111111111111111,\"#46039f\"],[0.2222222222222222,\"#7201a8\"],[0.3333333333333333,\"#9c179e\"],[0.4444444444444444,\"#bd3786\"],[0.5555555555555556,\"#d8576b\"],[0.6666666666666666,\"#ed7953\"],[0.7777777777777778,\"#fb9f3a\"],[0.8888888888888888,\"#fdca26\"],[1.0,\"#f0f921\"]],\"type\":\"histogram2dcontour\"}],\"histogram2d\":[{\"colorbar\":{\"outlinewidth\":0,\"ticks\":\"\"},\"colorscale\":[[0.0,\"#0d0887\"],[0.1111111111111111,\"#46039f\"],[0.2222222222222222,\"#7201a8\"],[0.3333333333333333,\"#9c179e\"],[0.4444444444444444,\"#bd3786\"],[0.5555555555555556,\"#d8576b\"],[0.6666666666666666,\"#ed7953\"],[0.7777777777777778,\"#fb9f3a\"],[0.8888888888888888,\"#fdca26\"],[1.0,\"#f0f921\"]],\"type\":\"histogram2d\"}],\"histogram\":[{\"marker\":{\"pattern\":{\"fillmode\":\"overlay\",\"size\":10,\"solidity\":0.2}},\"type\":\"histogram\"}],\"mesh3d\":[{\"colorbar\":{\"outlinewidth\":0,\"ticks\":\"\"},\"type\":\"mesh3d\"}],\"parcoords\":[{\"line\":{\"colorbar\":{\"outlinewidth\":0,\"ticks\":\"\"}},\"type\":\"parcoords\"}],\"pie\":[{\"automargin\":true,\"type\":\"pie\"}],\"scatter3d\":[{\"line\":{\"colorbar\":{\"outlinewidth\":0,\"ticks\":\"\"}},\"marker\":{\"colorbar\":{\"outlinewidth\":0,\"ticks\":\"\"}},\"type\":\"scatter3d\"}],\"scattercarpet\":[{\"marker\":{\"colorbar\":{\"outlinewidth\":0,\"ticks\":\"\"}},\"type\":\"scattercarpet\"}],\"scattergeo\":[{\"marker\":{\"colorbar\":{\"outlinewidth\":0,\"ticks\":\"\"}},\"type\":\"scattergeo\"}],\"scattergl\":[{\"marker\":{\"line\":{\"color\":\"#283442\"}},\"type\":\"scattergl\"}],\"scattermapbox\":[{\"marker\":{\"colorbar\":{\"outlinewidth\":0,\"ticks\":\"\"}},\"type\":\"scattermapbox\"}],\"scatterpolargl\":[{\"marker\":{\"colorbar\":{\"outlinewidth\":0,\"ticks\":\"\"}},\"type\":\"scatterpolargl\"}],\"scatterpolar\":[{\"marker\":{\"colorbar\":{\"outlinewidth\":0,\"ticks\":\"\"}},\"type\":\"scatterpolar\"}],\"scatter\":[{\"marker\":{\"line\":{\"color\":\"#283442\"}},\"type\":\"scatter\"}],\"scatterternary\":[{\"marker\":{\"colorbar\":{\"outlinewidth\":0,\"ticks\":\"\"}},\"type\":\"scatterternary\"}],\"surface\":[{\"colorbar\":{\"outlinewidth\":0,\"ticks\":\"\"},\"colorscale\":[[0.0,\"#0d0887\"],[0.1111111111111111,\"#46039f\"],[0.2222222222222222,\"#7201a8\"],[0.3333333333333333,\"#9c179e\"],[0.4444444444444444,\"#bd3786\"],[0.5555555555555556,\"#d8576b\"],[0.6666666666666666,\"#ed7953\"],[0.7777777777777778,\"#fb9f3a\"],[0.8888888888888888,\"#fdca26\"],[1.0,\"#f0f921\"]],\"type\":\"surface\"}],\"table\":[{\"cells\":{\"fill\":{\"color\":\"#506784\"},\"line\":{\"color\":\"rgb(17,17,17)\"}},\"header\":{\"fill\":{\"color\":\"#2a3f5f\"},\"line\":{\"color\":\"rgb(17,17,17)\"}},\"type\":\"table\"}]},\"layout\":{\"annotationdefaults\":{\"arrowcolor\":\"#f2f5fa\",\"arrowhead\":0,\"arrowwidth\":1},\"autotypenumbers\":\"strict\",\"coloraxis\":{\"colorbar\":{\"outlinewidth\":0,\"ticks\":\"\"}},\"colorscale\":{\"diverging\":[[0,\"#8e0152\"],[0.1,\"#c51b7d\"],[0.2,\"#de77ae\"],[0.3,\"#f1b6da\"],[0.4,\"#fde0ef\"],[0.5,\"#f7f7f7\"],[0.6,\"#e6f5d0\"],[0.7,\"#b8e186\"],[0.8,\"#7fbc41\"],[0.9,\"#4d9221\"],[1,\"#276419\"]],\"sequential\":[[0.0,\"#0d0887\"],[0.1111111111111111,\"#46039f\"],[0.2222222222222222,\"#7201a8\"],[0.3333333333333333,\"#9c179e\"],[0.4444444444444444,\"#bd3786\"],[0.5555555555555556,\"#d8576b\"],[0.6666666666666666,\"#ed7953\"],[0.7777777777777778,\"#fb9f3a\"],[0.8888888888888888,\"#fdca26\"],[1.0,\"#f0f921\"]],\"sequentialminus\":[[0.0,\"#0d0887\"],[0.1111111111111111,\"#46039f\"],[0.2222222222222222,\"#7201a8\"],[0.3333333333333333,\"#9c179e\"],[0.4444444444444444,\"#bd3786\"],[0.5555555555555556,\"#d8576b\"],[0.6666666666666666,\"#ed7953\"],[0.7777777777777778,\"#fb9f3a\"],[0.8888888888888888,\"#fdca26\"],[1.0,\"#f0f921\"]]},\"colorway\":[\"#636efa\",\"#EF553B\",\"#00cc96\",\"#ab63fa\",\"#FFA15A\",\"#19d3f3\",\"#FF6692\",\"#B6E880\",\"#FF97FF\",\"#FECB52\"],\"font\":{\"color\":\"#f2f5fa\"},\"geo\":{\"bgcolor\":\"rgb(17,17,17)\",\"lakecolor\":\"rgb(17,17,17)\",\"landcolor\":\"rgb(17,17,17)\",\"showlakes\":true,\"showland\":true,\"subunitcolor\":\"#506784\"},\"hoverlabel\":{\"align\":\"left\"},\"hovermode\":\"closest\",\"mapbox\":{\"style\":\"dark\"},\"paper_bgcolor\":\"rgb(17,17,17)\",\"plot_bgcolor\":\"rgb(17,17,17)\",\"polar\":{\"angularaxis\":{\"gridcolor\":\"#506784\",\"linecolor\":\"#506784\",\"ticks\":\"\"},\"bgcolor\":\"rgb(17,17,17)\",\"radialaxis\":{\"gridcolor\":\"#506784\",\"linecolor\":\"#506784\",\"ticks\":\"\"}},\"scene\":{\"xaxis\":{\"backgroundcolor\":\"rgb(17,17,17)\",\"gridcolor\":\"#506784\",\"gridwidth\":2,\"linecolor\":\"#506784\",\"showbackground\":true,\"ticks\":\"\",\"zerolinecolor\":\"#C8D4E3\"},\"yaxis\":{\"backgroundcolor\":\"rgb(17,17,17)\",\"gridcolor\":\"#506784\",\"gridwidth\":2,\"linecolor\":\"#506784\",\"showbackground\":true,\"ticks\":\"\",\"zerolinecolor\":\"#C8D4E3\"},\"zaxis\":{\"backgroundcolor\":\"rgb(17,17,17)\",\"gridcolor\":\"#506784\",\"gridwidth\":2,\"linecolor\":\"#506784\",\"showbackground\":true,\"ticks\":\"\",\"zerolinecolor\":\"#C8D4E3\"}},\"shapedefaults\":{\"line\":{\"color\":\"#f2f5fa\"}},\"sliderdefaults\":{\"bgcolor\":\"#C8D4E3\",\"bordercolor\":\"rgb(17,17,17)\",\"borderwidth\":1,\"tickwidth\":0},\"ternary\":{\"aaxis\":{\"gridcolor\":\"#506784\",\"linecolor\":\"#506784\",\"ticks\":\"\"},\"baxis\":{\"gridcolor\":\"#506784\",\"linecolor\":\"#506784\",\"ticks\":\"\"},\"bgcolor\":\"rgb(17,17,17)\",\"caxis\":{\"gridcolor\":\"#506784\",\"linecolor\":\"#506784\",\"ticks\":\"\"}},\"title\":{\"x\":0.05},\"updatemenudefaults\":{\"bgcolor\":\"#506784\",\"borderwidth\":0},\"xaxis\":{\"automargin\":true,\"gridcolor\":\"#283442\",\"linecolor\":\"#506784\",\"ticks\":\"\",\"title\":{\"standoff\":15},\"zerolinecolor\":\"#283442\",\"zerolinewidth\":2},\"yaxis\":{\"automargin\":true,\"gridcolor\":\"#283442\",\"linecolor\":\"#506784\",\"ticks\":\"\",\"title\":{\"standoff\":15},\"zerolinecolor\":\"#283442\",\"zerolinewidth\":2}}},\"legend\":{\"tracegroupgap\":0},\"title\":{\"text\":\"<b>Counts in Gender</b>\"}},                        {\"responsive\": true}                    ).then(function(){\n",
       "                            \n",
       "var gd = document.getElementById('ea13db81-9845-4882-afb6-c7c2ab0a12d0');\n",
       "var x = new MutationObserver(function (mutations, observer) {{\n",
       "        var display = window.getComputedStyle(gd).display;\n",
       "        if (!display || display === 'none') {{\n",
       "            console.log([gd, 'removed!']);\n",
       "            Plotly.purge(gd);\n",
       "            observer.disconnect();\n",
       "        }}\n",
       "}});\n",
       "\n",
       "// Listen for the removal of the full notebook cells\n",
       "var notebookContainer = gd.closest('#notebook-container');\n",
       "if (notebookContainer) {{\n",
       "    x.observe(notebookContainer, {childList: true});\n",
       "}}\n",
       "\n",
       "// Listen for the clearing of the current output cell\n",
       "var outputEl = gd.closest('.output');\n",
       "if (outputEl) {{\n",
       "    x.observe(outputEl, {childList: true});\n",
       "}}\n",
       "\n",
       "                        })                };                });            </script>        </div>"
      ]
     },
     "metadata": {},
     "output_type": "display_data"
    }
   ],
   "source": [
    "fig = px.pie(data, names = \"Gender\",\n",
    "             title = \"<b>Counts in Gender</b>\",\n",
    "             hole = 0.5, template = \"plotly_dark\")\n",
    "\n",
    "fig.update_traces(textposition='inside',\n",
    "                  textinfo='percent+label',\n",
    "                  marker=dict(line=dict(color='#000000', width = 1.5)))\n",
    "\n",
    "\n",
    "fig.show()"
   ]
  },
  {
   "cell_type": "code",
   "execution_count": 12,
   "id": "f491d582",
   "metadata": {
    "execution": {
     "iopub.execute_input": "2022-09-24T10:46:06.530385Z",
     "iopub.status.busy": "2022-09-24T10:46:06.530021Z",
     "iopub.status.idle": "2022-09-24T10:46:06.536974Z",
     "shell.execute_reply": "2022-09-24T10:46:06.535956Z"
    },
    "papermill": {
     "duration": 0.027782,
     "end_time": "2022-09-24T10:46:06.539265",
     "exception": false,
     "start_time": "2022-09-24T10:46:06.511483",
     "status": "completed"
    },
    "tags": []
   },
   "outputs": [],
   "source": [
    "male = data[data['Gender'] == \"Male\"]\n",
    "female = data[data['Gender'] == \"Female\"]"
   ]
  },
  {
   "cell_type": "code",
   "execution_count": 13,
   "id": "7c317d43",
   "metadata": {
    "execution": {
     "iopub.execute_input": "2022-09-24T10:46:06.575099Z",
     "iopub.status.busy": "2022-09-24T10:46:06.574702Z",
     "iopub.status.idle": "2022-09-24T10:46:06.579786Z",
     "shell.execute_reply": "2022-09-24T10:46:06.578668Z"
    },
    "papermill": {
     "duration": 0.025677,
     "end_time": "2022-09-24T10:46:06.582082",
     "exception": false,
     "start_time": "2022-09-24T10:46:06.556405",
     "status": "completed"
    },
    "tags": []
   },
   "outputs": [],
   "source": [
    "total_male = male.shape[0]\n",
    "total_female = female.shape[0]"
   ]
  },
  {
   "cell_type": "code",
   "execution_count": 14,
   "id": "e3533e22",
   "metadata": {
    "execution": {
     "iopub.execute_input": "2022-09-24T10:46:06.618274Z",
     "iopub.status.busy": "2022-09-24T10:46:06.617491Z",
     "iopub.status.idle": "2022-09-24T10:46:06.625133Z",
     "shell.execute_reply": "2022-09-24T10:46:06.624142Z"
    },
    "papermill": {
     "duration": 0.027922,
     "end_time": "2022-09-24T10:46:06.627307",
     "exception": false,
     "start_time": "2022-09-24T10:46:06.599385",
     "status": "completed"
    },
    "tags": []
   },
   "outputs": [],
   "source": [
    "total_male_pass = male[male['PlacedOrNot'] == 1].shape[0]\n",
    "total_female_pass = female[female['PlacedOrNot'] == 1].shape[0]"
   ]
  },
  {
   "cell_type": "code",
   "execution_count": 15,
   "id": "97b3d18e",
   "metadata": {
    "execution": {
     "iopub.execute_input": "2022-09-24T10:46:06.663065Z",
     "iopub.status.busy": "2022-09-24T10:46:06.662679Z",
     "iopub.status.idle": "2022-09-24T10:46:06.668713Z",
     "shell.execute_reply": "2022-09-24T10:46:06.667662Z"
    },
    "papermill": {
     "duration": 0.026351,
     "end_time": "2022-09-24T10:46:06.670834",
     "exception": false,
     "start_time": "2022-09-24T10:46:06.644483",
     "status": "completed"
    },
    "tags": []
   },
   "outputs": [],
   "source": [
    "pass_male_percentage = np.round((total_male_pass * 100) / total_male,2)\n",
    "pass_female_percentage = np.round((total_female_pass * 100) / total_female,2)"
   ]
  },
  {
   "cell_type": "code",
   "execution_count": 16,
   "id": "58f7ad1d",
   "metadata": {
    "execution": {
     "iopub.execute_input": "2022-09-24T10:46:06.706674Z",
     "iopub.status.busy": "2022-09-24T10:46:06.706280Z",
     "iopub.status.idle": "2022-09-24T10:46:06.711540Z",
     "shell.execute_reply": "2022-09-24T10:46:06.710435Z"
    },
    "papermill": {
     "duration": 0.025804,
     "end_time": "2022-09-24T10:46:06.713807",
     "exception": false,
     "start_time": "2022-09-24T10:46:06.688003",
     "status": "completed"
    },
    "tags": []
   },
   "outputs": [],
   "source": [
    "details = {\"Total Male\": [total_male],\n",
    "             \"Total Female\": [total_female],\n",
    "             \"Total male pass\" : [total_male_pass],\n",
    "             \"Total female pass\" : [total_female_pass],\n",
    "             \"% of Passed Male\" : [pass_male_percentage],\n",
    "             \"% of Passed Female\" : [pass_female_percentage]}"
   ]
  },
  {
   "cell_type": "code",
   "execution_count": 17,
   "id": "35d133cf",
   "metadata": {
    "execution": {
     "iopub.execute_input": "2022-09-24T10:46:06.749042Z",
     "iopub.status.busy": "2022-09-24T10:46:06.748657Z",
     "iopub.status.idle": "2022-09-24T10:46:06.755525Z",
     "shell.execute_reply": "2022-09-24T10:46:06.754524Z"
    },
    "papermill": {
     "duration": 0.027025,
     "end_time": "2022-09-24T10:46:06.757724",
     "exception": false,
     "start_time": "2022-09-24T10:46:06.730699",
     "status": "completed"
    },
    "tags": []
   },
   "outputs": [
    {
     "data": {
      "text/plain": [
       "{'Total Male': [2475],\n",
       " 'Total Female': [491],\n",
       " 'Total male pass': [1364],\n",
       " 'Total female pass': [275],\n",
       " '% of Passed Male': [55.11],\n",
       " '% of Passed Female': [56.01]}"
      ]
     },
     "execution_count": 17,
     "metadata": {},
     "output_type": "execute_result"
    }
   ],
   "source": [
    "details"
   ]
  },
  {
   "cell_type": "code",
   "execution_count": 18,
   "id": "645e9b8f",
   "metadata": {
    "execution": {
     "iopub.execute_input": "2022-09-24T10:46:06.793297Z",
     "iopub.status.busy": "2022-09-24T10:46:06.792924Z",
     "iopub.status.idle": "2022-09-24T10:46:06.804798Z",
     "shell.execute_reply": "2022-09-24T10:46:06.803780Z"
    },
    "papermill": {
     "duration": 0.032643,
     "end_time": "2022-09-24T10:46:06.807045",
     "exception": false,
     "start_time": "2022-09-24T10:46:06.774402",
     "status": "completed"
    },
    "tags": []
   },
   "outputs": [
    {
     "data": {
      "text/html": [
       "<div>\n",
       "<style scoped>\n",
       "    .dataframe tbody tr th:only-of-type {\n",
       "        vertical-align: middle;\n",
       "    }\n",
       "\n",
       "    .dataframe tbody tr th {\n",
       "        vertical-align: top;\n",
       "    }\n",
       "\n",
       "    .dataframe thead th {\n",
       "        text-align: right;\n",
       "    }\n",
       "</style>\n",
       "<table border=\"1\" class=\"dataframe\">\n",
       "  <thead>\n",
       "    <tr style=\"text-align: right;\">\n",
       "      <th></th>\n",
       "      <th>Detail</th>\n",
       "    </tr>\n",
       "  </thead>\n",
       "  <tbody>\n",
       "    <tr>\n",
       "      <th>Total Male</th>\n",
       "      <td>2475.00</td>\n",
       "    </tr>\n",
       "    <tr>\n",
       "      <th>Total Female</th>\n",
       "      <td>491.00</td>\n",
       "    </tr>\n",
       "    <tr>\n",
       "      <th>Total male pass</th>\n",
       "      <td>1364.00</td>\n",
       "    </tr>\n",
       "    <tr>\n",
       "      <th>Total female pass</th>\n",
       "      <td>275.00</td>\n",
       "    </tr>\n",
       "    <tr>\n",
       "      <th>% of Passed Male</th>\n",
       "      <td>55.11</td>\n",
       "    </tr>\n",
       "    <tr>\n",
       "      <th>% of Passed Female</th>\n",
       "      <td>56.01</td>\n",
       "    </tr>\n",
       "  </tbody>\n",
       "</table>\n",
       "</div>"
      ],
      "text/plain": [
       "                     Detail\n",
       "Total Male          2475.00\n",
       "Total Female         491.00\n",
       "Total male pass     1364.00\n",
       "Total female pass    275.00\n",
       "% of Passed Male      55.11\n",
       "% of Passed Female    56.01"
      ]
     },
     "execution_count": 18,
     "metadata": {},
     "output_type": "execute_result"
    }
   ],
   "source": [
    "gender_wise = pd.DataFrame(details, index=[\"Detail\"])\n",
    "gender_wise.T"
   ]
  },
  {
   "cell_type": "code",
   "execution_count": 19,
   "id": "5489a12d",
   "metadata": {
    "execution": {
     "iopub.execute_input": "2022-09-24T10:46:06.844137Z",
     "iopub.status.busy": "2022-09-24T10:46:06.843736Z",
     "iopub.status.idle": "2022-09-24T10:46:06.932005Z",
     "shell.execute_reply": "2022-09-24T10:46:06.930812Z"
    },
    "papermill": {
     "duration": 0.109496,
     "end_time": "2022-09-24T10:46:06.934899",
     "exception": false,
     "start_time": "2022-09-24T10:46:06.825403",
     "status": "completed"
    },
    "tags": []
   },
   "outputs": [
    {
     "data": {
      "text/html": [
       "<div>                            <div id=\"e8cf6402-6605-424c-9d53-df55b367cbf2\" class=\"plotly-graph-div\" style=\"height:525px; width:100%;\"></div>            <script type=\"text/javascript\">                require([\"plotly\"], function(Plotly) {                    window.PLOTLYENV=window.PLOTLYENV || {};                                    if (document.getElementById(\"e8cf6402-6605-424c-9d53-df55b367cbf2\")) {                    Plotly.newPlot(                        \"e8cf6402-6605-424c-9d53-df55b367cbf2\",                        [{\"alignmentgroup\":\"True\",\"bingroup\":\"x\",\"hovertemplate\":\"PlacedOrNot=1<br>Stream=%{x}<br>count=%{y}<extra></extra>\",\"legendgroup\":\"1\",\"marker\":{\"color\":\"#636efa\",\"pattern\":{\"shape\":\"x\"}},\"name\":\"1\",\"offsetgroup\":\"1\",\"orientation\":\"v\",\"showlegend\":true,\"x\":[\"Electronics And Communication\",\"Computer Science\",\"Information Technology\",\"Information Technology\",\"Mechanical\",\"Computer Science\",\"Electrical\",\"Computer Science\",\"Electronics And Communication\",\"Mechanical\",\"Civil\",\"Electrical\",\"Electrical\",\"Information Technology\",\"Information Technology\",\"Information Technology\",\"Mechanical\",\"Electrical\",\"Computer Science\",\"Civil\",\"Computer Science\",\"Electronics And Communication\",\"Civil\",\"Electrical\",\"Electrical\",\"Information Technology\",\"Electronics And Communication\",\"Computer Science\",\"Electronics And Communication\",\"Information Technology\",\"Electronics And Communication\",\"Electrical\",\"Computer Science\",\"Electronics And Communication\",\"Computer Science\",\"Electronics And Communication\",\"Civil\",\"Electronics And Communication\",\"Electrical\",\"Computer Science\",\"Computer Science\",\"Information Technology\",\"Information Technology\",\"Information Technology\",\"Mechanical\",\"Computer Science\",\"Information Technology\",\"Computer Science\",\"Mechanical\",\"Electrical\",\"Information Technology\",\"Computer Science\",\"Information Technology\",\"Information Technology\",\"Civil\",\"Mechanical\",\"Mechanical\",\"Information Technology\",\"Computer Science\",\"Civil\",\"Computer Science\",\"Mechanical\",\"Information Technology\",\"Mechanical\",\"Electronics And Communication\",\"Computer Science\",\"Civil\",\"Information Technology\",\"Electrical\",\"Computer Science\",\"Information Technology\",\"Computer Science\",\"Civil\",\"Information Technology\",\"Information Technology\",\"Information Technology\",\"Civil\",\"Information Technology\",\"Information Technology\",\"Electronics And Communication\",\"Computer Science\",\"Information Technology\",\"Information Technology\",\"Information Technology\",\"Mechanical\",\"Information Technology\",\"Information Technology\",\"Information Technology\",\"Mechanical\",\"Computer Science\",\"Information Technology\",\"Mechanical\",\"Computer Science\",\"Mechanical\",\"Computer Science\",\"Mechanical\",\"Information Technology\",\"Computer Science\",\"Electronics And Communication\",\"Information Technology\",\"Computer Science\",\"Computer Science\",\"Civil\",\"Information Technology\",\"Computer Science\",\"Computer Science\",\"Civil\",\"Electronics And Communication\",\"Computer Science\",\"Computer Science\",\"Electronics And Communication\",\"Computer Science\",\"Civil\",\"Computer Science\",\"Civil\",\"Information Technology\",\"Information Technology\",\"Electronics And Communication\",\"Electrical\",\"Computer Science\",\"Computer Science\",\"Computer Science\",\"Information Technology\",\"Mechanical\",\"Mechanical\",\"Mechanical\",\"Computer Science\",\"Information Technology\",\"Electrical\",\"Computer Science\",\"Electrical\",\"Computer Science\",\"Computer Science\",\"Electronics And Communication\",\"Computer Science\",\"Information Technology\",\"Information Technology\",\"Computer Science\",\"Information Technology\",\"Mechanical\",\"Information Technology\",\"Electronics And Communication\",\"Computer Science\",\"Computer Science\",\"Information Technology\",\"Information Technology\",\"Computer Science\",\"Mechanical\",\"Electrical\",\"Information Technology\",\"Information Technology\",\"Electrical\",\"Mechanical\",\"Information Technology\",\"Electronics And Communication\",\"Information Technology\",\"Computer Science\",\"Information Technology\",\"Electronics And Communication\",\"Mechanical\",\"Mechanical\",\"Civil\",\"Electronics And Communication\",\"Electronics And Communication\",\"Computer Science\",\"Electronics And Communication\",\"Civil\",\"Civil\",\"Computer Science\",\"Computer Science\",\"Electronics And Communication\",\"Information Technology\",\"Civil\",\"Information Technology\",\"Electronics And Communication\",\"Electrical\",\"Information Technology\",\"Computer Science\",\"Electrical\",\"Computer Science\",\"Information Technology\",\"Computer Science\",\"Civil\",\"Mechanical\",\"Information Technology\",\"Electrical\",\"Computer Science\",\"Computer Science\",\"Mechanical\",\"Computer Science\",\"Civil\",\"Computer Science\",\"Computer Science\",\"Information Technology\",\"Electrical\",\"Information Technology\",\"Mechanical\",\"Electronics And Communication\",\"Computer Science\",\"Electronics And Communication\",\"Information Technology\",\"Information Technology\",\"Electrical\",\"Information Technology\",\"Mechanical\",\"Mechanical\",\"Electronics And Communication\",\"Computer Science\",\"Information Technology\",\"Mechanical\",\"Electronics And Communication\",\"Computer Science\",\"Information Technology\",\"Electrical\",\"Mechanical\",\"Computer Science\",\"Electronics And Communication\",\"Computer Science\",\"Computer Science\",\"Computer Science\",\"Mechanical\",\"Information Technology\",\"Computer Science\",\"Mechanical\",\"Electronics And Communication\",\"Information Technology\",\"Electronics And Communication\",\"Electronics And Communication\",\"Electronics And Communication\",\"Information Technology\",\"Computer Science\",\"Mechanical\",\"Electrical\",\"Mechanical\",\"Computer Science\",\"Civil\",\"Civil\",\"Information Technology\",\"Civil\",\"Electronics And Communication\",\"Civil\",\"Information Technology\",\"Civil\",\"Computer Science\",\"Electronics And Communication\",\"Information Technology\",\"Mechanical\",\"Mechanical\",\"Electronics And Communication\",\"Mechanical\",\"Computer Science\",\"Computer Science\",\"Computer Science\",\"Computer Science\",\"Civil\",\"Information Technology\",\"Information Technology\",\"Mechanical\",\"Information Technology\",\"Mechanical\",\"Information Technology\",\"Computer Science\",\"Computer Science\",\"Computer Science\",\"Information Technology\",\"Computer Science\",\"Information Technology\",\"Electronics And Communication\",\"Information Technology\",\"Information Technology\",\"Information Technology\",\"Mechanical\",\"Civil\",\"Electronics And Communication\",\"Computer Science\",\"Mechanical\",\"Mechanical\",\"Computer Science\",\"Electrical\",\"Information Technology\",\"Electronics And Communication\",\"Information Technology\",\"Computer Science\",\"Mechanical\",\"Mechanical\",\"Computer Science\",\"Electrical\",\"Civil\",\"Computer Science\",\"Computer Science\",\"Mechanical\",\"Electronics And Communication\",\"Electrical\",\"Information Technology\",\"Mechanical\",\"Electronics And Communication\",\"Computer Science\",\"Civil\",\"Electronics And Communication\",\"Civil\",\"Mechanical\",\"Computer Science\",\"Information Technology\",\"Information Technology\",\"Information Technology\",\"Electrical\",\"Computer Science\",\"Computer Science\",\"Electronics And Communication\",\"Information Technology\",\"Electrical\",\"Civil\",\"Electronics And Communication\",\"Electronics And Communication\",\"Information Technology\",\"Electronics And Communication\",\"Information Technology\",\"Electronics And Communication\",\"Computer Science\",\"Electronics And Communication\",\"Information Technology\",\"Information Technology\",\"Computer Science\",\"Information Technology\",\"Computer Science\",\"Information Technology\",\"Computer Science\",\"Information Technology\",\"Computer Science\",\"Electrical\",\"Computer Science\",\"Information Technology\",\"Electrical\",\"Electrical\",\"Electronics And Communication\",\"Mechanical\",\"Civil\",\"Computer Science\",\"Electrical\",\"Electronics And Communication\",\"Electronics And Communication\",\"Mechanical\",\"Mechanical\",\"Information Technology\",\"Electronics And Communication\",\"Information Technology\",\"Information Technology\",\"Electrical\",\"Electronics And Communication\",\"Computer Science\",\"Computer Science\",\"Computer Science\",\"Computer Science\",\"Computer Science\",\"Information Technology\",\"Information Technology\",\"Information Technology\",\"Mechanical\",\"Electronics And Communication\",\"Information Technology\",\"Civil\",\"Information Technology\",\"Electronics And Communication\",\"Electrical\",\"Civil\",\"Information Technology\",\"Computer Science\",\"Information Technology\",\"Civil\",\"Electronics And Communication\",\"Mechanical\",\"Information Technology\",\"Computer Science\",\"Information Technology\",\"Computer Science\",\"Computer Science\",\"Mechanical\",\"Electrical\",\"Electronics And Communication\",\"Electrical\",\"Computer Science\",\"Electronics And Communication\",\"Computer Science\",\"Electronics And Communication\",\"Electrical\",\"Civil\",\"Computer Science\",\"Information Technology\",\"Information Technology\",\"Electrical\",\"Information Technology\",\"Information Technology\",\"Computer Science\",\"Computer Science\",\"Electronics And Communication\",\"Computer Science\",\"Computer Science\",\"Mechanical\",\"Mechanical\",\"Information Technology\",\"Computer Science\",\"Electrical\",\"Electrical\",\"Civil\",\"Mechanical\",\"Computer Science\",\"Electrical\",\"Mechanical\",\"Civil\",\"Mechanical\",\"Computer Science\",\"Information Technology\",\"Computer Science\",\"Information Technology\",\"Electrical\",\"Computer Science\",\"Information Technology\",\"Computer Science\",\"Information Technology\",\"Information Technology\",\"Computer Science\",\"Information Technology\",\"Computer Science\",\"Civil\",\"Mechanical\",\"Electrical\",\"Information Technology\",\"Computer Science\",\"Information Technology\",\"Information Technology\",\"Computer Science\",\"Electronics And Communication\",\"Computer Science\",\"Information Technology\",\"Electrical\",\"Computer Science\",\"Computer Science\",\"Computer Science\",\"Information Technology\",\"Computer Science\",\"Electrical\",\"Electrical\",\"Information Technology\",\"Mechanical\",\"Computer Science\",\"Electronics And Communication\",\"Information Technology\",\"Mechanical\",\"Civil\",\"Computer Science\",\"Electronics And Communication\",\"Computer Science\",\"Electrical\",\"Information Technology\",\"Computer Science\",\"Electronics And Communication\",\"Information Technology\",\"Computer Science\",\"Information Technology\",\"Computer Science\",\"Mechanical\",\"Computer Science\",\"Computer Science\",\"Computer Science\",\"Civil\",\"Mechanical\",\"Information Technology\",\"Mechanical\",\"Computer Science\",\"Information Technology\",\"Electronics And Communication\",\"Computer Science\",\"Civil\",\"Information Technology\",\"Electronics And Communication\",\"Information Technology\",\"Electronics And Communication\",\"Information Technology\",\"Mechanical\",\"Electrical\",\"Information Technology\",\"Information Technology\",\"Information Technology\",\"Computer Science\",\"Mechanical\",\"Computer Science\",\"Information Technology\",\"Electronics And Communication\",\"Electrical\",\"Computer Science\",\"Computer Science\",\"Computer Science\",\"Information Technology\",\"Information Technology\",\"Civil\",\"Computer Science\",\"Mechanical\",\"Electrical\",\"Computer Science\",\"Electronics And Communication\",\"Information Technology\",\"Information Technology\",\"Information Technology\",\"Information Technology\",\"Computer Science\",\"Computer Science\",\"Information Technology\",\"Electronics And Communication\",\"Information Technology\",\"Information Technology\",\"Computer Science\",\"Information Technology\",\"Information Technology\",\"Information Technology\",\"Electronics And Communication\",\"Information Technology\",\"Computer Science\",\"Information Technology\",\"Information Technology\",\"Electrical\",\"Information Technology\",\"Information Technology\",\"Mechanical\",\"Electrical\",\"Information Technology\",\"Mechanical\",\"Civil\",\"Information Technology\",\"Information Technology\",\"Computer Science\",\"Information Technology\",\"Civil\",\"Computer Science\",\"Information Technology\",\"Information Technology\",\"Civil\",\"Information Technology\",\"Computer Science\",\"Information Technology\",\"Computer Science\",\"Information Technology\",\"Computer Science\",\"Civil\",\"Information Technology\",\"Computer Science\",\"Electronics And Communication\",\"Computer Science\",\"Computer Science\",\"Computer Science\",\"Computer Science\",\"Information Technology\",\"Computer Science\",\"Information Technology\",\"Information Technology\",\"Computer Science\",\"Civil\",\"Information Technology\",\"Information Technology\",\"Computer Science\",\"Computer Science\",\"Mechanical\",\"Information Technology\",\"Information Technology\",\"Information Technology\",\"Information Technology\",\"Electrical\",\"Mechanical\",\"Civil\",\"Civil\",\"Computer Science\",\"Information Technology\",\"Computer Science\",\"Civil\",\"Computer Science\",\"Electronics And Communication\",\"Information Technology\",\"Computer Science\",\"Information Technology\",\"Computer Science\",\"Computer Science\",\"Computer Science\",\"Computer Science\",\"Information Technology\",\"Information Technology\",\"Information Technology\",\"Information Technology\",\"Information Technology\",\"Information Technology\",\"Information Technology\",\"Computer Science\",\"Computer Science\",\"Electrical\",\"Information Technology\",\"Information Technology\",\"Mechanical\",\"Information Technology\",\"Information Technology\",\"Information Technology\",\"Information Technology\",\"Information Technology\",\"Electrical\",\"Civil\",\"Information Technology\",\"Information Technology\",\"Information Technology\",\"Computer Science\",\"Electronics And Communication\",\"Information Technology\",\"Mechanical\",\"Mechanical\",\"Information Technology\",\"Computer Science\",\"Computer Science\",\"Civil\",\"Computer Science\",\"Information Technology\",\"Computer Science\",\"Information Technology\",\"Computer Science\",\"Computer Science\",\"Information Technology\",\"Computer Science\",\"Computer Science\",\"Civil\",\"Electrical\",\"Electronics And Communication\",\"Electrical\",\"Computer Science\",\"Electronics And Communication\",\"Electronics And Communication\",\"Mechanical\",\"Electronics And Communication\",\"Electrical\",\"Electronics And Communication\",\"Computer Science\",\"Electronics And Communication\",\"Computer Science\",\"Computer Science\",\"Mechanical\",\"Computer Science\",\"Mechanical\",\"Electronics And Communication\",\"Electrical\",\"Information Technology\",\"Mechanical\",\"Electronics And Communication\",\"Information Technology\",\"Information Technology\",\"Computer Science\",\"Information Technology\",\"Computer Science\",\"Mechanical\",\"Computer Science\",\"Electronics And Communication\",\"Electronics And Communication\",\"Computer Science\",\"Electrical\",\"Electronics And Communication\",\"Information Technology\",\"Mechanical\",\"Electrical\",\"Mechanical\",\"Electrical\",\"Civil\",\"Mechanical\",\"Information Technology\",\"Electronics And Communication\",\"Electronics And Communication\",\"Electronics And Communication\",\"Information Technology\",\"Civil\",\"Electrical\",\"Computer Science\",\"Information Technology\",\"Civil\",\"Civil\",\"Information Technology\",\"Computer Science\",\"Computer Science\",\"Civil\",\"Electronics And Communication\",\"Electrical\",\"Electrical\",\"Electrical\",\"Computer Science\",\"Information Technology\",\"Electrical\",\"Information Technology\",\"Electronics And Communication\",\"Computer Science\",\"Mechanical\",\"Mechanical\",\"Information Technology\",\"Civil\",\"Mechanical\",\"Computer Science\",\"Information Technology\",\"Mechanical\",\"Mechanical\",\"Electrical\",\"Information Technology\",\"Information Technology\",\"Computer Science\",\"Civil\",\"Information Technology\",\"Information Technology\",\"Civil\",\"Electrical\",\"Computer Science\",\"Electrical\",\"Electronics And Communication\",\"Electrical\",\"Civil\",\"Computer Science\",\"Civil\",\"Information Technology\",\"Computer Science\",\"Electronics And Communication\",\"Electrical\",\"Information Technology\",\"Information Technology\",\"Computer Science\",\"Computer Science\",\"Computer Science\",\"Information Technology\",\"Mechanical\",\"Computer Science\",\"Electronics And Communication\",\"Mechanical\",\"Information Technology\",\"Mechanical\",\"Civil\",\"Information Technology\",\"Information Technology\",\"Electronics And Communication\",\"Mechanical\",\"Computer Science\",\"Computer Science\",\"Information Technology\",\"Electronics And Communication\",\"Electronics And Communication\",\"Mechanical\",\"Computer Science\",\"Information Technology\",\"Mechanical\",\"Electrical\",\"Computer Science\",\"Computer Science\",\"Mechanical\",\"Information Technology\",\"Electrical\",\"Information Technology\",\"Electronics And Communication\",\"Information Technology\",\"Mechanical\",\"Mechanical\",\"Computer Science\",\"Electrical\",\"Computer Science\",\"Electrical\",\"Information Technology\",\"Information Technology\",\"Mechanical\",\"Computer Science\",\"Computer Science\",\"Mechanical\",\"Mechanical\",\"Civil\",\"Electrical\",\"Electrical\",\"Electronics And Communication\",\"Computer Science\",\"Computer Science\",\"Electrical\",\"Electrical\",\"Mechanical\",\"Electronics And Communication\",\"Electronics And Communication\",\"Electronics And Communication\",\"Computer Science\",\"Mechanical\",\"Mechanical\",\"Information Technology\",\"Information Technology\",\"Information Technology\",\"Information Technology\",\"Electronics And Communication\",\"Computer Science\",\"Computer Science\",\"Information Technology\",\"Information Technology\",\"Electronics And Communication\",\"Electrical\",\"Electronics And Communication\",\"Information Technology\",\"Mechanical\",\"Information Technology\",\"Computer Science\",\"Electronics And Communication\",\"Information Technology\",\"Information Technology\",\"Electronics And Communication\",\"Computer Science\",\"Computer Science\",\"Information Technology\",\"Civil\",\"Computer Science\",\"Electrical\",\"Mechanical\",\"Electronics And Communication\",\"Computer Science\",\"Computer Science\",\"Computer Science\",\"Electrical\",\"Computer Science\",\"Mechanical\",\"Computer Science\",\"Computer Science\",\"Computer Science\",\"Information Technology\",\"Computer Science\",\"Information Technology\",\"Computer Science\",\"Civil\",\"Electronics And Communication\",\"Mechanical\",\"Computer Science\",\"Computer Science\",\"Computer Science\",\"Computer Science\",\"Computer Science\",\"Electrical\",\"Information Technology\",\"Computer Science\",\"Computer Science\",\"Information Technology\",\"Computer Science\",\"Mechanical\",\"Computer Science\",\"Electronics And Communication\",\"Electrical\",\"Electronics And Communication\",\"Computer Science\",\"Information Technology\",\"Information Technology\",\"Information Technology\",\"Mechanical\",\"Information Technology\",\"Information Technology\",\"Electrical\",\"Information Technology\",\"Civil\",\"Computer Science\",\"Computer Science\",\"Information Technology\",\"Mechanical\",\"Electronics And Communication\",\"Information Technology\",\"Computer Science\",\"Electronics And Communication\",\"Mechanical\",\"Electronics And Communication\",\"Electrical\",\"Electronics And Communication\",\"Information Technology\",\"Civil\",\"Electrical\",\"Computer Science\",\"Electronics And Communication\",\"Electrical\",\"Information Technology\",\"Computer Science\",\"Electrical\",\"Computer Science\",\"Civil\",\"Computer Science\",\"Information Technology\",\"Information Technology\",\"Electrical\",\"Mechanical\",\"Computer Science\",\"Computer Science\",\"Information Technology\",\"Civil\",\"Civil\",\"Information Technology\",\"Information Technology\",\"Electrical\",\"Electrical\",\"Information Technology\",\"Computer Science\",\"Computer Science\",\"Information Technology\",\"Computer Science\",\"Computer Science\",\"Computer Science\",\"Information Technology\",\"Computer Science\",\"Computer Science\",\"Computer Science\",\"Computer Science\",\"Computer Science\",\"Computer Science\",\"Computer Science\",\"Electronics And Communication\",\"Electrical\",\"Electrical\",\"Computer Science\",\"Mechanical\",\"Electronics And Communication\",\"Computer Science\",\"Computer Science\",\"Computer Science\",\"Electrical\",\"Information Technology\",\"Civil\",\"Electronics And Communication\",\"Electrical\",\"Computer Science\",\"Information Technology\",\"Information Technology\",\"Mechanical\",\"Information Technology\",\"Computer Science\",\"Mechanical\",\"Information Technology\",\"Computer Science\",\"Mechanical\",\"Civil\",\"Mechanical\",\"Computer Science\",\"Electronics And Communication\",\"Computer Science\",\"Computer Science\",\"Electronics And Communication\",\"Information Technology\",\"Civil\",\"Information Technology\",\"Electrical\",\"Information Technology\",\"Civil\",\"Computer Science\",\"Computer Science\",\"Computer Science\",\"Civil\",\"Mechanical\",\"Mechanical\",\"Mechanical\",\"Information Technology\",\"Information Technology\",\"Computer Science\",\"Information Technology\",\"Electronics And Communication\",\"Electronics And Communication\",\"Information Technology\",\"Civil\",\"Mechanical\",\"Computer Science\",\"Civil\",\"Information Technology\",\"Civil\",\"Computer Science\",\"Civil\",\"Information Technology\",\"Electrical\",\"Information Technology\",\"Computer Science\",\"Mechanical\",\"Information Technology\",\"Electrical\",\"Civil\",\"Mechanical\",\"Electronics And Communication\",\"Electronics And Communication\",\"Civil\",\"Electrical\",\"Mechanical\",\"Mechanical\",\"Information Technology\",\"Information Technology\",\"Mechanical\",\"Mechanical\",\"Information Technology\",\"Electronics And Communication\",\"Computer Science\",\"Information Technology\",\"Information Technology\",\"Computer Science\",\"Electronics And Communication\",\"Computer Science\",\"Electronics And Communication\",\"Electronics And Communication\",\"Electronics And Communication\",\"Electrical\",\"Computer Science\",\"Information Technology\",\"Information Technology\",\"Electronics And Communication\",\"Electronics And Communication\",\"Computer Science\",\"Electronics And Communication\",\"Computer Science\",\"Information Technology\",\"Electronics And Communication\",\"Information Technology\",\"Civil\",\"Computer Science\",\"Information Technology\",\"Computer Science\",\"Electrical\",\"Information Technology\",\"Computer Science\",\"Information Technology\",\"Electronics And Communication\",\"Mechanical\",\"Civil\",\"Computer Science\",\"Electronics And Communication\",\"Information Technology\",\"Computer Science\",\"Electrical\",\"Computer Science\",\"Civil\",\"Civil\",\"Mechanical\",\"Information Technology\",\"Electronics And Communication\",\"Information Technology\",\"Information Technology\",\"Computer Science\",\"Computer Science\",\"Mechanical\",\"Civil\",\"Information Technology\",\"Electronics And Communication\",\"Computer Science\",\"Computer Science\",\"Computer Science\",\"Information Technology\",\"Civil\",\"Mechanical\",\"Electronics And Communication\",\"Computer Science\",\"Electronics And Communication\",\"Mechanical\",\"Computer Science\",\"Computer Science\",\"Electronics And Communication\",\"Mechanical\",\"Electronics And Communication\",\"Mechanical\",\"Information Technology\",\"Computer Science\",\"Information Technology\",\"Mechanical\",\"Computer Science\",\"Electrical\",\"Information Technology\",\"Electrical\",\"Electrical\",\"Electronics And Communication\",\"Electronics And Communication\",\"Electronics And Communication\",\"Information Technology\",\"Information Technology\",\"Electrical\",\"Electronics And Communication\",\"Civil\",\"Electrical\",\"Information Technology\",\"Information Technology\",\"Information Technology\",\"Mechanical\",\"Information Technology\",\"Mechanical\",\"Information Technology\",\"Computer Science\",\"Information Technology\",\"Information Technology\",\"Computer Science\",\"Electrical\",\"Information Technology\",\"Electrical\",\"Computer Science\",\"Computer Science\",\"Computer Science\",\"Electrical\",\"Civil\",\"Computer Science\",\"Electronics And Communication\",\"Computer Science\",\"Computer Science\",\"Information Technology\",\"Mechanical\",\"Computer Science\",\"Electrical\",\"Mechanical\",\"Computer Science\",\"Computer Science\",\"Computer Science\",\"Information Technology\",\"Information Technology\",\"Electronics And Communication\",\"Computer Science\",\"Computer Science\",\"Computer Science\",\"Electrical\",\"Electronics And Communication\",\"Electrical\",\"Information Technology\",\"Information Technology\",\"Computer Science\",\"Electronics And Communication\",\"Civil\",\"Electronics And Communication\",\"Information Technology\",\"Mechanical\",\"Information Technology\",\"Computer Science\",\"Computer Science\",\"Electronics And Communication\",\"Information Technology\",\"Civil\",\"Computer Science\",\"Information Technology\",\"Information Technology\",\"Mechanical\",\"Civil\",\"Information Technology\",\"Computer Science\",\"Computer Science\",\"Electronics And Communication\",\"Computer Science\",\"Mechanical\",\"Computer Science\",\"Computer Science\",\"Electronics And Communication\",\"Mechanical\",\"Computer Science\",\"Mechanical\",\"Electronics And Communication\",\"Information Technology\",\"Computer Science\",\"Electronics And Communication\",\"Electronics And Communication\",\"Electrical\",\"Computer Science\",\"Computer Science\",\"Electronics And Communication\",\"Computer Science\",\"Electronics And Communication\",\"Mechanical\",\"Electrical\",\"Computer Science\",\"Electrical\",\"Information Technology\",\"Computer Science\",\"Computer Science\",\"Electronics And Communication\",\"Mechanical\",\"Electronics And Communication\",\"Information Technology\",\"Computer Science\",\"Civil\",\"Computer Science\",\"Electrical\",\"Mechanical\",\"Information Technology\",\"Electronics And Communication\",\"Information Technology\",\"Electronics And Communication\",\"Computer Science\",\"Electrical\",\"Electronics And Communication\",\"Electrical\",\"Information Technology\",\"Information Technology\",\"Computer Science\",\"Electronics And Communication\",\"Electrical\",\"Electrical\",\"Information Technology\",\"Computer Science\",\"Computer Science\",\"Electrical\",\"Civil\",\"Computer Science\",\"Computer Science\",\"Electronics And Communication\",\"Mechanical\",\"Information Technology\",\"Electronics And Communication\",\"Information Technology\",\"Information Technology\",\"Information Technology\",\"Computer Science\",\"Computer Science\",\"Electronics And Communication\",\"Mechanical\",\"Electronics And Communication\",\"Electronics And Communication\",\"Computer Science\",\"Information Technology\",\"Computer Science\",\"Computer Science\",\"Electronics And Communication\",\"Computer Science\",\"Civil\",\"Computer Science\",\"Computer Science\",\"Information Technology\",\"Mechanical\",\"Information Technology\",\"Electronics And Communication\",\"Computer Science\",\"Computer Science\",\"Electronics And Communication\",\"Electronics And Communication\",\"Computer Science\",\"Computer Science\",\"Information Technology\",\"Mechanical\",\"Computer Science\",\"Information Technology\",\"Electrical\",\"Civil\",\"Computer Science\",\"Information Technology\",\"Electrical\",\"Information Technology\",\"Civil\",\"Mechanical\",\"Computer Science\",\"Information Technology\",\"Electrical\",\"Computer Science\",\"Civil\",\"Mechanical\",\"Computer Science\",\"Information Technology\",\"Mechanical\",\"Computer Science\",\"Computer Science\",\"Information Technology\",\"Information Technology\",\"Mechanical\",\"Electronics And Communication\",\"Mechanical\",\"Civil\",\"Mechanical\",\"Electronics And Communication\",\"Information Technology\",\"Computer Science\",\"Information Technology\",\"Information Technology\",\"Information Technology\",\"Information Technology\",\"Computer Science\",\"Computer Science\",\"Computer Science\",\"Electronics And Communication\",\"Computer Science\",\"Computer Science\",\"Computer Science\",\"Electrical\",\"Computer Science\",\"Computer Science\",\"Information Technology\",\"Information Technology\",\"Computer Science\",\"Civil\",\"Computer Science\",\"Electrical\",\"Electronics And Communication\",\"Computer Science\",\"Computer Science\",\"Mechanical\",\"Mechanical\",\"Computer Science\",\"Electronics And Communication\",\"Electronics And Communication\",\"Electronics And Communication\",\"Mechanical\",\"Electronics And Communication\",\"Civil\",\"Electrical\",\"Civil\",\"Computer Science\",\"Information Technology\",\"Computer Science\",\"Civil\",\"Civil\",\"Electronics And Communication\",\"Electrical\",\"Computer Science\",\"Computer Science\",\"Information Technology\",\"Mechanical\",\"Electrical\",\"Information Technology\",\"Information Technology\",\"Mechanical\",\"Electrical\",\"Computer Science\",\"Electronics And Communication\",\"Electrical\",\"Information Technology\",\"Civil\",\"Electrical\",\"Information Technology\",\"Electronics And Communication\",\"Computer Science\",\"Computer Science\",\"Electrical\",\"Civil\",\"Electronics And Communication\",\"Electronics And Communication\",\"Electronics And Communication\",\"Computer Science\",\"Mechanical\",\"Mechanical\",\"Civil\",\"Computer Science\",\"Information Technology\",\"Information Technology\",\"Electrical\",\"Electrical\",\"Computer Science\",\"Information Technology\",\"Electronics And Communication\",\"Information Technology\",\"Electronics And Communication\",\"Information Technology\",\"Electrical\",\"Civil\",\"Computer Science\",\"Computer Science\",\"Computer Science\",\"Civil\",\"Mechanical\",\"Mechanical\",\"Computer Science\",\"Mechanical\",\"Computer Science\",\"Electronics And Communication\",\"Electronics And Communication\",\"Civil\",\"Information Technology\",\"Computer Science\",\"Information Technology\",\"Electrical\",\"Information Technology\",\"Computer Science\",\"Computer Science\",\"Electronics And Communication\",\"Mechanical\",\"Civil\",\"Computer Science\",\"Civil\",\"Electrical\",\"Information Technology\",\"Mechanical\",\"Electronics And Communication\",\"Civil\",\"Mechanical\",\"Electronics And Communication\",\"Computer Science\",\"Mechanical\",\"Electrical\",\"Mechanical\",\"Mechanical\",\"Information Technology\",\"Electrical\",\"Electrical\",\"Mechanical\",\"Computer Science\",\"Civil\",\"Electrical\",\"Electronics And Communication\",\"Civil\",\"Electronics And Communication\",\"Computer Science\",\"Mechanical\",\"Electrical\",\"Electrical\",\"Civil\",\"Mechanical\",\"Information Technology\",\"Computer Science\",\"Electrical\",\"Information Technology\",\"Computer Science\",\"Civil\",\"Computer Science\",\"Mechanical\",\"Civil\",\"Computer Science\",\"Computer Science\",\"Electrical\",\"Mechanical\",\"Electronics And Communication\",\"Electronics And Communication\",\"Electronics And Communication\",\"Civil\",\"Electronics And Communication\",\"Information Technology\",\"Mechanical\",\"Information Technology\",\"Computer Science\",\"Mechanical\",\"Information Technology\",\"Mechanical\",\"Civil\",\"Electrical\",\"Civil\",\"Mechanical\",\"Electrical\",\"Electronics And Communication\",\"Computer Science\",\"Information Technology\",\"Information Technology\",\"Information Technology\",\"Computer Science\",\"Electronics And Communication\",\"Information Technology\",\"Computer Science\",\"Civil\",\"Computer Science\",\"Civil\",\"Computer Science\",\"Electrical\",\"Civil\",\"Information Technology\",\"Computer Science\",\"Information Technology\",\"Electronics And Communication\",\"Computer Science\",\"Electrical\",\"Civil\",\"Electronics And Communication\",\"Computer Science\",\"Computer Science\",\"Computer Science\",\"Information Technology\",\"Computer Science\",\"Electrical\",\"Electrical\",\"Computer Science\",\"Mechanical\",\"Computer Science\",\"Electronics And Communication\",\"Mechanical\",\"Computer Science\",\"Information Technology\",\"Civil\",\"Electronics And Communication\",\"Information Technology\",\"Electrical\",\"Electrical\",\"Computer Science\",\"Mechanical\",\"Civil\",\"Electronics And Communication\",\"Mechanical\",\"Electronics And Communication\",\"Electronics And Communication\",\"Civil\",\"Electrical\",\"Information Technology\",\"Electronics And Communication\",\"Electrical\",\"Electronics And Communication\",\"Electronics And Communication\",\"Electrical\",\"Civil\",\"Computer Science\",\"Mechanical\",\"Computer Science\",\"Electronics And Communication\",\"Information Technology\",\"Electrical\",\"Electrical\",\"Mechanical\",\"Civil\",\"Electrical\",\"Information Technology\",\"Electronics And Communication\",\"Electrical\",\"Information Technology\",\"Electrical\",\"Electronics And Communication\",\"Electronics And Communication\",\"Computer Science\",\"Civil\",\"Computer Science\",\"Electrical\",\"Electronics And Communication\",\"Information Technology\",\"Computer Science\",\"Electronics And Communication\",\"Information Technology\",\"Electronics And Communication\",\"Information Technology\",\"Computer Science\",\"Information Technology\",\"Information Technology\",\"Information Technology\",\"Electronics And Communication\",\"Computer Science\",\"Electronics And Communication\",\"Computer Science\",\"Electrical\",\"Electrical\",\"Computer Science\",\"Information Technology\",\"Electrical\",\"Mechanical\",\"Information Technology\",\"Computer Science\",\"Mechanical\",\"Electrical\",\"Computer Science\",\"Information Technology\",\"Civil\",\"Electronics And Communication\",\"Electronics And Communication\",\"Electronics And Communication\",\"Information Technology\",\"Information Technology\",\"Computer Science\",\"Electronics And Communication\",\"Civil\",\"Computer Science\",\"Computer Science\",\"Electrical\",\"Electronics And Communication\",\"Information Technology\",\"Computer Science\",\"Mechanical\",\"Mechanical\",\"Information Technology\",\"Information Technology\",\"Computer Science\",\"Electronics And Communication\",\"Civil\",\"Electrical\",\"Electrical\",\"Computer Science\",\"Electrical\",\"Electrical\",\"Electrical\",\"Electronics And Communication\",\"Information Technology\",\"Electrical\",\"Electronics And Communication\",\"Electronics And Communication\",\"Computer Science\",\"Electrical\",\"Computer Science\",\"Electronics And Communication\",\"Information Technology\",\"Mechanical\",\"Information Technology\",\"Civil\",\"Electrical\",\"Civil\",\"Electronics And Communication\",\"Computer Science\",\"Computer Science\",\"Computer Science\",\"Information Technology\",\"Civil\",\"Mechanical\",\"Electronics And Communication\",\"Electronics And Communication\",\"Electronics And Communication\",\"Information Technology\",\"Electronics And Communication\",\"Information Technology\",\"Mechanical\",\"Electronics And Communication\",\"Mechanical\",\"Civil\",\"Computer Science\",\"Information Technology\",\"Information Technology\",\"Computer Science\",\"Civil\",\"Information Technology\",\"Civil\",\"Electronics And Communication\",\"Electronics And Communication\",\"Electronics And Communication\",\"Electronics And Communication\",\"Mechanical\",\"Computer Science\",\"Information Technology\",\"Electronics And Communication\",\"Computer Science\",\"Computer Science\",\"Computer Science\",\"Electronics And Communication\",\"Electronics And Communication\",\"Computer Science\",\"Information Technology\",\"Civil\",\"Mechanical\",\"Mechanical\",\"Electronics And Communication\",\"Electronics And Communication\",\"Electrical\",\"Information Technology\",\"Electronics And Communication\",\"Electronics And Communication\",\"Information Technology\",\"Mechanical\",\"Information Technology\",\"Information Technology\",\"Electrical\",\"Computer Science\",\"Civil\",\"Electronics And Communication\",\"Computer Science\",\"Information Technology\",\"Computer Science\",\"Computer Science\",\"Computer Science\",\"Electrical\",\"Electronics And Communication\",\"Mechanical\",\"Electronics And Communication\",\"Computer Science\",\"Civil\",\"Computer Science\",\"Computer Science\",\"Mechanical\",\"Computer Science\",\"Computer Science\",\"Civil\"],\"xaxis\":\"x\",\"yaxis\":\"y\",\"type\":\"histogram\"},{\"alignmentgroup\":\"True\",\"bingroup\":\"x\",\"hovertemplate\":\"PlacedOrNot=0<br>Stream=%{x}<br>count=%{y}<extra></extra>\",\"legendgroup\":\"0\",\"marker\":{\"color\":\"#EF553B\",\"pattern\":{\"shape\":\"x\"}},\"name\":\"0\",\"offsetgroup\":\"0\",\"orientation\":\"v\",\"showlegend\":true,\"x\":[\"Electronics And Communication\",\"Computer Science\",\"Information Technology\",\"Computer Science\",\"Computer Science\",\"Computer Science\",\"Computer Science\",\"Civil\",\"Computer Science\",\"Computer Science\",\"Computer Science\",\"Civil\",\"Electronics And Communication\",\"Electronics And Communication\",\"Civil\",\"Electrical\",\"Information Technology\",\"Information Technology\",\"Electrical\",\"Electronics And Communication\",\"Electrical\",\"Computer Science\",\"Civil\",\"Mechanical\",\"Information Technology\",\"Electronics And Communication\",\"Computer Science\",\"Information Technology\",\"Mechanical\",\"Mechanical\",\"Electrical\",\"Information Technology\",\"Electrical\",\"Information Technology\",\"Electrical\",\"Electronics And Communication\",\"Information Technology\",\"Information Technology\",\"Electronics And Communication\",\"Computer Science\",\"Mechanical\",\"Electrical\",\"Electrical\",\"Mechanical\",\"Electrical\",\"Electrical\",\"Information Technology\",\"Electronics And Communication\",\"Information Technology\",\"Computer Science\",\"Mechanical\",\"Computer Science\",\"Electrical\",\"Information Technology\",\"Computer Science\",\"Computer Science\",\"Information Technology\",\"Civil\",\"Civil\",\"Information Technology\",\"Mechanical\",\"Information Technology\",\"Electronics And Communication\",\"Civil\",\"Electrical\",\"Civil\",\"Computer Science\",\"Computer Science\",\"Electronics And Communication\",\"Information Technology\",\"Computer Science\",\"Computer Science\",\"Mechanical\",\"Computer Science\",\"Information Technology\",\"Computer Science\",\"Electronics And Communication\",\"Information Technology\",\"Computer Science\",\"Computer Science\",\"Electronics And Communication\",\"Computer Science\",\"Information Technology\",\"Electrical\",\"Information Technology\",\"Information Technology\",\"Civil\",\"Civil\",\"Electrical\",\"Electronics And Communication\",\"Mechanical\",\"Computer Science\",\"Civil\",\"Civil\",\"Computer Science\",\"Mechanical\",\"Mechanical\",\"Information Technology\",\"Computer Science\",\"Computer Science\",\"Information Technology\",\"Computer Science\",\"Civil\",\"Electrical\",\"Mechanical\",\"Civil\",\"Electrical\",\"Electronics And Communication\",\"Civil\",\"Electronics And Communication\",\"Computer Science\",\"Civil\",\"Information Technology\",\"Civil\",\"Electrical\",\"Information Technology\",\"Electronics And Communication\",\"Electronics And Communication\",\"Mechanical\",\"Civil\",\"Civil\",\"Computer Science\",\"Mechanical\",\"Civil\",\"Information Technology\",\"Computer Science\",\"Civil\",\"Computer Science\",\"Civil\",\"Electronics And Communication\",\"Computer Science\",\"Civil\",\"Computer Science\",\"Mechanical\",\"Electronics And Communication\",\"Electronics And Communication\",\"Computer Science\",\"Electronics And Communication\",\"Mechanical\",\"Information Technology\",\"Electronics And Communication\",\"Civil\",\"Mechanical\",\"Electrical\",\"Electronics And Communication\",\"Electronics And Communication\",\"Information Technology\",\"Electronics And Communication\",\"Computer Science\",\"Electrical\",\"Information Technology\",\"Computer Science\",\"Information Technology\",\"Information Technology\",\"Civil\",\"Mechanical\",\"Information Technology\",\"Mechanical\",\"Computer Science\",\"Computer Science\",\"Computer Science\",\"Information Technology\",\"Electronics And Communication\",\"Information Technology\",\"Mechanical\",\"Electronics And Communication\",\"Information Technology\",\"Civil\",\"Computer Science\",\"Mechanical\",\"Information Technology\",\"Electrical\",\"Mechanical\",\"Electronics And Communication\",\"Information Technology\",\"Computer Science\",\"Information Technology\",\"Mechanical\",\"Computer Science\",\"Electrical\",\"Information Technology\",\"Electronics And Communication\",\"Electrical\",\"Electronics And Communication\",\"Computer Science\",\"Mechanical\",\"Electrical\",\"Civil\",\"Information Technology\",\"Computer Science\",\"Electrical\",\"Computer Science\",\"Computer Science\",\"Electrical\",\"Computer Science\",\"Electrical\",\"Information Technology\",\"Computer Science\",\"Mechanical\",\"Civil\",\"Computer Science\",\"Electrical\",\"Electrical\",\"Computer Science\",\"Computer Science\",\"Electronics And Communication\",\"Information Technology\",\"Mechanical\",\"Electrical\",\"Mechanical\",\"Electronics And Communication\",\"Information Technology\",\"Electronics And Communication\",\"Civil\",\"Electrical\",\"Mechanical\",\"Information Technology\",\"Mechanical\",\"Electrical\",\"Mechanical\",\"Civil\",\"Electronics And Communication\",\"Electrical\",\"Mechanical\",\"Computer Science\",\"Civil\",\"Information Technology\",\"Computer Science\",\"Electrical\",\"Information Technology\",\"Electronics And Communication\",\"Computer Science\",\"Civil\",\"Electronics And Communication\",\"Electrical\",\"Mechanical\",\"Civil\",\"Mechanical\",\"Electronics And Communication\",\"Mechanical\",\"Computer Science\",\"Mechanical\",\"Information Technology\",\"Mechanical\",\"Information Technology\",\"Computer Science\",\"Computer Science\",\"Civil\",\"Computer Science\",\"Information Technology\",\"Electronics And Communication\",\"Civil\",\"Electrical\",\"Civil\",\"Computer Science\",\"Electrical\",\"Computer Science\",\"Electrical\",\"Electrical\",\"Computer Science\",\"Computer Science\",\"Electrical\",\"Electrical\",\"Information Technology\",\"Computer Science\",\"Electronics And Communication\",\"Information Technology\",\"Civil\",\"Computer Science\",\"Information Technology\",\"Computer Science\",\"Civil\",\"Computer Science\",\"Computer Science\",\"Computer Science\",\"Computer Science\",\"Computer Science\",\"Information Technology\",\"Information Technology\",\"Computer Science\",\"Civil\",\"Electrical\",\"Electronics And Communication\",\"Mechanical\",\"Electronics And Communication\",\"Mechanical\",\"Civil\",\"Computer Science\",\"Mechanical\",\"Mechanical\",\"Electronics And Communication\",\"Electrical\",\"Mechanical\",\"Electrical\",\"Electronics And Communication\",\"Electrical\",\"Mechanical\",\"Electronics And Communication\",\"Information Technology\",\"Computer Science\",\"Computer Science\",\"Information Technology\",\"Electronics And Communication\",\"Mechanical\",\"Computer Science\",\"Electrical\",\"Civil\",\"Civil\",\"Electrical\",\"Computer Science\",\"Information Technology\",\"Mechanical\",\"Computer Science\",\"Computer Science\",\"Information Technology\",\"Electronics And Communication\",\"Mechanical\",\"Electrical\",\"Civil\",\"Computer Science\",\"Information Technology\",\"Civil\",\"Computer Science\",\"Civil\",\"Civil\",\"Mechanical\",\"Information Technology\",\"Electrical\",\"Mechanical\",\"Civil\",\"Civil\",\"Electronics And Communication\",\"Civil\",\"Electrical\",\"Computer Science\",\"Mechanical\",\"Electronics And Communication\",\"Electrical\",\"Mechanical\",\"Electrical\",\"Civil\",\"Information Technology\",\"Civil\",\"Electrical\",\"Civil\",\"Civil\",\"Civil\",\"Electronics And Communication\",\"Civil\",\"Electronics And Communication\",\"Electrical\",\"Civil\",\"Electronics And Communication\",\"Mechanical\",\"Electronics And Communication\",\"Mechanical\",\"Mechanical\",\"Computer Science\",\"Electrical\",\"Electronics And Communication\",\"Electrical\",\"Electronics And Communication\",\"Mechanical\",\"Information Technology\",\"Electronics And Communication\",\"Mechanical\",\"Mechanical\",\"Civil\",\"Electronics And Communication\",\"Mechanical\",\"Mechanical\",\"Electrical\",\"Computer Science\",\"Electrical\",\"Mechanical\",\"Electrical\",\"Civil\",\"Information Technology\",\"Mechanical\",\"Information Technology\",\"Mechanical\",\"Information Technology\",\"Computer Science\",\"Information Technology\",\"Information Technology\",\"Electrical\",\"Electronics And Communication\",\"Civil\",\"Civil\",\"Civil\",\"Civil\",\"Civil\",\"Mechanical\",\"Electronics And Communication\",\"Mechanical\",\"Computer Science\",\"Mechanical\",\"Mechanical\",\"Mechanical\",\"Mechanical\",\"Mechanical\",\"Electronics And Communication\",\"Electrical\",\"Electronics And Communication\",\"Mechanical\",\"Computer Science\",\"Civil\",\"Mechanical\",\"Electronics And Communication\",\"Electrical\",\"Mechanical\",\"Mechanical\",\"Civil\",\"Civil\",\"Electronics And Communication\",\"Computer Science\",\"Civil\",\"Electrical\",\"Civil\",\"Civil\",\"Electrical\",\"Mechanical\",\"Mechanical\",\"Mechanical\",\"Computer Science\",\"Mechanical\",\"Civil\",\"Computer Science\",\"Computer Science\",\"Electrical\",\"Electronics And Communication\",\"Civil\",\"Computer Science\",\"Electronics And Communication\",\"Electrical\",\"Civil\",\"Information Technology\",\"Computer Science\",\"Information Technology\",\"Information Technology\",\"Computer Science\",\"Information Technology\",\"Civil\",\"Mechanical\",\"Mechanical\",\"Information Technology\",\"Electrical\",\"Mechanical\",\"Electrical\",\"Information Technology\",\"Civil\",\"Information Technology\",\"Electronics And Communication\",\"Electronics And Communication\",\"Computer Science\",\"Electronics And Communication\",\"Computer Science\",\"Civil\",\"Civil\",\"Computer Science\",\"Civil\",\"Mechanical\",\"Information Technology\",\"Computer Science\",\"Civil\",\"Mechanical\",\"Mechanical\",\"Information Technology\",\"Information Technology\",\"Mechanical\",\"Electrical\",\"Information Technology\",\"Civil\",\"Electronics And Communication\",\"Electrical\",\"Computer Science\",\"Civil\",\"Mechanical\",\"Electronics And Communication\",\"Mechanical\",\"Mechanical\",\"Mechanical\",\"Civil\",\"Information Technology\",\"Civil\",\"Computer Science\",\"Information Technology\",\"Electronics And Communication\",\"Computer Science\",\"Electronics And Communication\",\"Mechanical\",\"Computer Science\",\"Information Technology\",\"Mechanical\",\"Mechanical\",\"Civil\",\"Mechanical\",\"Civil\",\"Computer Science\",\"Information Technology\",\"Electrical\",\"Electrical\",\"Computer Science\",\"Computer Science\",\"Computer Science\",\"Information Technology\",\"Mechanical\",\"Information Technology\",\"Electronics And Communication\",\"Mechanical\",\"Computer Science\",\"Computer Science\",\"Electronics And Communication\",\"Computer Science\",\"Mechanical\",\"Civil\",\"Information Technology\",\"Information Technology\",\"Mechanical\",\"Mechanical\",\"Civil\",\"Electrical\",\"Computer Science\",\"Mechanical\",\"Information Technology\",\"Computer Science\",\"Information Technology\",\"Electrical\",\"Information Technology\",\"Information Technology\",\"Information Technology\",\"Information Technology\",\"Electronics And Communication\",\"Electronics And Communication\",\"Information Technology\",\"Computer Science\",\"Information Technology\",\"Information Technology\",\"Information Technology\",\"Electrical\",\"Computer Science\",\"Information Technology\",\"Electronics And Communication\",\"Information Technology\",\"Computer Science\",\"Mechanical\",\"Electronics And Communication\",\"Information Technology\",\"Mechanical\",\"Computer Science\",\"Civil\",\"Civil\",\"Electronics And Communication\",\"Mechanical\",\"Civil\",\"Information Technology\",\"Mechanical\",\"Civil\",\"Civil\",\"Mechanical\",\"Information Technology\",\"Mechanical\",\"Information Technology\",\"Electronics And Communication\",\"Computer Science\",\"Computer Science\",\"Electronics And Communication\",\"Electrical\",\"Electrical\",\"Computer Science\",\"Electronics And Communication\",\"Computer Science\",\"Information Technology\",\"Information Technology\",\"Information Technology\",\"Information Technology\",\"Computer Science\",\"Computer Science\",\"Information Technology\",\"Computer Science\",\"Computer Science\",\"Computer Science\",\"Computer Science\",\"Electronics And Communication\",\"Electronics And Communication\",\"Computer Science\",\"Mechanical\",\"Information Technology\",\"Mechanical\",\"Information Technology\",\"Electrical\",\"Information Technology\",\"Information Technology\",\"Mechanical\",\"Electronics And Communication\",\"Information Technology\",\"Electronics And Communication\",\"Electronics And Communication\",\"Electrical\",\"Computer Science\",\"Electronics And Communication\",\"Computer Science\",\"Information Technology\",\"Electronics And Communication\",\"Civil\",\"Computer Science\",\"Computer Science\",\"Information Technology\",\"Computer Science\",\"Computer Science\",\"Electrical\",\"Electronics And Communication\",\"Electrical\",\"Information Technology\",\"Information Technology\",\"Mechanical\",\"Electrical\",\"Mechanical\",\"Computer Science\",\"Electrical\",\"Civil\",\"Mechanical\",\"Computer Science\",\"Mechanical\",\"Computer Science\",\"Computer Science\",\"Mechanical\",\"Computer Science\",\"Electronics And Communication\",\"Electronics And Communication\",\"Computer Science\",\"Computer Science\",\"Information Technology\",\"Computer Science\",\"Electronics And Communication\",\"Mechanical\",\"Electronics And Communication\",\"Computer Science\",\"Electrical\",\"Computer Science\",\"Information Technology\",\"Computer Science\",\"Civil\",\"Mechanical\",\"Information Technology\",\"Electronics And Communication\",\"Civil\",\"Computer Science\",\"Computer Science\",\"Information Technology\",\"Information Technology\",\"Civil\",\"Computer Science\",\"Computer Science\",\"Mechanical\",\"Civil\",\"Information Technology\",\"Electrical\",\"Information Technology\",\"Civil\",\"Electronics And Communication\",\"Information Technology\",\"Electronics And Communication\",\"Information Technology\",\"Electronics And Communication\",\"Information Technology\",\"Electronics And Communication\",\"Computer Science\",\"Mechanical\",\"Computer Science\",\"Electronics And Communication\",\"Civil\",\"Civil\",\"Electrical\",\"Information Technology\",\"Computer Science\",\"Mechanical\",\"Electronics And Communication\",\"Computer Science\",\"Electronics And Communication\",\"Information Technology\",\"Computer Science\",\"Civil\",\"Mechanical\",\"Mechanical\",\"Mechanical\",\"Electrical\",\"Information Technology\",\"Information Technology\",\"Information Technology\",\"Information Technology\",\"Civil\",\"Mechanical\",\"Computer Science\",\"Computer Science\",\"Electronics And Communication\",\"Electronics And Communication\",\"Information Technology\",\"Computer Science\",\"Computer Science\",\"Mechanical\",\"Computer Science\",\"Information Technology\",\"Electronics And Communication\",\"Mechanical\",\"Mechanical\",\"Mechanical\",\"Mechanical\",\"Civil\",\"Electrical\",\"Computer Science\",\"Computer Science\",\"Civil\",\"Information Technology\",\"Information Technology\",\"Electrical\",\"Information Technology\",\"Electronics And Communication\",\"Computer Science\",\"Information Technology\",\"Mechanical\",\"Civil\",\"Mechanical\",\"Electrical\",\"Mechanical\",\"Mechanical\",\"Civil\",\"Computer Science\",\"Information Technology\",\"Computer Science\",\"Electronics And Communication\",\"Electrical\",\"Civil\",\"Mechanical\",\"Information Technology\",\"Civil\",\"Computer Science\",\"Mechanical\",\"Mechanical\",\"Computer Science\",\"Computer Science\",\"Computer Science\",\"Computer Science\",\"Civil\",\"Electronics And Communication\",\"Electrical\",\"Information Technology\",\"Civil\",\"Civil\",\"Electrical\",\"Computer Science\",\"Computer Science\",\"Computer Science\",\"Computer Science\",\"Computer Science\",\"Information Technology\",\"Information Technology\",\"Information Technology\",\"Information Technology\",\"Electronics And Communication\",\"Information Technology\",\"Civil\",\"Information Technology\",\"Civil\",\"Information Technology\",\"Information Technology\",\"Electronics And Communication\",\"Information Technology\",\"Mechanical\",\"Computer Science\",\"Computer Science\",\"Electrical\",\"Computer Science\",\"Mechanical\",\"Electronics And Communication\",\"Computer Science\",\"Electronics And Communication\",\"Electronics And Communication\",\"Information Technology\",\"Civil\",\"Electronics And Communication\",\"Civil\",\"Information Technology\",\"Mechanical\",\"Civil\",\"Mechanical\",\"Computer Science\",\"Computer Science\",\"Electronics And Communication\",\"Mechanical\",\"Electronics And Communication\",\"Electrical\",\"Information Technology\",\"Mechanical\",\"Computer Science\",\"Electrical\",\"Civil\",\"Information Technology\",\"Computer Science\",\"Computer Science\",\"Computer Science\",\"Information Technology\",\"Computer Science\",\"Information Technology\",\"Mechanical\",\"Mechanical\",\"Information Technology\",\"Civil\",\"Electronics And Communication\",\"Computer Science\",\"Computer Science\",\"Information Technology\",\"Information Technology\",\"Information Technology\",\"Computer Science\",\"Computer Science\",\"Computer Science\",\"Mechanical\",\"Information Technology\",\"Electrical\",\"Mechanical\",\"Computer Science\",\"Computer Science\",\"Electronics And Communication\",\"Information Technology\",\"Information Technology\",\"Information Technology\",\"Electronics And Communication\",\"Computer Science\",\"Computer Science\",\"Information Technology\",\"Information Technology\",\"Civil\",\"Information Technology\",\"Computer Science\",\"Computer Science\",\"Mechanical\",\"Electronics And Communication\",\"Mechanical\",\"Computer Science\",\"Civil\",\"Civil\",\"Electrical\",\"Civil\",\"Computer Science\",\"Computer Science\",\"Computer Science\",\"Information Technology\",\"Electrical\",\"Computer Science\",\"Civil\",\"Information Technology\",\"Computer Science\",\"Computer Science\",\"Information Technology\",\"Information Technology\",\"Computer Science\",\"Computer Science\",\"Electrical\",\"Computer Science\",\"Computer Science\",\"Electrical\",\"Information Technology\",\"Electronics And Communication\",\"Computer Science\",\"Information Technology\",\"Civil\",\"Electrical\",\"Electronics And Communication\",\"Electronics And Communication\",\"Computer Science\",\"Computer Science\",\"Mechanical\",\"Information Technology\",\"Computer Science\",\"Information Technology\",\"Civil\",\"Electrical\",\"Electrical\",\"Electrical\",\"Computer Science\",\"Mechanical\",\"Computer Science\",\"Computer Science\",\"Information Technology\",\"Mechanical\",\"Information Technology\",\"Information Technology\",\"Information Technology\",\"Electrical\",\"Information Technology\",\"Mechanical\",\"Electrical\",\"Computer Science\",\"Computer Science\",\"Mechanical\",\"Electrical\",\"Computer Science\",\"Civil\",\"Information Technology\",\"Civil\",\"Electronics And Communication\",\"Computer Science\",\"Information Technology\",\"Computer Science\",\"Computer Science\",\"Information Technology\",\"Civil\",\"Information Technology\",\"Electronics And Communication\",\"Computer Science\",\"Electrical\",\"Information Technology\",\"Electrical\",\"Mechanical\",\"Mechanical\",\"Electrical\",\"Electrical\",\"Information Technology\",\"Mechanical\",\"Civil\",\"Electronics And Communication\",\"Electrical\",\"Computer Science\",\"Information Technology\",\"Civil\",\"Mechanical\",\"Computer Science\",\"Electronics And Communication\",\"Information Technology\",\"Information Technology\",\"Electrical\",\"Information Technology\",\"Electronics And Communication\",\"Mechanical\",\"Computer Science\",\"Computer Science\",\"Computer Science\",\"Information Technology\",\"Computer Science\",\"Electrical\",\"Civil\",\"Electronics And Communication\",\"Mechanical\",\"Electrical\",\"Civil\",\"Mechanical\",\"Electrical\",\"Electrical\",\"Electrical\",\"Mechanical\",\"Computer Science\",\"Electrical\",\"Electronics And Communication\",\"Mechanical\",\"Mechanical\",\"Civil\",\"Electronics And Communication\",\"Electrical\",\"Information Technology\",\"Information Technology\",\"Electrical\",\"Mechanical\",\"Civil\",\"Mechanical\",\"Mechanical\",\"Information Technology\",\"Computer Science\",\"Civil\",\"Electrical\",\"Computer Science\",\"Computer Science\",\"Computer Science\",\"Information Technology\",\"Mechanical\",\"Electronics And Communication\",\"Computer Science\",\"Information Technology\",\"Civil\",\"Information Technology\",\"Information Technology\",\"Electrical\",\"Information Technology\",\"Electronics And Communication\",\"Information Technology\",\"Information Technology\",\"Electronics And Communication\",\"Civil\",\"Electronics And Communication\",\"Information Technology\",\"Information Technology\",\"Computer Science\",\"Civil\",\"Information Technology\",\"Electrical\",\"Civil\",\"Civil\",\"Information Technology\",\"Computer Science\",\"Electronics And Communication\",\"Computer Science\",\"Electronics And Communication\",\"Mechanical\",\"Information Technology\",\"Electronics And Communication\",\"Computer Science\",\"Mechanical\",\"Electronics And Communication\",\"Electrical\",\"Computer Science\",\"Computer Science\",\"Mechanical\",\"Electrical\",\"Information Technology\",\"Information Technology\",\"Information Technology\",\"Electronics And Communication\",\"Computer Science\",\"Electronics And Communication\",\"Information Technology\",\"Electrical\",\"Civil\",\"Civil\",\"Information Technology\",\"Electronics And Communication\",\"Information Technology\",\"Computer Science\",\"Computer Science\",\"Civil\",\"Computer Science\",\"Computer Science\",\"Mechanical\",\"Information Technology\",\"Electrical\",\"Mechanical\",\"Computer Science\",\"Electrical\",\"Computer Science\",\"Mechanical\",\"Computer Science\",\"Computer Science\",\"Computer Science\",\"Electronics And Communication\",\"Civil\",\"Electronics And Communication\",\"Information Technology\",\"Electrical\",\"Mechanical\",\"Mechanical\",\"Information Technology\",\"Mechanical\",\"Electronics And Communication\",\"Mechanical\",\"Electronics And Communication\",\"Civil\",\"Electronics And Communication\",\"Civil\",\"Civil\",\"Mechanical\",\"Mechanical\",\"Computer Science\",\"Mechanical\",\"Civil\",\"Computer Science\",\"Computer Science\",\"Electrical\",\"Mechanical\",\"Electrical\",\"Electrical\",\"Electronics And Communication\",\"Computer Science\",\"Civil\",\"Civil\",\"Computer Science\",\"Civil\",\"Computer Science\",\"Computer Science\",\"Computer Science\",\"Civil\",\"Information Technology\",\"Computer Science\",\"Information Technology\",\"Electronics And Communication\",\"Computer Science\",\"Computer Science\",\"Mechanical\",\"Electronics And Communication\",\"Civil\",\"Mechanical\",\"Information Technology\",\"Computer Science\",\"Civil\",\"Computer Science\",\"Mechanical\",\"Electrical\",\"Information Technology\",\"Information Technology\",\"Computer Science\",\"Information Technology\",\"Electronics And Communication\",\"Information Technology\",\"Civil\",\"Electronics And Communication\",\"Computer Science\",\"Computer Science\",\"Information Technology\",\"Electrical\",\"Computer Science\",\"Electrical\",\"Computer Science\",\"Electronics And Communication\",\"Information Technology\",\"Information Technology\",\"Information Technology\",\"Computer Science\",\"Electronics And Communication\",\"Information Technology\",\"Computer Science\",\"Information Technology\",\"Electrical\",\"Computer Science\",\"Computer Science\",\"Computer Science\",\"Civil\",\"Civil\",\"Information Technology\",\"Electronics And Communication\",\"Computer Science\",\"Mechanical\",\"Mechanical\",\"Electronics And Communication\",\"Computer Science\",\"Mechanical\",\"Civil\",\"Electronics And Communication\",\"Information Technology\",\"Computer Science\",\"Mechanical\",\"Civil\",\"Information Technology\",\"Electronics And Communication\",\"Information Technology\",\"Mechanical\",\"Electronics And Communication\",\"Mechanical\",\"Civil\",\"Computer Science\",\"Computer Science\",\"Computer Science\",\"Electronics And Communication\",\"Mechanical\",\"Computer Science\",\"Information Technology\",\"Civil\",\"Mechanical\",\"Mechanical\",\"Computer Science\",\"Mechanical\",\"Information Technology\",\"Civil\",\"Mechanical\",\"Computer Science\",\"Information Technology\",\"Civil\",\"Mechanical\",\"Information Technology\",\"Mechanical\",\"Information Technology\",\"Information Technology\",\"Mechanical\",\"Electrical\",\"Electrical\",\"Computer Science\",\"Computer Science\",\"Civil\",\"Mechanical\",\"Computer Science\",\"Civil\",\"Information Technology\",\"Computer Science\",\"Information Technology\",\"Mechanical\",\"Information Technology\",\"Computer Science\",\"Information Technology\",\"Information Technology\",\"Computer Science\",\"Computer Science\",\"Computer Science\",\"Civil\",\"Electronics And Communication\",\"Mechanical\",\"Mechanical\",\"Information Technology\",\"Mechanical\",\"Information Technology\",\"Computer Science\",\"Computer Science\",\"Mechanical\",\"Computer Science\",\"Information Technology\",\"Information Technology\",\"Information Technology\",\"Computer Science\",\"Computer Science\",\"Computer Science\",\"Mechanical\",\"Computer Science\",\"Electronics And Communication\",\"Electronics And Communication\",\"Electrical\",\"Information Technology\",\"Electronics And Communication\",\"Information Technology\",\"Electrical\",\"Computer Science\",\"Mechanical\",\"Information Technology\",\"Information Technology\",\"Mechanical\",\"Computer Science\",\"Information Technology\",\"Computer Science\",\"Computer Science\",\"Computer Science\",\"Electronics And Communication\",\"Electrical\",\"Computer Science\",\"Civil\",\"Electrical\",\"Computer Science\",\"Electronics And Communication\",\"Mechanical\",\"Electronics And Communication\",\"Mechanical\",\"Electronics And Communication\",\"Information Technology\",\"Computer Science\",\"Computer Science\",\"Mechanical\",\"Computer Science\",\"Mechanical\",\"Electrical\",\"Computer Science\",\"Electrical\",\"Civil\",\"Information Technology\",\"Computer Science\",\"Mechanical\",\"Computer Science\",\"Mechanical\",\"Civil\",\"Civil\",\"Information Technology\",\"Mechanical\",\"Electronics And Communication\",\"Computer Science\",\"Information Technology\",\"Electronics And Communication\",\"Information Technology\",\"Information Technology\",\"Mechanical\",\"Information Technology\",\"Computer Science\",\"Information Technology\",\"Mechanical\",\"Mechanical\",\"Mechanical\",\"Computer Science\",\"Information Technology\",\"Mechanical\",\"Electrical\",\"Mechanical\",\"Information Technology\",\"Electrical\",\"Information Technology\",\"Computer Science\",\"Mechanical\",\"Information Technology\",\"Electronics And Communication\",\"Information Technology\",\"Electrical\",\"Information Technology\",\"Computer Science\",\"Information Technology\",\"Information Technology\",\"Mechanical\",\"Information Technology\",\"Information Technology\",\"Information Technology\",\"Civil\",\"Computer Science\",\"Computer Science\",\"Computer Science\",\"Electronics And Communication\",\"Information Technology\",\"Information Technology\",\"Electrical\",\"Mechanical\",\"Information Technology\",\"Electrical\",\"Mechanical\",\"Computer Science\",\"Computer Science\",\"Computer Science\",\"Mechanical\",\"Computer Science\",\"Information Technology\",\"Mechanical\",\"Computer Science\",\"Electronics And Communication\",\"Electrical\",\"Mechanical\",\"Information Technology\",\"Computer Science\",\"Information Technology\",\"Electrical\",\"Electronics And Communication\",\"Information Technology\",\"Electrical\",\"Computer Science\",\"Information Technology\",\"Mechanical\",\"Information Technology\",\"Mechanical\",\"Information Technology\",\"Computer Science\"],\"xaxis\":\"x\",\"yaxis\":\"y\",\"type\":\"histogram\"}],                        {\"template\":{\"data\":{\"barpolar\":[{\"marker\":{\"line\":{\"color\":\"rgb(17,17,17)\",\"width\":0.5},\"pattern\":{\"fillmode\":\"overlay\",\"size\":10,\"solidity\":0.2}},\"type\":\"barpolar\"}],\"bar\":[{\"error_x\":{\"color\":\"#f2f5fa\"},\"error_y\":{\"color\":\"#f2f5fa\"},\"marker\":{\"line\":{\"color\":\"rgb(17,17,17)\",\"width\":0.5},\"pattern\":{\"fillmode\":\"overlay\",\"size\":10,\"solidity\":0.2}},\"type\":\"bar\"}],\"carpet\":[{\"aaxis\":{\"endlinecolor\":\"#A2B1C6\",\"gridcolor\":\"#506784\",\"linecolor\":\"#506784\",\"minorgridcolor\":\"#506784\",\"startlinecolor\":\"#A2B1C6\"},\"baxis\":{\"endlinecolor\":\"#A2B1C6\",\"gridcolor\":\"#506784\",\"linecolor\":\"#506784\",\"minorgridcolor\":\"#506784\",\"startlinecolor\":\"#A2B1C6\"},\"type\":\"carpet\"}],\"choropleth\":[{\"colorbar\":{\"outlinewidth\":0,\"ticks\":\"\"},\"type\":\"choropleth\"}],\"contourcarpet\":[{\"colorbar\":{\"outlinewidth\":0,\"ticks\":\"\"},\"type\":\"contourcarpet\"}],\"contour\":[{\"colorbar\":{\"outlinewidth\":0,\"ticks\":\"\"},\"colorscale\":[[0.0,\"#0d0887\"],[0.1111111111111111,\"#46039f\"],[0.2222222222222222,\"#7201a8\"],[0.3333333333333333,\"#9c179e\"],[0.4444444444444444,\"#bd3786\"],[0.5555555555555556,\"#d8576b\"],[0.6666666666666666,\"#ed7953\"],[0.7777777777777778,\"#fb9f3a\"],[0.8888888888888888,\"#fdca26\"],[1.0,\"#f0f921\"]],\"type\":\"contour\"}],\"heatmapgl\":[{\"colorbar\":{\"outlinewidth\":0,\"ticks\":\"\"},\"colorscale\":[[0.0,\"#0d0887\"],[0.1111111111111111,\"#46039f\"],[0.2222222222222222,\"#7201a8\"],[0.3333333333333333,\"#9c179e\"],[0.4444444444444444,\"#bd3786\"],[0.5555555555555556,\"#d8576b\"],[0.6666666666666666,\"#ed7953\"],[0.7777777777777778,\"#fb9f3a\"],[0.8888888888888888,\"#fdca26\"],[1.0,\"#f0f921\"]],\"type\":\"heatmapgl\"}],\"heatmap\":[{\"colorbar\":{\"outlinewidth\":0,\"ticks\":\"\"},\"colorscale\":[[0.0,\"#0d0887\"],[0.1111111111111111,\"#46039f\"],[0.2222222222222222,\"#7201a8\"],[0.3333333333333333,\"#9c179e\"],[0.4444444444444444,\"#bd3786\"],[0.5555555555555556,\"#d8576b\"],[0.6666666666666666,\"#ed7953\"],[0.7777777777777778,\"#fb9f3a\"],[0.8888888888888888,\"#fdca26\"],[1.0,\"#f0f921\"]],\"type\":\"heatmap\"}],\"histogram2dcontour\":[{\"colorbar\":{\"outlinewidth\":0,\"ticks\":\"\"},\"colorscale\":[[0.0,\"#0d0887\"],[0.1111111111111111,\"#46039f\"],[0.2222222222222222,\"#7201a8\"],[0.3333333333333333,\"#9c179e\"],[0.4444444444444444,\"#bd3786\"],[0.5555555555555556,\"#d8576b\"],[0.6666666666666666,\"#ed7953\"],[0.7777777777777778,\"#fb9f3a\"],[0.8888888888888888,\"#fdca26\"],[1.0,\"#f0f921\"]],\"type\":\"histogram2dcontour\"}],\"histogram2d\":[{\"colorbar\":{\"outlinewidth\":0,\"ticks\":\"\"},\"colorscale\":[[0.0,\"#0d0887\"],[0.1111111111111111,\"#46039f\"],[0.2222222222222222,\"#7201a8\"],[0.3333333333333333,\"#9c179e\"],[0.4444444444444444,\"#bd3786\"],[0.5555555555555556,\"#d8576b\"],[0.6666666666666666,\"#ed7953\"],[0.7777777777777778,\"#fb9f3a\"],[0.8888888888888888,\"#fdca26\"],[1.0,\"#f0f921\"]],\"type\":\"histogram2d\"}],\"histogram\":[{\"marker\":{\"pattern\":{\"fillmode\":\"overlay\",\"size\":10,\"solidity\":0.2}},\"type\":\"histogram\"}],\"mesh3d\":[{\"colorbar\":{\"outlinewidth\":0,\"ticks\":\"\"},\"type\":\"mesh3d\"}],\"parcoords\":[{\"line\":{\"colorbar\":{\"outlinewidth\":0,\"ticks\":\"\"}},\"type\":\"parcoords\"}],\"pie\":[{\"automargin\":true,\"type\":\"pie\"}],\"scatter3d\":[{\"line\":{\"colorbar\":{\"outlinewidth\":0,\"ticks\":\"\"}},\"marker\":{\"colorbar\":{\"outlinewidth\":0,\"ticks\":\"\"}},\"type\":\"scatter3d\"}],\"scattercarpet\":[{\"marker\":{\"colorbar\":{\"outlinewidth\":0,\"ticks\":\"\"}},\"type\":\"scattercarpet\"}],\"scattergeo\":[{\"marker\":{\"colorbar\":{\"outlinewidth\":0,\"ticks\":\"\"}},\"type\":\"scattergeo\"}],\"scattergl\":[{\"marker\":{\"line\":{\"color\":\"#283442\"}},\"type\":\"scattergl\"}],\"scattermapbox\":[{\"marker\":{\"colorbar\":{\"outlinewidth\":0,\"ticks\":\"\"}},\"type\":\"scattermapbox\"}],\"scatterpolargl\":[{\"marker\":{\"colorbar\":{\"outlinewidth\":0,\"ticks\":\"\"}},\"type\":\"scatterpolargl\"}],\"scatterpolar\":[{\"marker\":{\"colorbar\":{\"outlinewidth\":0,\"ticks\":\"\"}},\"type\":\"scatterpolar\"}],\"scatter\":[{\"marker\":{\"line\":{\"color\":\"#283442\"}},\"type\":\"scatter\"}],\"scatterternary\":[{\"marker\":{\"colorbar\":{\"outlinewidth\":0,\"ticks\":\"\"}},\"type\":\"scatterternary\"}],\"surface\":[{\"colorbar\":{\"outlinewidth\":0,\"ticks\":\"\"},\"colorscale\":[[0.0,\"#0d0887\"],[0.1111111111111111,\"#46039f\"],[0.2222222222222222,\"#7201a8\"],[0.3333333333333333,\"#9c179e\"],[0.4444444444444444,\"#bd3786\"],[0.5555555555555556,\"#d8576b\"],[0.6666666666666666,\"#ed7953\"],[0.7777777777777778,\"#fb9f3a\"],[0.8888888888888888,\"#fdca26\"],[1.0,\"#f0f921\"]],\"type\":\"surface\"}],\"table\":[{\"cells\":{\"fill\":{\"color\":\"#506784\"},\"line\":{\"color\":\"rgb(17,17,17)\"}},\"header\":{\"fill\":{\"color\":\"#2a3f5f\"},\"line\":{\"color\":\"rgb(17,17,17)\"}},\"type\":\"table\"}]},\"layout\":{\"annotationdefaults\":{\"arrowcolor\":\"#f2f5fa\",\"arrowhead\":0,\"arrowwidth\":1},\"autotypenumbers\":\"strict\",\"coloraxis\":{\"colorbar\":{\"outlinewidth\":0,\"ticks\":\"\"}},\"colorscale\":{\"diverging\":[[0,\"#8e0152\"],[0.1,\"#c51b7d\"],[0.2,\"#de77ae\"],[0.3,\"#f1b6da\"],[0.4,\"#fde0ef\"],[0.5,\"#f7f7f7\"],[0.6,\"#e6f5d0\"],[0.7,\"#b8e186\"],[0.8,\"#7fbc41\"],[0.9,\"#4d9221\"],[1,\"#276419\"]],\"sequential\":[[0.0,\"#0d0887\"],[0.1111111111111111,\"#46039f\"],[0.2222222222222222,\"#7201a8\"],[0.3333333333333333,\"#9c179e\"],[0.4444444444444444,\"#bd3786\"],[0.5555555555555556,\"#d8576b\"],[0.6666666666666666,\"#ed7953\"],[0.7777777777777778,\"#fb9f3a\"],[0.8888888888888888,\"#fdca26\"],[1.0,\"#f0f921\"]],\"sequentialminus\":[[0.0,\"#0d0887\"],[0.1111111111111111,\"#46039f\"],[0.2222222222222222,\"#7201a8\"],[0.3333333333333333,\"#9c179e\"],[0.4444444444444444,\"#bd3786\"],[0.5555555555555556,\"#d8576b\"],[0.6666666666666666,\"#ed7953\"],[0.7777777777777778,\"#fb9f3a\"],[0.8888888888888888,\"#fdca26\"],[1.0,\"#f0f921\"]]},\"colorway\":[\"#636efa\",\"#EF553B\",\"#00cc96\",\"#ab63fa\",\"#FFA15A\",\"#19d3f3\",\"#FF6692\",\"#B6E880\",\"#FF97FF\",\"#FECB52\"],\"font\":{\"color\":\"#f2f5fa\"},\"geo\":{\"bgcolor\":\"rgb(17,17,17)\",\"lakecolor\":\"rgb(17,17,17)\",\"landcolor\":\"rgb(17,17,17)\",\"showlakes\":true,\"showland\":true,\"subunitcolor\":\"#506784\"},\"hoverlabel\":{\"align\":\"left\"},\"hovermode\":\"closest\",\"mapbox\":{\"style\":\"dark\"},\"paper_bgcolor\":\"rgb(17,17,17)\",\"plot_bgcolor\":\"rgb(17,17,17)\",\"polar\":{\"angularaxis\":{\"gridcolor\":\"#506784\",\"linecolor\":\"#506784\",\"ticks\":\"\"},\"bgcolor\":\"rgb(17,17,17)\",\"radialaxis\":{\"gridcolor\":\"#506784\",\"linecolor\":\"#506784\",\"ticks\":\"\"}},\"scene\":{\"xaxis\":{\"backgroundcolor\":\"rgb(17,17,17)\",\"gridcolor\":\"#506784\",\"gridwidth\":2,\"linecolor\":\"#506784\",\"showbackground\":true,\"ticks\":\"\",\"zerolinecolor\":\"#C8D4E3\"},\"yaxis\":{\"backgroundcolor\":\"rgb(17,17,17)\",\"gridcolor\":\"#506784\",\"gridwidth\":2,\"linecolor\":\"#506784\",\"showbackground\":true,\"ticks\":\"\",\"zerolinecolor\":\"#C8D4E3\"},\"zaxis\":{\"backgroundcolor\":\"rgb(17,17,17)\",\"gridcolor\":\"#506784\",\"gridwidth\":2,\"linecolor\":\"#506784\",\"showbackground\":true,\"ticks\":\"\",\"zerolinecolor\":\"#C8D4E3\"}},\"shapedefaults\":{\"line\":{\"color\":\"#f2f5fa\"}},\"sliderdefaults\":{\"bgcolor\":\"#C8D4E3\",\"bordercolor\":\"rgb(17,17,17)\",\"borderwidth\":1,\"tickwidth\":0},\"ternary\":{\"aaxis\":{\"gridcolor\":\"#506784\",\"linecolor\":\"#506784\",\"ticks\":\"\"},\"baxis\":{\"gridcolor\":\"#506784\",\"linecolor\":\"#506784\",\"ticks\":\"\"},\"bgcolor\":\"rgb(17,17,17)\",\"caxis\":{\"gridcolor\":\"#506784\",\"linecolor\":\"#506784\",\"ticks\":\"\"}},\"title\":{\"x\":0.05},\"updatemenudefaults\":{\"bgcolor\":\"#506784\",\"borderwidth\":0},\"xaxis\":{\"automargin\":true,\"gridcolor\":\"#283442\",\"linecolor\":\"#506784\",\"ticks\":\"\",\"title\":{\"standoff\":15},\"zerolinecolor\":\"#283442\",\"zerolinewidth\":2},\"yaxis\":{\"automargin\":true,\"gridcolor\":\"#283442\",\"linecolor\":\"#506784\",\"ticks\":\"\",\"title\":{\"standoff\":15},\"zerolinecolor\":\"#283442\",\"zerolinewidth\":2}}},\"xaxis\":{\"anchor\":\"y\",\"domain\":[0.0,1.0],\"title\":{\"text\":\"Stream\"}},\"yaxis\":{\"anchor\":\"x\",\"domain\":[0.0,1.0],\"title\":{\"text\":\"count\"}},\"legend\":{\"title\":{\"text\":\"PlacedOrNot\"},\"tracegroupgap\":0},\"title\":{\"text\":\"<b>Counts of Stream</b>\",\"font\":{\"size\":20},\"x\":0.5},\"barmode\":\"relative\",\"uniformtext\":{\"minsize\":15}},                        {\"responsive\": true}                    ).then(function(){\n",
       "                            \n",
       "var gd = document.getElementById('e8cf6402-6605-424c-9d53-df55b367cbf2');\n",
       "var x = new MutationObserver(function (mutations, observer) {{\n",
       "        var display = window.getComputedStyle(gd).display;\n",
       "        if (!display || display === 'none') {{\n",
       "            console.log([gd, 'removed!']);\n",
       "            Plotly.purge(gd);\n",
       "            observer.disconnect();\n",
       "        }}\n",
       "}});\n",
       "\n",
       "// Listen for the removal of the full notebook cells\n",
       "var notebookContainer = gd.closest('#notebook-container');\n",
       "if (notebookContainer) {{\n",
       "    x.observe(notebookContainer, {childList: true});\n",
       "}}\n",
       "\n",
       "// Listen for the clearing of the current output cell\n",
       "var outputEl = gd.closest('.output');\n",
       "if (outputEl) {{\n",
       "    x.observe(outputEl, {childList: true});\n",
       "}}\n",
       "\n",
       "                        })                };                });            </script>        </div>"
      ]
     },
     "metadata": {},
     "output_type": "display_data"
    }
   ],
   "source": [
    "fig = px.histogram(data_frame = data,\n",
    "             x = \"Stream\",\n",
    "             color=\"PlacedOrNot\", title=\"<b>Counts of Stream</b>\",\n",
    "             pattern_shape_sequence=['x'],\n",
    "             template='plotly_dark')\n",
    "\n",
    "fig.update_layout(title_x = 0.5,\n",
    "                  title_font = dict(size = 20),\n",
    "                  uniformtext_minsize = 15)\n",
    "\n",
    "\n",
    "fig.show()"
   ]
  },
  {
   "cell_type": "markdown",
   "id": "ff9604eb",
   "metadata": {
    "papermill": {
     "duration": 0.018001,
     "end_time": "2022-09-24T10:46:06.971484",
     "exception": false,
     "start_time": "2022-09-24T10:46:06.953483",
     "status": "completed"
    },
    "tags": []
   },
   "source": [
    "# Majority of candidate are Computer Science Student and they are also large in number who got placement as compare to other Streams"
   ]
  },
  {
   "cell_type": "markdown",
   "id": "5e6b6b8c",
   "metadata": {
    "papermill": {
     "duration": 0.01855,
     "end_time": "2022-09-24T10:46:07.009866",
     "exception": false,
     "start_time": "2022-09-24T10:46:06.991316",
     "status": "completed"
    },
    "tags": []
   },
   "source": [
    "# Displaying all those records whose CGPA is above average"
   ]
  },
  {
   "cell_type": "code",
   "execution_count": 20,
   "id": "77a9a3aa",
   "metadata": {
    "execution": {
     "iopub.execute_input": "2022-09-24T10:46:07.049244Z",
     "iopub.status.busy": "2022-09-24T10:46:07.048370Z",
     "iopub.status.idle": "2022-09-24T10:46:07.065725Z",
     "shell.execute_reply": "2022-09-24T10:46:07.064919Z"
    },
    "papermill": {
     "duration": 0.038356,
     "end_time": "2022-09-24T10:46:07.067683",
     "exception": false,
     "start_time": "2022-09-24T10:46:07.029327",
     "status": "completed"
    },
    "tags": []
   },
   "outputs": [
    {
     "data": {
      "text/html": [
       "<div>\n",
       "<style scoped>\n",
       "    .dataframe tbody tr th:only-of-type {\n",
       "        vertical-align: middle;\n",
       "    }\n",
       "\n",
       "    .dataframe tbody tr th {\n",
       "        vertical-align: top;\n",
       "    }\n",
       "\n",
       "    .dataframe thead th {\n",
       "        text-align: right;\n",
       "    }\n",
       "</style>\n",
       "<table border=\"1\" class=\"dataframe\">\n",
       "  <thead>\n",
       "    <tr style=\"text-align: right;\">\n",
       "      <th></th>\n",
       "      <th>Age</th>\n",
       "      <th>Gender</th>\n",
       "      <th>Stream</th>\n",
       "      <th>Internships</th>\n",
       "      <th>CGPA</th>\n",
       "      <th>Hostel</th>\n",
       "      <th>HistoryOfBacklogs</th>\n",
       "      <th>PlacedOrNot</th>\n",
       "    </tr>\n",
       "  </thead>\n",
       "  <tbody>\n",
       "    <tr>\n",
       "      <th>0</th>\n",
       "      <td>22</td>\n",
       "      <td>Male</td>\n",
       "      <td>Electronics And Communication</td>\n",
       "      <td>1</td>\n",
       "      <td>8</td>\n",
       "      <td>1</td>\n",
       "      <td>1</td>\n",
       "      <td>1</td>\n",
       "    </tr>\n",
       "    <tr>\n",
       "      <th>3</th>\n",
       "      <td>21</td>\n",
       "      <td>Male</td>\n",
       "      <td>Information Technology</td>\n",
       "      <td>0</td>\n",
       "      <td>8</td>\n",
       "      <td>0</td>\n",
       "      <td>1</td>\n",
       "      <td>1</td>\n",
       "    </tr>\n",
       "    <tr>\n",
       "      <th>4</th>\n",
       "      <td>22</td>\n",
       "      <td>Male</td>\n",
       "      <td>Mechanical</td>\n",
       "      <td>0</td>\n",
       "      <td>8</td>\n",
       "      <td>1</td>\n",
       "      <td>0</td>\n",
       "      <td>1</td>\n",
       "    </tr>\n",
       "    <tr>\n",
       "      <th>11</th>\n",
       "      <td>22</td>\n",
       "      <td>Female</td>\n",
       "      <td>Electrical</td>\n",
       "      <td>1</td>\n",
       "      <td>8</td>\n",
       "      <td>0</td>\n",
       "      <td>1</td>\n",
       "      <td>1</td>\n",
       "    </tr>\n",
       "    <tr>\n",
       "      <th>13</th>\n",
       "      <td>21</td>\n",
       "      <td>Male</td>\n",
       "      <td>Computer Science</td>\n",
       "      <td>1</td>\n",
       "      <td>8</td>\n",
       "      <td>0</td>\n",
       "      <td>1</td>\n",
       "      <td>1</td>\n",
       "    </tr>\n",
       "    <tr>\n",
       "      <th>...</th>\n",
       "      <td>...</td>\n",
       "      <td>...</td>\n",
       "      <td>...</td>\n",
       "      <td>...</td>\n",
       "      <td>...</td>\n",
       "      <td>...</td>\n",
       "      <td>...</td>\n",
       "      <td>...</td>\n",
       "    </tr>\n",
       "    <tr>\n",
       "      <th>2951</th>\n",
       "      <td>21</td>\n",
       "      <td>Male</td>\n",
       "      <td>Computer Science</td>\n",
       "      <td>3</td>\n",
       "      <td>8</td>\n",
       "      <td>0</td>\n",
       "      <td>0</td>\n",
       "      <td>1</td>\n",
       "    </tr>\n",
       "    <tr>\n",
       "      <th>2952</th>\n",
       "      <td>23</td>\n",
       "      <td>Male</td>\n",
       "      <td>Mechanical</td>\n",
       "      <td>0</td>\n",
       "      <td>8</td>\n",
       "      <td>1</td>\n",
       "      <td>0</td>\n",
       "      <td>1</td>\n",
       "    </tr>\n",
       "    <tr>\n",
       "      <th>2954</th>\n",
       "      <td>23</td>\n",
       "      <td>Female</td>\n",
       "      <td>Computer Science</td>\n",
       "      <td>1</td>\n",
       "      <td>8</td>\n",
       "      <td>0</td>\n",
       "      <td>1</td>\n",
       "      <td>1</td>\n",
       "    </tr>\n",
       "    <tr>\n",
       "      <th>2956</th>\n",
       "      <td>22</td>\n",
       "      <td>Male</td>\n",
       "      <td>Computer Science</td>\n",
       "      <td>0</td>\n",
       "      <td>8</td>\n",
       "      <td>0</td>\n",
       "      <td>0</td>\n",
       "      <td>1</td>\n",
       "    </tr>\n",
       "    <tr>\n",
       "      <th>2965</th>\n",
       "      <td>23</td>\n",
       "      <td>Male</td>\n",
       "      <td>Civil</td>\n",
       "      <td>0</td>\n",
       "      <td>8</td>\n",
       "      <td>0</td>\n",
       "      <td>0</td>\n",
       "      <td>1</td>\n",
       "    </tr>\n",
       "  </tbody>\n",
       "</table>\n",
       "<p>1080 rows × 8 columns</p>\n",
       "</div>"
      ],
      "text/plain": [
       "      Age  Gender                         Stream  Internships  CGPA  Hostel  \\\n",
       "0      22    Male  Electronics And Communication            1     8       1   \n",
       "3      21    Male         Information Technology            0     8       0   \n",
       "4      22    Male                     Mechanical            0     8       1   \n",
       "11     22  Female                     Electrical            1     8       0   \n",
       "13     21    Male               Computer Science            1     8       0   \n",
       "...   ...     ...                            ...          ...   ...     ...   \n",
       "2951   21    Male               Computer Science            3     8       0   \n",
       "2952   23    Male                     Mechanical            0     8       1   \n",
       "2954   23  Female               Computer Science            1     8       0   \n",
       "2956   22    Male               Computer Science            0     8       0   \n",
       "2965   23    Male                          Civil            0     8       0   \n",
       "\n",
       "      HistoryOfBacklogs  PlacedOrNot  \n",
       "0                     1            1  \n",
       "3                     1            1  \n",
       "4                     0            1  \n",
       "11                    1            1  \n",
       "13                    1            1  \n",
       "...                 ...          ...  \n",
       "2951                  0            1  \n",
       "2952                  0            1  \n",
       "2954                  1            1  \n",
       "2956                  0            1  \n",
       "2965                  0            1  \n",
       "\n",
       "[1080 rows x 8 columns]"
      ]
     },
     "execution_count": 20,
     "metadata": {},
     "output_type": "execute_result"
    }
   ],
   "source": [
    "cgpa_above_avg = data[data['CGPA'] > data['CGPA'].mean()]\n",
    "\n",
    "cgpa_above_avg"
   ]
  },
  {
   "cell_type": "code",
   "execution_count": 21,
   "id": "a7d96d8e",
   "metadata": {
    "execution": {
     "iopub.execute_input": "2022-09-24T10:46:07.107861Z",
     "iopub.status.busy": "2022-09-24T10:46:07.107133Z",
     "iopub.status.idle": "2022-09-24T10:46:07.164525Z",
     "shell.execute_reply": "2022-09-24T10:46:07.163568Z"
    },
    "papermill": {
     "duration": 0.080692,
     "end_time": "2022-09-24T10:46:07.166914",
     "exception": false,
     "start_time": "2022-09-24T10:46:07.086222",
     "status": "completed"
    },
    "tags": []
   },
   "outputs": [
    {
     "data": {
      "text/html": [
       "<div>                            <div id=\"38d619ac-dfed-471e-8ee1-1a9c8afb4cfc\" class=\"plotly-graph-div\" style=\"height:525px; width:100%;\"></div>            <script type=\"text/javascript\">                require([\"plotly\"], function(Plotly) {                    window.PLOTLYENV=window.PLOTLYENV || {};                                    if (document.getElementById(\"38d619ac-dfed-471e-8ee1-1a9c8afb4cfc\")) {                    Plotly.newPlot(                        \"38d619ac-dfed-471e-8ee1-1a9c8afb4cfc\",                        [{\"alignmentgroup\":\"True\",\"bingroup\":\"x\",\"hovertemplate\":\"PlacedOrNot=1<br>CGPA=%{x}<br>count=%{y}<extra></extra>\",\"legendgroup\":\"1\",\"marker\":{\"color\":\"#636efa\",\"pattern\":{\"shape\":\"\"}},\"name\":\"1\",\"offsetgroup\":\"1\",\"orientation\":\"v\",\"showlegend\":true,\"x\":[8,8,8,8,8,8,8,8,8,8,8,8,8,8,8,8,8,8,8,8,8,8,8,8,8,9,8,8,9,8,9,9,8,9,8,8,9,9,8,9,8,9,8,8,8,9,9,8,8,8,8,8,8,8,8,8,8,8,8,8,8,8,8,8,8,8,8,8,8,8,8,8,8,8,8,8,8,8,8,8,8,8,8,8,8,8,8,8,8,8,8,8,8,8,8,8,8,8,8,8,8,8,8,8,8,8,8,8,8,8,8,8,8,8,8,8,8,8,8,8,8,8,8,8,8,8,8,8,8,8,8,8,8,8,8,8,8,8,8,8,8,8,8,8,8,8,8,8,8,8,8,8,8,8,8,8,8,8,8,8,8,8,8,8,8,8,8,8,8,8,8,8,8,8,8,8,8,8,8,8,8,8,8,8,8,8,8,8,8,8,8,8,8,8,8,8,8,8,8,8,8,8,8,8,8,8,8,8,8,8,8,8,8,8,8,9,9,8,8,8,8,8,9,8,8,8,8,9,8,9,9,8,8,9,9,8,8,8,8,8,8,8,8,8,8,8,8,8,8,8,8,8,8,8,8,8,8,8,8,8,8,8,8,8,8,8,8,8,8,8,8,8,8,8,8,8,8,8,8,8,8,8,8,8,8,8,8,8,8,8,8,8,8,8,8,8,8,8,8,8,8,8,8,8,8,8,8,8,8,8,8,8,8,8,8,8,8,8,8,8,8,8,8,8,8,8,8,8,8,8,8,8,8,8,8,8,8,8,8,8,8,8,8,8,8,8,8,8,8,8,8,8,8,8,8,8,8,8,8,9,8,9,9,9,8,9,9,9,8,9,8,8,8,9,9,8,9,9,9,8,8,9,8,8,9,9,8,9,8,9,8,8,8,8,8,8,9,9,9,8,9,8,9,8,8,8,9,8,9,9,8,8,9,9,9,8,9,9,8,9,8,8,8,9,9,9,8,9,9,8,8,8,9,9,9,8,8,8,9,9,9,9,9,9,8,9,8,8,9,8,9,9,9,9,9,9,9,9,9,8,9,9,8,9,8,9,9,9,8,8,9,9,9,8,8,8,8,8,9,8,8,8,8,9,9,8,9,8,8,8,8,8,8,9,9,9,8,8,9,8,9,9,8,8,9,8,8,8,8,8,8,8,8,8,8,8,8,8,8,8,8,8,8,8,8,8,8,8,8,8,8,8,8,8,8,8,8,8,8,8,8,8,8,8,8,8,8,8,8,8,8,8,8,8,8,8,8,8,8,8,8,8,8,8,8,8,8,8,8,8,8,8,8,8,8,8,8,8,8,8,8,8,8,8,8,8,8,8,8,8,8,8,8,8,8,8,8,8,8,8,8,8,8,8,8,8,8,8,8,8,8,8,8,8,8,8,8,8,8,8,8,8,8,8,8,8,8,8,8,8,8,8,8,8,8,8,8,8,8,8,8,8,8,8,8,8,8,8,8,8,8,8,8,8,8,8,8,8,8,8,8,8,8,8,8,8,8,8,8,8,8,8,8,8,8,8,8,8,8,8,8,8,8,8,8,8,8,8,8,8,8,8,8,8,8,8,8,8,8,8,8,8,8,8,8,8,8,8,8,8,8,8,8,8,8,8,8,8,8,8,8,8,8,8,8,8,8,8,8,8,8,8,8,8,8,8,8,9,9,8,9,8,9,9,9,8,8,8,9,9,9,8,8,9,9,9,9,8,9,8,8,9,9,8,8,8,9,9,9,9,9,9,8,9,9,8,8,8,8,8,8,8,8,8,8,8,8,8,8,8,8,8,8,8,8,8,8,8,8,8,8,8,8,8,8,8,8,8,8,8,8,8,8,8,8,8,8,8,8,8,8,8,8,8,8,8,8,8,8,8,8,8,8,8,8,8,8,8,8,8,8,8,8,8,8,8,8,8,8,8,8,8,8,8,8,8,8,8,8,8,8,8,8,8,8,8,8,8,8,8,8,8,8,8,8,8,8,8,8,8,8,8,8,8,8,8,8,8,8,8,8,8,8,8,8,8,8,8,8,8,8,9,9,9,9,8,8,8,9,8,8,8,8,9,8,9,9,9,9,8,9,8,8,8,9,9,8,9,8,9,9,9,9,9,8,9,8,8,9,9,8,8,9,9,8,9,8,9,9,9,8,9,8,8,8,9,8,9,8,9,8,8,8,8,8,9,8,9,9,9,8,8,9,8,8,8,9,8,9,8,9,9,9,8,8,8,9,8,9,9,8,8,8,8,8,8,8,8,8,8,8,8,8,8,8,8,8,8,8,8,8,8,8,8,8,8,8,8,8,8,8,8,8,8,8,8,8,8,8,8,8,8,8,8,8,8,8,8,8,8,8,8,8,8,8,8,8,8,8,8,8,8,8,8,8,8,8,8,8,8,8,8,8,8,8,8,8,8,8,8,8,8,8,8,8,8,8,8,8,8],\"xaxis\":\"x\",\"yaxis\":\"y\",\"type\":\"histogram\"}],                        {\"template\":{\"data\":{\"histogram2dcontour\":[{\"type\":\"histogram2dcontour\",\"colorbar\":{\"outlinewidth\":0,\"ticks\":\"\"},\"colorscale\":[[0.0,\"#0d0887\"],[0.1111111111111111,\"#46039f\"],[0.2222222222222222,\"#7201a8\"],[0.3333333333333333,\"#9c179e\"],[0.4444444444444444,\"#bd3786\"],[0.5555555555555556,\"#d8576b\"],[0.6666666666666666,\"#ed7953\"],[0.7777777777777778,\"#fb9f3a\"],[0.8888888888888888,\"#fdca26\"],[1.0,\"#f0f921\"]]}],\"choropleth\":[{\"type\":\"choropleth\",\"colorbar\":{\"outlinewidth\":0,\"ticks\":\"\"}}],\"histogram2d\":[{\"type\":\"histogram2d\",\"colorbar\":{\"outlinewidth\":0,\"ticks\":\"\"},\"colorscale\":[[0.0,\"#0d0887\"],[0.1111111111111111,\"#46039f\"],[0.2222222222222222,\"#7201a8\"],[0.3333333333333333,\"#9c179e\"],[0.4444444444444444,\"#bd3786\"],[0.5555555555555556,\"#d8576b\"],[0.6666666666666666,\"#ed7953\"],[0.7777777777777778,\"#fb9f3a\"],[0.8888888888888888,\"#fdca26\"],[1.0,\"#f0f921\"]]}],\"heatmap\":[{\"type\":\"heatmap\",\"colorbar\":{\"outlinewidth\":0,\"ticks\":\"\"},\"colorscale\":[[0.0,\"#0d0887\"],[0.1111111111111111,\"#46039f\"],[0.2222222222222222,\"#7201a8\"],[0.3333333333333333,\"#9c179e\"],[0.4444444444444444,\"#bd3786\"],[0.5555555555555556,\"#d8576b\"],[0.6666666666666666,\"#ed7953\"],[0.7777777777777778,\"#fb9f3a\"],[0.8888888888888888,\"#fdca26\"],[1.0,\"#f0f921\"]]}],\"heatmapgl\":[{\"type\":\"heatmapgl\",\"colorbar\":{\"outlinewidth\":0,\"ticks\":\"\"},\"colorscale\":[[0.0,\"#0d0887\"],[0.1111111111111111,\"#46039f\"],[0.2222222222222222,\"#7201a8\"],[0.3333333333333333,\"#9c179e\"],[0.4444444444444444,\"#bd3786\"],[0.5555555555555556,\"#d8576b\"],[0.6666666666666666,\"#ed7953\"],[0.7777777777777778,\"#fb9f3a\"],[0.8888888888888888,\"#fdca26\"],[1.0,\"#f0f921\"]]}],\"contourcarpet\":[{\"type\":\"contourcarpet\",\"colorbar\":{\"outlinewidth\":0,\"ticks\":\"\"}}],\"contour\":[{\"type\":\"contour\",\"colorbar\":{\"outlinewidth\":0,\"ticks\":\"\"},\"colorscale\":[[0.0,\"#0d0887\"],[0.1111111111111111,\"#46039f\"],[0.2222222222222222,\"#7201a8\"],[0.3333333333333333,\"#9c179e\"],[0.4444444444444444,\"#bd3786\"],[0.5555555555555556,\"#d8576b\"],[0.6666666666666666,\"#ed7953\"],[0.7777777777777778,\"#fb9f3a\"],[0.8888888888888888,\"#fdca26\"],[1.0,\"#f0f921\"]]}],\"surface\":[{\"type\":\"surface\",\"colorbar\":{\"outlinewidth\":0,\"ticks\":\"\"},\"colorscale\":[[0.0,\"#0d0887\"],[0.1111111111111111,\"#46039f\"],[0.2222222222222222,\"#7201a8\"],[0.3333333333333333,\"#9c179e\"],[0.4444444444444444,\"#bd3786\"],[0.5555555555555556,\"#d8576b\"],[0.6666666666666666,\"#ed7953\"],[0.7777777777777778,\"#fb9f3a\"],[0.8888888888888888,\"#fdca26\"],[1.0,\"#f0f921\"]]}],\"mesh3d\":[{\"type\":\"mesh3d\",\"colorbar\":{\"outlinewidth\":0,\"ticks\":\"\"}}],\"scatter\":[{\"fillpattern\":{\"fillmode\":\"overlay\",\"size\":10,\"solidity\":0.2},\"type\":\"scatter\"}],\"parcoords\":[{\"type\":\"parcoords\",\"line\":{\"colorbar\":{\"outlinewidth\":0,\"ticks\":\"\"}}}],\"scatterpolargl\":[{\"type\":\"scatterpolargl\",\"marker\":{\"colorbar\":{\"outlinewidth\":0,\"ticks\":\"\"}}}],\"bar\":[{\"error_x\":{\"color\":\"#2a3f5f\"},\"error_y\":{\"color\":\"#2a3f5f\"},\"marker\":{\"line\":{\"color\":\"#E5ECF6\",\"width\":0.5},\"pattern\":{\"fillmode\":\"overlay\",\"size\":10,\"solidity\":0.2}},\"type\":\"bar\"}],\"scattergeo\":[{\"type\":\"scattergeo\",\"marker\":{\"colorbar\":{\"outlinewidth\":0,\"ticks\":\"\"}}}],\"scatterpolar\":[{\"type\":\"scatterpolar\",\"marker\":{\"colorbar\":{\"outlinewidth\":0,\"ticks\":\"\"}}}],\"histogram\":[{\"marker\":{\"pattern\":{\"fillmode\":\"overlay\",\"size\":10,\"solidity\":0.2}},\"type\":\"histogram\"}],\"scattergl\":[{\"type\":\"scattergl\",\"marker\":{\"colorbar\":{\"outlinewidth\":0,\"ticks\":\"\"}}}],\"scatter3d\":[{\"type\":\"scatter3d\",\"line\":{\"colorbar\":{\"outlinewidth\":0,\"ticks\":\"\"}},\"marker\":{\"colorbar\":{\"outlinewidth\":0,\"ticks\":\"\"}}}],\"scattermapbox\":[{\"type\":\"scattermapbox\",\"marker\":{\"colorbar\":{\"outlinewidth\":0,\"ticks\":\"\"}}}],\"scatterternary\":[{\"type\":\"scatterternary\",\"marker\":{\"colorbar\":{\"outlinewidth\":0,\"ticks\":\"\"}}}],\"scattercarpet\":[{\"type\":\"scattercarpet\",\"marker\":{\"colorbar\":{\"outlinewidth\":0,\"ticks\":\"\"}}}],\"carpet\":[{\"aaxis\":{\"endlinecolor\":\"#2a3f5f\",\"gridcolor\":\"white\",\"linecolor\":\"white\",\"minorgridcolor\":\"white\",\"startlinecolor\":\"#2a3f5f\"},\"baxis\":{\"endlinecolor\":\"#2a3f5f\",\"gridcolor\":\"white\",\"linecolor\":\"white\",\"minorgridcolor\":\"white\",\"startlinecolor\":\"#2a3f5f\"},\"type\":\"carpet\"}],\"table\":[{\"cells\":{\"fill\":{\"color\":\"#EBF0F8\"},\"line\":{\"color\":\"white\"}},\"header\":{\"fill\":{\"color\":\"#C8D4E3\"},\"line\":{\"color\":\"white\"}},\"type\":\"table\"}],\"barpolar\":[{\"marker\":{\"line\":{\"color\":\"#E5ECF6\",\"width\":0.5},\"pattern\":{\"fillmode\":\"overlay\",\"size\":10,\"solidity\":0.2}},\"type\":\"barpolar\"}],\"pie\":[{\"automargin\":true,\"type\":\"pie\"}]},\"layout\":{\"autotypenumbers\":\"strict\",\"colorway\":[\"#636efa\",\"#EF553B\",\"#00cc96\",\"#ab63fa\",\"#FFA15A\",\"#19d3f3\",\"#FF6692\",\"#B6E880\",\"#FF97FF\",\"#FECB52\"],\"font\":{\"color\":\"#2a3f5f\"},\"hovermode\":\"closest\",\"hoverlabel\":{\"align\":\"left\"},\"paper_bgcolor\":\"white\",\"plot_bgcolor\":\"#E5ECF6\",\"polar\":{\"bgcolor\":\"#E5ECF6\",\"angularaxis\":{\"gridcolor\":\"white\",\"linecolor\":\"white\",\"ticks\":\"\"},\"radialaxis\":{\"gridcolor\":\"white\",\"linecolor\":\"white\",\"ticks\":\"\"}},\"ternary\":{\"bgcolor\":\"#E5ECF6\",\"aaxis\":{\"gridcolor\":\"white\",\"linecolor\":\"white\",\"ticks\":\"\"},\"baxis\":{\"gridcolor\":\"white\",\"linecolor\":\"white\",\"ticks\":\"\"},\"caxis\":{\"gridcolor\":\"white\",\"linecolor\":\"white\",\"ticks\":\"\"}},\"coloraxis\":{\"colorbar\":{\"outlinewidth\":0,\"ticks\":\"\"}},\"colorscale\":{\"sequential\":[[0.0,\"#0d0887\"],[0.1111111111111111,\"#46039f\"],[0.2222222222222222,\"#7201a8\"],[0.3333333333333333,\"#9c179e\"],[0.4444444444444444,\"#bd3786\"],[0.5555555555555556,\"#d8576b\"],[0.6666666666666666,\"#ed7953\"],[0.7777777777777778,\"#fb9f3a\"],[0.8888888888888888,\"#fdca26\"],[1.0,\"#f0f921\"]],\"sequentialminus\":[[0.0,\"#0d0887\"],[0.1111111111111111,\"#46039f\"],[0.2222222222222222,\"#7201a8\"],[0.3333333333333333,\"#9c179e\"],[0.4444444444444444,\"#bd3786\"],[0.5555555555555556,\"#d8576b\"],[0.6666666666666666,\"#ed7953\"],[0.7777777777777778,\"#fb9f3a\"],[0.8888888888888888,\"#fdca26\"],[1.0,\"#f0f921\"]],\"diverging\":[[0,\"#8e0152\"],[0.1,\"#c51b7d\"],[0.2,\"#de77ae\"],[0.3,\"#f1b6da\"],[0.4,\"#fde0ef\"],[0.5,\"#f7f7f7\"],[0.6,\"#e6f5d0\"],[0.7,\"#b8e186\"],[0.8,\"#7fbc41\"],[0.9,\"#4d9221\"],[1,\"#276419\"]]},\"xaxis\":{\"gridcolor\":\"white\",\"linecolor\":\"white\",\"ticks\":\"\",\"title\":{\"standoff\":15},\"zerolinecolor\":\"white\",\"automargin\":true,\"zerolinewidth\":2},\"yaxis\":{\"gridcolor\":\"white\",\"linecolor\":\"white\",\"ticks\":\"\",\"title\":{\"standoff\":15},\"zerolinecolor\":\"white\",\"automargin\":true,\"zerolinewidth\":2},\"scene\":{\"xaxis\":{\"backgroundcolor\":\"#E5ECF6\",\"gridcolor\":\"white\",\"linecolor\":\"white\",\"showbackground\":true,\"ticks\":\"\",\"zerolinecolor\":\"white\",\"gridwidth\":2},\"yaxis\":{\"backgroundcolor\":\"#E5ECF6\",\"gridcolor\":\"white\",\"linecolor\":\"white\",\"showbackground\":true,\"ticks\":\"\",\"zerolinecolor\":\"white\",\"gridwidth\":2},\"zaxis\":{\"backgroundcolor\":\"#E5ECF6\",\"gridcolor\":\"white\",\"linecolor\":\"white\",\"showbackground\":true,\"ticks\":\"\",\"zerolinecolor\":\"white\",\"gridwidth\":2}},\"shapedefaults\":{\"line\":{\"color\":\"#2a3f5f\"}},\"annotationdefaults\":{\"arrowcolor\":\"#2a3f5f\",\"arrowhead\":0,\"arrowwidth\":1},\"geo\":{\"bgcolor\":\"white\",\"landcolor\":\"#E5ECF6\",\"subunitcolor\":\"white\",\"showland\":true,\"showlakes\":true,\"lakecolor\":\"white\"},\"title\":{\"x\":0.05},\"mapbox\":{\"style\":\"light\"}}},\"xaxis\":{\"anchor\":\"y\",\"domain\":[0.0,1.0],\"title\":{\"text\":\"CGPA\"}},\"yaxis\":{\"anchor\":\"x\",\"domain\":[0.0,1.0],\"title\":{\"text\":\"count\"}},\"legend\":{\"title\":{\"text\":\"PlacedOrNot\"},\"tracegroupgap\":0},\"title\":{\"text\":\"<b>Above Average CGPA Vs Placement</b>\"},\"barmode\":\"relative\",\"bargap\":0.2},                        {\"responsive\": true}                    ).then(function(){\n",
       "                            \n",
       "var gd = document.getElementById('38d619ac-dfed-471e-8ee1-1a9c8afb4cfc');\n",
       "var x = new MutationObserver(function (mutations, observer) {{\n",
       "        var display = window.getComputedStyle(gd).display;\n",
       "        if (!display || display === 'none') {{\n",
       "            console.log([gd, 'removed!']);\n",
       "            Plotly.purge(gd);\n",
       "            observer.disconnect();\n",
       "        }}\n",
       "}});\n",
       "\n",
       "// Listen for the removal of the full notebook cells\n",
       "var notebookContainer = gd.closest('#notebook-container');\n",
       "if (notebookContainer) {{\n",
       "    x.observe(notebookContainer, {childList: true});\n",
       "}}\n",
       "\n",
       "// Listen for the clearing of the current output cell\n",
       "var outputEl = gd.closest('.output');\n",
       "if (outputEl) {{\n",
       "    x.observe(outputEl, {childList: true});\n",
       "}}\n",
       "\n",
       "                        })                };                });            </script>        </div>"
      ]
     },
     "metadata": {},
     "output_type": "display_data"
    }
   ],
   "source": [
    "fig = px.histogram(data_frame = cgpa_above_avg,\n",
    "                   x = 'CGPA',\n",
    "                   color='PlacedOrNot',\n",
    "                   title = \"<b>Above Average CGPA Vs Placement</b>\",\n",
    "                   template='plotly')\n",
    "\n",
    "fig.update_layout(bargap=0.2)\n",
    "\n",
    "fig.show()"
   ]
  },
  {
   "cell_type": "markdown",
   "id": "3890e41e",
   "metadata": {
    "papermill": {
     "duration": 0.018651,
     "end_time": "2022-09-24T10:46:07.204636",
     "exception": false,
     "start_time": "2022-09-24T10:46:07.185985",
     "status": "completed"
    },
    "tags": []
   },
   "source": [
    "# Above graph represents that all those students whose CGPA is above average has successfully pass placement test, So we can say that if a person has higher CGPA it will increase his/her chance of placement."
   ]
  },
  {
   "cell_type": "markdown",
   "id": "c2f8670b",
   "metadata": {
    "papermill": {
     "duration": 0.018514,
     "end_time": "2022-09-24T10:46:07.242087",
     "exception": false,
     "start_time": "2022-09-24T10:46:07.223573",
     "status": "completed"
    },
    "tags": []
   },
   "source": [
    "# Candidates whose CGPA is below average"
   ]
  },
  {
   "cell_type": "code",
   "execution_count": 22,
   "id": "6b410b7a",
   "metadata": {
    "execution": {
     "iopub.execute_input": "2022-09-24T10:46:07.281389Z",
     "iopub.status.busy": "2022-09-24T10:46:07.281025Z",
     "iopub.status.idle": "2022-09-24T10:46:07.297800Z",
     "shell.execute_reply": "2022-09-24T10:46:07.296724Z"
    },
    "papermill": {
     "duration": 0.039215,
     "end_time": "2022-09-24T10:46:07.300113",
     "exception": false,
     "start_time": "2022-09-24T10:46:07.260898",
     "status": "completed"
    },
    "tags": []
   },
   "outputs": [
    {
     "data": {
      "text/html": [
       "<div>\n",
       "<style scoped>\n",
       "    .dataframe tbody tr th:only-of-type {\n",
       "        vertical-align: middle;\n",
       "    }\n",
       "\n",
       "    .dataframe tbody tr th {\n",
       "        vertical-align: top;\n",
       "    }\n",
       "\n",
       "    .dataframe thead th {\n",
       "        text-align: right;\n",
       "    }\n",
       "</style>\n",
       "<table border=\"1\" class=\"dataframe\">\n",
       "  <thead>\n",
       "    <tr style=\"text-align: right;\">\n",
       "      <th></th>\n",
       "      <th>Age</th>\n",
       "      <th>Gender</th>\n",
       "      <th>Stream</th>\n",
       "      <th>Internships</th>\n",
       "      <th>CGPA</th>\n",
       "      <th>Hostel</th>\n",
       "      <th>HistoryOfBacklogs</th>\n",
       "      <th>PlacedOrNot</th>\n",
       "    </tr>\n",
       "  </thead>\n",
       "  <tbody>\n",
       "    <tr>\n",
       "      <th>1</th>\n",
       "      <td>21</td>\n",
       "      <td>Female</td>\n",
       "      <td>Computer Science</td>\n",
       "      <td>0</td>\n",
       "      <td>7</td>\n",
       "      <td>1</td>\n",
       "      <td>1</td>\n",
       "      <td>1</td>\n",
       "    </tr>\n",
       "    <tr>\n",
       "      <th>2</th>\n",
       "      <td>22</td>\n",
       "      <td>Female</td>\n",
       "      <td>Information Technology</td>\n",
       "      <td>1</td>\n",
       "      <td>6</td>\n",
       "      <td>0</td>\n",
       "      <td>0</td>\n",
       "      <td>1</td>\n",
       "    </tr>\n",
       "    <tr>\n",
       "      <th>5</th>\n",
       "      <td>22</td>\n",
       "      <td>Male</td>\n",
       "      <td>Electronics And Communication</td>\n",
       "      <td>0</td>\n",
       "      <td>6</td>\n",
       "      <td>0</td>\n",
       "      <td>0</td>\n",
       "      <td>0</td>\n",
       "    </tr>\n",
       "    <tr>\n",
       "      <th>6</th>\n",
       "      <td>21</td>\n",
       "      <td>Male</td>\n",
       "      <td>Computer Science</td>\n",
       "      <td>0</td>\n",
       "      <td>7</td>\n",
       "      <td>0</td>\n",
       "      <td>1</td>\n",
       "      <td>0</td>\n",
       "    </tr>\n",
       "    <tr>\n",
       "      <th>7</th>\n",
       "      <td>21</td>\n",
       "      <td>Male</td>\n",
       "      <td>Information Technology</td>\n",
       "      <td>1</td>\n",
       "      <td>7</td>\n",
       "      <td>0</td>\n",
       "      <td>0</td>\n",
       "      <td>0</td>\n",
       "    </tr>\n",
       "    <tr>\n",
       "      <th>...</th>\n",
       "      <td>...</td>\n",
       "      <td>...</td>\n",
       "      <td>...</td>\n",
       "      <td>...</td>\n",
       "      <td>...</td>\n",
       "      <td>...</td>\n",
       "      <td>...</td>\n",
       "      <td>...</td>\n",
       "    </tr>\n",
       "    <tr>\n",
       "      <th>2960</th>\n",
       "      <td>23</td>\n",
       "      <td>Male</td>\n",
       "      <td>Mechanical</td>\n",
       "      <td>1</td>\n",
       "      <td>7</td>\n",
       "      <td>1</td>\n",
       "      <td>0</td>\n",
       "      <td>0</td>\n",
       "    </tr>\n",
       "    <tr>\n",
       "      <th>2961</th>\n",
       "      <td>23</td>\n",
       "      <td>Male</td>\n",
       "      <td>Information Technology</td>\n",
       "      <td>0</td>\n",
       "      <td>7</td>\n",
       "      <td>0</td>\n",
       "      <td>0</td>\n",
       "      <td>0</td>\n",
       "    </tr>\n",
       "    <tr>\n",
       "      <th>2962</th>\n",
       "      <td>23</td>\n",
       "      <td>Male</td>\n",
       "      <td>Mechanical</td>\n",
       "      <td>1</td>\n",
       "      <td>7</td>\n",
       "      <td>1</td>\n",
       "      <td>0</td>\n",
       "      <td>0</td>\n",
       "    </tr>\n",
       "    <tr>\n",
       "      <th>2963</th>\n",
       "      <td>22</td>\n",
       "      <td>Male</td>\n",
       "      <td>Information Technology</td>\n",
       "      <td>1</td>\n",
       "      <td>7</td>\n",
       "      <td>0</td>\n",
       "      <td>0</td>\n",
       "      <td>0</td>\n",
       "    </tr>\n",
       "    <tr>\n",
       "      <th>2964</th>\n",
       "      <td>22</td>\n",
       "      <td>Male</td>\n",
       "      <td>Computer Science</td>\n",
       "      <td>1</td>\n",
       "      <td>7</td>\n",
       "      <td>0</td>\n",
       "      <td>0</td>\n",
       "      <td>0</td>\n",
       "    </tr>\n",
       "  </tbody>\n",
       "</table>\n",
       "<p>1886 rows × 8 columns</p>\n",
       "</div>"
      ],
      "text/plain": [
       "      Age  Gender                         Stream  Internships  CGPA  Hostel  \\\n",
       "1      21  Female               Computer Science            0     7       1   \n",
       "2      22  Female         Information Technology            1     6       0   \n",
       "5      22    Male  Electronics And Communication            0     6       0   \n",
       "6      21    Male               Computer Science            0     7       0   \n",
       "7      21    Male         Information Technology            1     7       0   \n",
       "...   ...     ...                            ...          ...   ...     ...   \n",
       "2960   23    Male                     Mechanical            1     7       1   \n",
       "2961   23    Male         Information Technology            0     7       0   \n",
       "2962   23    Male                     Mechanical            1     7       1   \n",
       "2963   22    Male         Information Technology            1     7       0   \n",
       "2964   22    Male               Computer Science            1     7       0   \n",
       "\n",
       "      HistoryOfBacklogs  PlacedOrNot  \n",
       "1                     1            1  \n",
       "2                     0            1  \n",
       "5                     0            0  \n",
       "6                     1            0  \n",
       "7                     0            0  \n",
       "...                 ...          ...  \n",
       "2960                  0            0  \n",
       "2961                  0            0  \n",
       "2962                  0            0  \n",
       "2963                  0            0  \n",
       "2964                  0            0  \n",
       "\n",
       "[1886 rows x 8 columns]"
      ]
     },
     "execution_count": 22,
     "metadata": {},
     "output_type": "execute_result"
    }
   ],
   "source": [
    "cgpa_below_avg = data[data['CGPA'] < data['CGPA'].mean()]\n",
    "\n",
    "cgpa_below_avg"
   ]
  },
  {
   "cell_type": "code",
   "execution_count": 23,
   "id": "15253bcf",
   "metadata": {
    "execution": {
     "iopub.execute_input": "2022-09-24T10:46:07.339871Z",
     "iopub.status.busy": "2022-09-24T10:46:07.339457Z",
     "iopub.status.idle": "2022-09-24T10:46:07.400641Z",
     "shell.execute_reply": "2022-09-24T10:46:07.399628Z"
    },
    "papermill": {
     "duration": 0.083695,
     "end_time": "2022-09-24T10:46:07.402820",
     "exception": false,
     "start_time": "2022-09-24T10:46:07.319125",
     "status": "completed"
    },
    "tags": []
   },
   "outputs": [
    {
     "data": {
      "text/html": [
       "<div>                            <div id=\"d1e0aad4-a34b-4117-8f34-cb1daa89a353\" class=\"plotly-graph-div\" style=\"height:525px; width:100%;\"></div>            <script type=\"text/javascript\">                require([\"plotly\"], function(Plotly) {                    window.PLOTLYENV=window.PLOTLYENV || {};                                    if (document.getElementById(\"d1e0aad4-a34b-4117-8f34-cb1daa89a353\")) {                    Plotly.newPlot(                        \"d1e0aad4-a34b-4117-8f34-cb1daa89a353\",                        [{\"alignmentgroup\":\"True\",\"bingroup\":\"x\",\"hovertemplate\":\"PlacedOrNot=1<br>CGPA=%{x}<br>count=%{y}<extra></extra>\",\"legendgroup\":\"1\",\"marker\":{\"color\":\"#636efa\",\"pattern\":{\"shape\":\"\"}},\"name\":\"1\",\"offsetgroup\":\"1\",\"orientation\":\"v\",\"showlegend\":true,\"x\":[7,6,6,6,7,6,7,7,7,6,7,7,6,7,7,6,6,7,6,6,6,7,7,7,6,6,6,7,7,5,6,6,5,7,7,7,7,6,6,6,6,6,5,5,7,7,5,5,7,6,7,5,7,6,6,7,7,6,6,6,6,6,7,7,6,6,7,6,7,6,7,7,6,6,7,6,6,7,6,7,6,7,6,7,7,7,6,7,6,6,7,7,6,6,6,6,7,6,7,7,6,6,7,7,6,7,7,6,6,7,7,6,6,6,7,7,6,6,6,6,7,6,6,6,6,6,6,7,7,7,7,6,7,6,7,7,6,7,7,6,7,6,6,7,7,7,7,7,7,6,6,6,6,6,7,6,6,6,7,6,6,7,6,6,6,6,6,6,7,6,6,6,7,6,7,7,6,6,7,7,6,6,6,6,6,6,6,6,6,6,7,6,7,7,7,7,6,6,7,6,7,7,6,7,6,6,6,7,7,7,7,7,6,6,7,6,7,6,7,6,6,7,6,7,7,6,6,6,7,6,7,7,7,7,7,6,6,7,7,7,7,6,7,7,6,7,7,6,7,6,7,7,7,6,6,7,6,7,6,7,7,6,7,7,6,6,6,7,7,6,6,7,7,6,6,7,7,7,7,6,6,6,6,6,7,7,7,7,7,7,7,7,7,7,7,6,6,7,6,7,6,6,6,6,6,6,6,6,7,6,6,6,6,7,6,7,7,6,6,6,6,7,7,7,7,6,6,7,7,7,6,6,6,6,6,7,7,6,6,6,7,7,6,7,6,6,7,7,7,6,7,7,7,6,6,6,6,6,6,7,7,7,6,7,7,7,7,6,7,7,6,6,6,6,7,7,6,7,7,7,7,7,7,6,7,6,6,7,6,7,6,7,6,6,6,6,7,6,6,6,6,6,6,6,6,6,6,6,6,6,7,6,6,6,7,6,6,6,7,6,6,7,7,7,7,7,6,6,6,6,7,7,7,7,7,7,7,7,7,7,7,7,7,7,6,7,6,7,6,6,6,7,6,7,7,7,7,6,6,6,7,6,7,6,6,6,7,7,7,6,7,7,6,6,7,6,7,7,6,7,7,7,6,6,6,7,6,7,7,7,6,7,6,7,7,7,6,7,7,7,7,7,7,7,7,7,7,6,7,6,6,6,7,6,7,7,6,6,7,6,7,7,6,7,6,6,7,7,7,7,7,7,7,7,7,7,7,7,7,7,7,7,7,7,7,6,7,6,7,7,6,7,6,6,6,7,7,7,6],\"xaxis\":\"x\",\"yaxis\":\"y\",\"type\":\"histogram\"},{\"alignmentgroup\":\"True\",\"bingroup\":\"x\",\"hovertemplate\":\"PlacedOrNot=0<br>CGPA=%{x}<br>count=%{y}<extra></extra>\",\"legendgroup\":\"0\",\"marker\":{\"color\":\"#EF553B\",\"pattern\":{\"shape\":\"\"}},\"name\":\"0\",\"offsetgroup\":\"0\",\"orientation\":\"v\",\"showlegend\":true,\"x\":[6,7,7,6,7,6,7,6,7,7,6,7,7,7,7,7,6,6,6,7,6,6,6,7,7,6,7,7,7,5,5,6,7,6,6,7,5,7,5,6,7,5,5,5,6,5,5,6,5,6,5,5,5,6,5,5,5,6,7,7,5,6,6,5,5,7,7,6,5,6,5,5,7,5,5,5,6,5,7,6,7,7,6,7,7,6,6,7,7,6,6,7,6,6,7,6,6,7,7,6,7,6,7,6,7,7,6,6,7,6,7,6,6,7,6,7,6,7,6,7,7,7,6,7,7,7,6,6,6,7,6,7,6,6,6,6,6,7,7,6,7,7,6,6,7,7,7,7,6,6,6,7,6,6,6,7,6,6,7,7,6,6,6,6,6,7,7,6,6,6,6,6,6,6,5,6,5,5,5,5,5,7,7,6,6,6,6,6,7,6,6,6,7,6,7,6,6,6,6,7,7,6,6,7,7,6,6,7,6,7,6,6,6,6,7,6,7,7,6,7,6,7,7,7,7,6,7,7,7,7,6,6,7,7,7,7,6,6,7,7,7,7,7,7,7,6,6,6,7,7,7,7,6,7,6,7,7,7,7,7,7,7,7,6,7,7,6,7,6,7,7,7,7,7,6,7,6,7,7,7,6,6,7,7,7,6,6,7,7,6,7,7,6,7,7,6,7,7,7,7,6,7,6,7,7,7,6,6,7,7,6,7,6,7,7,6,7,7,6,7,7,6,7,7,7,7,7,7,7,7,7,6,7,6,6,7,6,6,7,7,6,6,6,7,6,6,6,6,6,6,7,7,7,7,7,6,6,6,7,6,6,6,7,6,7,7,6,6,6,7,6,6,6,6,6,7,6,7,7,6,7,6,6,7,7,6,7,7,7,6,7,6,6,7,7,7,7,7,7,7,7,6,7,6,6,7,6,7,7,6,6,7,6,7,6,6,7,7,7,6,6,6,6,7,7,7,6,6,6,7,7,7,7,7,7,7,7,6,7,7,7,7,7,6,7,6,6,6,6,7,6,7,7,7,6,7,7,7,7,7,7,7,7,7,7,7,7,7,7,7,7,7,7,7,7,7,7,7,7,7,7,7,7,7,7,7,7,7,7,7,7,7,7,7,7,7,7,7,7,7,7,7,7,7,7,7,7,7,7,7,7,7,7,7,7,7,7,7,7,7,6,6,7,6,7,7,7,6,7,7,7,7,7,6,6,6,6,7,6,6,7,7,6,7,6,7,7,6,7,6,7,6,7,6,7,6,6,6,7,7,6,6,7,7,7,7,7,7,6,7,7,6,6,6,7,6,6,7,7,6,6,6,6,6,6,7,6,7,7,6,6,7,7,7,6,7,6,7,6,6,6,6,6,6,6,7,7,7,6,7,7,7,7,7,6,7,7,7,6,7,6,6,6,7,7,7,6,7,7,6,6,7,6,7,6,6,7,6,6,7,6,6,5,5,6,5,6,5,5,5,5,6,5,5,5,5,5,6,7,7,6,7,7,7,7,7,7,7,7,7,6,6,7,7,6,7,7,7,6,7,6,6,6,6,6,6,6,6,7,6,6,7,7,6,6,7,6,5,5,5,5,5,6,5,6,5,5,5,5,5,5,5,5,6,5,6,5,6,5,6,5,6,5,6,5,5,5,6,6,5,5,6,6,6,6,6,6,6,5,5,5,6,6,5,6,6,5,6,6,6,6,7,7,7,6,6,6,6,7,7,6,7,6,7,6,7,6,6,6,6,7,6,6,6,7,6,7,7,6,7,6,7,6,7,7,7,7,6,7,7,6,7,6,6,6,6,7,7,6,7,6,7,6,6,7,7,7,7,7,7,7,6,7,7,6,6,6,6,7,6,6,6,6,7,7,7,7,7,7,7,7,7,7,7,7,7,7,7,7,7,7,7,7,7,7,7,7,7,7,7,7,7,7,7,7,7,7,7,6,6,7,6,6,6,7,7,7,6,7,6,7,6,6,6,7,6,7,6,6,7,6,7,6,7,6,6,6,7,6,7,7,6,7,7,6,6,6,6,7,6,6,6,6,7,7,7,6,7,6,7,5,7,5,5,5,5,5,5,5,6,7,5,5,5,7,6,7,5,7,6,5,5,5,7,5,7,6,6,7,6,7,6,6,6,7,7,7,6,6,7,6,7,7,6,6,7,6,6,6,6,6,6,6,6,7,7,6,7,6,7,7,6,7,6,6,7,6,6,6,7,6,7,7,6,7,7,7,7,6,6,7,6,7,6,6,7,7,7,7,6,6,6,6,7,7,7,6,7,6,7,6,6,6,6,6,6,6,6,6,7,6,6,6,6,7,7,6,7,7,6,7,7,6,6,7,6,6,6,6,7,6,6,6,7,7,6,7,6,6,7,7,6,7,6,6,6,7,7,6,6,7,6,6,7,7,6,6,7,7,6,6,6,6,6,6,6,7,6,6,6,7,6,6,7,7,6,7,7,7,6,7,6,6,6,7,6,7,7,7,7,6,6,6,7,6,7,7,6,7,7,6,6,6,6,6,7,7,7,7,7,7,6,7,7,7,6,6,7,6,7,6,6,6,6,6,7,7,7,6,7,6,6,6,7,7,6,6,7,6,6,6,6,6,7,7,7,7,6,7,6,7,7,7,7,6,7,7,7,7,6,6,7,7,7,7,7,7,7,7,7,7,7,7,7,7,7,7,7,7,7,7,7,7,7,7,7,7,7,7,7,7,7,7,6,6,6,6,6,6,7,6,7,7,7,7,7,7,6,6,6,6,7,6,7,7,6,6,7,6,6,6,6,6,6,7,6,6,7,6,6,7,7,7,7,6,7,6,7,6,7,7,7,6,7,6,6,6,6,6,6,7,6,6,7,7,6,7,7,7,7,7,7,7,7,7,6,7,6,6,6,7,7,7,7,6,7,7,6,6,7,6,6,7,7,7,7,6,6,7,6,6,7,7,6,6,6,7,6,6,7,7,7,6,7,7,7,7,7,7,6,6,7,7,7,7,7,7],\"xaxis\":\"x\",\"yaxis\":\"y\",\"type\":\"histogram\"}],                        {\"template\":{\"data\":{\"barpolar\":[{\"marker\":{\"line\":{\"color\":\"rgb(17,17,17)\",\"width\":0.5},\"pattern\":{\"fillmode\":\"overlay\",\"size\":10,\"solidity\":0.2}},\"type\":\"barpolar\"}],\"bar\":[{\"error_x\":{\"color\":\"#f2f5fa\"},\"error_y\":{\"color\":\"#f2f5fa\"},\"marker\":{\"line\":{\"color\":\"rgb(17,17,17)\",\"width\":0.5},\"pattern\":{\"fillmode\":\"overlay\",\"size\":10,\"solidity\":0.2}},\"type\":\"bar\"}],\"carpet\":[{\"aaxis\":{\"endlinecolor\":\"#A2B1C6\",\"gridcolor\":\"#506784\",\"linecolor\":\"#506784\",\"minorgridcolor\":\"#506784\",\"startlinecolor\":\"#A2B1C6\"},\"baxis\":{\"endlinecolor\":\"#A2B1C6\",\"gridcolor\":\"#506784\",\"linecolor\":\"#506784\",\"minorgridcolor\":\"#506784\",\"startlinecolor\":\"#A2B1C6\"},\"type\":\"carpet\"}],\"choropleth\":[{\"colorbar\":{\"outlinewidth\":0,\"ticks\":\"\"},\"type\":\"choropleth\"}],\"contourcarpet\":[{\"colorbar\":{\"outlinewidth\":0,\"ticks\":\"\"},\"type\":\"contourcarpet\"}],\"contour\":[{\"colorbar\":{\"outlinewidth\":0,\"ticks\":\"\"},\"colorscale\":[[0.0,\"#0d0887\"],[0.1111111111111111,\"#46039f\"],[0.2222222222222222,\"#7201a8\"],[0.3333333333333333,\"#9c179e\"],[0.4444444444444444,\"#bd3786\"],[0.5555555555555556,\"#d8576b\"],[0.6666666666666666,\"#ed7953\"],[0.7777777777777778,\"#fb9f3a\"],[0.8888888888888888,\"#fdca26\"],[1.0,\"#f0f921\"]],\"type\":\"contour\"}],\"heatmapgl\":[{\"colorbar\":{\"outlinewidth\":0,\"ticks\":\"\"},\"colorscale\":[[0.0,\"#0d0887\"],[0.1111111111111111,\"#46039f\"],[0.2222222222222222,\"#7201a8\"],[0.3333333333333333,\"#9c179e\"],[0.4444444444444444,\"#bd3786\"],[0.5555555555555556,\"#d8576b\"],[0.6666666666666666,\"#ed7953\"],[0.7777777777777778,\"#fb9f3a\"],[0.8888888888888888,\"#fdca26\"],[1.0,\"#f0f921\"]],\"type\":\"heatmapgl\"}],\"heatmap\":[{\"colorbar\":{\"outlinewidth\":0,\"ticks\":\"\"},\"colorscale\":[[0.0,\"#0d0887\"],[0.1111111111111111,\"#46039f\"],[0.2222222222222222,\"#7201a8\"],[0.3333333333333333,\"#9c179e\"],[0.4444444444444444,\"#bd3786\"],[0.5555555555555556,\"#d8576b\"],[0.6666666666666666,\"#ed7953\"],[0.7777777777777778,\"#fb9f3a\"],[0.8888888888888888,\"#fdca26\"],[1.0,\"#f0f921\"]],\"type\":\"heatmap\"}],\"histogram2dcontour\":[{\"colorbar\":{\"outlinewidth\":0,\"ticks\":\"\"},\"colorscale\":[[0.0,\"#0d0887\"],[0.1111111111111111,\"#46039f\"],[0.2222222222222222,\"#7201a8\"],[0.3333333333333333,\"#9c179e\"],[0.4444444444444444,\"#bd3786\"],[0.5555555555555556,\"#d8576b\"],[0.6666666666666666,\"#ed7953\"],[0.7777777777777778,\"#fb9f3a\"],[0.8888888888888888,\"#fdca26\"],[1.0,\"#f0f921\"]],\"type\":\"histogram2dcontour\"}],\"histogram2d\":[{\"colorbar\":{\"outlinewidth\":0,\"ticks\":\"\"},\"colorscale\":[[0.0,\"#0d0887\"],[0.1111111111111111,\"#46039f\"],[0.2222222222222222,\"#7201a8\"],[0.3333333333333333,\"#9c179e\"],[0.4444444444444444,\"#bd3786\"],[0.5555555555555556,\"#d8576b\"],[0.6666666666666666,\"#ed7953\"],[0.7777777777777778,\"#fb9f3a\"],[0.8888888888888888,\"#fdca26\"],[1.0,\"#f0f921\"]],\"type\":\"histogram2d\"}],\"histogram\":[{\"marker\":{\"pattern\":{\"fillmode\":\"overlay\",\"size\":10,\"solidity\":0.2}},\"type\":\"histogram\"}],\"mesh3d\":[{\"colorbar\":{\"outlinewidth\":0,\"ticks\":\"\"},\"type\":\"mesh3d\"}],\"parcoords\":[{\"line\":{\"colorbar\":{\"outlinewidth\":0,\"ticks\":\"\"}},\"type\":\"parcoords\"}],\"pie\":[{\"automargin\":true,\"type\":\"pie\"}],\"scatter3d\":[{\"line\":{\"colorbar\":{\"outlinewidth\":0,\"ticks\":\"\"}},\"marker\":{\"colorbar\":{\"outlinewidth\":0,\"ticks\":\"\"}},\"type\":\"scatter3d\"}],\"scattercarpet\":[{\"marker\":{\"colorbar\":{\"outlinewidth\":0,\"ticks\":\"\"}},\"type\":\"scattercarpet\"}],\"scattergeo\":[{\"marker\":{\"colorbar\":{\"outlinewidth\":0,\"ticks\":\"\"}},\"type\":\"scattergeo\"}],\"scattergl\":[{\"marker\":{\"line\":{\"color\":\"#283442\"}},\"type\":\"scattergl\"}],\"scattermapbox\":[{\"marker\":{\"colorbar\":{\"outlinewidth\":0,\"ticks\":\"\"}},\"type\":\"scattermapbox\"}],\"scatterpolargl\":[{\"marker\":{\"colorbar\":{\"outlinewidth\":0,\"ticks\":\"\"}},\"type\":\"scatterpolargl\"}],\"scatterpolar\":[{\"marker\":{\"colorbar\":{\"outlinewidth\":0,\"ticks\":\"\"}},\"type\":\"scatterpolar\"}],\"scatter\":[{\"marker\":{\"line\":{\"color\":\"#283442\"}},\"type\":\"scatter\"}],\"scatterternary\":[{\"marker\":{\"colorbar\":{\"outlinewidth\":0,\"ticks\":\"\"}},\"type\":\"scatterternary\"}],\"surface\":[{\"colorbar\":{\"outlinewidth\":0,\"ticks\":\"\"},\"colorscale\":[[0.0,\"#0d0887\"],[0.1111111111111111,\"#46039f\"],[0.2222222222222222,\"#7201a8\"],[0.3333333333333333,\"#9c179e\"],[0.4444444444444444,\"#bd3786\"],[0.5555555555555556,\"#d8576b\"],[0.6666666666666666,\"#ed7953\"],[0.7777777777777778,\"#fb9f3a\"],[0.8888888888888888,\"#fdca26\"],[1.0,\"#f0f921\"]],\"type\":\"surface\"}],\"table\":[{\"cells\":{\"fill\":{\"color\":\"#506784\"},\"line\":{\"color\":\"rgb(17,17,17)\"}},\"header\":{\"fill\":{\"color\":\"#2a3f5f\"},\"line\":{\"color\":\"rgb(17,17,17)\"}},\"type\":\"table\"}]},\"layout\":{\"annotationdefaults\":{\"arrowcolor\":\"#f2f5fa\",\"arrowhead\":0,\"arrowwidth\":1},\"autotypenumbers\":\"strict\",\"coloraxis\":{\"colorbar\":{\"outlinewidth\":0,\"ticks\":\"\"}},\"colorscale\":{\"diverging\":[[0,\"#8e0152\"],[0.1,\"#c51b7d\"],[0.2,\"#de77ae\"],[0.3,\"#f1b6da\"],[0.4,\"#fde0ef\"],[0.5,\"#f7f7f7\"],[0.6,\"#e6f5d0\"],[0.7,\"#b8e186\"],[0.8,\"#7fbc41\"],[0.9,\"#4d9221\"],[1,\"#276419\"]],\"sequential\":[[0.0,\"#0d0887\"],[0.1111111111111111,\"#46039f\"],[0.2222222222222222,\"#7201a8\"],[0.3333333333333333,\"#9c179e\"],[0.4444444444444444,\"#bd3786\"],[0.5555555555555556,\"#d8576b\"],[0.6666666666666666,\"#ed7953\"],[0.7777777777777778,\"#fb9f3a\"],[0.8888888888888888,\"#fdca26\"],[1.0,\"#f0f921\"]],\"sequentialminus\":[[0.0,\"#0d0887\"],[0.1111111111111111,\"#46039f\"],[0.2222222222222222,\"#7201a8\"],[0.3333333333333333,\"#9c179e\"],[0.4444444444444444,\"#bd3786\"],[0.5555555555555556,\"#d8576b\"],[0.6666666666666666,\"#ed7953\"],[0.7777777777777778,\"#fb9f3a\"],[0.8888888888888888,\"#fdca26\"],[1.0,\"#f0f921\"]]},\"colorway\":[\"#636efa\",\"#EF553B\",\"#00cc96\",\"#ab63fa\",\"#FFA15A\",\"#19d3f3\",\"#FF6692\",\"#B6E880\",\"#FF97FF\",\"#FECB52\"],\"font\":{\"color\":\"#f2f5fa\"},\"geo\":{\"bgcolor\":\"rgb(17,17,17)\",\"lakecolor\":\"rgb(17,17,17)\",\"landcolor\":\"rgb(17,17,17)\",\"showlakes\":true,\"showland\":true,\"subunitcolor\":\"#506784\"},\"hoverlabel\":{\"align\":\"left\"},\"hovermode\":\"closest\",\"mapbox\":{\"style\":\"dark\"},\"paper_bgcolor\":\"rgb(17,17,17)\",\"plot_bgcolor\":\"rgb(17,17,17)\",\"polar\":{\"angularaxis\":{\"gridcolor\":\"#506784\",\"linecolor\":\"#506784\",\"ticks\":\"\"},\"bgcolor\":\"rgb(17,17,17)\",\"radialaxis\":{\"gridcolor\":\"#506784\",\"linecolor\":\"#506784\",\"ticks\":\"\"}},\"scene\":{\"xaxis\":{\"backgroundcolor\":\"rgb(17,17,17)\",\"gridcolor\":\"#506784\",\"gridwidth\":2,\"linecolor\":\"#506784\",\"showbackground\":true,\"ticks\":\"\",\"zerolinecolor\":\"#C8D4E3\"},\"yaxis\":{\"backgroundcolor\":\"rgb(17,17,17)\",\"gridcolor\":\"#506784\",\"gridwidth\":2,\"linecolor\":\"#506784\",\"showbackground\":true,\"ticks\":\"\",\"zerolinecolor\":\"#C8D4E3\"},\"zaxis\":{\"backgroundcolor\":\"rgb(17,17,17)\",\"gridcolor\":\"#506784\",\"gridwidth\":2,\"linecolor\":\"#506784\",\"showbackground\":true,\"ticks\":\"\",\"zerolinecolor\":\"#C8D4E3\"}},\"shapedefaults\":{\"line\":{\"color\":\"#f2f5fa\"}},\"sliderdefaults\":{\"bgcolor\":\"#C8D4E3\",\"bordercolor\":\"rgb(17,17,17)\",\"borderwidth\":1,\"tickwidth\":0},\"ternary\":{\"aaxis\":{\"gridcolor\":\"#506784\",\"linecolor\":\"#506784\",\"ticks\":\"\"},\"baxis\":{\"gridcolor\":\"#506784\",\"linecolor\":\"#506784\",\"ticks\":\"\"},\"bgcolor\":\"rgb(17,17,17)\",\"caxis\":{\"gridcolor\":\"#506784\",\"linecolor\":\"#506784\",\"ticks\":\"\"}},\"title\":{\"x\":0.05},\"updatemenudefaults\":{\"bgcolor\":\"#506784\",\"borderwidth\":0},\"xaxis\":{\"automargin\":true,\"gridcolor\":\"#283442\",\"linecolor\":\"#506784\",\"ticks\":\"\",\"title\":{\"standoff\":15},\"zerolinecolor\":\"#283442\",\"zerolinewidth\":2},\"yaxis\":{\"automargin\":true,\"gridcolor\":\"#283442\",\"linecolor\":\"#506784\",\"ticks\":\"\",\"title\":{\"standoff\":15},\"zerolinecolor\":\"#283442\",\"zerolinewidth\":2}}},\"xaxis\":{\"anchor\":\"y\",\"domain\":[0.0,1.0],\"title\":{\"text\":\"CGPA\"}},\"yaxis\":{\"anchor\":\"x\",\"domain\":[0.0,1.0],\"title\":{\"text\":\"count\"}},\"legend\":{\"title\":{\"text\":\"PlacedOrNot\"},\"tracegroupgap\":0},\"title\":{\"text\":\"<b>Below Average CGPA Vs Placement</b>\"},\"barmode\":\"group\",\"bargap\":0.2},                        {\"responsive\": true}                    ).then(function(){\n",
       "                            \n",
       "var gd = document.getElementById('d1e0aad4-a34b-4117-8f34-cb1daa89a353');\n",
       "var x = new MutationObserver(function (mutations, observer) {{\n",
       "        var display = window.getComputedStyle(gd).display;\n",
       "        if (!display || display === 'none') {{\n",
       "            console.log([gd, 'removed!']);\n",
       "            Plotly.purge(gd);\n",
       "            observer.disconnect();\n",
       "        }}\n",
       "}});\n",
       "\n",
       "// Listen for the removal of the full notebook cells\n",
       "var notebookContainer = gd.closest('#notebook-container');\n",
       "if (notebookContainer) {{\n",
       "    x.observe(notebookContainer, {childList: true});\n",
       "}}\n",
       "\n",
       "// Listen for the clearing of the current output cell\n",
       "var outputEl = gd.closest('.output');\n",
       "if (outputEl) {{\n",
       "    x.observe(outputEl, {childList: true});\n",
       "}}\n",
       "\n",
       "                        })                };                });            </script>        </div>"
      ]
     },
     "metadata": {},
     "output_type": "display_data"
    }
   ],
   "source": [
    "fig = px.histogram(data_frame = cgpa_below_avg,\n",
    "                   x = 'CGPA',\n",
    "                   color='PlacedOrNot',\n",
    "                   title = \"<b>Below Average CGPA Vs Placement</b>\",\n",
    "                   template='plotly_dark', barmode='group')\n",
    "\n",
    "fig.update_layout(bargap=0.2)\n",
    "\n",
    "fig.show()"
   ]
  },
  {
   "cell_type": "markdown",
   "id": "82b6e44d",
   "metadata": {
    "papermill": {
     "duration": 0.019109,
     "end_time": "2022-09-24T10:46:07.441849",
     "exception": false,
     "start_time": "2022-09-24T10:46:07.422740",
     "status": "completed"
    },
    "tags": []
   },
   "source": [
    "# From above above, if some student has CGPA below average it will reduce his/her chances of placement"
   ]
  },
  {
   "cell_type": "code",
   "execution_count": 24,
   "id": "249a5afc",
   "metadata": {
    "execution": {
     "iopub.execute_input": "2022-09-24T10:46:07.482026Z",
     "iopub.status.busy": "2022-09-24T10:46:07.481352Z",
     "iopub.status.idle": "2022-09-24T10:46:07.504679Z",
     "shell.execute_reply": "2022-09-24T10:46:07.503616Z"
    },
    "papermill": {
     "duration": 0.045518,
     "end_time": "2022-09-24T10:46:07.506637",
     "exception": false,
     "start_time": "2022-09-24T10:46:07.461119",
     "status": "completed"
    },
    "tags": []
   },
   "outputs": [
    {
     "data": {
      "text/html": [
       "<style type=\"text/css\">\n",
       "#T_6b71b_row1_col0, #T_6b71b_row1_col1, #T_6b71b_row1_col3, #T_6b71b_row3_col2 {\n",
       "  background-color: yellow;\n",
       "}\n",
       "</style>\n",
       "<table id=\"T_6b71b_\">\n",
       "  <thead>\n",
       "    <tr>\n",
       "      <th class=\"blank level0\" >&nbsp;</th>\n",
       "      <th class=\"col_heading level0 col0\" >Age</th>\n",
       "      <th class=\"col_heading level0 col1\" >Internships</th>\n",
       "      <th class=\"col_heading level0 col2\" >CGPA</th>\n",
       "      <th class=\"col_heading level0 col3\" >PlacedOrNot</th>\n",
       "    </tr>\n",
       "    <tr>\n",
       "      <th class=\"index_name level0\" >Stream</th>\n",
       "      <th class=\"blank col0\" >&nbsp;</th>\n",
       "      <th class=\"blank col1\" >&nbsp;</th>\n",
       "      <th class=\"blank col2\" >&nbsp;</th>\n",
       "      <th class=\"blank col3\" >&nbsp;</th>\n",
       "    </tr>\n",
       "  </thead>\n",
       "  <tbody>\n",
       "    <tr>\n",
       "      <th id=\"T_6b71b_level0_row0\" class=\"row_heading level0 row0\" >Civil</th>\n",
       "      <td id=\"T_6b71b_row0_col0\" class=\"data row0 col0\" >21.441640</td>\n",
       "      <td id=\"T_6b71b_row0_col1\" class=\"data row0 col1\" >173</td>\n",
       "      <td id=\"T_6b71b_row0_col2\" class=\"data row0 col2\" >7.094637</td>\n",
       "      <td id=\"T_6b71b_row0_col3\" class=\"data row0 col3\" >146</td>\n",
       "    </tr>\n",
       "    <tr>\n",
       "      <th id=\"T_6b71b_level0_row1\" class=\"row_heading level0 row1\" >Computer Science</th>\n",
       "      <td id=\"T_6b71b_row1_col0\" class=\"data row1 col0\" >21.559278</td>\n",
       "      <td id=\"T_6b71b_row1_col1\" class=\"data row1 col1\" >676</td>\n",
       "      <td id=\"T_6b71b_row1_col2\" class=\"data row1 col2\" >7.039948</td>\n",
       "      <td id=\"T_6b71b_row1_col3\" class=\"data row1 col3\" >452</td>\n",
       "    </tr>\n",
       "    <tr>\n",
       "      <th id=\"T_6b71b_level0_row2\" class=\"row_heading level0 row2\" >Electrical</th>\n",
       "      <td id=\"T_6b71b_row2_col0\" class=\"data row2 col0\" >21.299401</td>\n",
       "      <td id=\"T_6b71b_row2_col1\" class=\"data row2 col1\" >203</td>\n",
       "      <td id=\"T_6b71b_row2_col2\" class=\"data row2 col2\" >7.080838</td>\n",
       "      <td id=\"T_6b71b_row2_col3\" class=\"data row2 col3\" >181</td>\n",
       "    </tr>\n",
       "    <tr>\n",
       "      <th id=\"T_6b71b_level0_row3\" class=\"row_heading level0 row3\" >Electronics And Communication</th>\n",
       "      <td id=\"T_6b71b_row3_col0\" class=\"data row3 col0\" >21.410377</td>\n",
       "      <td id=\"T_6b71b_row3_col1\" class=\"data row3 col1\" >306</td>\n",
       "      <td id=\"T_6b71b_row3_col2\" class=\"data row3 col2\" >7.125000</td>\n",
       "      <td id=\"T_6b71b_row3_col3\" class=\"data row3 col3\" >251</td>\n",
       "    </tr>\n",
       "    <tr>\n",
       "      <th id=\"T_6b71b_level0_row4\" class=\"row_heading level0 row4\" >Information Technology</th>\n",
       "      <td id=\"T_6b71b_row4_col0\" class=\"data row4 col0\" >21.539797</td>\n",
       "      <td id=\"T_6b71b_row4_col1\" class=\"data row4 col1\" >509</td>\n",
       "      <td id=\"T_6b71b_row4_col2\" class=\"data row4 col2\" >7.073806</td>\n",
       "      <td id=\"T_6b71b_row4_col3\" class=\"data row4 col3\" >409</td>\n",
       "    </tr>\n",
       "    <tr>\n",
       "      <th id=\"T_6b71b_level0_row5\" class=\"row_heading level0 row5\" >Mechanical</th>\n",
       "      <td id=\"T_6b71b_row5_col0\" class=\"data row5 col0\" >21.518868</td>\n",
       "      <td id=\"T_6b71b_row5_col1\" class=\"data row5 col1\" >220</td>\n",
       "      <td id=\"T_6b71b_row5_col2\" class=\"data row5 col2\" >7.063679</td>\n",
       "      <td id=\"T_6b71b_row5_col3\" class=\"data row5 col3\" >200</td>\n",
       "    </tr>\n",
       "  </tbody>\n",
       "</table>\n"
      ],
      "text/plain": [
       "<pandas.io.formats.style.Styler at 0x7f8eff956310>"
      ]
     },
     "execution_count": 24,
     "metadata": {},
     "output_type": "execute_result"
    }
   ],
   "source": [
    "stream_wise = data.groupby('Stream').agg({'Age':'mean',\n",
    "                                          'Internships' : 'sum',                            \n",
    "                                           \"CGPA\":'mean',\n",
    "                                           'PlacedOrNot':'sum'})\n",
    "\n",
    "stream_wise.style.highlight_max()"
   ]
  },
  {
   "cell_type": "code",
   "execution_count": 25,
   "id": "f337722e",
   "metadata": {
    "execution": {
     "iopub.execute_input": "2022-09-24T10:46:07.547335Z",
     "iopub.status.busy": "2022-09-24T10:46:07.546923Z",
     "iopub.status.idle": "2022-09-24T10:46:07.646929Z",
     "shell.execute_reply": "2022-09-24T10:46:07.646103Z"
    },
    "papermill": {
     "duration": 0.123275,
     "end_time": "2022-09-24T10:46:07.649107",
     "exception": false,
     "start_time": "2022-09-24T10:46:07.525832",
     "status": "completed"
    },
    "tags": []
   },
   "outputs": [
    {
     "data": {
      "text/html": [
       "<div>                            <div id=\"25915578-79bb-4573-b04f-8c931a5bbe57\" class=\"plotly-graph-div\" style=\"height:525px; width:100%;\"></div>            <script type=\"text/javascript\">                require([\"plotly\"], function(Plotly) {                    window.PLOTLYENV=window.PLOTLYENV || {};                                    if (document.getElementById(\"25915578-79bb-4573-b04f-8c931a5bbe57\")) {                    Plotly.newPlot(                        \"25915578-79bb-4573-b04f-8c931a5bbe57\",                        [{\"alignmentgroup\":\"True\",\"hovertemplate\":\"variable=Age<br>Stream=%{x}<br>value=%{y}<extra></extra>\",\"legendgroup\":\"Age\",\"marker\":{\"color\":\"#636efa\",\"pattern\":{\"shape\":\"\"}},\"name\":\"Age\",\"offsetgroup\":\"Age\",\"orientation\":\"v\",\"showlegend\":true,\"textposition\":\"auto\",\"x\":[\"Civil\",\"Computer Science\",\"Electrical\",\"Electronics And Communication\",\"Information Technology\",\"Mechanical\"],\"xaxis\":\"x\",\"y\":[21.441640378548897,21.559278350515463,21.29940119760479,21.410377358490567,21.539797395079596,21.5188679245283],\"yaxis\":\"y\",\"type\":\"bar\"},{\"alignmentgroup\":\"True\",\"hovertemplate\":\"variable=Internships<br>Stream=%{x}<br>value=%{y}<extra></extra>\",\"legendgroup\":\"Internships\",\"marker\":{\"color\":\"#EF553B\",\"pattern\":{\"shape\":\"\"}},\"name\":\"Internships\",\"offsetgroup\":\"Internships\",\"orientation\":\"v\",\"showlegend\":true,\"textposition\":\"auto\",\"x\":[\"Civil\",\"Computer Science\",\"Electrical\",\"Electronics And Communication\",\"Information Technology\",\"Mechanical\"],\"xaxis\":\"x\",\"y\":[173.0,676.0,203.0,306.0,509.0,220.0],\"yaxis\":\"y\",\"type\":\"bar\"},{\"alignmentgroup\":\"True\",\"hovertemplate\":\"variable=CGPA<br>Stream=%{x}<br>value=%{y}<extra></extra>\",\"legendgroup\":\"CGPA\",\"marker\":{\"color\":\"#00cc96\",\"pattern\":{\"shape\":\"\"}},\"name\":\"CGPA\",\"offsetgroup\":\"CGPA\",\"orientation\":\"v\",\"showlegend\":true,\"textposition\":\"auto\",\"x\":[\"Civil\",\"Computer Science\",\"Electrical\",\"Electronics And Communication\",\"Information Technology\",\"Mechanical\"],\"xaxis\":\"x\",\"y\":[7.094637223974764,7.039948453608248,7.080838323353293,7.125,7.073806078147612,7.063679245283019],\"yaxis\":\"y\",\"type\":\"bar\"},{\"alignmentgroup\":\"True\",\"hovertemplate\":\"variable=PlacedOrNot<br>Stream=%{x}<br>value=%{y}<extra></extra>\",\"legendgroup\":\"PlacedOrNot\",\"marker\":{\"color\":\"#ab63fa\",\"pattern\":{\"shape\":\"\"}},\"name\":\"PlacedOrNot\",\"offsetgroup\":\"PlacedOrNot\",\"orientation\":\"v\",\"showlegend\":true,\"textposition\":\"auto\",\"x\":[\"Civil\",\"Computer Science\",\"Electrical\",\"Electronics And Communication\",\"Information Technology\",\"Mechanical\"],\"xaxis\":\"x\",\"y\":[146.0,452.0,181.0,251.0,409.0,200.0],\"yaxis\":\"y\",\"type\":\"bar\"}],                        {\"template\":{\"data\":{\"barpolar\":[{\"marker\":{\"line\":{\"color\":\"rgb(17,17,17)\",\"width\":0.5},\"pattern\":{\"fillmode\":\"overlay\",\"size\":10,\"solidity\":0.2}},\"type\":\"barpolar\"}],\"bar\":[{\"error_x\":{\"color\":\"#f2f5fa\"},\"error_y\":{\"color\":\"#f2f5fa\"},\"marker\":{\"line\":{\"color\":\"rgb(17,17,17)\",\"width\":0.5},\"pattern\":{\"fillmode\":\"overlay\",\"size\":10,\"solidity\":0.2}},\"type\":\"bar\"}],\"carpet\":[{\"aaxis\":{\"endlinecolor\":\"#A2B1C6\",\"gridcolor\":\"#506784\",\"linecolor\":\"#506784\",\"minorgridcolor\":\"#506784\",\"startlinecolor\":\"#A2B1C6\"},\"baxis\":{\"endlinecolor\":\"#A2B1C6\",\"gridcolor\":\"#506784\",\"linecolor\":\"#506784\",\"minorgridcolor\":\"#506784\",\"startlinecolor\":\"#A2B1C6\"},\"type\":\"carpet\"}],\"choropleth\":[{\"colorbar\":{\"outlinewidth\":0,\"ticks\":\"\"},\"type\":\"choropleth\"}],\"contourcarpet\":[{\"colorbar\":{\"outlinewidth\":0,\"ticks\":\"\"},\"type\":\"contourcarpet\"}],\"contour\":[{\"colorbar\":{\"outlinewidth\":0,\"ticks\":\"\"},\"colorscale\":[[0.0,\"#0d0887\"],[0.1111111111111111,\"#46039f\"],[0.2222222222222222,\"#7201a8\"],[0.3333333333333333,\"#9c179e\"],[0.4444444444444444,\"#bd3786\"],[0.5555555555555556,\"#d8576b\"],[0.6666666666666666,\"#ed7953\"],[0.7777777777777778,\"#fb9f3a\"],[0.8888888888888888,\"#fdca26\"],[1.0,\"#f0f921\"]],\"type\":\"contour\"}],\"heatmapgl\":[{\"colorbar\":{\"outlinewidth\":0,\"ticks\":\"\"},\"colorscale\":[[0.0,\"#0d0887\"],[0.1111111111111111,\"#46039f\"],[0.2222222222222222,\"#7201a8\"],[0.3333333333333333,\"#9c179e\"],[0.4444444444444444,\"#bd3786\"],[0.5555555555555556,\"#d8576b\"],[0.6666666666666666,\"#ed7953\"],[0.7777777777777778,\"#fb9f3a\"],[0.8888888888888888,\"#fdca26\"],[1.0,\"#f0f921\"]],\"type\":\"heatmapgl\"}],\"heatmap\":[{\"colorbar\":{\"outlinewidth\":0,\"ticks\":\"\"},\"colorscale\":[[0.0,\"#0d0887\"],[0.1111111111111111,\"#46039f\"],[0.2222222222222222,\"#7201a8\"],[0.3333333333333333,\"#9c179e\"],[0.4444444444444444,\"#bd3786\"],[0.5555555555555556,\"#d8576b\"],[0.6666666666666666,\"#ed7953\"],[0.7777777777777778,\"#fb9f3a\"],[0.8888888888888888,\"#fdca26\"],[1.0,\"#f0f921\"]],\"type\":\"heatmap\"}],\"histogram2dcontour\":[{\"colorbar\":{\"outlinewidth\":0,\"ticks\":\"\"},\"colorscale\":[[0.0,\"#0d0887\"],[0.1111111111111111,\"#46039f\"],[0.2222222222222222,\"#7201a8\"],[0.3333333333333333,\"#9c179e\"],[0.4444444444444444,\"#bd3786\"],[0.5555555555555556,\"#d8576b\"],[0.6666666666666666,\"#ed7953\"],[0.7777777777777778,\"#fb9f3a\"],[0.8888888888888888,\"#fdca26\"],[1.0,\"#f0f921\"]],\"type\":\"histogram2dcontour\"}],\"histogram2d\":[{\"colorbar\":{\"outlinewidth\":0,\"ticks\":\"\"},\"colorscale\":[[0.0,\"#0d0887\"],[0.1111111111111111,\"#46039f\"],[0.2222222222222222,\"#7201a8\"],[0.3333333333333333,\"#9c179e\"],[0.4444444444444444,\"#bd3786\"],[0.5555555555555556,\"#d8576b\"],[0.6666666666666666,\"#ed7953\"],[0.7777777777777778,\"#fb9f3a\"],[0.8888888888888888,\"#fdca26\"],[1.0,\"#f0f921\"]],\"type\":\"histogram2d\"}],\"histogram\":[{\"marker\":{\"pattern\":{\"fillmode\":\"overlay\",\"size\":10,\"solidity\":0.2}},\"type\":\"histogram\"}],\"mesh3d\":[{\"colorbar\":{\"outlinewidth\":0,\"ticks\":\"\"},\"type\":\"mesh3d\"}],\"parcoords\":[{\"line\":{\"colorbar\":{\"outlinewidth\":0,\"ticks\":\"\"}},\"type\":\"parcoords\"}],\"pie\":[{\"automargin\":true,\"type\":\"pie\"}],\"scatter3d\":[{\"line\":{\"colorbar\":{\"outlinewidth\":0,\"ticks\":\"\"}},\"marker\":{\"colorbar\":{\"outlinewidth\":0,\"ticks\":\"\"}},\"type\":\"scatter3d\"}],\"scattercarpet\":[{\"marker\":{\"colorbar\":{\"outlinewidth\":0,\"ticks\":\"\"}},\"type\":\"scattercarpet\"}],\"scattergeo\":[{\"marker\":{\"colorbar\":{\"outlinewidth\":0,\"ticks\":\"\"}},\"type\":\"scattergeo\"}],\"scattergl\":[{\"marker\":{\"line\":{\"color\":\"#283442\"}},\"type\":\"scattergl\"}],\"scattermapbox\":[{\"marker\":{\"colorbar\":{\"outlinewidth\":0,\"ticks\":\"\"}},\"type\":\"scattermapbox\"}],\"scatterpolargl\":[{\"marker\":{\"colorbar\":{\"outlinewidth\":0,\"ticks\":\"\"}},\"type\":\"scatterpolargl\"}],\"scatterpolar\":[{\"marker\":{\"colorbar\":{\"outlinewidth\":0,\"ticks\":\"\"}},\"type\":\"scatterpolar\"}],\"scatter\":[{\"marker\":{\"line\":{\"color\":\"#283442\"}},\"type\":\"scatter\"}],\"scatterternary\":[{\"marker\":{\"colorbar\":{\"outlinewidth\":0,\"ticks\":\"\"}},\"type\":\"scatterternary\"}],\"surface\":[{\"colorbar\":{\"outlinewidth\":0,\"ticks\":\"\"},\"colorscale\":[[0.0,\"#0d0887\"],[0.1111111111111111,\"#46039f\"],[0.2222222222222222,\"#7201a8\"],[0.3333333333333333,\"#9c179e\"],[0.4444444444444444,\"#bd3786\"],[0.5555555555555556,\"#d8576b\"],[0.6666666666666666,\"#ed7953\"],[0.7777777777777778,\"#fb9f3a\"],[0.8888888888888888,\"#fdca26\"],[1.0,\"#f0f921\"]],\"type\":\"surface\"}],\"table\":[{\"cells\":{\"fill\":{\"color\":\"#506784\"},\"line\":{\"color\":\"rgb(17,17,17)\"}},\"header\":{\"fill\":{\"color\":\"#2a3f5f\"},\"line\":{\"color\":\"rgb(17,17,17)\"}},\"type\":\"table\"}]},\"layout\":{\"annotationdefaults\":{\"arrowcolor\":\"#f2f5fa\",\"arrowhead\":0,\"arrowwidth\":1},\"autotypenumbers\":\"strict\",\"coloraxis\":{\"colorbar\":{\"outlinewidth\":0,\"ticks\":\"\"}},\"colorscale\":{\"diverging\":[[0,\"#8e0152\"],[0.1,\"#c51b7d\"],[0.2,\"#de77ae\"],[0.3,\"#f1b6da\"],[0.4,\"#fde0ef\"],[0.5,\"#f7f7f7\"],[0.6,\"#e6f5d0\"],[0.7,\"#b8e186\"],[0.8,\"#7fbc41\"],[0.9,\"#4d9221\"],[1,\"#276419\"]],\"sequential\":[[0.0,\"#0d0887\"],[0.1111111111111111,\"#46039f\"],[0.2222222222222222,\"#7201a8\"],[0.3333333333333333,\"#9c179e\"],[0.4444444444444444,\"#bd3786\"],[0.5555555555555556,\"#d8576b\"],[0.6666666666666666,\"#ed7953\"],[0.7777777777777778,\"#fb9f3a\"],[0.8888888888888888,\"#fdca26\"],[1.0,\"#f0f921\"]],\"sequentialminus\":[[0.0,\"#0d0887\"],[0.1111111111111111,\"#46039f\"],[0.2222222222222222,\"#7201a8\"],[0.3333333333333333,\"#9c179e\"],[0.4444444444444444,\"#bd3786\"],[0.5555555555555556,\"#d8576b\"],[0.6666666666666666,\"#ed7953\"],[0.7777777777777778,\"#fb9f3a\"],[0.8888888888888888,\"#fdca26\"],[1.0,\"#f0f921\"]]},\"colorway\":[\"#636efa\",\"#EF553B\",\"#00cc96\",\"#ab63fa\",\"#FFA15A\",\"#19d3f3\",\"#FF6692\",\"#B6E880\",\"#FF97FF\",\"#FECB52\"],\"font\":{\"color\":\"#f2f5fa\"},\"geo\":{\"bgcolor\":\"rgb(17,17,17)\",\"lakecolor\":\"rgb(17,17,17)\",\"landcolor\":\"rgb(17,17,17)\",\"showlakes\":true,\"showland\":true,\"subunitcolor\":\"#506784\"},\"hoverlabel\":{\"align\":\"left\"},\"hovermode\":\"closest\",\"mapbox\":{\"style\":\"dark\"},\"paper_bgcolor\":\"rgb(17,17,17)\",\"plot_bgcolor\":\"rgb(17,17,17)\",\"polar\":{\"angularaxis\":{\"gridcolor\":\"#506784\",\"linecolor\":\"#506784\",\"ticks\":\"\"},\"bgcolor\":\"rgb(17,17,17)\",\"radialaxis\":{\"gridcolor\":\"#506784\",\"linecolor\":\"#506784\",\"ticks\":\"\"}},\"scene\":{\"xaxis\":{\"backgroundcolor\":\"rgb(17,17,17)\",\"gridcolor\":\"#506784\",\"gridwidth\":2,\"linecolor\":\"#506784\",\"showbackground\":true,\"ticks\":\"\",\"zerolinecolor\":\"#C8D4E3\"},\"yaxis\":{\"backgroundcolor\":\"rgb(17,17,17)\",\"gridcolor\":\"#506784\",\"gridwidth\":2,\"linecolor\":\"#506784\",\"showbackground\":true,\"ticks\":\"\",\"zerolinecolor\":\"#C8D4E3\"},\"zaxis\":{\"backgroundcolor\":\"rgb(17,17,17)\",\"gridcolor\":\"#506784\",\"gridwidth\":2,\"linecolor\":\"#506784\",\"showbackground\":true,\"ticks\":\"\",\"zerolinecolor\":\"#C8D4E3\"}},\"shapedefaults\":{\"line\":{\"color\":\"#f2f5fa\"}},\"sliderdefaults\":{\"bgcolor\":\"#C8D4E3\",\"bordercolor\":\"rgb(17,17,17)\",\"borderwidth\":1,\"tickwidth\":0},\"ternary\":{\"aaxis\":{\"gridcolor\":\"#506784\",\"linecolor\":\"#506784\",\"ticks\":\"\"},\"baxis\":{\"gridcolor\":\"#506784\",\"linecolor\":\"#506784\",\"ticks\":\"\"},\"bgcolor\":\"rgb(17,17,17)\",\"caxis\":{\"gridcolor\":\"#506784\",\"linecolor\":\"#506784\",\"ticks\":\"\"}},\"title\":{\"x\":0.05},\"updatemenudefaults\":{\"bgcolor\":\"#506784\",\"borderwidth\":0},\"xaxis\":{\"automargin\":true,\"gridcolor\":\"#283442\",\"linecolor\":\"#506784\",\"ticks\":\"\",\"title\":{\"standoff\":15},\"zerolinecolor\":\"#283442\",\"zerolinewidth\":2},\"yaxis\":{\"automargin\":true,\"gridcolor\":\"#283442\",\"linecolor\":\"#506784\",\"ticks\":\"\",\"title\":{\"standoff\":15},\"zerolinecolor\":\"#283442\",\"zerolinewidth\":2}}},\"xaxis\":{\"anchor\":\"y\",\"domain\":[0.0,1.0],\"title\":{\"text\":\"Stream\"}},\"yaxis\":{\"anchor\":\"x\",\"domain\":[0.0,1.0],\"title\":{\"text\":\"value\"}},\"legend\":{\"title\":{\"text\":\"variable\"},\"tracegroupgap\":0},\"title\":{\"text\":\"<b>Stream wise Analyzing</b>\"},\"barmode\":\"group\"},                        {\"responsive\": true}                    ).then(function(){\n",
       "                            \n",
       "var gd = document.getElementById('25915578-79bb-4573-b04f-8c931a5bbe57');\n",
       "var x = new MutationObserver(function (mutations, observer) {{\n",
       "        var display = window.getComputedStyle(gd).display;\n",
       "        if (!display || display === 'none') {{\n",
       "            console.log([gd, 'removed!']);\n",
       "            Plotly.purge(gd);\n",
       "            observer.disconnect();\n",
       "        }}\n",
       "}});\n",
       "\n",
       "// Listen for the removal of the full notebook cells\n",
       "var notebookContainer = gd.closest('#notebook-container');\n",
       "if (notebookContainer) {{\n",
       "    x.observe(notebookContainer, {childList: true});\n",
       "}}\n",
       "\n",
       "// Listen for the clearing of the current output cell\n",
       "var outputEl = gd.closest('.output');\n",
       "if (outputEl) {{\n",
       "    x.observe(outputEl, {childList: true});\n",
       "}}\n",
       "\n",
       "                        })                };                });            </script>        </div>"
      ]
     },
     "metadata": {},
     "output_type": "display_data"
    }
   ],
   "source": [
    "px.bar(data_frame=stream_wise, barmode='group',\n",
    "       title = \"<b>Stream wise Analyzing</b>\",template=\"plotly_dark\")"
   ]
  },
  {
   "cell_type": "markdown",
   "id": "8740d9f2",
   "metadata": {
    "papermill": {
     "duration": 0.019632,
     "end_time": "2022-09-24T10:46:07.688733",
     "exception": false,
     "start_time": "2022-09-24T10:46:07.669101",
     "status": "completed"
    },
    "tags": []
   },
   "source": [
    "# From Computer Science degree most of the student placed...\n"
   ]
  },
  {
   "cell_type": "code",
   "execution_count": 26,
   "id": "231ec691",
   "metadata": {
    "execution": {
     "iopub.execute_input": "2022-09-24T10:46:07.730737Z",
     "iopub.status.busy": "2022-09-24T10:46:07.729718Z",
     "iopub.status.idle": "2022-09-24T10:46:07.746422Z",
     "shell.execute_reply": "2022-09-24T10:46:07.745311Z"
    },
    "papermill": {
     "duration": 0.040244,
     "end_time": "2022-09-24T10:46:07.748748",
     "exception": false,
     "start_time": "2022-09-24T10:46:07.708504",
     "status": "completed"
    },
    "tags": []
   },
   "outputs": [
    {
     "data": {
      "text/html": [
       "<div>\n",
       "<style scoped>\n",
       "    .dataframe tbody tr th:only-of-type {\n",
       "        vertical-align: middle;\n",
       "    }\n",
       "\n",
       "    .dataframe tbody tr th {\n",
       "        vertical-align: top;\n",
       "    }\n",
       "\n",
       "    .dataframe thead th {\n",
       "        text-align: right;\n",
       "    }\n",
       "</style>\n",
       "<table border=\"1\" class=\"dataframe\">\n",
       "  <thead>\n",
       "    <tr style=\"text-align: right;\">\n",
       "      <th></th>\n",
       "      <th>Age</th>\n",
       "      <th>Gender</th>\n",
       "      <th>Stream</th>\n",
       "      <th>Internships</th>\n",
       "      <th>CGPA</th>\n",
       "      <th>Hostel</th>\n",
       "      <th>HistoryOfBacklogs</th>\n",
       "      <th>PlacedOrNot</th>\n",
       "    </tr>\n",
       "  </thead>\n",
       "  <tbody>\n",
       "    <tr>\n",
       "      <th>1</th>\n",
       "      <td>21</td>\n",
       "      <td>Female</td>\n",
       "      <td>Computer Science</td>\n",
       "      <td>0</td>\n",
       "      <td>7</td>\n",
       "      <td>1</td>\n",
       "      <td>1</td>\n",
       "      <td>1</td>\n",
       "    </tr>\n",
       "    <tr>\n",
       "      <th>3</th>\n",
       "      <td>21</td>\n",
       "      <td>Male</td>\n",
       "      <td>Information Technology</td>\n",
       "      <td>0</td>\n",
       "      <td>8</td>\n",
       "      <td>0</td>\n",
       "      <td>1</td>\n",
       "      <td>1</td>\n",
       "    </tr>\n",
       "    <tr>\n",
       "      <th>4</th>\n",
       "      <td>22</td>\n",
       "      <td>Male</td>\n",
       "      <td>Mechanical</td>\n",
       "      <td>0</td>\n",
       "      <td>8</td>\n",
       "      <td>1</td>\n",
       "      <td>0</td>\n",
       "      <td>1</td>\n",
       "    </tr>\n",
       "    <tr>\n",
       "      <th>5</th>\n",
       "      <td>22</td>\n",
       "      <td>Male</td>\n",
       "      <td>Electronics And Communication</td>\n",
       "      <td>0</td>\n",
       "      <td>6</td>\n",
       "      <td>0</td>\n",
       "      <td>0</td>\n",
       "      <td>0</td>\n",
       "    </tr>\n",
       "    <tr>\n",
       "      <th>6</th>\n",
       "      <td>21</td>\n",
       "      <td>Male</td>\n",
       "      <td>Computer Science</td>\n",
       "      <td>0</td>\n",
       "      <td>7</td>\n",
       "      <td>0</td>\n",
       "      <td>1</td>\n",
       "      <td>0</td>\n",
       "    </tr>\n",
       "    <tr>\n",
       "      <th>...</th>\n",
       "      <td>...</td>\n",
       "      <td>...</td>\n",
       "      <td>...</td>\n",
       "      <td>...</td>\n",
       "      <td>...</td>\n",
       "      <td>...</td>\n",
       "      <td>...</td>\n",
       "      <td>...</td>\n",
       "    </tr>\n",
       "    <tr>\n",
       "      <th>2956</th>\n",
       "      <td>22</td>\n",
       "      <td>Male</td>\n",
       "      <td>Computer Science</td>\n",
       "      <td>0</td>\n",
       "      <td>8</td>\n",
       "      <td>0</td>\n",
       "      <td>0</td>\n",
       "      <td>1</td>\n",
       "    </tr>\n",
       "    <tr>\n",
       "      <th>2958</th>\n",
       "      <td>23</td>\n",
       "      <td>Male</td>\n",
       "      <td>Computer Science</td>\n",
       "      <td>0</td>\n",
       "      <td>6</td>\n",
       "      <td>0</td>\n",
       "      <td>1</td>\n",
       "      <td>0</td>\n",
       "    </tr>\n",
       "    <tr>\n",
       "      <th>2959</th>\n",
       "      <td>23</td>\n",
       "      <td>Male</td>\n",
       "      <td>Information Technology</td>\n",
       "      <td>0</td>\n",
       "      <td>7</td>\n",
       "      <td>0</td>\n",
       "      <td>0</td>\n",
       "      <td>0</td>\n",
       "    </tr>\n",
       "    <tr>\n",
       "      <th>2961</th>\n",
       "      <td>23</td>\n",
       "      <td>Male</td>\n",
       "      <td>Information Technology</td>\n",
       "      <td>0</td>\n",
       "      <td>7</td>\n",
       "      <td>0</td>\n",
       "      <td>0</td>\n",
       "      <td>0</td>\n",
       "    </tr>\n",
       "    <tr>\n",
       "      <th>2965</th>\n",
       "      <td>23</td>\n",
       "      <td>Male</td>\n",
       "      <td>Civil</td>\n",
       "      <td>0</td>\n",
       "      <td>8</td>\n",
       "      <td>0</td>\n",
       "      <td>0</td>\n",
       "      <td>1</td>\n",
       "    </tr>\n",
       "  </tbody>\n",
       "</table>\n",
       "<p>1331 rows × 8 columns</p>\n",
       "</div>"
      ],
      "text/plain": [
       "      Age  Gender                         Stream  Internships  CGPA  Hostel  \\\n",
       "1      21  Female               Computer Science            0     7       1   \n",
       "3      21    Male         Information Technology            0     8       0   \n",
       "4      22    Male                     Mechanical            0     8       1   \n",
       "5      22    Male  Electronics And Communication            0     6       0   \n",
       "6      21    Male               Computer Science            0     7       0   \n",
       "...   ...     ...                            ...          ...   ...     ...   \n",
       "2956   22    Male               Computer Science            0     8       0   \n",
       "2958   23    Male               Computer Science            0     6       0   \n",
       "2959   23    Male         Information Technology            0     7       0   \n",
       "2961   23    Male         Information Technology            0     7       0   \n",
       "2965   23    Male                          Civil            0     8       0   \n",
       "\n",
       "      HistoryOfBacklogs  PlacedOrNot  \n",
       "1                     1            1  \n",
       "3                     1            1  \n",
       "4                     0            1  \n",
       "5                     0            0  \n",
       "6                     1            0  \n",
       "...                 ...          ...  \n",
       "2956                  0            1  \n",
       "2958                  1            0  \n",
       "2959                  0            0  \n",
       "2961                  0            0  \n",
       "2965                  0            1  \n",
       "\n",
       "[1331 rows x 8 columns]"
      ]
     },
     "execution_count": 26,
     "metadata": {},
     "output_type": "execute_result"
    }
   ],
   "source": [
    "no_internship = data[data['Internships'] == 0]\n",
    "\n",
    "no_internship"
   ]
  },
  {
   "cell_type": "code",
   "execution_count": 27,
   "id": "b88ed75c",
   "metadata": {
    "execution": {
     "iopub.execute_input": "2022-09-24T10:46:07.791505Z",
     "iopub.status.busy": "2022-09-24T10:46:07.790449Z",
     "iopub.status.idle": "2022-09-24T10:46:07.851930Z",
     "shell.execute_reply": "2022-09-24T10:46:07.850819Z"
    },
    "papermill": {
     "duration": 0.085908,
     "end_time": "2022-09-24T10:46:07.855022",
     "exception": false,
     "start_time": "2022-09-24T10:46:07.769114",
     "status": "completed"
    },
    "tags": []
   },
   "outputs": [
    {
     "data": {
      "text/html": [
       "<div>                            <div id=\"41e11731-eb75-4cd8-bf21-84094ab28bfd\" class=\"plotly-graph-div\" style=\"height:525px; width:100%;\"></div>            <script type=\"text/javascript\">                require([\"plotly\"], function(Plotly) {                    window.PLOTLYENV=window.PLOTLYENV || {};                                    if (document.getElementById(\"41e11731-eb75-4cd8-bf21-84094ab28bfd\")) {                    Plotly.newPlot(                        \"41e11731-eb75-4cd8-bf21-84094ab28bfd\",                        [{\"alignmentgroup\":\"True\",\"bingroup\":\"x\",\"hovertemplate\":\"PlacedOrNot=%{x}<br>count=%{y}<extra></extra>\",\"legendgroup\":\"1\",\"marker\":{\"color\":\"#636efa\",\"pattern\":{\"shape\":\"\"}},\"name\":\"1\",\"offsetgroup\":\"1\",\"orientation\":\"v\",\"showlegend\":true,\"x\":[1,1,1,1,1,1,1,1,1,1,1,1,1,1,1,1,1,1,1,1,1,1,1,1,1,1,1,1,1,1,1,1,1,1,1,1,1,1,1,1,1,1,1,1,1,1,1,1,1,1,1,1,1,1,1,1,1,1,1,1,1,1,1,1,1,1,1,1,1,1,1,1,1,1,1,1,1,1,1,1,1,1,1,1,1,1,1,1,1,1,1,1,1,1,1,1,1,1,1,1,1,1,1,1,1,1,1,1,1,1,1,1,1,1,1,1,1,1,1,1,1,1,1,1,1,1,1,1,1,1,1,1,1,1,1,1,1,1,1,1,1,1,1,1,1,1,1,1,1,1,1,1,1,1,1,1,1,1,1,1,1,1,1,1,1,1,1,1,1,1,1,1,1,1,1,1,1,1,1,1,1,1,1,1,1,1,1,1,1,1,1,1,1,1,1,1,1,1,1,1,1,1,1,1,1,1,1,1,1,1,1,1,1,1,1,1,1,1,1,1,1,1,1,1,1,1,1,1,1,1,1,1,1,1,1,1,1,1,1,1,1,1,1,1,1,1,1,1,1,1,1,1,1,1,1,1,1,1,1,1,1,1,1,1,1,1,1,1,1,1,1,1,1,1,1,1,1,1,1,1,1,1,1,1,1,1,1,1,1,1,1,1,1,1,1,1,1,1,1,1,1,1,1,1,1,1,1,1,1,1,1,1,1,1,1,1,1,1,1,1,1,1,1,1,1,1,1,1,1,1,1,1,1,1,1,1,1,1,1,1,1,1,1,1,1,1,1,1,1,1,1,1,1,1,1,1,1,1,1,1,1,1,1,1,1,1,1,1,1,1,1,1,1,1,1,1,1,1,1,1,1,1,1,1,1,1,1,1,1,1,1,1,1,1,1,1,1,1,1,1,1,1,1,1,1,1,1,1,1,1,1,1,1,1,1,1,1,1,1,1,1,1,1,1,1,1,1,1,1,1,1,1,1,1,1,1,1,1,1,1,1,1,1,1,1,1,1,1,1,1,1,1,1,1,1,1,1,1,1,1,1,1,1,1,1,1,1,1,1,1,1,1,1,1,1,1,1,1,1,1,1,1,1,1,1,1,1,1,1,1,1,1,1,1,1,1,1,1,1,1,1,1,1,1,1,1,1,1,1,1,1,1,1,1,1,1,1,1,1,1,1,1,1,1,1,1,1,1,1,1,1,1,1,1,1,1,1,1,1,1,1,1,1,1,1,1,1,1,1,1,1,1,1,1,1,1,1,1,1,1,1,1,1,1,1,1,1,1,1,1,1,1,1,1,1,1,1,1,1,1,1,1,1,1,1,1,1,1,1,1,1,1,1,1,1,1,1,1,1,1,1,1,1,1,1,1,1,1,1,1,1,1,1,1,1,1,1,1,1,1,1,1,1,1,1,1,1,1,1,1,1,1,1,1,1,1,1,1,1,1,1,1,1,1,1,1,1,1,1,1,1,1,1,1],\"xaxis\":\"x\",\"yaxis\":\"y\",\"type\":\"histogram\"},{\"alignmentgroup\":\"True\",\"bingroup\":\"x\",\"hovertemplate\":\"PlacedOrNot=%{x}<br>count=%{y}<extra></extra>\",\"legendgroup\":\"0\",\"marker\":{\"color\":\"#EF553B\",\"pattern\":{\"shape\":\"\"}},\"name\":\"0\",\"offsetgroup\":\"0\",\"orientation\":\"v\",\"showlegend\":true,\"x\":[0,0,0,0,0,0,0,0,0,0,0,0,0,0,0,0,0,0,0,0,0,0,0,0,0,0,0,0,0,0,0,0,0,0,0,0,0,0,0,0,0,0,0,0,0,0,0,0,0,0,0,0,0,0,0,0,0,0,0,0,0,0,0,0,0,0,0,0,0,0,0,0,0,0,0,0,0,0,0,0,0,0,0,0,0,0,0,0,0,0,0,0,0,0,0,0,0,0,0,0,0,0,0,0,0,0,0,0,0,0,0,0,0,0,0,0,0,0,0,0,0,0,0,0,0,0,0,0,0,0,0,0,0,0,0,0,0,0,0,0,0,0,0,0,0,0,0,0,0,0,0,0,0,0,0,0,0,0,0,0,0,0,0,0,0,0,0,0,0,0,0,0,0,0,0,0,0,0,0,0,0,0,0,0,0,0,0,0,0,0,0,0,0,0,0,0,0,0,0,0,0,0,0,0,0,0,0,0,0,0,0,0,0,0,0,0,0,0,0,0,0,0,0,0,0,0,0,0,0,0,0,0,0,0,0,0,0,0,0,0,0,0,0,0,0,0,0,0,0,0,0,0,0,0,0,0,0,0,0,0,0,0,0,0,0,0,0,0,0,0,0,0,0,0,0,0,0,0,0,0,0,0,0,0,0,0,0,0,0,0,0,0,0,0,0,0,0,0,0,0,0,0,0,0,0,0,0,0,0,0,0,0,0,0,0,0,0,0,0,0,0,0,0,0,0,0,0,0,0,0,0,0,0,0,0,0,0,0,0,0,0,0,0,0,0,0,0,0,0,0,0,0,0,0,0,0,0,0,0,0,0,0,0,0,0,0,0,0,0,0,0,0,0,0,0,0,0,0,0,0,0,0,0,0,0,0,0,0,0,0,0,0,0,0,0,0,0,0,0,0,0,0,0,0,0,0,0,0,0,0,0,0,0,0,0,0,0,0,0,0,0,0,0,0,0,0,0,0,0,0,0,0,0,0,0,0,0,0,0,0,0,0,0,0,0,0,0,0,0,0,0,0,0,0,0,0,0,0,0,0,0,0,0,0,0,0,0,0,0,0,0,0,0,0,0,0,0,0,0,0,0,0,0,0,0,0,0,0,0,0,0,0,0,0,0,0,0,0,0,0,0,0,0,0,0,0,0,0,0,0,0,0,0,0,0,0,0,0,0,0,0,0,0,0,0,0,0,0,0,0,0,0,0,0,0,0,0,0,0,0,0,0,0,0,0,0,0,0,0,0,0,0,0,0,0,0,0,0,0,0,0,0,0,0,0,0,0,0,0,0,0,0,0,0,0,0,0,0,0,0,0,0,0,0,0,0,0,0,0,0,0,0,0,0,0,0,0,0,0,0,0,0,0,0,0,0,0,0,0,0,0,0,0,0,0,0,0,0,0,0,0,0,0,0,0,0,0,0,0,0,0,0,0,0,0,0,0,0,0,0,0,0,0,0,0,0,0,0,0,0,0,0,0,0,0,0,0,0,0,0,0,0,0,0,0,0,0,0,0,0,0,0,0,0,0,0,0],\"xaxis\":\"x\",\"yaxis\":\"y\",\"type\":\"histogram\"}],                        {\"template\":{\"data\":{\"barpolar\":[{\"marker\":{\"line\":{\"color\":\"rgb(17,17,17)\",\"width\":0.5},\"pattern\":{\"fillmode\":\"overlay\",\"size\":10,\"solidity\":0.2}},\"type\":\"barpolar\"}],\"bar\":[{\"error_x\":{\"color\":\"#f2f5fa\"},\"error_y\":{\"color\":\"#f2f5fa\"},\"marker\":{\"line\":{\"color\":\"rgb(17,17,17)\",\"width\":0.5},\"pattern\":{\"fillmode\":\"overlay\",\"size\":10,\"solidity\":0.2}},\"type\":\"bar\"}],\"carpet\":[{\"aaxis\":{\"endlinecolor\":\"#A2B1C6\",\"gridcolor\":\"#506784\",\"linecolor\":\"#506784\",\"minorgridcolor\":\"#506784\",\"startlinecolor\":\"#A2B1C6\"},\"baxis\":{\"endlinecolor\":\"#A2B1C6\",\"gridcolor\":\"#506784\",\"linecolor\":\"#506784\",\"minorgridcolor\":\"#506784\",\"startlinecolor\":\"#A2B1C6\"},\"type\":\"carpet\"}],\"choropleth\":[{\"colorbar\":{\"outlinewidth\":0,\"ticks\":\"\"},\"type\":\"choropleth\"}],\"contourcarpet\":[{\"colorbar\":{\"outlinewidth\":0,\"ticks\":\"\"},\"type\":\"contourcarpet\"}],\"contour\":[{\"colorbar\":{\"outlinewidth\":0,\"ticks\":\"\"},\"colorscale\":[[0.0,\"#0d0887\"],[0.1111111111111111,\"#46039f\"],[0.2222222222222222,\"#7201a8\"],[0.3333333333333333,\"#9c179e\"],[0.4444444444444444,\"#bd3786\"],[0.5555555555555556,\"#d8576b\"],[0.6666666666666666,\"#ed7953\"],[0.7777777777777778,\"#fb9f3a\"],[0.8888888888888888,\"#fdca26\"],[1.0,\"#f0f921\"]],\"type\":\"contour\"}],\"heatmapgl\":[{\"colorbar\":{\"outlinewidth\":0,\"ticks\":\"\"},\"colorscale\":[[0.0,\"#0d0887\"],[0.1111111111111111,\"#46039f\"],[0.2222222222222222,\"#7201a8\"],[0.3333333333333333,\"#9c179e\"],[0.4444444444444444,\"#bd3786\"],[0.5555555555555556,\"#d8576b\"],[0.6666666666666666,\"#ed7953\"],[0.7777777777777778,\"#fb9f3a\"],[0.8888888888888888,\"#fdca26\"],[1.0,\"#f0f921\"]],\"type\":\"heatmapgl\"}],\"heatmap\":[{\"colorbar\":{\"outlinewidth\":0,\"ticks\":\"\"},\"colorscale\":[[0.0,\"#0d0887\"],[0.1111111111111111,\"#46039f\"],[0.2222222222222222,\"#7201a8\"],[0.3333333333333333,\"#9c179e\"],[0.4444444444444444,\"#bd3786\"],[0.5555555555555556,\"#d8576b\"],[0.6666666666666666,\"#ed7953\"],[0.7777777777777778,\"#fb9f3a\"],[0.8888888888888888,\"#fdca26\"],[1.0,\"#f0f921\"]],\"type\":\"heatmap\"}],\"histogram2dcontour\":[{\"colorbar\":{\"outlinewidth\":0,\"ticks\":\"\"},\"colorscale\":[[0.0,\"#0d0887\"],[0.1111111111111111,\"#46039f\"],[0.2222222222222222,\"#7201a8\"],[0.3333333333333333,\"#9c179e\"],[0.4444444444444444,\"#bd3786\"],[0.5555555555555556,\"#d8576b\"],[0.6666666666666666,\"#ed7953\"],[0.7777777777777778,\"#fb9f3a\"],[0.8888888888888888,\"#fdca26\"],[1.0,\"#f0f921\"]],\"type\":\"histogram2dcontour\"}],\"histogram2d\":[{\"colorbar\":{\"outlinewidth\":0,\"ticks\":\"\"},\"colorscale\":[[0.0,\"#0d0887\"],[0.1111111111111111,\"#46039f\"],[0.2222222222222222,\"#7201a8\"],[0.3333333333333333,\"#9c179e\"],[0.4444444444444444,\"#bd3786\"],[0.5555555555555556,\"#d8576b\"],[0.6666666666666666,\"#ed7953\"],[0.7777777777777778,\"#fb9f3a\"],[0.8888888888888888,\"#fdca26\"],[1.0,\"#f0f921\"]],\"type\":\"histogram2d\"}],\"histogram\":[{\"marker\":{\"pattern\":{\"fillmode\":\"overlay\",\"size\":10,\"solidity\":0.2}},\"type\":\"histogram\"}],\"mesh3d\":[{\"colorbar\":{\"outlinewidth\":0,\"ticks\":\"\"},\"type\":\"mesh3d\"}],\"parcoords\":[{\"line\":{\"colorbar\":{\"outlinewidth\":0,\"ticks\":\"\"}},\"type\":\"parcoords\"}],\"pie\":[{\"automargin\":true,\"type\":\"pie\"}],\"scatter3d\":[{\"line\":{\"colorbar\":{\"outlinewidth\":0,\"ticks\":\"\"}},\"marker\":{\"colorbar\":{\"outlinewidth\":0,\"ticks\":\"\"}},\"type\":\"scatter3d\"}],\"scattercarpet\":[{\"marker\":{\"colorbar\":{\"outlinewidth\":0,\"ticks\":\"\"}},\"type\":\"scattercarpet\"}],\"scattergeo\":[{\"marker\":{\"colorbar\":{\"outlinewidth\":0,\"ticks\":\"\"}},\"type\":\"scattergeo\"}],\"scattergl\":[{\"marker\":{\"line\":{\"color\":\"#283442\"}},\"type\":\"scattergl\"}],\"scattermapbox\":[{\"marker\":{\"colorbar\":{\"outlinewidth\":0,\"ticks\":\"\"}},\"type\":\"scattermapbox\"}],\"scatterpolargl\":[{\"marker\":{\"colorbar\":{\"outlinewidth\":0,\"ticks\":\"\"}},\"type\":\"scatterpolargl\"}],\"scatterpolar\":[{\"marker\":{\"colorbar\":{\"outlinewidth\":0,\"ticks\":\"\"}},\"type\":\"scatterpolar\"}],\"scatter\":[{\"marker\":{\"line\":{\"color\":\"#283442\"}},\"type\":\"scatter\"}],\"scatterternary\":[{\"marker\":{\"colorbar\":{\"outlinewidth\":0,\"ticks\":\"\"}},\"type\":\"scatterternary\"}],\"surface\":[{\"colorbar\":{\"outlinewidth\":0,\"ticks\":\"\"},\"colorscale\":[[0.0,\"#0d0887\"],[0.1111111111111111,\"#46039f\"],[0.2222222222222222,\"#7201a8\"],[0.3333333333333333,\"#9c179e\"],[0.4444444444444444,\"#bd3786\"],[0.5555555555555556,\"#d8576b\"],[0.6666666666666666,\"#ed7953\"],[0.7777777777777778,\"#fb9f3a\"],[0.8888888888888888,\"#fdca26\"],[1.0,\"#f0f921\"]],\"type\":\"surface\"}],\"table\":[{\"cells\":{\"fill\":{\"color\":\"#506784\"},\"line\":{\"color\":\"rgb(17,17,17)\"}},\"header\":{\"fill\":{\"color\":\"#2a3f5f\"},\"line\":{\"color\":\"rgb(17,17,17)\"}},\"type\":\"table\"}]},\"layout\":{\"annotationdefaults\":{\"arrowcolor\":\"#f2f5fa\",\"arrowhead\":0,\"arrowwidth\":1},\"autotypenumbers\":\"strict\",\"coloraxis\":{\"colorbar\":{\"outlinewidth\":0,\"ticks\":\"\"}},\"colorscale\":{\"diverging\":[[0,\"#8e0152\"],[0.1,\"#c51b7d\"],[0.2,\"#de77ae\"],[0.3,\"#f1b6da\"],[0.4,\"#fde0ef\"],[0.5,\"#f7f7f7\"],[0.6,\"#e6f5d0\"],[0.7,\"#b8e186\"],[0.8,\"#7fbc41\"],[0.9,\"#4d9221\"],[1,\"#276419\"]],\"sequential\":[[0.0,\"#0d0887\"],[0.1111111111111111,\"#46039f\"],[0.2222222222222222,\"#7201a8\"],[0.3333333333333333,\"#9c179e\"],[0.4444444444444444,\"#bd3786\"],[0.5555555555555556,\"#d8576b\"],[0.6666666666666666,\"#ed7953\"],[0.7777777777777778,\"#fb9f3a\"],[0.8888888888888888,\"#fdca26\"],[1.0,\"#f0f921\"]],\"sequentialminus\":[[0.0,\"#0d0887\"],[0.1111111111111111,\"#46039f\"],[0.2222222222222222,\"#7201a8\"],[0.3333333333333333,\"#9c179e\"],[0.4444444444444444,\"#bd3786\"],[0.5555555555555556,\"#d8576b\"],[0.6666666666666666,\"#ed7953\"],[0.7777777777777778,\"#fb9f3a\"],[0.8888888888888888,\"#fdca26\"],[1.0,\"#f0f921\"]]},\"colorway\":[\"#636efa\",\"#EF553B\",\"#00cc96\",\"#ab63fa\",\"#FFA15A\",\"#19d3f3\",\"#FF6692\",\"#B6E880\",\"#FF97FF\",\"#FECB52\"],\"font\":{\"color\":\"#f2f5fa\"},\"geo\":{\"bgcolor\":\"rgb(17,17,17)\",\"lakecolor\":\"rgb(17,17,17)\",\"landcolor\":\"rgb(17,17,17)\",\"showlakes\":true,\"showland\":true,\"subunitcolor\":\"#506784\"},\"hoverlabel\":{\"align\":\"left\"},\"hovermode\":\"closest\",\"mapbox\":{\"style\":\"dark\"},\"paper_bgcolor\":\"rgb(17,17,17)\",\"plot_bgcolor\":\"rgb(17,17,17)\",\"polar\":{\"angularaxis\":{\"gridcolor\":\"#506784\",\"linecolor\":\"#506784\",\"ticks\":\"\"},\"bgcolor\":\"rgb(17,17,17)\",\"radialaxis\":{\"gridcolor\":\"#506784\",\"linecolor\":\"#506784\",\"ticks\":\"\"}},\"scene\":{\"xaxis\":{\"backgroundcolor\":\"rgb(17,17,17)\",\"gridcolor\":\"#506784\",\"gridwidth\":2,\"linecolor\":\"#506784\",\"showbackground\":true,\"ticks\":\"\",\"zerolinecolor\":\"#C8D4E3\"},\"yaxis\":{\"backgroundcolor\":\"rgb(17,17,17)\",\"gridcolor\":\"#506784\",\"gridwidth\":2,\"linecolor\":\"#506784\",\"showbackground\":true,\"ticks\":\"\",\"zerolinecolor\":\"#C8D4E3\"},\"zaxis\":{\"backgroundcolor\":\"rgb(17,17,17)\",\"gridcolor\":\"#506784\",\"gridwidth\":2,\"linecolor\":\"#506784\",\"showbackground\":true,\"ticks\":\"\",\"zerolinecolor\":\"#C8D4E3\"}},\"shapedefaults\":{\"line\":{\"color\":\"#f2f5fa\"}},\"sliderdefaults\":{\"bgcolor\":\"#C8D4E3\",\"bordercolor\":\"rgb(17,17,17)\",\"borderwidth\":1,\"tickwidth\":0},\"ternary\":{\"aaxis\":{\"gridcolor\":\"#506784\",\"linecolor\":\"#506784\",\"ticks\":\"\"},\"baxis\":{\"gridcolor\":\"#506784\",\"linecolor\":\"#506784\",\"ticks\":\"\"},\"bgcolor\":\"rgb(17,17,17)\",\"caxis\":{\"gridcolor\":\"#506784\",\"linecolor\":\"#506784\",\"ticks\":\"\"}},\"title\":{\"x\":0.05},\"updatemenudefaults\":{\"bgcolor\":\"#506784\",\"borderwidth\":0},\"xaxis\":{\"automargin\":true,\"gridcolor\":\"#283442\",\"linecolor\":\"#506784\",\"ticks\":\"\",\"title\":{\"standoff\":15},\"zerolinecolor\":\"#283442\",\"zerolinewidth\":2},\"yaxis\":{\"automargin\":true,\"gridcolor\":\"#283442\",\"linecolor\":\"#506784\",\"ticks\":\"\",\"title\":{\"standoff\":15},\"zerolinecolor\":\"#283442\",\"zerolinewidth\":2}}},\"xaxis\":{\"anchor\":\"y\",\"domain\":[0.0,1.0],\"title\":{\"text\":\"PlacedOrNot\"},\"categoryorder\":\"array\",\"categoryarray\":[1,0]},\"yaxis\":{\"anchor\":\"x\",\"domain\":[0.0,1.0],\"title\":{\"text\":\"count\"}},\"legend\":{\"title\":{\"text\":\"PlacedOrNot\"},\"tracegroupgap\":0},\"title\":{\"text\":\"<b>No Internship Experience Vs Placement</b>\"},\"barmode\":\"relative\",\"bargap\":0.2},                        {\"responsive\": true}                    ).then(function(){\n",
       "                            \n",
       "var gd = document.getElementById('41e11731-eb75-4cd8-bf21-84094ab28bfd');\n",
       "var x = new MutationObserver(function (mutations, observer) {{\n",
       "        var display = window.getComputedStyle(gd).display;\n",
       "        if (!display || display === 'none') {{\n",
       "            console.log([gd, 'removed!']);\n",
       "            Plotly.purge(gd);\n",
       "            observer.disconnect();\n",
       "        }}\n",
       "}});\n",
       "\n",
       "// Listen for the removal of the full notebook cells\n",
       "var notebookContainer = gd.closest('#notebook-container');\n",
       "if (notebookContainer) {{\n",
       "    x.observe(notebookContainer, {childList: true});\n",
       "}}\n",
       "\n",
       "// Listen for the clearing of the current output cell\n",
       "var outputEl = gd.closest('.output');\n",
       "if (outputEl) {{\n",
       "    x.observe(outputEl, {childList: true});\n",
       "}}\n",
       "\n",
       "                        })                };                });            </script>        </div>"
      ]
     },
     "metadata": {},
     "output_type": "display_data"
    }
   ],
   "source": [
    "fig = px.histogram(data_frame = no_internship,\n",
    "                   x = \"PlacedOrNot\",\n",
    "                   color=\"PlacedOrNot\",\n",
    "                   title = \"<b>No Internship Experience Vs Placement</b>\",\n",
    "                   template = 'plotly_dark')\n",
    "\n",
    "fig.update_layout(bargap = 0.2)\n",
    "\n",
    "fig.show()"
   ]
  },
  {
   "cell_type": "markdown",
   "id": "f172c026",
   "metadata": {
    "papermill": {
     "duration": 0.020212,
     "end_time": "2022-09-24T10:46:07.895987",
     "exception": false,
     "start_time": "2022-09-24T10:46:07.875775",
     "status": "completed"
    },
    "tags": []
   },
   "source": [
    "# So from above graph, if person don't have any Internship Experience, it will not much effect on his/her placement. Majority of the student who don't have any Internship Experience has passed the placement exam"
   ]
  },
  {
   "cell_type": "code",
   "execution_count": 28,
   "id": "5799c5dc",
   "metadata": {
    "execution": {
     "iopub.execute_input": "2022-09-24T10:46:07.940945Z",
     "iopub.status.busy": "2022-09-24T10:46:07.940451Z",
     "iopub.status.idle": "2022-09-24T10:46:07.949548Z",
     "shell.execute_reply": "2022-09-24T10:46:07.948397Z"
    },
    "papermill": {
     "duration": 0.035016,
     "end_time": "2022-09-24T10:46:07.951971",
     "exception": false,
     "start_time": "2022-09-24T10:46:07.916955",
     "status": "completed"
    },
    "tags": []
   },
   "outputs": [],
   "source": [
    "dummy_gender = pd.get_dummies(data['Gender'])\n",
    "dummy_stream = pd.get_dummies(data['Stream'])"
   ]
  },
  {
   "cell_type": "code",
   "execution_count": 29,
   "id": "62f6159c",
   "metadata": {
    "execution": {
     "iopub.execute_input": "2022-09-24T10:46:07.995948Z",
     "iopub.status.busy": "2022-09-24T10:46:07.995532Z",
     "iopub.status.idle": "2022-09-24T10:46:08.015161Z",
     "shell.execute_reply": "2022-09-24T10:46:08.014155Z"
    },
    "papermill": {
     "duration": 0.043479,
     "end_time": "2022-09-24T10:46:08.017257",
     "exception": false,
     "start_time": "2022-09-24T10:46:07.973778",
     "status": "completed"
    },
    "tags": []
   },
   "outputs": [
    {
     "data": {
      "text/html": [
       "<div>\n",
       "<style scoped>\n",
       "    .dataframe tbody tr th:only-of-type {\n",
       "        vertical-align: middle;\n",
       "    }\n",
       "\n",
       "    .dataframe tbody tr th {\n",
       "        vertical-align: top;\n",
       "    }\n",
       "\n",
       "    .dataframe thead th {\n",
       "        text-align: right;\n",
       "    }\n",
       "</style>\n",
       "<table border=\"1\" class=\"dataframe\">\n",
       "  <thead>\n",
       "    <tr style=\"text-align: right;\">\n",
       "      <th></th>\n",
       "      <th>Age</th>\n",
       "      <th>Internships</th>\n",
       "      <th>CGPA</th>\n",
       "      <th>Hostel</th>\n",
       "      <th>HistoryOfBacklogs</th>\n",
       "      <th>PlacedOrNot</th>\n",
       "      <th>Female</th>\n",
       "      <th>Male</th>\n",
       "      <th>Civil</th>\n",
       "      <th>Computer Science</th>\n",
       "      <th>Electrical</th>\n",
       "      <th>Electronics And Communication</th>\n",
       "      <th>Information Technology</th>\n",
       "      <th>Mechanical</th>\n",
       "    </tr>\n",
       "  </thead>\n",
       "  <tbody>\n",
       "    <tr>\n",
       "      <th>0</th>\n",
       "      <td>22</td>\n",
       "      <td>1</td>\n",
       "      <td>8</td>\n",
       "      <td>1</td>\n",
       "      <td>1</td>\n",
       "      <td>1</td>\n",
       "      <td>0</td>\n",
       "      <td>1</td>\n",
       "      <td>0</td>\n",
       "      <td>0</td>\n",
       "      <td>0</td>\n",
       "      <td>1</td>\n",
       "      <td>0</td>\n",
       "      <td>0</td>\n",
       "    </tr>\n",
       "    <tr>\n",
       "      <th>1</th>\n",
       "      <td>21</td>\n",
       "      <td>0</td>\n",
       "      <td>7</td>\n",
       "      <td>1</td>\n",
       "      <td>1</td>\n",
       "      <td>1</td>\n",
       "      <td>1</td>\n",
       "      <td>0</td>\n",
       "      <td>0</td>\n",
       "      <td>1</td>\n",
       "      <td>0</td>\n",
       "      <td>0</td>\n",
       "      <td>0</td>\n",
       "      <td>0</td>\n",
       "    </tr>\n",
       "    <tr>\n",
       "      <th>2</th>\n",
       "      <td>22</td>\n",
       "      <td>1</td>\n",
       "      <td>6</td>\n",
       "      <td>0</td>\n",
       "      <td>0</td>\n",
       "      <td>1</td>\n",
       "      <td>1</td>\n",
       "      <td>0</td>\n",
       "      <td>0</td>\n",
       "      <td>0</td>\n",
       "      <td>0</td>\n",
       "      <td>0</td>\n",
       "      <td>1</td>\n",
       "      <td>0</td>\n",
       "    </tr>\n",
       "    <tr>\n",
       "      <th>3</th>\n",
       "      <td>21</td>\n",
       "      <td>0</td>\n",
       "      <td>8</td>\n",
       "      <td>0</td>\n",
       "      <td>1</td>\n",
       "      <td>1</td>\n",
       "      <td>0</td>\n",
       "      <td>1</td>\n",
       "      <td>0</td>\n",
       "      <td>0</td>\n",
       "      <td>0</td>\n",
       "      <td>0</td>\n",
       "      <td>1</td>\n",
       "      <td>0</td>\n",
       "    </tr>\n",
       "    <tr>\n",
       "      <th>4</th>\n",
       "      <td>22</td>\n",
       "      <td>0</td>\n",
       "      <td>8</td>\n",
       "      <td>1</td>\n",
       "      <td>0</td>\n",
       "      <td>1</td>\n",
       "      <td>0</td>\n",
       "      <td>1</td>\n",
       "      <td>0</td>\n",
       "      <td>0</td>\n",
       "      <td>0</td>\n",
       "      <td>0</td>\n",
       "      <td>0</td>\n",
       "      <td>1</td>\n",
       "    </tr>\n",
       "    <tr>\n",
       "      <th>...</th>\n",
       "      <td>...</td>\n",
       "      <td>...</td>\n",
       "      <td>...</td>\n",
       "      <td>...</td>\n",
       "      <td>...</td>\n",
       "      <td>...</td>\n",
       "      <td>...</td>\n",
       "      <td>...</td>\n",
       "      <td>...</td>\n",
       "      <td>...</td>\n",
       "      <td>...</td>\n",
       "      <td>...</td>\n",
       "      <td>...</td>\n",
       "      <td>...</td>\n",
       "    </tr>\n",
       "    <tr>\n",
       "      <th>2961</th>\n",
       "      <td>23</td>\n",
       "      <td>0</td>\n",
       "      <td>7</td>\n",
       "      <td>0</td>\n",
       "      <td>0</td>\n",
       "      <td>0</td>\n",
       "      <td>0</td>\n",
       "      <td>1</td>\n",
       "      <td>0</td>\n",
       "      <td>0</td>\n",
       "      <td>0</td>\n",
       "      <td>0</td>\n",
       "      <td>1</td>\n",
       "      <td>0</td>\n",
       "    </tr>\n",
       "    <tr>\n",
       "      <th>2962</th>\n",
       "      <td>23</td>\n",
       "      <td>1</td>\n",
       "      <td>7</td>\n",
       "      <td>1</td>\n",
       "      <td>0</td>\n",
       "      <td>0</td>\n",
       "      <td>0</td>\n",
       "      <td>1</td>\n",
       "      <td>0</td>\n",
       "      <td>0</td>\n",
       "      <td>0</td>\n",
       "      <td>0</td>\n",
       "      <td>0</td>\n",
       "      <td>1</td>\n",
       "    </tr>\n",
       "    <tr>\n",
       "      <th>2963</th>\n",
       "      <td>22</td>\n",
       "      <td>1</td>\n",
       "      <td>7</td>\n",
       "      <td>0</td>\n",
       "      <td>0</td>\n",
       "      <td>0</td>\n",
       "      <td>0</td>\n",
       "      <td>1</td>\n",
       "      <td>0</td>\n",
       "      <td>0</td>\n",
       "      <td>0</td>\n",
       "      <td>0</td>\n",
       "      <td>1</td>\n",
       "      <td>0</td>\n",
       "    </tr>\n",
       "    <tr>\n",
       "      <th>2964</th>\n",
       "      <td>22</td>\n",
       "      <td>1</td>\n",
       "      <td>7</td>\n",
       "      <td>0</td>\n",
       "      <td>0</td>\n",
       "      <td>0</td>\n",
       "      <td>0</td>\n",
       "      <td>1</td>\n",
       "      <td>0</td>\n",
       "      <td>1</td>\n",
       "      <td>0</td>\n",
       "      <td>0</td>\n",
       "      <td>0</td>\n",
       "      <td>0</td>\n",
       "    </tr>\n",
       "    <tr>\n",
       "      <th>2965</th>\n",
       "      <td>23</td>\n",
       "      <td>0</td>\n",
       "      <td>8</td>\n",
       "      <td>0</td>\n",
       "      <td>0</td>\n",
       "      <td>1</td>\n",
       "      <td>0</td>\n",
       "      <td>1</td>\n",
       "      <td>1</td>\n",
       "      <td>0</td>\n",
       "      <td>0</td>\n",
       "      <td>0</td>\n",
       "      <td>0</td>\n",
       "      <td>0</td>\n",
       "    </tr>\n",
       "  </tbody>\n",
       "</table>\n",
       "<p>2966 rows × 14 columns</p>\n",
       "</div>"
      ],
      "text/plain": [
       "      Age  Internships  CGPA  Hostel  HistoryOfBacklogs  PlacedOrNot  Female  \\\n",
       "0      22            1     8       1                  1            1       0   \n",
       "1      21            0     7       1                  1            1       1   \n",
       "2      22            1     6       0                  0            1       1   \n",
       "3      21            0     8       0                  1            1       0   \n",
       "4      22            0     8       1                  0            1       0   \n",
       "...   ...          ...   ...     ...                ...          ...     ...   \n",
       "2961   23            0     7       0                  0            0       0   \n",
       "2962   23            1     7       1                  0            0       0   \n",
       "2963   22            1     7       0                  0            0       0   \n",
       "2964   22            1     7       0                  0            0       0   \n",
       "2965   23            0     8       0                  0            1       0   \n",
       "\n",
       "      Male  Civil  Computer Science  Electrical  \\\n",
       "0        1      0                 0           0   \n",
       "1        0      0                 1           0   \n",
       "2        0      0                 0           0   \n",
       "3        1      0                 0           0   \n",
       "4        1      0                 0           0   \n",
       "...    ...    ...               ...         ...   \n",
       "2961     1      0                 0           0   \n",
       "2962     1      0                 0           0   \n",
       "2963     1      0                 0           0   \n",
       "2964     1      0                 1           0   \n",
       "2965     1      1                 0           0   \n",
       "\n",
       "      Electronics And Communication  Information Technology  Mechanical  \n",
       "0                                 1                       0           0  \n",
       "1                                 0                       0           0  \n",
       "2                                 0                       1           0  \n",
       "3                                 0                       1           0  \n",
       "4                                 0                       0           1  \n",
       "...                             ...                     ...         ...  \n",
       "2961                              0                       1           0  \n",
       "2962                              0                       0           1  \n",
       "2963                              0                       1           0  \n",
       "2964                              0                       0           0  \n",
       "2965                              0                       0           0  \n",
       "\n",
       "[2966 rows x 14 columns]"
      ]
     },
     "execution_count": 29,
     "metadata": {},
     "output_type": "execute_result"
    }
   ],
   "source": [
    "data = pd.concat([data.drop([\"Gender\", \"Stream\"], axis = 1), dummy_gender, dummy_stream], axis = 1)\n",
    "\n",
    "data"
   ]
  },
  {
   "cell_type": "code",
   "execution_count": 30,
   "id": "84fc3896",
   "metadata": {
    "execution": {
     "iopub.execute_input": "2022-09-24T10:46:08.062378Z",
     "iopub.status.busy": "2022-09-24T10:46:08.061983Z",
     "iopub.status.idle": "2022-09-24T10:46:08.082124Z",
     "shell.execute_reply": "2022-09-24T10:46:08.081086Z"
    },
    "papermill": {
     "duration": 0.045301,
     "end_time": "2022-09-24T10:46:08.084284",
     "exception": false,
     "start_time": "2022-09-24T10:46:08.038983",
     "status": "completed"
    },
    "tags": []
   },
   "outputs": [
    {
     "data": {
      "text/html": [
       "<div>\n",
       "<style scoped>\n",
       "    .dataframe tbody tr th:only-of-type {\n",
       "        vertical-align: middle;\n",
       "    }\n",
       "\n",
       "    .dataframe tbody tr th {\n",
       "        vertical-align: top;\n",
       "    }\n",
       "\n",
       "    .dataframe thead th {\n",
       "        text-align: right;\n",
       "    }\n",
       "</style>\n",
       "<table border=\"1\" class=\"dataframe\">\n",
       "  <thead>\n",
       "    <tr style=\"text-align: right;\">\n",
       "      <th></th>\n",
       "      <th>Age</th>\n",
       "      <th>Male</th>\n",
       "      <th>Female</th>\n",
       "      <th>Electronics And Communication</th>\n",
       "      <th>Computer Science</th>\n",
       "      <th>Information Technology</th>\n",
       "      <th>Mechanical</th>\n",
       "      <th>Electrical</th>\n",
       "      <th>Civil</th>\n",
       "      <th>Internships</th>\n",
       "      <th>CGPA</th>\n",
       "      <th>Hostel</th>\n",
       "      <th>HistoryOfBacklogs</th>\n",
       "      <th>PlacedOrNot</th>\n",
       "    </tr>\n",
       "  </thead>\n",
       "  <tbody>\n",
       "    <tr>\n",
       "      <th>0</th>\n",
       "      <td>22</td>\n",
       "      <td>1</td>\n",
       "      <td>0</td>\n",
       "      <td>1</td>\n",
       "      <td>0</td>\n",
       "      <td>0</td>\n",
       "      <td>0</td>\n",
       "      <td>0</td>\n",
       "      <td>0</td>\n",
       "      <td>1</td>\n",
       "      <td>8</td>\n",
       "      <td>1</td>\n",
       "      <td>1</td>\n",
       "      <td>1</td>\n",
       "    </tr>\n",
       "    <tr>\n",
       "      <th>1</th>\n",
       "      <td>21</td>\n",
       "      <td>0</td>\n",
       "      <td>1</td>\n",
       "      <td>0</td>\n",
       "      <td>1</td>\n",
       "      <td>0</td>\n",
       "      <td>0</td>\n",
       "      <td>0</td>\n",
       "      <td>0</td>\n",
       "      <td>0</td>\n",
       "      <td>7</td>\n",
       "      <td>1</td>\n",
       "      <td>1</td>\n",
       "      <td>1</td>\n",
       "    </tr>\n",
       "    <tr>\n",
       "      <th>2</th>\n",
       "      <td>22</td>\n",
       "      <td>0</td>\n",
       "      <td>1</td>\n",
       "      <td>0</td>\n",
       "      <td>0</td>\n",
       "      <td>1</td>\n",
       "      <td>0</td>\n",
       "      <td>0</td>\n",
       "      <td>0</td>\n",
       "      <td>1</td>\n",
       "      <td>6</td>\n",
       "      <td>0</td>\n",
       "      <td>0</td>\n",
       "      <td>1</td>\n",
       "    </tr>\n",
       "    <tr>\n",
       "      <th>3</th>\n",
       "      <td>21</td>\n",
       "      <td>1</td>\n",
       "      <td>0</td>\n",
       "      <td>0</td>\n",
       "      <td>0</td>\n",
       "      <td>1</td>\n",
       "      <td>0</td>\n",
       "      <td>0</td>\n",
       "      <td>0</td>\n",
       "      <td>0</td>\n",
       "      <td>8</td>\n",
       "      <td>0</td>\n",
       "      <td>1</td>\n",
       "      <td>1</td>\n",
       "    </tr>\n",
       "    <tr>\n",
       "      <th>4</th>\n",
       "      <td>22</td>\n",
       "      <td>1</td>\n",
       "      <td>0</td>\n",
       "      <td>0</td>\n",
       "      <td>0</td>\n",
       "      <td>0</td>\n",
       "      <td>1</td>\n",
       "      <td>0</td>\n",
       "      <td>0</td>\n",
       "      <td>0</td>\n",
       "      <td>8</td>\n",
       "      <td>1</td>\n",
       "      <td>0</td>\n",
       "      <td>1</td>\n",
       "    </tr>\n",
       "    <tr>\n",
       "      <th>...</th>\n",
       "      <td>...</td>\n",
       "      <td>...</td>\n",
       "      <td>...</td>\n",
       "      <td>...</td>\n",
       "      <td>...</td>\n",
       "      <td>...</td>\n",
       "      <td>...</td>\n",
       "      <td>...</td>\n",
       "      <td>...</td>\n",
       "      <td>...</td>\n",
       "      <td>...</td>\n",
       "      <td>...</td>\n",
       "      <td>...</td>\n",
       "      <td>...</td>\n",
       "    </tr>\n",
       "    <tr>\n",
       "      <th>2961</th>\n",
       "      <td>23</td>\n",
       "      <td>1</td>\n",
       "      <td>0</td>\n",
       "      <td>0</td>\n",
       "      <td>0</td>\n",
       "      <td>1</td>\n",
       "      <td>0</td>\n",
       "      <td>0</td>\n",
       "      <td>0</td>\n",
       "      <td>0</td>\n",
       "      <td>7</td>\n",
       "      <td>0</td>\n",
       "      <td>0</td>\n",
       "      <td>0</td>\n",
       "    </tr>\n",
       "    <tr>\n",
       "      <th>2962</th>\n",
       "      <td>23</td>\n",
       "      <td>1</td>\n",
       "      <td>0</td>\n",
       "      <td>0</td>\n",
       "      <td>0</td>\n",
       "      <td>0</td>\n",
       "      <td>1</td>\n",
       "      <td>0</td>\n",
       "      <td>0</td>\n",
       "      <td>1</td>\n",
       "      <td>7</td>\n",
       "      <td>1</td>\n",
       "      <td>0</td>\n",
       "      <td>0</td>\n",
       "    </tr>\n",
       "    <tr>\n",
       "      <th>2963</th>\n",
       "      <td>22</td>\n",
       "      <td>1</td>\n",
       "      <td>0</td>\n",
       "      <td>0</td>\n",
       "      <td>0</td>\n",
       "      <td>1</td>\n",
       "      <td>0</td>\n",
       "      <td>0</td>\n",
       "      <td>0</td>\n",
       "      <td>1</td>\n",
       "      <td>7</td>\n",
       "      <td>0</td>\n",
       "      <td>0</td>\n",
       "      <td>0</td>\n",
       "    </tr>\n",
       "    <tr>\n",
       "      <th>2964</th>\n",
       "      <td>22</td>\n",
       "      <td>1</td>\n",
       "      <td>0</td>\n",
       "      <td>0</td>\n",
       "      <td>1</td>\n",
       "      <td>0</td>\n",
       "      <td>0</td>\n",
       "      <td>0</td>\n",
       "      <td>0</td>\n",
       "      <td>1</td>\n",
       "      <td>7</td>\n",
       "      <td>0</td>\n",
       "      <td>0</td>\n",
       "      <td>0</td>\n",
       "    </tr>\n",
       "    <tr>\n",
       "      <th>2965</th>\n",
       "      <td>23</td>\n",
       "      <td>1</td>\n",
       "      <td>0</td>\n",
       "      <td>0</td>\n",
       "      <td>0</td>\n",
       "      <td>0</td>\n",
       "      <td>0</td>\n",
       "      <td>0</td>\n",
       "      <td>1</td>\n",
       "      <td>0</td>\n",
       "      <td>8</td>\n",
       "      <td>0</td>\n",
       "      <td>0</td>\n",
       "      <td>1</td>\n",
       "    </tr>\n",
       "  </tbody>\n",
       "</table>\n",
       "<p>2966 rows × 14 columns</p>\n",
       "</div>"
      ],
      "text/plain": [
       "      Age  Male  Female  Electronics And Communication  Computer Science  \\\n",
       "0      22     1       0                              1                 0   \n",
       "1      21     0       1                              0                 1   \n",
       "2      22     0       1                              0                 0   \n",
       "3      21     1       0                              0                 0   \n",
       "4      22     1       0                              0                 0   \n",
       "...   ...   ...     ...                            ...               ...   \n",
       "2961   23     1       0                              0                 0   \n",
       "2962   23     1       0                              0                 0   \n",
       "2963   22     1       0                              0                 0   \n",
       "2964   22     1       0                              0                 1   \n",
       "2965   23     1       0                              0                 0   \n",
       "\n",
       "      Information Technology  Mechanical  Electrical  Civil  Internships  \\\n",
       "0                          0           0           0      0            1   \n",
       "1                          0           0           0      0            0   \n",
       "2                          1           0           0      0            1   \n",
       "3                          1           0           0      0            0   \n",
       "4                          0           1           0      0            0   \n",
       "...                      ...         ...         ...    ...          ...   \n",
       "2961                       1           0           0      0            0   \n",
       "2962                       0           1           0      0            1   \n",
       "2963                       1           0           0      0            1   \n",
       "2964                       0           0           0      0            1   \n",
       "2965                       0           0           0      1            0   \n",
       "\n",
       "      CGPA  Hostel  HistoryOfBacklogs  PlacedOrNot  \n",
       "0        8       1                  1            1  \n",
       "1        7       1                  1            1  \n",
       "2        6       0                  0            1  \n",
       "3        8       0                  1            1  \n",
       "4        8       1                  0            1  \n",
       "...    ...     ...                ...          ...  \n",
       "2961     7       0                  0            0  \n",
       "2962     7       1                  0            0  \n",
       "2963     7       0                  0            0  \n",
       "2964     7       0                  0            0  \n",
       "2965     8       0                  0            1  \n",
       "\n",
       "[2966 rows x 14 columns]"
      ]
     },
     "execution_count": 30,
     "metadata": {},
     "output_type": "execute_result"
    }
   ],
   "source": [
    "data = data[['Age', 'Male', 'Female',\n",
    "             'Electronics And Communication',\n",
    "             'Computer Science', 'Information Technology',\n",
    "             'Mechanical', 'Electrical', \"Civil\",\n",
    "             \"Internships\",\"CGPA\",'Hostel',\n",
    "             'HistoryOfBacklogs', 'PlacedOrNot']]\n",
    "\n",
    "data"
   ]
  },
  {
   "cell_type": "code",
   "execution_count": 31,
   "id": "376ff354",
   "metadata": {
    "execution": {
     "iopub.execute_input": "2022-09-24T10:46:08.129706Z",
     "iopub.status.busy": "2022-09-24T10:46:08.129276Z",
     "iopub.status.idle": "2022-09-24T10:46:08.143146Z",
     "shell.execute_reply": "2022-09-24T10:46:08.141774Z"
    },
    "papermill": {
     "duration": 0.039503,
     "end_time": "2022-09-24T10:46:08.145488",
     "exception": false,
     "start_time": "2022-09-24T10:46:08.105985",
     "status": "completed"
    },
    "tags": []
   },
   "outputs": [],
   "source": [
    "scaler = StandardScaler()\n",
    "\n",
    "scaler.fit(data.drop('PlacedOrNot',axis=1))\n",
    "\n",
    "scaled_features = scaler.transform(data.drop('PlacedOrNot',axis=1))"
   ]
  },
  {
   "cell_type": "code",
   "execution_count": 32,
   "id": "7cf78891",
   "metadata": {
    "execution": {
     "iopub.execute_input": "2022-09-24T10:46:08.190560Z",
     "iopub.status.busy": "2022-09-24T10:46:08.190165Z",
     "iopub.status.idle": "2022-09-24T10:46:08.209325Z",
     "shell.execute_reply": "2022-09-24T10:46:08.208182Z"
    },
    "papermill": {
     "duration": 0.044007,
     "end_time": "2022-09-24T10:46:08.211619",
     "exception": false,
     "start_time": "2022-09-24T10:46:08.167612",
     "status": "completed"
    },
    "tags": []
   },
   "outputs": [
    {
     "data": {
      "text/html": [
       "<div>\n",
       "<style scoped>\n",
       "    .dataframe tbody tr th:only-of-type {\n",
       "        vertical-align: middle;\n",
       "    }\n",
       "\n",
       "    .dataframe tbody tr th {\n",
       "        vertical-align: top;\n",
       "    }\n",
       "\n",
       "    .dataframe thead th {\n",
       "        text-align: right;\n",
       "    }\n",
       "</style>\n",
       "<table border=\"1\" class=\"dataframe\">\n",
       "  <thead>\n",
       "    <tr style=\"text-align: right;\">\n",
       "      <th></th>\n",
       "      <th>Age</th>\n",
       "      <th>Male</th>\n",
       "      <th>Female</th>\n",
       "      <th>Electronics And Communication</th>\n",
       "      <th>Computer Science</th>\n",
       "      <th>Information Technology</th>\n",
       "      <th>Mechanical</th>\n",
       "      <th>Electrical</th>\n",
       "      <th>Civil</th>\n",
       "      <th>Internships</th>\n",
       "      <th>CGPA</th>\n",
       "      <th>Hostel</th>\n",
       "      <th>HistoryOfBacklogs</th>\n",
       "    </tr>\n",
       "  </thead>\n",
       "  <tbody>\n",
       "    <tr>\n",
       "      <th>0</th>\n",
       "      <td>0.388131</td>\n",
       "      <td>0.445403</td>\n",
       "      <td>-0.445403</td>\n",
       "      <td>2.448527</td>\n",
       "      <td>-0.595263</td>\n",
       "      <td>-0.551123</td>\n",
       "      <td>-0.408409</td>\n",
       "      <td>-0.35623</td>\n",
       "      <td>-0.34593</td>\n",
       "      <td>0.400445</td>\n",
       "      <td>0.957191</td>\n",
       "      <td>1.648269</td>\n",
       "      <td>2.050246</td>\n",
       "    </tr>\n",
       "    <tr>\n",
       "      <th>1</th>\n",
       "      <td>-0.366752</td>\n",
       "      <td>-2.245158</td>\n",
       "      <td>2.245158</td>\n",
       "      <td>-0.408409</td>\n",
       "      <td>1.679930</td>\n",
       "      <td>-0.551123</td>\n",
       "      <td>-0.408409</td>\n",
       "      <td>-0.35623</td>\n",
       "      <td>-0.34593</td>\n",
       "      <td>-0.950773</td>\n",
       "      <td>-0.076310</td>\n",
       "      <td>1.648269</td>\n",
       "      <td>2.050246</td>\n",
       "    </tr>\n",
       "    <tr>\n",
       "      <th>2</th>\n",
       "      <td>0.388131</td>\n",
       "      <td>-2.245158</td>\n",
       "      <td>2.245158</td>\n",
       "      <td>-0.408409</td>\n",
       "      <td>-0.595263</td>\n",
       "      <td>1.814478</td>\n",
       "      <td>-0.408409</td>\n",
       "      <td>-0.35623</td>\n",
       "      <td>-0.34593</td>\n",
       "      <td>0.400445</td>\n",
       "      <td>-1.109812</td>\n",
       "      <td>-0.606697</td>\n",
       "      <td>-0.487746</td>\n",
       "    </tr>\n",
       "    <tr>\n",
       "      <th>3</th>\n",
       "      <td>-0.366752</td>\n",
       "      <td>0.445403</td>\n",
       "      <td>-0.445403</td>\n",
       "      <td>-0.408409</td>\n",
       "      <td>-0.595263</td>\n",
       "      <td>1.814478</td>\n",
       "      <td>-0.408409</td>\n",
       "      <td>-0.35623</td>\n",
       "      <td>-0.34593</td>\n",
       "      <td>-0.950773</td>\n",
       "      <td>0.957191</td>\n",
       "      <td>-0.606697</td>\n",
       "      <td>2.050246</td>\n",
       "    </tr>\n",
       "    <tr>\n",
       "      <th>4</th>\n",
       "      <td>0.388131</td>\n",
       "      <td>0.445403</td>\n",
       "      <td>-0.445403</td>\n",
       "      <td>-0.408409</td>\n",
       "      <td>-0.595263</td>\n",
       "      <td>-0.551123</td>\n",
       "      <td>2.448527</td>\n",
       "      <td>-0.35623</td>\n",
       "      <td>-0.34593</td>\n",
       "      <td>-0.950773</td>\n",
       "      <td>0.957191</td>\n",
       "      <td>1.648269</td>\n",
       "      <td>-0.487746</td>\n",
       "    </tr>\n",
       "  </tbody>\n",
       "</table>\n",
       "</div>"
      ],
      "text/plain": [
       "        Age      Male    Female  Electronics And Communication  \\\n",
       "0  0.388131  0.445403 -0.445403                       2.448527   \n",
       "1 -0.366752 -2.245158  2.245158                      -0.408409   \n",
       "2  0.388131 -2.245158  2.245158                      -0.408409   \n",
       "3 -0.366752  0.445403 -0.445403                      -0.408409   \n",
       "4  0.388131  0.445403 -0.445403                      -0.408409   \n",
       "\n",
       "   Computer Science  Information Technology  Mechanical  Electrical    Civil  \\\n",
       "0         -0.595263               -0.551123   -0.408409    -0.35623 -0.34593   \n",
       "1          1.679930               -0.551123   -0.408409    -0.35623 -0.34593   \n",
       "2         -0.595263                1.814478   -0.408409    -0.35623 -0.34593   \n",
       "3         -0.595263                1.814478   -0.408409    -0.35623 -0.34593   \n",
       "4         -0.595263               -0.551123    2.448527    -0.35623 -0.34593   \n",
       "\n",
       "   Internships      CGPA    Hostel  HistoryOfBacklogs  \n",
       "0     0.400445  0.957191  1.648269           2.050246  \n",
       "1    -0.950773 -0.076310  1.648269           2.050246  \n",
       "2     0.400445 -1.109812 -0.606697          -0.487746  \n",
       "3    -0.950773  0.957191 -0.606697           2.050246  \n",
       "4    -0.950773  0.957191  1.648269          -0.487746  "
      ]
     },
     "execution_count": 32,
     "metadata": {},
     "output_type": "execute_result"
    }
   ],
   "source": [
    "scaled_features = pd.DataFrame(scaled_features, columns = data.columns[:-1])\n",
    "scaled_features.head()"
   ]
  },
  {
   "cell_type": "code",
   "execution_count": 33,
   "id": "6e0a89b7",
   "metadata": {
    "execution": {
     "iopub.execute_input": "2022-09-24T10:46:08.258009Z",
     "iopub.status.busy": "2022-09-24T10:46:08.257601Z",
     "iopub.status.idle": "2022-09-24T10:46:09.749146Z",
     "shell.execute_reply": "2022-09-24T10:46:09.748069Z"
    },
    "papermill": {
     "duration": 1.518751,
     "end_time": "2022-09-24T10:46:09.752261",
     "exception": false,
     "start_time": "2022-09-24T10:46:08.233510",
     "status": "completed"
    },
    "tags": []
   },
   "outputs": [
    {
     "data": {
      "image/png": "[encoded data removed]",
      "text/plain": [
       "<Figure size 1440x1080 with 2 Axes>"
      ]
     },
     "metadata": {},
     "output_type": "display_data"
    }
   ],
   "source": [
    "corrmat = data.corr()\n",
    "top_corr_features = corrmat.index\n",
    "\n",
    "plt.figure(figsize=(20,15))\n",
    "\n",
    "#plot heat map\n",
    "g = sns.heatmap(data[top_corr_features].corr(),annot=True,cmap=\"RdYlGn\")"
   ]
  },
  {
   "cell_type": "markdown",
   "id": "46f7dc8e",
   "metadata": {
    "papermill": {
     "duration": 0.024414,
     "end_time": "2022-09-24T10:46:09.801959",
     "exception": false,
     "start_time": "2022-09-24T10:46:09.777545",
     "status": "completed"
    },
    "tags": []
   },
   "source": [
    "# Internship and CGPA is highly coorelated with dependent feature i.e PlacedOrNot"
   ]
  },
  {
   "cell_type": "code",
   "execution_count": 34,
   "id": "1d01a164",
   "metadata": {
    "execution": {
     "iopub.execute_input": "2022-09-24T10:46:09.851600Z",
     "iopub.status.busy": "2022-09-24T10:46:09.851194Z",
     "iopub.status.idle": "2022-09-24T10:46:09.858312Z",
     "shell.execute_reply": "2022-09-24T10:46:09.857574Z"
    },
    "papermill": {
     "duration": 0.034358,
     "end_time": "2022-09-24T10:46:09.860269",
     "exception": false,
     "start_time": "2022-09-24T10:46:09.825911",
     "status": "completed"
    },
    "tags": []
   },
   "outputs": [],
   "source": [
    "from sklearn.model_selection import train_test_split\n",
    "\n",
    "X_train, X_test, y_train, y_test = train_test_split(scaled_features,\n",
    "                                                    data['PlacedOrNot'],\n",
    "                                                    test_size = 0.25,\n",
    "                                                    random_state = 0)"
   ]
  },
  {
   "cell_type": "code",
   "execution_count": 35,
   "id": "aba11bbd",
   "metadata": {
    "execution": {
     "iopub.execute_input": "2022-09-24T10:46:09.910882Z",
     "iopub.status.busy": "2022-09-24T10:46:09.910263Z",
     "iopub.status.idle": "2022-09-24T10:46:09.916127Z",
     "shell.execute_reply": "2022-09-24T10:46:09.914760Z"
    },
    "papermill": {
     "duration": 0.034579,
     "end_time": "2022-09-24T10:46:09.918805",
     "exception": false,
     "start_time": "2022-09-24T10:46:09.884226",
     "status": "completed"
    },
    "tags": []
   },
   "outputs": [
    {
     "name": "stdout",
     "output_type": "stream",
     "text": [
      "Shape of X_train is: (2224, 13)\n",
      "Shape of X_test is: (742, 13)\n",
      "\n",
      "Shape of y_train is: (2224,)\n",
      "Shape of y_test is: (742,)\n"
     ]
    }
   ],
   "source": [
    "print(f\"Shape of X_train is: {X_train.shape}\")\n",
    "print(f\"Shape of X_test is: {X_test.shape}\\n\")\n",
    "\n",
    "print(f\"Shape of y_train is: {y_train.shape}\")\n",
    "print(f\"Shape of y_test is: {y_test.shape}\")"
   ]
  },
  {
   "cell_type": "code",
   "execution_count": 36,
   "id": "774b020c",
   "metadata": {
    "execution": {
     "iopub.execute_input": "2022-09-24T10:46:09.969701Z",
     "iopub.status.busy": "2022-09-24T10:46:09.968713Z",
     "iopub.status.idle": "2022-09-24T10:46:09.974608Z",
     "shell.execute_reply": "2022-09-24T10:46:09.973885Z"
    },
    "papermill": {
     "duration": 0.033412,
     "end_time": "2022-09-24T10:46:09.976623",
     "exception": false,
     "start_time": "2022-09-24T10:46:09.943211",
     "status": "completed"
    },
    "tags": []
   },
   "outputs": [],
   "source": [
    "def models_score(models, X_train, X_test, y_train, y_test):    \n",
    "    \n",
    "    scores = {}\n",
    "    \n",
    "    for name, model in models.items():\n",
    "        model.fit(X_train, y_train)\n",
    "        scores[name] = model.score(X_test,y_test)\n",
    "\n",
    "    model_scores = pd.DataFrame(scores, index=['Score']).transpose()\n",
    "    model_scores = model_scores.sort_values('Score')\n",
    "        \n",
    "    return model_scores"
   ]
  },
  {
   "cell_type": "markdown",
   "id": "bb3ebb0a",
   "metadata": {
    "papermill": {
     "duration": 0.024441,
     "end_time": "2022-09-24T10:46:10.024995",
     "exception": false,
     "start_time": "2022-09-24T10:46:10.000554",
     "status": "completed"
    },
    "tags": []
   },
   "source": []
  },
  {
   "cell_type": "code",
   "execution_count": 37,
   "id": "729b00b2",
   "metadata": {
    "execution": {
     "iopub.execute_input": "2022-09-24T10:46:10.075865Z",
     "iopub.status.busy": "2022-09-24T10:46:10.075217Z",
     "iopub.status.idle": "2022-09-24T10:46:10.079673Z",
     "shell.execute_reply": "2022-09-24T10:46:10.078825Z"
    },
    "papermill": {
     "duration": 0.032347,
     "end_time": "2022-09-24T10:46:10.081741",
     "exception": false,
     "start_time": "2022-09-24T10:46:10.049394",
     "status": "completed"
    },
    "tags": []
   },
   "outputs": [],
   "source": [
    "models = {\n",
    "         \"RandomForest\":RandomForestClassifier(),\n",
    "         \"XgBoost\": XGBClassifier(),\n",
    "         \"KNeighborsClassifier\":KNeighborsClassifier()}"
   ]
  },
  {
   "cell_type": "code",
   "execution_count": 38,
   "id": "aa38bfb5",
   "metadata": {
    "execution": {
     "iopub.execute_input": "2022-09-24T10:46:10.133125Z",
     "iopub.status.busy": "2022-09-24T10:46:10.132469Z",
     "iopub.status.idle": "2022-09-24T10:46:10.834411Z",
     "shell.execute_reply": "2022-09-24T10:46:10.833299Z"
    },
    "papermill": {
     "duration": 0.730559,
     "end_time": "2022-09-24T10:46:10.836813",
     "exception": false,
     "start_time": "2022-09-24T10:46:10.106254",
     "status": "completed"
    },
    "tags": []
   },
   "outputs": [],
   "source": [
    "model_scores = models_score(models, X_train, X_test, y_train, y_test)"
   ]
  },
  {
   "cell_type": "code",
   "execution_count": 39,
   "id": "d07a8ae9",
   "metadata": {
    "execution": {
     "iopub.execute_input": "2022-09-24T10:46:10.887239Z",
     "iopub.status.busy": "2022-09-24T10:46:10.886856Z",
     "iopub.status.idle": "2022-09-24T10:46:10.896817Z",
     "shell.execute_reply": "2022-09-24T10:46:10.896036Z"
    },
    "papermill": {
     "duration": 0.037663,
     "end_time": "2022-09-24T10:46:10.898835",
     "exception": false,
     "start_time": "2022-09-24T10:46:10.861172",
     "status": "completed"
    },
    "tags": []
   },
   "outputs": [
    {
     "data": {
      "text/html": [
       "<style type=\"text/css\">\n",
       "#T_c46a4_row2_col0 {\n",
       "  background-color: yellow;\n",
       "}\n",
       "</style>\n",
       "<table id=\"T_c46a4_\">\n",
       "  <thead>\n",
       "    <tr>\n",
       "      <th class=\"blank level0\" >&nbsp;</th>\n",
       "      <th class=\"col_heading level0 col0\" >Score</th>\n",
       "    </tr>\n",
       "  </thead>\n",
       "  <tbody>\n",
       "    <tr>\n",
       "      <th id=\"T_c46a4_level0_row0\" class=\"row_heading level0 row0\" >KNeighborsClassifier</th>\n",
       "      <td id=\"T_c46a4_row0_col0\" class=\"data row0 col0\" >0.843666</td>\n",
       "    </tr>\n",
       "    <tr>\n",
       "      <th id=\"T_c46a4_level0_row1\" class=\"row_heading level0 row1\" >RandomForest</th>\n",
       "      <td id=\"T_c46a4_row1_col0\" class=\"data row1 col0\" >0.874663</td>\n",
       "    </tr>\n",
       "    <tr>\n",
       "      <th id=\"T_c46a4_level0_row2\" class=\"row_heading level0 row2\" >XgBoost</th>\n",
       "      <td id=\"T_c46a4_row2_col0\" class=\"data row2 col0\" >0.876011</td>\n",
       "    </tr>\n",
       "  </tbody>\n",
       "</table>\n"
      ],
      "text/plain": [
       "<pandas.io.formats.style.Styler at 0x7f8efd846550>"
      ]
     },
     "execution_count": 39,
     "metadata": {},
     "output_type": "execute_result"
    }
   ],
   "source": [
    "model_scores.style.highlight_max()"
   ]
  },
  {
   "cell_type": "code",
   "execution_count": 40,
   "id": "21cea3c0",
   "metadata": {
    "execution": {
     "iopub.execute_input": "2022-09-24T10:46:10.949115Z",
     "iopub.status.busy": "2022-09-24T10:46:10.948722Z",
     "iopub.status.idle": "2022-09-24T10:46:10.955060Z",
     "shell.execute_reply": "2022-09-24T10:46:10.954155Z"
    },
    "papermill": {
     "duration": 0.033842,
     "end_time": "2022-09-24T10:46:10.956994",
     "exception": false,
     "start_time": "2022-09-24T10:46:10.923152",
     "status": "completed"
    },
    "tags": []
   },
   "outputs": [],
   "source": [
    "model_scores = model_scores.reset_index().rename({\"index\":\"Algorithms\"}, axis = 1)"
   ]
  },
  {
   "cell_type": "code",
   "execution_count": 41,
   "id": "25c6881a",
   "metadata": {
    "execution": {
     "iopub.execute_input": "2022-09-24T10:46:11.007337Z",
     "iopub.status.busy": "2022-09-24T10:46:11.006734Z",
     "iopub.status.idle": "2022-09-24T10:46:11.017046Z",
     "shell.execute_reply": "2022-09-24T10:46:11.016044Z"
    },
    "papermill": {
     "duration": 0.038089,
     "end_time": "2022-09-24T10:46:11.019124",
     "exception": false,
     "start_time": "2022-09-24T10:46:10.981035",
     "status": "completed"
    },
    "tags": []
   },
   "outputs": [
    {
     "data": {
      "text/html": [
       "<style type=\"text/css\">\n",
       "#T_0cd5e_row0_col1 {\n",
       "  width: 10em;\n",
       "  height: 80%;\n",
       "}\n",
       "#T_0cd5e_row1_col1 {\n",
       "  width: 10em;\n",
       "  height: 80%;\n",
       "  background: linear-gradient(90deg,#47b7ed 95.8%, transparent 95.8%);\n",
       "}\n",
       "#T_0cd5e_row2_col1 {\n",
       "  width: 10em;\n",
       "  height: 80%;\n",
       "  background: linear-gradient(90deg,#47b7ed 100.0%, transparent 100.0%);\n",
       "}\n",
       "</style>\n",
       "<table id=\"T_0cd5e_\">\n",
       "  <thead>\n",
       "    <tr>\n",
       "      <th class=\"blank level0\" >&nbsp;</th>\n",
       "      <th class=\"col_heading level0 col0\" >Algorithms</th>\n",
       "      <th class=\"col_heading level0 col1\" >Score</th>\n",
       "    </tr>\n",
       "  </thead>\n",
       "  <tbody>\n",
       "    <tr>\n",
       "      <th id=\"T_0cd5e_level0_row0\" class=\"row_heading level0 row0\" >0</th>\n",
       "      <td id=\"T_0cd5e_row0_col0\" class=\"data row0 col0\" >KNeighborsClassifier</td>\n",
       "      <td id=\"T_0cd5e_row0_col1\" class=\"data row0 col1\" >0.843666</td>\n",
       "    </tr>\n",
       "    <tr>\n",
       "      <th id=\"T_0cd5e_level0_row1\" class=\"row_heading level0 row1\" >1</th>\n",
       "      <td id=\"T_0cd5e_row1_col0\" class=\"data row1 col0\" >RandomForest</td>\n",
       "      <td id=\"T_0cd5e_row1_col1\" class=\"data row1 col1\" >0.874663</td>\n",
       "    </tr>\n",
       "    <tr>\n",
       "      <th id=\"T_0cd5e_level0_row2\" class=\"row_heading level0 row2\" >2</th>\n",
       "      <td id=\"T_0cd5e_row2_col0\" class=\"data row2 col0\" >XgBoost</td>\n",
       "      <td id=\"T_0cd5e_row2_col1\" class=\"data row2 col1\" >0.876011</td>\n",
       "    </tr>\n",
       "  </tbody>\n",
       "</table>\n"
      ],
      "text/plain": [
       "<pandas.io.formats.style.Styler at 0x7f8efde28510>"
      ]
     },
     "execution_count": 41,
     "metadata": {},
     "output_type": "execute_result"
    }
   ],
   "source": [
    "model_scores.style.bar(color = '#47b7ed')"
   ]
  },
  {
   "cell_type": "code",
   "execution_count": 42,
   "id": "51cdc31b",
   "metadata": {
    "execution": {
     "iopub.execute_input": "2022-09-24T10:46:11.070785Z",
     "iopub.status.busy": "2022-09-24T10:46:11.070353Z",
     "iopub.status.idle": "2022-09-24T10:46:11.141377Z",
     "shell.execute_reply": "2022-09-24T10:46:11.140129Z"
    },
    "papermill": {
     "duration": 0.100512,
     "end_time": "2022-09-24T10:46:11.144517",
     "exception": false,
     "start_time": "2022-09-24T10:46:11.044005",
     "status": "completed"
    },
    "tags": []
   },
   "outputs": [
    {
     "data": {
      "text/html": [
       "<div>                            <div id=\"060215eb-5edc-4e2a-81ab-5dc8c741e708\" class=\"plotly-graph-div\" style=\"height:525px; width:100%;\"></div>            <script type=\"text/javascript\">                require([\"plotly\"], function(Plotly) {                    window.PLOTLYENV=window.PLOTLYENV || {};                                    if (document.getElementById(\"060215eb-5edc-4e2a-81ab-5dc8c741e708\")) {                    Plotly.newPlot(                        \"060215eb-5edc-4e2a-81ab-5dc8c741e708\",                        [{\"alignmentgroup\":\"True\",\"hovertemplate\":\"Algorithms=%{x}<br>Score=%{y}<extra></extra>\",\"legendgroup\":\"KNeighborsClassifier\",\"marker\":{\"color\":\"#636efa\",\"pattern\":{\"shape\":\"\"}},\"name\":\"KNeighborsClassifier\",\"offsetgroup\":\"KNeighborsClassifier\",\"orientation\":\"v\",\"showlegend\":true,\"textposition\":\"auto\",\"x\":[\"KNeighborsClassifier\"],\"xaxis\":\"x\",\"y\":[0.8436657681940701],\"yaxis\":\"y\",\"type\":\"bar\"},{\"alignmentgroup\":\"True\",\"hovertemplate\":\"Algorithms=%{x}<br>Score=%{y}<extra></extra>\",\"legendgroup\":\"RandomForest\",\"marker\":{\"color\":\"#EF553B\",\"pattern\":{\"shape\":\"\"}},\"name\":\"RandomForest\",\"offsetgroup\":\"RandomForest\",\"orientation\":\"v\",\"showlegend\":true,\"textposition\":\"auto\",\"x\":[\"RandomForest\"],\"xaxis\":\"x\",\"y\":[0.8746630727762803],\"yaxis\":\"y\",\"type\":\"bar\"},{\"alignmentgroup\":\"True\",\"hovertemplate\":\"Algorithms=%{x}<br>Score=%{y}<extra></extra>\",\"legendgroup\":\"XgBoost\",\"marker\":{\"color\":\"#00cc96\",\"pattern\":{\"shape\":\"\"}},\"name\":\"XgBoost\",\"offsetgroup\":\"XgBoost\",\"orientation\":\"v\",\"showlegend\":true,\"textposition\":\"auto\",\"x\":[\"XgBoost\"],\"xaxis\":\"x\",\"y\":[0.876010781671159],\"yaxis\":\"y\",\"type\":\"bar\"}],                        {\"template\":{\"data\":{\"barpolar\":[{\"marker\":{\"line\":{\"color\":\"rgb(17,17,17)\",\"width\":0.5},\"pattern\":{\"fillmode\":\"overlay\",\"size\":10,\"solidity\":0.2}},\"type\":\"barpolar\"}],\"bar\":[{\"error_x\":{\"color\":\"#f2f5fa\"},\"error_y\":{\"color\":\"#f2f5fa\"},\"marker\":{\"line\":{\"color\":\"rgb(17,17,17)\",\"width\":0.5},\"pattern\":{\"fillmode\":\"overlay\",\"size\":10,\"solidity\":0.2}},\"type\":\"bar\"}],\"carpet\":[{\"aaxis\":{\"endlinecolor\":\"#A2B1C6\",\"gridcolor\":\"#506784\",\"linecolor\":\"#506784\",\"minorgridcolor\":\"#506784\",\"startlinecolor\":\"#A2B1C6\"},\"baxis\":{\"endlinecolor\":\"#A2B1C6\",\"gridcolor\":\"#506784\",\"linecolor\":\"#506784\",\"minorgridcolor\":\"#506784\",\"startlinecolor\":\"#A2B1C6\"},\"type\":\"carpet\"}],\"choropleth\":[{\"colorbar\":{\"outlinewidth\":0,\"ticks\":\"\"},\"type\":\"choropleth\"}],\"contourcarpet\":[{\"colorbar\":{\"outlinewidth\":0,\"ticks\":\"\"},\"type\":\"contourcarpet\"}],\"contour\":[{\"colorbar\":{\"outlinewidth\":0,\"ticks\":\"\"},\"colorscale\":[[0.0,\"#0d0887\"],[0.1111111111111111,\"#46039f\"],[0.2222222222222222,\"#7201a8\"],[0.3333333333333333,\"#9c179e\"],[0.4444444444444444,\"#bd3786\"],[0.5555555555555556,\"#d8576b\"],[0.6666666666666666,\"#ed7953\"],[0.7777777777777778,\"#fb9f3a\"],[0.8888888888888888,\"#fdca26\"],[1.0,\"#f0f921\"]],\"type\":\"contour\"}],\"heatmapgl\":[{\"colorbar\":{\"outlinewidth\":0,\"ticks\":\"\"},\"colorscale\":[[0.0,\"#0d0887\"],[0.1111111111111111,\"#46039f\"],[0.2222222222222222,\"#7201a8\"],[0.3333333333333333,\"#9c179e\"],[0.4444444444444444,\"#bd3786\"],[0.5555555555555556,\"#d8576b\"],[0.6666666666666666,\"#ed7953\"],[0.7777777777777778,\"#fb9f3a\"],[0.8888888888888888,\"#fdca26\"],[1.0,\"#f0f921\"]],\"type\":\"heatmapgl\"}],\"heatmap\":[{\"colorbar\":{\"outlinewidth\":0,\"ticks\":\"\"},\"colorscale\":[[0.0,\"#0d0887\"],[0.1111111111111111,\"#46039f\"],[0.2222222222222222,\"#7201a8\"],[0.3333333333333333,\"#9c179e\"],[0.4444444444444444,\"#bd3786\"],[0.5555555555555556,\"#d8576b\"],[0.6666666666666666,\"#ed7953\"],[0.7777777777777778,\"#fb9f3a\"],[0.8888888888888888,\"#fdca26\"],[1.0,\"#f0f921\"]],\"type\":\"heatmap\"}],\"histogram2dcontour\":[{\"colorbar\":{\"outlinewidth\":0,\"ticks\":\"\"},\"colorscale\":[[0.0,\"#0d0887\"],[0.1111111111111111,\"#46039f\"],[0.2222222222222222,\"#7201a8\"],[0.3333333333333333,\"#9c179e\"],[0.4444444444444444,\"#bd3786\"],[0.5555555555555556,\"#d8576b\"],[0.6666666666666666,\"#ed7953\"],[0.7777777777777778,\"#fb9f3a\"],[0.8888888888888888,\"#fdca26\"],[1.0,\"#f0f921\"]],\"type\":\"histogram2dcontour\"}],\"histogram2d\":[{\"colorbar\":{\"outlinewidth\":0,\"ticks\":\"\"},\"colorscale\":[[0.0,\"#0d0887\"],[0.1111111111111111,\"#46039f\"],[0.2222222222222222,\"#7201a8\"],[0.3333333333333333,\"#9c179e\"],[0.4444444444444444,\"#bd3786\"],[0.5555555555555556,\"#d8576b\"],[0.6666666666666666,\"#ed7953\"],[0.7777777777777778,\"#fb9f3a\"],[0.8888888888888888,\"#fdca26\"],[1.0,\"#f0f921\"]],\"type\":\"histogram2d\"}],\"histogram\":[{\"marker\":{\"pattern\":{\"fillmode\":\"overlay\",\"size\":10,\"solidity\":0.2}},\"type\":\"histogram\"}],\"mesh3d\":[{\"colorbar\":{\"outlinewidth\":0,\"ticks\":\"\"},\"type\":\"mesh3d\"}],\"parcoords\":[{\"line\":{\"colorbar\":{\"outlinewidth\":0,\"ticks\":\"\"}},\"type\":\"parcoords\"}],\"pie\":[{\"automargin\":true,\"type\":\"pie\"}],\"scatter3d\":[{\"line\":{\"colorbar\":{\"outlinewidth\":0,\"ticks\":\"\"}},\"marker\":{\"colorbar\":{\"outlinewidth\":0,\"ticks\":\"\"}},\"type\":\"scatter3d\"}],\"scattercarpet\":[{\"marker\":{\"colorbar\":{\"outlinewidth\":0,\"ticks\":\"\"}},\"type\":\"scattercarpet\"}],\"scattergeo\":[{\"marker\":{\"colorbar\":{\"outlinewidth\":0,\"ticks\":\"\"}},\"type\":\"scattergeo\"}],\"scattergl\":[{\"marker\":{\"line\":{\"color\":\"#283442\"}},\"type\":\"scattergl\"}],\"scattermapbox\":[{\"marker\":{\"colorbar\":{\"outlinewidth\":0,\"ticks\":\"\"}},\"type\":\"scattermapbox\"}],\"scatterpolargl\":[{\"marker\":{\"colorbar\":{\"outlinewidth\":0,\"ticks\":\"\"}},\"type\":\"scatterpolargl\"}],\"scatterpolar\":[{\"marker\":{\"colorbar\":{\"outlinewidth\":0,\"ticks\":\"\"}},\"type\":\"scatterpolar\"}],\"scatter\":[{\"marker\":{\"line\":{\"color\":\"#283442\"}},\"type\":\"scatter\"}],\"scatterternary\":[{\"marker\":{\"colorbar\":{\"outlinewidth\":0,\"ticks\":\"\"}},\"type\":\"scatterternary\"}],\"surface\":[{\"colorbar\":{\"outlinewidth\":0,\"ticks\":\"\"},\"colorscale\":[[0.0,\"#0d0887\"],[0.1111111111111111,\"#46039f\"],[0.2222222222222222,\"#7201a8\"],[0.3333333333333333,\"#9c179e\"],[0.4444444444444444,\"#bd3786\"],[0.5555555555555556,\"#d8576b\"],[0.6666666666666666,\"#ed7953\"],[0.7777777777777778,\"#fb9f3a\"],[0.8888888888888888,\"#fdca26\"],[1.0,\"#f0f921\"]],\"type\":\"surface\"}],\"table\":[{\"cells\":{\"fill\":{\"color\":\"#506784\"},\"line\":{\"color\":\"rgb(17,17,17)\"}},\"header\":{\"fill\":{\"color\":\"#2a3f5f\"},\"line\":{\"color\":\"rgb(17,17,17)\"}},\"type\":\"table\"}]},\"layout\":{\"annotationdefaults\":{\"arrowcolor\":\"#f2f5fa\",\"arrowhead\":0,\"arrowwidth\":1},\"autotypenumbers\":\"strict\",\"coloraxis\":{\"colorbar\":{\"outlinewidth\":0,\"ticks\":\"\"}},\"colorscale\":{\"diverging\":[[0,\"#8e0152\"],[0.1,\"#c51b7d\"],[0.2,\"#de77ae\"],[0.3,\"#f1b6da\"],[0.4,\"#fde0ef\"],[0.5,\"#f7f7f7\"],[0.6,\"#e6f5d0\"],[0.7,\"#b8e186\"],[0.8,\"#7fbc41\"],[0.9,\"#4d9221\"],[1,\"#276419\"]],\"sequential\":[[0.0,\"#0d0887\"],[0.1111111111111111,\"#46039f\"],[0.2222222222222222,\"#7201a8\"],[0.3333333333333333,\"#9c179e\"],[0.4444444444444444,\"#bd3786\"],[0.5555555555555556,\"#d8576b\"],[0.6666666666666666,\"#ed7953\"],[0.7777777777777778,\"#fb9f3a\"],[0.8888888888888888,\"#fdca26\"],[1.0,\"#f0f921\"]],\"sequentialminus\":[[0.0,\"#0d0887\"],[0.1111111111111111,\"#46039f\"],[0.2222222222222222,\"#7201a8\"],[0.3333333333333333,\"#9c179e\"],[0.4444444444444444,\"#bd3786\"],[0.5555555555555556,\"#d8576b\"],[0.6666666666666666,\"#ed7953\"],[0.7777777777777778,\"#fb9f3a\"],[0.8888888888888888,\"#fdca26\"],[1.0,\"#f0f921\"]]},\"colorway\":[\"#636efa\",\"#EF553B\",\"#00cc96\",\"#ab63fa\",\"#FFA15A\",\"#19d3f3\",\"#FF6692\",\"#B6E880\",\"#FF97FF\",\"#FECB52\"],\"font\":{\"color\":\"#f2f5fa\"},\"geo\":{\"bgcolor\":\"rgb(17,17,17)\",\"lakecolor\":\"rgb(17,17,17)\",\"landcolor\":\"rgb(17,17,17)\",\"showlakes\":true,\"showland\":true,\"subunitcolor\":\"#506784\"},\"hoverlabel\":{\"align\":\"left\"},\"hovermode\":\"closest\",\"mapbox\":{\"style\":\"dark\"},\"paper_bgcolor\":\"rgb(17,17,17)\",\"plot_bgcolor\":\"rgb(17,17,17)\",\"polar\":{\"angularaxis\":{\"gridcolor\":\"#506784\",\"linecolor\":\"#506784\",\"ticks\":\"\"},\"bgcolor\":\"rgb(17,17,17)\",\"radialaxis\":{\"gridcolor\":\"#506784\",\"linecolor\":\"#506784\",\"ticks\":\"\"}},\"scene\":{\"xaxis\":{\"backgroundcolor\":\"rgb(17,17,17)\",\"gridcolor\":\"#506784\",\"gridwidth\":2,\"linecolor\":\"#506784\",\"showbackground\":true,\"ticks\":\"\",\"zerolinecolor\":\"#C8D4E3\"},\"yaxis\":{\"backgroundcolor\":\"rgb(17,17,17)\",\"gridcolor\":\"#506784\",\"gridwidth\":2,\"linecolor\":\"#506784\",\"showbackground\":true,\"ticks\":\"\",\"zerolinecolor\":\"#C8D4E3\"},\"zaxis\":{\"backgroundcolor\":\"rgb(17,17,17)\",\"gridcolor\":\"#506784\",\"gridwidth\":2,\"linecolor\":\"#506784\",\"showbackground\":true,\"ticks\":\"\",\"zerolinecolor\":\"#C8D4E3\"}},\"shapedefaults\":{\"line\":{\"color\":\"#f2f5fa\"}},\"sliderdefaults\":{\"bgcolor\":\"#C8D4E3\",\"bordercolor\":\"rgb(17,17,17)\",\"borderwidth\":1,\"tickwidth\":0},\"ternary\":{\"aaxis\":{\"gridcolor\":\"#506784\",\"linecolor\":\"#506784\",\"ticks\":\"\"},\"baxis\":{\"gridcolor\":\"#506784\",\"linecolor\":\"#506784\",\"ticks\":\"\"},\"bgcolor\":\"rgb(17,17,17)\",\"caxis\":{\"gridcolor\":\"#506784\",\"linecolor\":\"#506784\",\"ticks\":\"\"}},\"title\":{\"x\":0.05},\"updatemenudefaults\":{\"bgcolor\":\"#506784\",\"borderwidth\":0},\"xaxis\":{\"automargin\":true,\"gridcolor\":\"#283442\",\"linecolor\":\"#506784\",\"ticks\":\"\",\"title\":{\"standoff\":15},\"zerolinecolor\":\"#283442\",\"zerolinewidth\":2},\"yaxis\":{\"automargin\":true,\"gridcolor\":\"#283442\",\"linecolor\":\"#506784\",\"ticks\":\"\",\"title\":{\"standoff\":15},\"zerolinecolor\":\"#283442\",\"zerolinewidth\":2}}},\"xaxis\":{\"anchor\":\"y\",\"domain\":[0.0,1.0],\"title\":{\"text\":\"Algorithms\"},\"categoryorder\":\"array\",\"categoryarray\":[\"KNeighborsClassifier\",\"RandomForest\",\"XgBoost\"]},\"yaxis\":{\"anchor\":\"x\",\"domain\":[0.0,1.0],\"title\":{\"text\":\"Score\"}},\"legend\":{\"title\":{\"text\":\"Algorithms\"},\"tracegroupgap\":0},\"title\":{\"text\":\"<b>Models Score</b>\",\"font\":{\"size\":20},\"x\":0.5},\"barmode\":\"relative\",\"uniformtext\":{\"minsize\":15},\"bargap\":0.2},                        {\"responsive\": true}                    ).then(function(){\n",
       "                            \n",
       "var gd = document.getElementById('060215eb-5edc-4e2a-81ab-5dc8c741e708');\n",
       "var x = new MutationObserver(function (mutations, observer) {{\n",
       "        var display = window.getComputedStyle(gd).display;\n",
       "        if (!display || display === 'none') {{\n",
       "            console.log([gd, 'removed!']);\n",
       "            Plotly.purge(gd);\n",
       "            observer.disconnect();\n",
       "        }}\n",
       "}});\n",
       "\n",
       "// Listen for the removal of the full notebook cells\n",
       "var notebookContainer = gd.closest('#notebook-container');\n",
       "if (notebookContainer) {{\n",
       "    x.observe(notebookContainer, {childList: true});\n",
       "}}\n",
       "\n",
       "// Listen for the clearing of the current output cell\n",
       "var outputEl = gd.closest('.output');\n",
       "if (outputEl) {{\n",
       "    x.observe(outputEl, {childList: true});\n",
       "}}\n",
       "\n",
       "                        })                };                });            </script>        </div>"
      ]
     },
     "metadata": {},
     "output_type": "display_data"
    }
   ],
   "source": [
    "fig = px.bar(data_frame = model_scores,\n",
    "             x = \"Algorithms\",\n",
    "             y = \"Score\",\n",
    "             color = \"Algorithms\",\n",
    "             title = \"<b>Models Score</b>\",\n",
    "             template = 'plotly_dark')\n",
    "\n",
    "\n",
    "fig.update_layout(bargap = 0.2,\n",
    "                  title_x = 0.5,\n",
    "                  title_font = dict(size = 20),\n",
    "                  uniformtext_minsize = 15)\n",
    "\n",
    "fig.show()"
   ]
  },
  {
   "cell_type": "code",
   "execution_count": 43,
   "id": "ce1a444c",
   "metadata": {
    "execution": {
     "iopub.execute_input": "2022-09-24T10:46:11.195963Z",
     "iopub.status.busy": "2022-09-24T10:46:11.195217Z",
     "iopub.status.idle": "2022-09-24T10:46:11.232715Z",
     "shell.execute_reply": "2022-09-24T10:46:11.231503Z"
    },
    "papermill": {
     "duration": 0.065994,
     "end_time": "2022-09-24T10:46:11.235123",
     "exception": false,
     "start_time": "2022-09-24T10:46:11.169129",
     "status": "completed"
    },
    "tags": []
   },
   "outputs": [
    {
     "data": {
      "text/html": [
       "<div>                            <div id=\"221daa23-5ce0-4bc0-838e-556fe149aca7\" class=\"plotly-graph-div\" style=\"height:525px; width:100%;\"></div>            <script type=\"text/javascript\">                require([\"plotly\"], function(Plotly) {                    window.PLOTLYENV=window.PLOTLYENV || {};                                    if (document.getElementById(\"221daa23-5ce0-4bc0-838e-556fe149aca7\")) {                    Plotly.newPlot(                        \"221daa23-5ce0-4bc0-838e-556fe149aca7\",                        [{\"labels\":[\"KNeighborsClassifier\",\"RandomForest\",\"XgBoost\"],\"rotation\":90,\"values\":[0.8436657681940701,0.8746630727762803,0.876010781671159],\"type\":\"pie\",\"marker\":{\"line\":{\"color\":\"#000000\",\"width\":1.5}},\"textinfo\":\"percent+label\",\"textposition\":\"inside\"}],                        {\"template\":{\"data\":{\"barpolar\":[{\"marker\":{\"line\":{\"color\":\"rgb(17,17,17)\",\"width\":0.5},\"pattern\":{\"fillmode\":\"overlay\",\"size\":10,\"solidity\":0.2}},\"type\":\"barpolar\"}],\"bar\":[{\"error_x\":{\"color\":\"#f2f5fa\"},\"error_y\":{\"color\":\"#f2f5fa\"},\"marker\":{\"line\":{\"color\":\"rgb(17,17,17)\",\"width\":0.5},\"pattern\":{\"fillmode\":\"overlay\",\"size\":10,\"solidity\":0.2}},\"type\":\"bar\"}],\"carpet\":[{\"aaxis\":{\"endlinecolor\":\"#A2B1C6\",\"gridcolor\":\"#506784\",\"linecolor\":\"#506784\",\"minorgridcolor\":\"#506784\",\"startlinecolor\":\"#A2B1C6\"},\"baxis\":{\"endlinecolor\":\"#A2B1C6\",\"gridcolor\":\"#506784\",\"linecolor\":\"#506784\",\"minorgridcolor\":\"#506784\",\"startlinecolor\":\"#A2B1C6\"},\"type\":\"carpet\"}],\"choropleth\":[{\"colorbar\":{\"outlinewidth\":0,\"ticks\":\"\"},\"type\":\"choropleth\"}],\"contourcarpet\":[{\"colorbar\":{\"outlinewidth\":0,\"ticks\":\"\"},\"type\":\"contourcarpet\"}],\"contour\":[{\"colorbar\":{\"outlinewidth\":0,\"ticks\":\"\"},\"colorscale\":[[0.0,\"#0d0887\"],[0.1111111111111111,\"#46039f\"],[0.2222222222222222,\"#7201a8\"],[0.3333333333333333,\"#9c179e\"],[0.4444444444444444,\"#bd3786\"],[0.5555555555555556,\"#d8576b\"],[0.6666666666666666,\"#ed7953\"],[0.7777777777777778,\"#fb9f3a\"],[0.8888888888888888,\"#fdca26\"],[1.0,\"#f0f921\"]],\"type\":\"contour\"}],\"heatmapgl\":[{\"colorbar\":{\"outlinewidth\":0,\"ticks\":\"\"},\"colorscale\":[[0.0,\"#0d0887\"],[0.1111111111111111,\"#46039f\"],[0.2222222222222222,\"#7201a8\"],[0.3333333333333333,\"#9c179e\"],[0.4444444444444444,\"#bd3786\"],[0.5555555555555556,\"#d8576b\"],[0.6666666666666666,\"#ed7953\"],[0.7777777777777778,\"#fb9f3a\"],[0.8888888888888888,\"#fdca26\"],[1.0,\"#f0f921\"]],\"type\":\"heatmapgl\"}],\"heatmap\":[{\"colorbar\":{\"outlinewidth\":0,\"ticks\":\"\"},\"colorscale\":[[0.0,\"#0d0887\"],[0.1111111111111111,\"#46039f\"],[0.2222222222222222,\"#7201a8\"],[0.3333333333333333,\"#9c179e\"],[0.4444444444444444,\"#bd3786\"],[0.5555555555555556,\"#d8576b\"],[0.6666666666666666,\"#ed7953\"],[0.7777777777777778,\"#fb9f3a\"],[0.8888888888888888,\"#fdca26\"],[1.0,\"#f0f921\"]],\"type\":\"heatmap\"}],\"histogram2dcontour\":[{\"colorbar\":{\"outlinewidth\":0,\"ticks\":\"\"},\"colorscale\":[[0.0,\"#0d0887\"],[0.1111111111111111,\"#46039f\"],[0.2222222222222222,\"#7201a8\"],[0.3333333333333333,\"#9c179e\"],[0.4444444444444444,\"#bd3786\"],[0.5555555555555556,\"#d8576b\"],[0.6666666666666666,\"#ed7953\"],[0.7777777777777778,\"#fb9f3a\"],[0.8888888888888888,\"#fdca26\"],[1.0,\"#f0f921\"]],\"type\":\"histogram2dcontour\"}],\"histogram2d\":[{\"colorbar\":{\"outlinewidth\":0,\"ticks\":\"\"},\"colorscale\":[[0.0,\"#0d0887\"],[0.1111111111111111,\"#46039f\"],[0.2222222222222222,\"#7201a8\"],[0.3333333333333333,\"#9c179e\"],[0.4444444444444444,\"#bd3786\"],[0.5555555555555556,\"#d8576b\"],[0.6666666666666666,\"#ed7953\"],[0.7777777777777778,\"#fb9f3a\"],[0.8888888888888888,\"#fdca26\"],[1.0,\"#f0f921\"]],\"type\":\"histogram2d\"}],\"histogram\":[{\"marker\":{\"pattern\":{\"fillmode\":\"overlay\",\"size\":10,\"solidity\":0.2}},\"type\":\"histogram\"}],\"mesh3d\":[{\"colorbar\":{\"outlinewidth\":0,\"ticks\":\"\"},\"type\":\"mesh3d\"}],\"parcoords\":[{\"line\":{\"colorbar\":{\"outlinewidth\":0,\"ticks\":\"\"}},\"type\":\"parcoords\"}],\"pie\":[{\"automargin\":true,\"type\":\"pie\"}],\"scatter3d\":[{\"line\":{\"colorbar\":{\"outlinewidth\":0,\"ticks\":\"\"}},\"marker\":{\"colorbar\":{\"outlinewidth\":0,\"ticks\":\"\"}},\"type\":\"scatter3d\"}],\"scattercarpet\":[{\"marker\":{\"colorbar\":{\"outlinewidth\":0,\"ticks\":\"\"}},\"type\":\"scattercarpet\"}],\"scattergeo\":[{\"marker\":{\"colorbar\":{\"outlinewidth\":0,\"ticks\":\"\"}},\"type\":\"scattergeo\"}],\"scattergl\":[{\"marker\":{\"line\":{\"color\":\"#283442\"}},\"type\":\"scattergl\"}],\"scattermapbox\":[{\"marker\":{\"colorbar\":{\"outlinewidth\":0,\"ticks\":\"\"}},\"type\":\"scattermapbox\"}],\"scatterpolargl\":[{\"marker\":{\"colorbar\":{\"outlinewidth\":0,\"ticks\":\"\"}},\"type\":\"scatterpolargl\"}],\"scatterpolar\":[{\"marker\":{\"colorbar\":{\"outlinewidth\":0,\"ticks\":\"\"}},\"type\":\"scatterpolar\"}],\"scatter\":[{\"marker\":{\"line\":{\"color\":\"#283442\"}},\"type\":\"scatter\"}],\"scatterternary\":[{\"marker\":{\"colorbar\":{\"outlinewidth\":0,\"ticks\":\"\"}},\"type\":\"scatterternary\"}],\"surface\":[{\"colorbar\":{\"outlinewidth\":0,\"ticks\":\"\"},\"colorscale\":[[0.0,\"#0d0887\"],[0.1111111111111111,\"#46039f\"],[0.2222222222222222,\"#7201a8\"],[0.3333333333333333,\"#9c179e\"],[0.4444444444444444,\"#bd3786\"],[0.5555555555555556,\"#d8576b\"],[0.6666666666666666,\"#ed7953\"],[0.7777777777777778,\"#fb9f3a\"],[0.8888888888888888,\"#fdca26\"],[1.0,\"#f0f921\"]],\"type\":\"surface\"}],\"table\":[{\"cells\":{\"fill\":{\"color\":\"#506784\"},\"line\":{\"color\":\"rgb(17,17,17)\"}},\"header\":{\"fill\":{\"color\":\"#2a3f5f\"},\"line\":{\"color\":\"rgb(17,17,17)\"}},\"type\":\"table\"}]},\"layout\":{\"annotationdefaults\":{\"arrowcolor\":\"#f2f5fa\",\"arrowhead\":0,\"arrowwidth\":1},\"autotypenumbers\":\"strict\",\"coloraxis\":{\"colorbar\":{\"outlinewidth\":0,\"ticks\":\"\"}},\"colorscale\":{\"diverging\":[[0,\"#8e0152\"],[0.1,\"#c51b7d\"],[0.2,\"#de77ae\"],[0.3,\"#f1b6da\"],[0.4,\"#fde0ef\"],[0.5,\"#f7f7f7\"],[0.6,\"#e6f5d0\"],[0.7,\"#b8e186\"],[0.8,\"#7fbc41\"],[0.9,\"#4d9221\"],[1,\"#276419\"]],\"sequential\":[[0.0,\"#0d0887\"],[0.1111111111111111,\"#46039f\"],[0.2222222222222222,\"#7201a8\"],[0.3333333333333333,\"#9c179e\"],[0.4444444444444444,\"#bd3786\"],[0.5555555555555556,\"#d8576b\"],[0.6666666666666666,\"#ed7953\"],[0.7777777777777778,\"#fb9f3a\"],[0.8888888888888888,\"#fdca26\"],[1.0,\"#f0f921\"]],\"sequentialminus\":[[0.0,\"#0d0887\"],[0.1111111111111111,\"#46039f\"],[0.2222222222222222,\"#7201a8\"],[0.3333333333333333,\"#9c179e\"],[0.4444444444444444,\"#bd3786\"],[0.5555555555555556,\"#d8576b\"],[0.6666666666666666,\"#ed7953\"],[0.7777777777777778,\"#fb9f3a\"],[0.8888888888888888,\"#fdca26\"],[1.0,\"#f0f921\"]]},\"colorway\":[\"#636efa\",\"#EF553B\",\"#00cc96\",\"#ab63fa\",\"#FFA15A\",\"#19d3f3\",\"#FF6692\",\"#B6E880\",\"#FF97FF\",\"#FECB52\"],\"font\":{\"color\":\"#f2f5fa\"},\"geo\":{\"bgcolor\":\"rgb(17,17,17)\",\"lakecolor\":\"rgb(17,17,17)\",\"landcolor\":\"rgb(17,17,17)\",\"showlakes\":true,\"showland\":true,\"subunitcolor\":\"#506784\"},\"hoverlabel\":{\"align\":\"left\"},\"hovermode\":\"closest\",\"mapbox\":{\"style\":\"dark\"},\"paper_bgcolor\":\"rgb(17,17,17)\",\"plot_bgcolor\":\"rgb(17,17,17)\",\"polar\":{\"angularaxis\":{\"gridcolor\":\"#506784\",\"linecolor\":\"#506784\",\"ticks\":\"\"},\"bgcolor\":\"rgb(17,17,17)\",\"radialaxis\":{\"gridcolor\":\"#506784\",\"linecolor\":\"#506784\",\"ticks\":\"\"}},\"scene\":{\"xaxis\":{\"backgroundcolor\":\"rgb(17,17,17)\",\"gridcolor\":\"#506784\",\"gridwidth\":2,\"linecolor\":\"#506784\",\"showbackground\":true,\"ticks\":\"\",\"zerolinecolor\":\"#C8D4E3\"},\"yaxis\":{\"backgroundcolor\":\"rgb(17,17,17)\",\"gridcolor\":\"#506784\",\"gridwidth\":2,\"linecolor\":\"#506784\",\"showbackground\":true,\"ticks\":\"\",\"zerolinecolor\":\"#C8D4E3\"},\"zaxis\":{\"backgroundcolor\":\"rgb(17,17,17)\",\"gridcolor\":\"#506784\",\"gridwidth\":2,\"linecolor\":\"#506784\",\"showbackground\":true,\"ticks\":\"\",\"zerolinecolor\":\"#C8D4E3\"}},\"shapedefaults\":{\"line\":{\"color\":\"#f2f5fa\"}},\"sliderdefaults\":{\"bgcolor\":\"#C8D4E3\",\"bordercolor\":\"rgb(17,17,17)\",\"borderwidth\":1,\"tickwidth\":0},\"ternary\":{\"aaxis\":{\"gridcolor\":\"#506784\",\"linecolor\":\"#506784\",\"ticks\":\"\"},\"baxis\":{\"gridcolor\":\"#506784\",\"linecolor\":\"#506784\",\"ticks\":\"\"},\"bgcolor\":\"rgb(17,17,17)\",\"caxis\":{\"gridcolor\":\"#506784\",\"linecolor\":\"#506784\",\"ticks\":\"\"}},\"title\":{\"x\":0.05},\"updatemenudefaults\":{\"bgcolor\":\"#506784\",\"borderwidth\":0},\"xaxis\":{\"automargin\":true,\"gridcolor\":\"#283442\",\"linecolor\":\"#506784\",\"ticks\":\"\",\"title\":{\"standoff\":15},\"zerolinecolor\":\"#283442\",\"zerolinewidth\":2},\"yaxis\":{\"automargin\":true,\"gridcolor\":\"#283442\",\"linecolor\":\"#506784\",\"ticks\":\"\",\"title\":{\"standoff\":15},\"zerolinecolor\":\"#283442\",\"zerolinewidth\":2}}},\"title\":{\"text\":\"<b>Models Score</b>\"}},                        {\"responsive\": true}                    ).then(function(){\n",
       "                            \n",
       "var gd = document.getElementById('221daa23-5ce0-4bc0-838e-556fe149aca7');\n",
       "var x = new MutationObserver(function (mutations, observer) {{\n",
       "        var display = window.getComputedStyle(gd).display;\n",
       "        if (!display || display === 'none') {{\n",
       "            console.log([gd, 'removed!']);\n",
       "            Plotly.purge(gd);\n",
       "            observer.disconnect();\n",
       "        }}\n",
       "}});\n",
       "\n",
       "// Listen for the removal of the full notebook cells\n",
       "var notebookContainer = gd.closest('#notebook-container');\n",
       "if (notebookContainer) {{\n",
       "    x.observe(notebookContainer, {childList: true});\n",
       "}}\n",
       "\n",
       "// Listen for the clearing of the current output cell\n",
       "var outputEl = gd.closest('.output');\n",
       "if (outputEl) {{\n",
       "    x.observe(outputEl, {childList: true});\n",
       "}}\n",
       "\n",
       "                        })                };                });            </script>        </div>"
      ]
     },
     "metadata": {},
     "output_type": "display_data"
    }
   ],
   "source": [
    "label = model_scores['Algorithms']\n",
    "value = model_scores['Score']\n",
    "\n",
    "fig = go.Figure(data = [go.Pie(labels = label, values = value, rotation = 90)])\n",
    "\n",
    "fig.update_traces(textposition = 'inside',\n",
    "                  textinfo = 'percent+label',\n",
    "                  marker = dict(line = dict(color='#000000', width = 1.5)))\n",
    "\n",
    "fig.update_layout(title = \"<b>Models Score</b>\",\n",
    "                  template = 'plotly_dark')\n",
    "\n",
    "fig.show()"
   ]
  },
  {
   "cell_type": "code",
   "execution_count": 44,
   "id": "5e2b970e",
   "metadata": {
    "execution": {
     "iopub.execute_input": "2022-09-24T10:46:11.286995Z",
     "iopub.status.busy": "2022-09-24T10:46:11.286571Z",
     "iopub.status.idle": "2022-09-24T10:46:11.292632Z",
     "shell.execute_reply": "2022-09-24T10:46:11.291633Z"
    },
    "papermill": {
     "duration": 0.034808,
     "end_time": "2022-09-24T10:46:11.294774",
     "exception": false,
     "start_time": "2022-09-24T10:46:11.259966",
     "status": "completed"
    },
    "tags": []
   },
   "outputs": [],
   "source": [
    "## Hyper Parameter Optimization\n",
    "\n",
    "params={\n",
    " \"learning_rate\"    : [0.05, 0.10, 0.15, 0.20, 0.25, 0.30 ] ,\n",
    " \"max_depth\"        : [ 3, 4, 5, 6, 8, 10, 12, 15],\n",
    " \"min_child_weight\" : [ 1, 3, 5, 7 ],\n",
    " \"gamma\"            : [ 0.0, 0.1, 0.2 , 0.3, 0.4 ],\n",
    " \"colsample_bytree\" : [ 0.3, 0.4, 0.5 , 0.7 ]\n",
    "    \n",
    "}"
   ]
  },
  {
   "cell_type": "code",
   "execution_count": 45,
   "id": "f7ad0536",
   "metadata": {
    "execution": {
     "iopub.execute_input": "2022-09-24T10:46:11.347151Z",
     "iopub.status.busy": "2022-09-24T10:46:11.346746Z",
     "iopub.status.idle": "2022-09-24T10:46:11.352993Z",
     "shell.execute_reply": "2022-09-24T10:46:11.352008Z"
    },
    "papermill": {
     "duration": 0.035365,
     "end_time": "2022-09-24T10:46:11.355071",
     "exception": false,
     "start_time": "2022-09-24T10:46:11.319706",
     "status": "completed"
    },
    "tags": []
   },
   "outputs": [],
   "source": [
    "def timer(start_time=None):\n",
    "    if not start_time:\n",
    "        start_time = datetime.now()\n",
    "        return start_time\n",
    "    elif start_time:\n",
    "        thour, temp_sec = divmod((datetime.now() - start_time).total_seconds(), 3600)\n",
    "        tmin, tsec = divmod(temp_sec, 60)\n",
    "        print(f'\\nTime taken: {thour} hours {tmin} minutes and {round(tsec, 2)} seconds.')"
   ]
  },
  {
   "cell_type": "code",
   "execution_count": 46,
   "id": "3efed751",
   "metadata": {
    "execution": {
     "iopub.execute_input": "2022-09-24T10:46:11.409261Z",
     "iopub.status.busy": "2022-09-24T10:46:11.408187Z",
     "iopub.status.idle": "2022-09-24T10:46:11.412558Z",
     "shell.execute_reply": "2022-09-24T10:46:11.411828Z"
    },
    "papermill": {
     "duration": 0.033372,
     "end_time": "2022-09-24T10:46:11.414478",
     "exception": false,
     "start_time": "2022-09-24T10:46:11.381106",
     "status": "completed"
    },
    "tags": []
   },
   "outputs": [],
   "source": [
    "# For now I use xgboost algo\n",
    "xgb_classifier = XGBClassifier()"
   ]
  },
  {
   "cell_type": "code",
   "execution_count": 47,
   "id": "e3f3b8e5",
   "metadata": {
    "execution": {
     "iopub.execute_input": "2022-09-24T10:46:11.465964Z",
     "iopub.status.busy": "2022-09-24T10:46:11.464964Z",
     "iopub.status.idle": "2022-09-24T10:46:11.470502Z",
     "shell.execute_reply": "2022-09-24T10:46:11.469492Z"
    },
    "papermill": {
     "duration": 0.033522,
     "end_time": "2022-09-24T10:46:11.472524",
     "exception": false,
     "start_time": "2022-09-24T10:46:11.439002",
     "status": "completed"
    },
    "tags": []
   },
   "outputs": [],
   "source": [
    "random_search = RandomizedSearchCV(xgb_classifier,\n",
    "                                   param_distributions=params,\n",
    "                                   n_iter=5,\n",
    "                                   scoring='roc_auc',\n",
    "                                   n_jobs=-1,\n",
    "                                   cv=5, verbose=3)"
   ]
  },
  {
   "cell_type": "code",
   "execution_count": 48,
   "id": "3bd18526",
   "metadata": {
    "execution": {
     "iopub.execute_input": "2022-09-24T10:46:11.524268Z",
     "iopub.status.busy": "2022-09-24T10:46:11.523883Z",
     "iopub.status.idle": "2022-09-24T10:46:18.613902Z",
     "shell.execute_reply": "2022-09-24T10:46:18.612404Z"
    },
    "papermill": {
     "duration": 7.118742,
     "end_time": "2022-09-24T10:46:18.616264",
     "exception": false,
     "start_time": "2022-09-24T10:46:11.497522",
     "status": "completed"
    },
    "tags": []
   },
   "outputs": [
    {
     "name": "stdout",
     "output_type": "stream",
     "text": [
      "Fitting 5 folds for each of 5 candidates, totalling 25 fits\n",
      "\n",
      "Time taken: 0.0 hours 0.0 minutes and 7.08 seconds.\n"
     ]
    }
   ],
   "source": [
    "start_time = timer(None) \n",
    "\n",
    "random_search.fit(X_train, y_train)\n",
    "\n",
    "timer(start_time)"
   ]
  },
  {
   "cell_type": "code",
   "execution_count": 49,
   "id": "f40d6310",
   "metadata": {
    "execution": {
     "iopub.execute_input": "2022-09-24T10:46:18.670511Z",
     "iopub.status.busy": "2022-09-24T10:46:18.670082Z",
     "iopub.status.idle": "2022-09-24T10:46:18.675476Z",
     "shell.execute_reply": "2022-09-24T10:46:18.674361Z"
    },
    "papermill": {
     "duration": 0.0347,
     "end_time": "2022-09-24T10:46:18.677627",
     "exception": false,
     "start_time": "2022-09-24T10:46:18.642927",
     "status": "completed"
    },
    "tags": []
   },
   "outputs": [],
   "source": [
    "xgb_best_params = random_search.best_estimator_"
   ]
  },
  {
   "cell_type": "code",
   "execution_count": 50,
   "id": "9c156faa",
   "metadata": {
    "execution": {
     "iopub.execute_input": "2022-09-24T10:46:18.729821Z",
     "iopub.status.busy": "2022-09-24T10:46:18.729201Z",
     "iopub.status.idle": "2022-09-24T10:46:18.735405Z",
     "shell.execute_reply": "2022-09-24T10:46:18.734705Z"
    },
    "papermill": {
     "duration": 0.034466,
     "end_time": "2022-09-24T10:46:18.737283",
     "exception": false,
     "start_time": "2022-09-24T10:46:18.702817",
     "status": "completed"
    },
    "tags": []
   },
   "outputs": [
    {
     "data": {
      "text/plain": [
       "{'min_child_weight': 5,\n",
       " 'max_depth': 8,\n",
       " 'learning_rate': 0.1,\n",
       " 'gamma': 0.0,\n",
       " 'colsample_bytree': 0.7}"
      ]
     },
     "execution_count": 50,
     "metadata": {},
     "output_type": "execute_result"
    }
   ],
   "source": [
    "random_search.best_params_"
   ]
  },
  {
   "cell_type": "code",
   "execution_count": 51,
   "id": "da2108ac",
   "metadata": {
    "execution": {
     "iopub.execute_input": "2022-09-24T10:46:18.789897Z",
     "iopub.status.busy": "2022-09-24T10:46:18.789209Z",
     "iopub.status.idle": "2022-09-24T10:46:18.793376Z",
     "shell.execute_reply": "2022-09-24T10:46:18.792636Z"
    },
    "papermill": {
     "duration": 0.032933,
     "end_time": "2022-09-24T10:46:18.795433",
     "exception": false,
     "start_time": "2022-09-24T10:46:18.762500",
     "status": "completed"
    },
    "tags": []
   },
   "outputs": [],
   "source": [
    "classifier = xgb_best_params"
   ]
  },
  {
   "cell_type": "code",
   "execution_count": 52,
   "id": "f056325c",
   "metadata": {
    "execution": {
     "iopub.execute_input": "2022-09-24T10:46:18.848409Z",
     "iopub.status.busy": "2022-09-24T10:46:18.847767Z",
     "iopub.status.idle": "2022-09-24T10:46:19.241451Z",
     "shell.execute_reply": "2022-09-24T10:46:19.240523Z"
    },
    "papermill": {
     "duration": 0.422892,
     "end_time": "2022-09-24T10:46:19.243873",
     "exception": false,
     "start_time": "2022-09-24T10:46:18.820981",
     "status": "completed"
    },
    "tags": []
   },
   "outputs": [
    {
     "name": "stderr",
     "output_type": "stream",
     "text": [
      "/opt/conda/lib/python3.7/site-packages/xgboost/sklearn.py:797: UserWarning:\n",
      "\n",
      "`eval_metric` in `fit` method is deprecated for better compatibility with scikit-learn, use `eval_metric` in constructor or`set_params` instead.\n",
      "\n"
     ]
    },
    {
     "data": {
      "text/plain": [
       "XGBClassifier(base_score=0.5, booster='gbtree', callbacks=None,\n",
       "              colsample_bylevel=1, colsample_bynode=1, colsample_bytree=0.7,\n",
       "              early_stopping_rounds=None, enable_categorical=False,\n",
       "              eval_metric=None, gamma=0.0, gpu_id=-1, grow_policy='depthwise',\n",
       "              importance_type=None, interaction_constraints='',\n",
       "              learning_rate=0.1, max_bin=256, max_cat_to_onehot=4,\n",
       "              max_delta_step=0, max_depth=8, max_leaves=0, min_child_weight=5,\n",
       "              missing=nan, monotone_constraints='()', n_estimators=100,\n",
       "              n_jobs=0, num_parallel_tree=1, predictor='auto', random_state=0,\n",
       "              reg_alpha=0, reg_lambda=1, ...)"
      ]
     },
     "execution_count": 52,
     "metadata": {},
     "output_type": "execute_result"
    }
   ],
   "source": [
    "classifier.fit(X_train, y_train, eval_metric='logloss')"
   ]
  },
  {
   "cell_type": "code",
   "execution_count": 53,
   "id": "4e075385",
   "metadata": {
    "execution": {
     "iopub.execute_input": "2022-09-24T10:46:19.296972Z",
     "iopub.status.busy": "2022-09-24T10:46:19.296230Z",
     "iopub.status.idle": "2022-09-24T10:46:19.308795Z",
     "shell.execute_reply": "2022-09-24T10:46:19.307897Z"
    },
    "papermill": {
     "duration": 0.041702,
     "end_time": "2022-09-24T10:46:19.311251",
     "exception": false,
     "start_time": "2022-09-24T10:46:19.269549",
     "status": "completed"
    },
    "tags": []
   },
   "outputs": [
    {
     "name": "stdout",
     "output_type": "stream",
     "text": [
      "Accuracy: 0.8975741239892183\n"
     ]
    }
   ],
   "source": [
    "pred = classifier.predict(X_test)\n",
    "\n",
    "print(f\"Accuracy: {accuracy_score(y_test, pred)}\")"
   ]
  },
  {
   "cell_type": "markdown",
   "id": "79513186",
   "metadata": {
    "papermill": {
     "duration": 0.025385,
     "end_time": "2022-09-24T10:46:19.364637",
     "exception": false,
     "start_time": "2022-09-24T10:46:19.339252",
     "status": "completed"
    },
    "tags": []
   },
   "source": [
    "# Ploting confusion matrix"
   ]
  },
  {
   "cell_type": "code",
   "execution_count": 54,
   "id": "96a368ba",
   "metadata": {
    "execution": {
     "iopub.execute_input": "2022-09-24T10:46:19.417467Z",
     "iopub.status.busy": "2022-09-24T10:46:19.417103Z",
     "iopub.status.idle": "2022-09-24T10:46:19.665650Z",
     "shell.execute_reply": "2022-09-24T10:46:19.664668Z"
    },
    "papermill": {
     "duration": 0.27757,
     "end_time": "2022-09-24T10:46:19.667949",
     "exception": false,
     "start_time": "2022-09-24T10:46:19.390379",
     "status": "completed"
    },
    "tags": []
   },
   "outputs": [
    {
     "data": {
      "image/png": "[encoded data removed]",
      "text/plain": [
       "<Figure size 432x288 with 2 Axes>"
      ]
     },
     "metadata": {},
     "output_type": "display_data"
    }
   ],
   "source": [
    "plot_confusion_matrix(classifier,\n",
    "                      X_test, y_test,\n",
    "                      cmap = plt.cm.Blues,\n",
    "                      display_labels = ['Not Placed', 'Placed'])\n",
    "plt.grid(False)\n",
    "plt.show();"
   ]
  },
  {
   "cell_type": "code",
   "execution_count": null,
   "id": "d2f60b88",
   "metadata": {
    "papermill": {
     "duration": 0.025423,
     "end_time": "2022-09-24T10:46:19.719524",
     "exception": false,
     "start_time": "2022-09-24T10:46:19.694101",
     "status": "completed"
    },
    "tags": []
   },
   "outputs": [],
   "source": []
  },
  {
   "cell_type": "code",
   "execution_count": null,
   "id": "6aaa5fca",
   "metadata": {
    "papermill": {
     "duration": 0.025445,
     "end_time": "2022-09-24T10:46:19.770464",
     "exception": false,
     "start_time": "2022-09-24T10:46:19.745019",
     "status": "completed"
    },
    "tags": []
   },
   "outputs": [],
   "source": []
  },
  {
   "cell_type": "code",
   "execution_count": null,
   "id": "e4ed342b",
   "metadata": {
    "papermill": {
     "duration": 0.02575,
     "end_time": "2022-09-24T10:46:19.822100",
     "exception": false,
     "start_time": "2022-09-24T10:46:19.796350",
     "status": "completed"
    },
    "tags": []
   },
   "outputs": [],
   "source": []
  },
  {
   "cell_type": "code",
   "execution_count": null,
   "id": "91c1925f",
   "metadata": {
    "papermill": {
     "duration": 0.025624,
     "end_time": "2022-09-24T10:46:19.873623",
     "exception": false,
     "start_time": "2022-09-24T10:46:19.847999",
     "status": "completed"
    },
    "tags": []
   },
   "outputs": [],
   "source": []
  }
 ],
 "metadata": {
  "kernelspec": {
   "display_name": "Python 3",
   "language": "python",
   "name": "python3"
  },
  "language_info": {
   "codemirror_mode": {
    "name": "ipython",
    "version": 3
   },
   "file_extension": ".py",
   "mimetype": "text/x-python",
   "name": "python",
   "nbconvert_exporter": "python",
   "pygments_lexer": "ipython3",
   "version": "3.7.12"
  },
  "papermill": {
   "default_parameters": {},
   "duration": 29.66835,
   "end_time": "2022-09-24T10:46:22.520284",
   "environment_variables": {},
   "exception": null,
   "input_path": "__notebook__.ipynb",
   "output_path": "__notebook__.ipynb",
   "parameters": {},
   "start_time": "2022-09-24T10:45:52.851934",
   "version": "2.3.4"
  }
 },
 "nbformat": 4,
 "nbformat_minor": 5
}
